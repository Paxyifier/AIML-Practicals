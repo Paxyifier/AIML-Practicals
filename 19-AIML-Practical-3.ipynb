{
 "cells": [
  {
   "attachments": {},
   "cell_type": "markdown",
   "id": "8d0fe623",
   "metadata": {},
   "source": [
    "Prathamesh Ingale"
   ]
  },
  {
   "attachments": {},
   "cell_type": "markdown",
   "id": "c04f5153",
   "metadata": {},
   "source": [
    "# Practical 3 Implementation of Linear and Logistic Regression"
   ]
  },
  {
   "attachments": {},
   "cell_type": "markdown",
   "id": "eecae2d4",
   "metadata": {},
   "source": [
    "## Aim:\n",
    "To implement Linear and Logistic Regression using scikit-learn library in Python."
   ]
  },
  {
   "attachments": {},
   "cell_type": "markdown",
   "id": "ab514d44",
   "metadata": {},
   "source": [
    "## Theory:\n",
    "#### Regression:\n",
    "Regression is a statistical modeling technique used to establish a relationship between a dependent variable and one or more independent variables. It aims to predict the value of the dependent variable based on the values of the independent variables. Regression analysis is widely employed in various fields, including finance, economics, social sciences, and machine learning.\n",
    "\n",
    "#### Linear Regression: \n",
    "\n",
    "Linear regression is a specific type of regression analysis that assumes a linear relationship between the independent variables and the dependent variable. It seeks to find the best-fit line that minimizes the difference between the predicted values and the actual values of the dependent variable. The equation of a linear regression model can be represented as:\n",
    "\n",
    "```y = β0 + β1x1 + β2x2 + ... + βnxn + ε```\n",
    "\n",
    "Here, y is the dependent variable, x1, x2, ..., xn are the independent variables, β0 is the intercept term, β1, β2, ..., βn are the coefficients, and ε is the error term. The coefficients represent the relationship between the independent variables and the dependent variable. Linear regression can be used for both prediction and inference purposes.\n",
    "\n",
    "#### Logistic Regression:\n",
    "\n",
    "Logistic regression, on the other hand, is a regression technique used when the dependent variable is binary or categorical. It is used to model the probability of an event occurring, given a set of independent variables. The dependent variable in logistic regression follows a logistic or sigmoidal function, which restricts its values between 0 and 1. The equation of a logistic regression model can be represented as:\n",
    "\n",
    "```p = 1 / (1 + exp(-z))\n",
    "where z = β0 + β1x1 + β2x2 + ... + βnxn\n",
    "\n",
    "```\n",
    "Here, p represents the probability of the event occurring, z is the linear combination of the independent variables and their coefficients, and exp() denotes the exponential function. Logistic regression is commonly used for binary classification problems, such as predicting whether an email is spam or not, or whether a customer will churn or not.\n",
    "\n",
    "#### Scikit-learn:\n",
    "\n",
    "Scikit-learn (sklearn) is a popular machine learning library in Python that provides various tools and functions for regression analysis, including linear regression and logistic regression.\n",
    "\n",
    "For linear regression, sklearn provides the `LinearRegression` class, which can be used to fit a linear regression model and make predictions. It offers methods to access the model coefficients, intercept, and perform operations like predicting new values or evaluating the model's performance using metrics such as mean squared error (MSE) or R-squared.\n",
    "\n",
    "For logistic regression, sklearn provides the `LogisticRegression` class. It allows fitting logistic regression models with different optimization algorithms, regularization techniques, and hyperparameters. The class provides methods for fitting the model, predicting probabilities or classes, accessing coefficients, and evaluating the model's performance using metrics like accuracy, precision, recall, or area under the receiver operating characteristic curve (AUC-ROC).\n",
    "\n",
    "Sklearn also offers various utilities to preprocess data, such as scaling features using `StandardScaler` or `MinMaxScaler`, handling categorical variables with `OneHotEncoder` or `LabelEncoder`, and performing feature selection or dimensionality reduction.\n",
    "\n",
    "In addition to these basic tools, sklearn provides additional functionalities like regularization techniques such as Ridge Regression (`Ridge`), Lasso Regression (`Lasso`), and Elastic Net Regression (`ElasticNet`), which can help mitigate overfitting and improve model performance.\n",
    "\n",
    "Furthermore, sklearn provides cross-validation techniques (`cross_val_score`, `KFold`, etc.) to assess model generalization, hyperparameter tuning tools (`GridSearchCV`, `RandomizedSearchCV`) to optimize model performance, and model evaluation metrics (`confusion_matrix`, `classification_report`) to assess classification models' performance.\n",
    "\n",
    "In summary, regression is a statistical modeling technique to establish relationships between variables. Linear regression assumes a linear relationship, while logistic regression is used for binary or categorical outcomes. Sklearn provides user-friendly tools and functions to perform linear and logistic regression, along with additional utilities for data preprocessing, feature selection, model evaluation, and optimization.\n",
    "\n"
   ]
  },
  {
   "attachments": {},
   "cell_type": "markdown",
   "id": "3880217a",
   "metadata": {},
   "source": [
    "## Code:\n"
   ]
  },
  {
   "attachments": {},
   "cell_type": "markdown",
   "id": "ae7393fe",
   "metadata": {},
   "source": [
    "\n",
    "### Linear Regression:"
   ]
  },
  {
   "cell_type": "code",
   "execution_count": 2,
   "id": "63e5f56a-df20-4699-b0a9-0606c8849007",
   "metadata": {
    "tags": []
   },
   "outputs": [],
   "source": [
    "import pandas as pd\n",
    "import numpy as np\n",
    "import matplotlib.pyplot as plt\n",
    "%matplotlib inline"
   ]
  },
  {
   "cell_type": "code",
   "execution_count": 3,
   "id": "407c0aca-d31d-43a1-a75d-bddfa4570a27",
   "metadata": {
    "tags": []
   },
   "outputs": [],
   "source": [
    "# df_regression = pd.read_csv(\"./Stores.csv\")\n",
    "df_regression = pd.DataFrame({'x':np.arange(100),'y':np.arange(100)**3})"
   ]
  },
  {
   "cell_type": "code",
   "execution_count": 4,
   "id": "1e244633-055b-4863-b6e3-114b8066f96e",
   "metadata": {
    "tags": []
   },
   "outputs": [
    {
     "data": {
      "text/html": [
       "<div>\n",
       "<style scoped>\n",
       "    .dataframe tbody tr th:only-of-type {\n",
       "        vertical-align: middle;\n",
       "    }\n",
       "\n",
       "    .dataframe tbody tr th {\n",
       "        vertical-align: top;\n",
       "    }\n",
       "\n",
       "    .dataframe thead th {\n",
       "        text-align: right;\n",
       "    }\n",
       "</style>\n",
       "<table border=\"1\" class=\"dataframe\">\n",
       "  <thead>\n",
       "    <tr style=\"text-align: right;\">\n",
       "      <th></th>\n",
       "      <th>x</th>\n",
       "      <th>y</th>\n",
       "    </tr>\n",
       "  </thead>\n",
       "  <tbody>\n",
       "    <tr>\n",
       "      <th>0</th>\n",
       "      <td>0</td>\n",
       "      <td>0</td>\n",
       "    </tr>\n",
       "    <tr>\n",
       "      <th>1</th>\n",
       "      <td>1</td>\n",
       "      <td>1</td>\n",
       "    </tr>\n",
       "    <tr>\n",
       "      <th>2</th>\n",
       "      <td>2</td>\n",
       "      <td>8</td>\n",
       "    </tr>\n",
       "    <tr>\n",
       "      <th>3</th>\n",
       "      <td>3</td>\n",
       "      <td>27</td>\n",
       "    </tr>\n",
       "    <tr>\n",
       "      <th>4</th>\n",
       "      <td>4</td>\n",
       "      <td>64</td>\n",
       "    </tr>\n",
       "  </tbody>\n",
       "</table>\n",
       "</div>"
      ],
      "text/plain": [
       "   x   y\n",
       "0  0   0\n",
       "1  1   1\n",
       "2  2   8\n",
       "3  3  27\n",
       "4  4  64"
      ]
     },
     "execution_count": 4,
     "metadata": {},
     "output_type": "execute_result"
    }
   ],
   "source": [
    "df_regression.head()"
   ]
  },
  {
   "cell_type": "code",
   "execution_count": 5,
   "id": "a519bdfb-ebf0-4a62-aaf4-28b8a9f880f1",
   "metadata": {
    "tags": []
   },
   "outputs": [
    {
     "data": {
      "text/plain": [
       "(100, 2)"
      ]
     },
     "execution_count": 5,
     "metadata": {},
     "output_type": "execute_result"
    }
   ],
   "source": [
    "df_regression.shape"
   ]
  },
  {
   "cell_type": "code",
   "execution_count": 6,
   "id": "606fe59d-7d8c-4e92-9e2b-2c0556521583",
   "metadata": {},
   "outputs": [
    {
     "name": "stdout",
     "output_type": "stream",
     "text": [
      "<class 'pandas.core.frame.DataFrame'>\n",
      "RangeIndex: 100 entries, 0 to 99\n",
      "Data columns (total 2 columns):\n",
      " #   Column  Non-Null Count  Dtype\n",
      "---  ------  --------------  -----\n",
      " 0   x       100 non-null    int32\n",
      " 1   y       100 non-null    int32\n",
      "dtypes: int32(2)\n",
      "memory usage: 932.0 bytes\n"
     ]
    }
   ],
   "source": [
    "df_regression.info()"
   ]
  },
  {
   "cell_type": "code",
   "execution_count": 7,
   "id": "9189c91c-06fe-4906-8548-510372c29388",
   "metadata": {
    "tags": []
   },
   "outputs": [
    {
     "data": {
      "text/plain": [
       "Index(['x', 'y'], dtype='object')"
      ]
     },
     "execution_count": 7,
     "metadata": {},
     "output_type": "execute_result"
    }
   ],
   "source": [
    "df_regression.columns"
   ]
  },
  {
   "cell_type": "code",
   "execution_count": 8,
   "id": "a70b7de4-1efd-4ec0-ae73-fc35e057c67d",
   "metadata": {
    "tags": []
   },
   "outputs": [
    {
     "data": {
      "text/html": [
       "<div>\n",
       "<style scoped>\n",
       "    .dataframe tbody tr th:only-of-type {\n",
       "        vertical-align: middle;\n",
       "    }\n",
       "\n",
       "    .dataframe tbody tr th {\n",
       "        vertical-align: top;\n",
       "    }\n",
       "\n",
       "    .dataframe thead th {\n",
       "        text-align: right;\n",
       "    }\n",
       "</style>\n",
       "<table border=\"1\" class=\"dataframe\">\n",
       "  <thead>\n",
       "    <tr style=\"text-align: right;\">\n",
       "      <th></th>\n",
       "      <th>x</th>\n",
       "      <th>y</th>\n",
       "    </tr>\n",
       "  </thead>\n",
       "  <tbody>\n",
       "    <tr>\n",
       "      <th>count</th>\n",
       "      <td>100.000000</td>\n",
       "      <td>100.000000</td>\n",
       "    </tr>\n",
       "    <tr>\n",
       "      <th>mean</th>\n",
       "      <td>49.500000</td>\n",
       "      <td>245025.000000</td>\n",
       "    </tr>\n",
       "    <tr>\n",
       "      <th>std</th>\n",
       "      <td>29.011492</td>\n",
       "      <td>280457.581671</td>\n",
       "    </tr>\n",
       "    <tr>\n",
       "      <th>min</th>\n",
       "      <td>0.000000</td>\n",
       "      <td>0.000000</td>\n",
       "    </tr>\n",
       "    <tr>\n",
       "      <th>25%</th>\n",
       "      <td>24.750000</td>\n",
       "      <td>15174.750000</td>\n",
       "    </tr>\n",
       "    <tr>\n",
       "      <th>50%</th>\n",
       "      <td>49.500000</td>\n",
       "      <td>121324.500000</td>\n",
       "    </tr>\n",
       "    <tr>\n",
       "      <th>75%</th>\n",
       "      <td>74.250000</td>\n",
       "      <td>409386.750000</td>\n",
       "    </tr>\n",
       "    <tr>\n",
       "      <th>max</th>\n",
       "      <td>99.000000</td>\n",
       "      <td>970299.000000</td>\n",
       "    </tr>\n",
       "  </tbody>\n",
       "</table>\n",
       "</div>"
      ],
      "text/plain": [
       "                x              y\n",
       "count  100.000000     100.000000\n",
       "mean    49.500000  245025.000000\n",
       "std     29.011492  280457.581671\n",
       "min      0.000000       0.000000\n",
       "25%     24.750000   15174.750000\n",
       "50%     49.500000  121324.500000\n",
       "75%     74.250000  409386.750000\n",
       "max     99.000000  970299.000000"
      ]
     },
     "execution_count": 8,
     "metadata": {},
     "output_type": "execute_result"
    }
   ],
   "source": [
    "df_regression.describe()"
   ]
  },
  {
   "cell_type": "code",
   "execution_count": 9,
   "id": "4da7a0e6-319b-4b58-b019-54f1f36cc336",
   "metadata": {
    "tags": []
   },
   "outputs": [
    {
     "data": {
      "text/plain": [
       "x    0\n",
       "y    0\n",
       "dtype: int64"
      ]
     },
     "execution_count": 9,
     "metadata": {},
     "output_type": "execute_result"
    }
   ],
   "source": [
    "df_regression.isna().sum()"
   ]
  },
  {
   "cell_type": "code",
   "execution_count": 10,
   "id": "bc33207f-c18c-4b63-af3a-b03cca9a703a",
   "metadata": {
    "tags": []
   },
   "outputs": [
    {
     "data": {
      "text/html": [
       "<div>\n",
       "<style scoped>\n",
       "    .dataframe tbody tr th:only-of-type {\n",
       "        vertical-align: middle;\n",
       "    }\n",
       "\n",
       "    .dataframe tbody tr th {\n",
       "        vertical-align: top;\n",
       "    }\n",
       "\n",
       "    .dataframe thead th {\n",
       "        text-align: right;\n",
       "    }\n",
       "</style>\n",
       "<table border=\"1\" class=\"dataframe\">\n",
       "  <thead>\n",
       "    <tr style=\"text-align: right;\">\n",
       "      <th></th>\n",
       "      <th>x</th>\n",
       "      <th>y</th>\n",
       "    </tr>\n",
       "  </thead>\n",
       "  <tbody>\n",
       "    <tr>\n",
       "      <th>x</th>\n",
       "      <td>1.000000</td>\n",
       "      <td>0.915516</td>\n",
       "    </tr>\n",
       "    <tr>\n",
       "      <th>y</th>\n",
       "      <td>0.915516</td>\n",
       "      <td>1.000000</td>\n",
       "    </tr>\n",
       "  </tbody>\n",
       "</table>\n",
       "</div>"
      ],
      "text/plain": [
       "          x         y\n",
       "x  1.000000  0.915516\n",
       "y  0.915516  1.000000"
      ]
     },
     "execution_count": 10,
     "metadata": {},
     "output_type": "execute_result"
    }
   ],
   "source": [
    "df_regression.corr()"
   ]
  },
  {
   "cell_type": "code",
   "execution_count": 11,
   "id": "a5fdd50f-376a-450a-8e05-3e1aa16bbeac",
   "metadata": {
    "tags": []
   },
   "outputs": [
    {
     "data": {
      "image/png": "[encoded data removed]",
      "text/plain": [
       "<Figure size 640x480 with 1 Axes>"
      ]
     },
     "metadata": {},
     "output_type": "display_data"
    }
   ],
   "source": [
    "df_regression.plot(x='x',y='y',style='o')\n",
    "plt.show()"
   ]
  },
  {
   "cell_type": "code",
   "execution_count": 12,
   "id": "41d5edd4-cfb1-4373-a463-0f9f066f8c3a",
   "metadata": {
    "tags": []
   },
   "outputs": [
    {
     "data": {
      "text/html": [
       "<div>\n",
       "<style scoped>\n",
       "    .dataframe tbody tr th:only-of-type {\n",
       "        vertical-align: middle;\n",
       "    }\n",
       "\n",
       "    .dataframe tbody tr th {\n",
       "        vertical-align: top;\n",
       "    }\n",
       "\n",
       "    .dataframe thead th {\n",
       "        text-align: right;\n",
       "    }\n",
       "</style>\n",
       "<table border=\"1\" class=\"dataframe\">\n",
       "  <thead>\n",
       "    <tr style=\"text-align: right;\">\n",
       "      <th></th>\n",
       "      <th>x</th>\n",
       "      <th>y</th>\n",
       "    </tr>\n",
       "  </thead>\n",
       "  <tbody>\n",
       "    <tr>\n",
       "      <th>0</th>\n",
       "      <td>0</td>\n",
       "      <td>0</td>\n",
       "    </tr>\n",
       "    <tr>\n",
       "      <th>1</th>\n",
       "      <td>1</td>\n",
       "      <td>1</td>\n",
       "    </tr>\n",
       "    <tr>\n",
       "      <th>2</th>\n",
       "      <td>2</td>\n",
       "      <td>8</td>\n",
       "    </tr>\n",
       "    <tr>\n",
       "      <th>3</th>\n",
       "      <td>3</td>\n",
       "      <td>27</td>\n",
       "    </tr>\n",
       "    <tr>\n",
       "      <th>4</th>\n",
       "      <td>4</td>\n",
       "      <td>64</td>\n",
       "    </tr>\n",
       "    <tr>\n",
       "      <th>...</th>\n",
       "      <td>...</td>\n",
       "      <td>...</td>\n",
       "    </tr>\n",
       "    <tr>\n",
       "      <th>95</th>\n",
       "      <td>95</td>\n",
       "      <td>857375</td>\n",
       "    </tr>\n",
       "    <tr>\n",
       "      <th>96</th>\n",
       "      <td>96</td>\n",
       "      <td>884736</td>\n",
       "    </tr>\n",
       "    <tr>\n",
       "      <th>97</th>\n",
       "      <td>97</td>\n",
       "      <td>912673</td>\n",
       "    </tr>\n",
       "    <tr>\n",
       "      <th>98</th>\n",
       "      <td>98</td>\n",
       "      <td>941192</td>\n",
       "    </tr>\n",
       "    <tr>\n",
       "      <th>99</th>\n",
       "      <td>99</td>\n",
       "      <td>970299</td>\n",
       "    </tr>\n",
       "  </tbody>\n",
       "</table>\n",
       "<p>100 rows × 2 columns</p>\n",
       "</div>"
      ],
      "text/plain": [
       "     x       y\n",
       "0    0       0\n",
       "1    1       1\n",
       "2    2       8\n",
       "3    3      27\n",
       "4    4      64\n",
       "..  ..     ...\n",
       "95  95  857375\n",
       "96  96  884736\n",
       "97  97  912673\n",
       "98  98  941192\n",
       "99  99  970299\n",
       "\n",
       "[100 rows x 2 columns]"
      ]
     },
     "execution_count": 12,
     "metadata": {},
     "output_type": "execute_result"
    }
   ],
   "source": [
    "df_regression"
   ]
  },
  {
   "cell_type": "code",
   "execution_count": 13,
   "id": "74ddb1c5-c657-444c-b4b1-f925cf9791ea",
   "metadata": {
    "tags": []
   },
   "outputs": [
    {
     "data": {
      "text/plain": [
       "array([     0,      1,      8,     27,     64,    125,    216,    343,\n",
       "          512,    729,   1000,   1331,   1728,   2197,   2744,   3375,\n",
       "         4096,   4913,   5832,   6859,   8000,   9261,  10648,  12167,\n",
       "        13824,  15625,  17576,  19683,  21952,  24389,  27000,  29791,\n",
       "        32768,  35937,  39304,  42875,  46656,  50653,  54872,  59319,\n",
       "        64000,  68921,  74088,  79507,  85184,  91125,  97336, 103823,\n",
       "       110592, 117649, 125000, 132651, 140608, 148877, 157464, 166375,\n",
       "       175616, 185193, 195112, 205379, 216000, 226981, 238328, 250047,\n",
       "       262144, 274625, 287496, 300763, 314432, 328509, 343000, 357911,\n",
       "       373248, 389017, 405224, 421875, 438976, 456533, 474552, 493039,\n",
       "       512000, 531441, 551368, 571787, 592704, 614125, 636056, 658503,\n",
       "       681472, 704969, 729000, 753571, 778688, 804357, 830584, 857375,\n",
       "       884736, 912673, 941192, 970299])"
      ]
     },
     "execution_count": 13,
     "metadata": {},
     "output_type": "execute_result"
    }
   ],
   "source": [
    "df_regression.iloc[:,1].values"
   ]
  },
  {
   "cell_type": "code",
   "execution_count": 14,
   "id": "2d872157-c8d2-4c56-906f-7b8ee9d44741",
   "metadata": {
    "tags": []
   },
   "outputs": [
    {
     "name": "stdout",
     "output_type": "stream",
     "text": [
      "Training Complete\n"
     ]
    }
   ],
   "source": [
    "# x_regression = df_regression.iloc[:,:-1].values\n",
    "# y_regression = df_regression.iloc[:,-2].values\n",
    "\n",
    "x_regression = df_regression[['x']]\n",
    "y_regression = df_regression[['y']]\n",
    "\n",
    "# Splitting the data\n",
    "\n",
    "from sklearn.model_selection import train_test_split\n",
    "x_train, x_test, y_train, y_test = train_test_split(x_regression,y_regression, \n",
    "                                                    test_size=0.2, random_state=33)\n",
    "from sklearn.linear_model import LinearRegression\n",
    "regressor = LinearRegression()\n",
    "\n",
    "regressor.fit(x_train,y_train)\n",
    "print(\"Training Complete\")"
   ]
  },
  {
   "cell_type": "code",
   "execution_count": 15,
   "id": "0971f79f-ed0e-4a0f-8bec-7178f2c0de35",
   "metadata": {
    "tags": []
   },
   "outputs": [],
   "source": [
    "line = regressor.coef_*x_regression+regressor.intercept_"
   ]
  },
  {
   "cell_type": "code",
   "execution_count": 16,
   "id": "241089c5-c1d6-4535-9ee1-60633350ed17",
   "metadata": {
    "tags": []
   },
   "outputs": [
    {
     "data": {
      "text/plain": [
       "(100, 1)"
      ]
     },
     "execution_count": 16,
     "metadata": {},
     "output_type": "execute_result"
    }
   ],
   "source": [
    "x_regression.shape"
   ]
  },
  {
   "cell_type": "code",
   "execution_count": 17,
   "id": "b4dea804-4f8e-4c74-88eb-016c405ee13c",
   "metadata": {
    "tags": []
   },
   "outputs": [
    {
     "data": {
      "text/plain": [
       "(100, 1)"
      ]
     },
     "execution_count": 17,
     "metadata": {},
     "output_type": "execute_result"
    }
   ],
   "source": [
    "y_regression.shape"
   ]
  },
  {
   "cell_type": "code",
   "execution_count": 18,
   "id": "395b76ab-6319-4eae-a55c-387a58b6a5ca",
   "metadata": {
    "tags": []
   },
   "outputs": [
    {
     "data": {
      "image/png": "[encoded data removed]",
      "text/plain": [
       "<Figure size 640x480 with 1 Axes>"
      ]
     },
     "metadata": {},
     "output_type": "display_data"
    }
   ],
   "source": [
    "plt.scatter(x_regression, y_regression)\n",
    "plt.plot(x_regression,line)\n",
    "plt.show()"
   ]
  },
  {
   "cell_type": "code",
   "execution_count": 19,
   "id": "30e7907c-073a-459f-a62f-52abe4a49445",
   "metadata": {
    "tags": []
   },
   "outputs": [
    {
     "name": "stdout",
     "output_type": "stream",
     "text": [
      "     x\n",
      "56  56\n",
      "90  90\n",
      "95  95\n",
      "82  82\n",
      "60  60\n",
      "71  71\n",
      "6    6\n",
      "81  81\n",
      "2    2\n",
      "70  70\n",
      "96  96\n",
      "62  62\n",
      "59  59\n",
      "86  86\n",
      "41  41\n",
      "39  39\n",
      "4    4\n",
      "34  34\n",
      "99  99\n",
      "72  72\n"
     ]
    }
   ],
   "source": [
    "print(x_test)\n",
    "y_pred = regressor.predict(x_test)"
   ]
  },
  {
   "cell_type": "code",
   "execution_count": 20,
   "id": "55d57ef7-c888-47b0-a331-3306112ef7c1",
   "metadata": {
    "tags": []
   },
   "outputs": [
    {
     "data": {
      "text/html": [
       "<div>\n",
       "<style scoped>\n",
       "    .dataframe tbody tr th:only-of-type {\n",
       "        vertical-align: middle;\n",
       "    }\n",
       "\n",
       "    .dataframe tbody tr th {\n",
       "        vertical-align: top;\n",
       "    }\n",
       "\n",
       "    .dataframe thead th {\n",
       "        text-align: right;\n",
       "    }\n",
       "</style>\n",
       "<table border=\"1\" class=\"dataframe\">\n",
       "  <thead>\n",
       "    <tr style=\"text-align: right;\">\n",
       "      <th></th>\n",
       "      <th>Actual</th>\n",
       "      <th>Predicted</th>\n",
       "    </tr>\n",
       "  </thead>\n",
       "  <tbody>\n",
       "    <tr>\n",
       "      <th>56</th>\n",
       "      <td>175616</td>\n",
       "      <td>294847.693333</td>\n",
       "    </tr>\n",
       "    <tr>\n",
       "      <th>90</th>\n",
       "      <td>729000</td>\n",
       "      <td>587335.791108</td>\n",
       "    </tr>\n",
       "    <tr>\n",
       "      <th>95</th>\n",
       "      <td>857375</td>\n",
       "      <td>630348.746663</td>\n",
       "    </tr>\n",
       "    <tr>\n",
       "      <th>82</th>\n",
       "      <td>551368</td>\n",
       "      <td>518515.062220</td>\n",
       "    </tr>\n",
       "    <tr>\n",
       "      <th>60</th>\n",
       "      <td>216000</td>\n",
       "      <td>329258.057777</td>\n",
       "    </tr>\n",
       "    <tr>\n",
       "      <th>71</th>\n",
       "      <td>357911</td>\n",
       "      <td>423886.559998</td>\n",
       "    </tr>\n",
       "    <tr>\n",
       "      <th>6</th>\n",
       "      <td>216</td>\n",
       "      <td>-135281.862219</td>\n",
       "    </tr>\n",
       "    <tr>\n",
       "      <th>81</th>\n",
       "      <td>531441</td>\n",
       "      <td>509912.471109</td>\n",
       "    </tr>\n",
       "    <tr>\n",
       "      <th>2</th>\n",
       "      <td>8</td>\n",
       "      <td>-169692.226663</td>\n",
       "    </tr>\n",
       "    <tr>\n",
       "      <th>70</th>\n",
       "      <td>343000</td>\n",
       "      <td>415283.968887</td>\n",
       "    </tr>\n",
       "    <tr>\n",
       "      <th>96</th>\n",
       "      <td>884736</td>\n",
       "      <td>638951.337774</td>\n",
       "    </tr>\n",
       "    <tr>\n",
       "      <th>62</th>\n",
       "      <td>238328</td>\n",
       "      <td>346463.239999</td>\n",
       "    </tr>\n",
       "    <tr>\n",
       "      <th>59</th>\n",
       "      <td>205379</td>\n",
       "      <td>320655.466666</td>\n",
       "    </tr>\n",
       "    <tr>\n",
       "      <th>86</th>\n",
       "      <td>636056</td>\n",
       "      <td>552925.426664</td>\n",
       "    </tr>\n",
       "    <tr>\n",
       "      <th>41</th>\n",
       "      <td>68921</td>\n",
       "      <td>165808.826667</td>\n",
       "    </tr>\n",
       "    <tr>\n",
       "      <th>39</th>\n",
       "      <td>59319</td>\n",
       "      <td>148603.644445</td>\n",
       "    </tr>\n",
       "    <tr>\n",
       "      <th>4</th>\n",
       "      <td>64</td>\n",
       "      <td>-152487.044441</td>\n",
       "    </tr>\n",
       "    <tr>\n",
       "      <th>34</th>\n",
       "      <td>39304</td>\n",
       "      <td>105590.688890</td>\n",
       "    </tr>\n",
       "    <tr>\n",
       "      <th>99</th>\n",
       "      <td>970299</td>\n",
       "      <td>664759.111107</td>\n",
       "    </tr>\n",
       "    <tr>\n",
       "      <th>72</th>\n",
       "      <td>373248</td>\n",
       "      <td>432489.151109</td>\n",
       "    </tr>\n",
       "  </tbody>\n",
       "</table>\n",
       "</div>"
      ],
      "text/plain": [
       "    Actual      Predicted\n",
       "56  175616  294847.693333\n",
       "90  729000  587335.791108\n",
       "95  857375  630348.746663\n",
       "82  551368  518515.062220\n",
       "60  216000  329258.057777\n",
       "71  357911  423886.559998\n",
       "6      216 -135281.862219\n",
       "81  531441  509912.471109\n",
       "2        8 -169692.226663\n",
       "70  343000  415283.968887\n",
       "96  884736  638951.337774\n",
       "62  238328  346463.239999\n",
       "59  205379  320655.466666\n",
       "86  636056  552925.426664\n",
       "41   68921  165808.826667\n",
       "39   59319  148603.644445\n",
       "4       64 -152487.044441\n",
       "34   39304  105590.688890\n",
       "99  970299  664759.111107\n",
       "72  373248  432489.151109"
      ]
     },
     "execution_count": 20,
     "metadata": {},
     "output_type": "execute_result"
    }
   ],
   "source": [
    "y_test_squeeze = np.squeeze(y_test)\n",
    "y_pred_squeeze = np.squeeze(y_pred)\n",
    "df = pd.DataFrame({'Actual':y_test_squeeze, 'Predicted':y_pred_squeeze})\n",
    "df"
   ]
  },
  {
   "cell_type": "code",
   "execution_count": 21,
   "id": "edf9dd2d-cb45-4475-ba7e-012d3d7d9882",
   "metadata": {
    "tags": []
   },
   "outputs": [
    {
     "data": {
      "text/plain": [
       "0.8407211891778915"
      ]
     },
     "execution_count": 21,
     "metadata": {},
     "output_type": "execute_result"
    }
   ],
   "source": [
    "regressor.score(x_train, y_train)"
   ]
  },
  {
   "cell_type": "code",
   "execution_count": 22,
   "id": "e17c5b5a-9218-425c-87b3-91a35786f24f",
   "metadata": {
    "tags": []
   },
   "outputs": [
    {
     "name": "stdout",
     "output_type": "stream",
     "text": [
      "Mean Absolute Error:  121056.8742224955\n"
     ]
    }
   ],
   "source": [
    "from sklearn import metrics\n",
    "print('Mean Absolute Error: ', metrics.mean_absolute_error(y_test, y_pred))"
   ]
  },
  {
   "cell_type": "code",
   "execution_count": 23,
   "id": "53684b3e-b427-4c8d-8a33-4c7afd7999cf",
   "metadata": {
    "tags": []
   },
   "outputs": [
    {
     "name": "stdout",
     "output_type": "stream",
     "text": [
      "r2 Score : 0.7977640430267173\n"
     ]
    }
   ],
   "source": [
    "print('r2 Score :', metrics.r2_score(y_test, y_pred))"
   ]
  },
  {
   "cell_type": "code",
   "execution_count": 24,
   "id": "0dbc72b6-23ed-4a3c-af66-c89716a653ef",
   "metadata": {
    "tags": []
   },
   "outputs": [
    {
     "data": {
      "text/plain": [
       "range(0, 20)"
      ]
     },
     "execution_count": 24,
     "metadata": {},
     "output_type": "execute_result"
    }
   ],
   "source": [
    "x_axis = range(len(y_test))\n",
    "x_axis"
   ]
  },
  {
   "cell_type": "code",
   "execution_count": 25,
   "id": "04a41908-f931-4511-9f72-d66f2c4ad340",
   "metadata": {
    "tags": []
   },
   "outputs": [
    {
     "data": {
      "image/png": "[encoded data removed]",
      "text/plain": [
       "<Figure size 640x480 with 1 Axes>"
      ]
     },
     "metadata": {},
     "output_type": "display_data"
    }
   ],
   "source": [
    "\n",
    "plt.plot(x_axis, y_pred, label='predicted')\n",
    "plt.plot(x_axis,y_test, label='original')\n",
    "plt.legend()\n",
    "plt.show()"
   ]
  },
  {
   "attachments": {},
   "cell_type": "markdown",
   "id": "906869a7-036d-4803-ae4e-1169234f65c6",
   "metadata": {},
   "source": [
    "### Logistic Regression"
   ]
  },
  {
   "cell_type": "code",
   "execution_count": 26,
   "id": "83676f10-46ce-4cff-9f4a-c43cc0a54acb",
   "metadata": {
    "tags": []
   },
   "outputs": [
    {
     "data": {
      "text/html": [
       "<div>\n",
       "<style scoped>\n",
       "    .dataframe tbody tr th:only-of-type {\n",
       "        vertical-align: middle;\n",
       "    }\n",
       "\n",
       "    .dataframe tbody tr th {\n",
       "        vertical-align: top;\n",
       "    }\n",
       "\n",
       "    .dataframe thead th {\n",
       "        text-align: right;\n",
       "    }\n",
       "</style>\n",
       "<table border=\"1\" class=\"dataframe\">\n",
       "  <thead>\n",
       "    <tr style=\"text-align: right;\">\n",
       "      <th></th>\n",
       "      <th>Store ID</th>\n",
       "      <th>Store_Area</th>\n",
       "      <th>Items_Available</th>\n",
       "      <th>Daily_Customer_Count</th>\n",
       "      <th>Store_Sales</th>\n",
       "    </tr>\n",
       "  </thead>\n",
       "  <tbody>\n",
       "    <tr>\n",
       "      <th>0</th>\n",
       "      <td>1</td>\n",
       "      <td>1659</td>\n",
       "      <td>1961</td>\n",
       "      <td>530</td>\n",
       "      <td>66490</td>\n",
       "    </tr>\n",
       "    <tr>\n",
       "      <th>1</th>\n",
       "      <td>2</td>\n",
       "      <td>1461</td>\n",
       "      <td>1752</td>\n",
       "      <td>210</td>\n",
       "      <td>39820</td>\n",
       "    </tr>\n",
       "    <tr>\n",
       "      <th>2</th>\n",
       "      <td>3</td>\n",
       "      <td>1340</td>\n",
       "      <td>1609</td>\n",
       "      <td>720</td>\n",
       "      <td>54010</td>\n",
       "    </tr>\n",
       "    <tr>\n",
       "      <th>3</th>\n",
       "      <td>4</td>\n",
       "      <td>1451</td>\n",
       "      <td>1748</td>\n",
       "      <td>620</td>\n",
       "      <td>53730</td>\n",
       "    </tr>\n",
       "    <tr>\n",
       "      <th>4</th>\n",
       "      <td>5</td>\n",
       "      <td>1770</td>\n",
       "      <td>2111</td>\n",
       "      <td>450</td>\n",
       "      <td>46620</td>\n",
       "    </tr>\n",
       "    <tr>\n",
       "      <th>...</th>\n",
       "      <td>...</td>\n",
       "      <td>...</td>\n",
       "      <td>...</td>\n",
       "      <td>...</td>\n",
       "      <td>...</td>\n",
       "    </tr>\n",
       "    <tr>\n",
       "      <th>891</th>\n",
       "      <td>892</td>\n",
       "      <td>1582</td>\n",
       "      <td>1910</td>\n",
       "      <td>1080</td>\n",
       "      <td>66390</td>\n",
       "    </tr>\n",
       "    <tr>\n",
       "      <th>892</th>\n",
       "      <td>893</td>\n",
       "      <td>1387</td>\n",
       "      <td>1663</td>\n",
       "      <td>850</td>\n",
       "      <td>82080</td>\n",
       "    </tr>\n",
       "    <tr>\n",
       "      <th>893</th>\n",
       "      <td>894</td>\n",
       "      <td>1200</td>\n",
       "      <td>1436</td>\n",
       "      <td>1060</td>\n",
       "      <td>76440</td>\n",
       "    </tr>\n",
       "    <tr>\n",
       "      <th>894</th>\n",
       "      <td>895</td>\n",
       "      <td>1299</td>\n",
       "      <td>1560</td>\n",
       "      <td>770</td>\n",
       "      <td>96610</td>\n",
       "    </tr>\n",
       "    <tr>\n",
       "      <th>895</th>\n",
       "      <td>896</td>\n",
       "      <td>1174</td>\n",
       "      <td>1429</td>\n",
       "      <td>1110</td>\n",
       "      <td>54340</td>\n",
       "    </tr>\n",
       "  </tbody>\n",
       "</table>\n",
       "<p>896 rows × 5 columns</p>\n",
       "</div>"
      ],
      "text/plain": [
       "     Store ID   Store_Area  Items_Available  Daily_Customer_Count  Store_Sales\n",
       "0            1        1659             1961                   530        66490\n",
       "1            2        1461             1752                   210        39820\n",
       "2            3        1340             1609                   720        54010\n",
       "3            4        1451             1748                   620        53730\n",
       "4            5        1770             2111                   450        46620\n",
       "..         ...         ...              ...                   ...          ...\n",
       "891        892        1582             1910                  1080        66390\n",
       "892        893        1387             1663                   850        82080\n",
       "893        894        1200             1436                  1060        76440\n",
       "894        895        1299             1560                   770        96610\n",
       "895        896        1174             1429                  1110        54340\n",
       "\n",
       "[896 rows x 5 columns]"
      ]
     },
     "execution_count": 26,
     "metadata": {},
     "output_type": "execute_result"
    }
   ],
   "source": [
    "df=pd.read_csv('./Stores.csv')\n",
    "df"
   ]
  },
  {
   "attachments": {},
   "cell_type": "markdown",
   "id": "e5201cbf",
   "metadata": {},
   "source": [
    "**Asumption**\n",
    "\n",
    "\n",
    "Here when we see this dataset, we see that we do not have a binary value to predict. So we will create a new column which will have a binary value.\n",
    "To create a logistic value of True and False, we create a new column on our dataset. Let us consider that if the ratio of `Store_Sales` and `Daily_Customer_Count` is greater than 100, then we will consider it as True, else False. "
   ]
  },
  {
   "cell_type": "code",
   "execution_count": 31,
   "id": "7e1107cc",
   "metadata": {},
   "outputs": [
    {
     "data": {
      "text/html": [
       "<div>\n",
       "<style scoped>\n",
       "    .dataframe tbody tr th:only-of-type {\n",
       "        vertical-align: middle;\n",
       "    }\n",
       "\n",
       "    .dataframe tbody tr th {\n",
       "        vertical-align: top;\n",
       "    }\n",
       "\n",
       "    .dataframe thead th {\n",
       "        text-align: right;\n",
       "    }\n",
       "</style>\n",
       "<table border=\"1\" class=\"dataframe\">\n",
       "  <thead>\n",
       "    <tr style=\"text-align: right;\">\n",
       "      <th></th>\n",
       "      <th>Store ID</th>\n",
       "      <th>Store_Area</th>\n",
       "      <th>Items_Available</th>\n",
       "      <th>Daily_Customer_Count</th>\n",
       "      <th>Store_Sales</th>\n",
       "      <th>Profitable</th>\n",
       "    </tr>\n",
       "  </thead>\n",
       "  <tbody>\n",
       "    <tr>\n",
       "      <th>0</th>\n",
       "      <td>1</td>\n",
       "      <td>1659</td>\n",
       "      <td>1961</td>\n",
       "      <td>530</td>\n",
       "      <td>66490</td>\n",
       "      <td>True</td>\n",
       "    </tr>\n",
       "    <tr>\n",
       "      <th>1</th>\n",
       "      <td>2</td>\n",
       "      <td>1461</td>\n",
       "      <td>1752</td>\n",
       "      <td>210</td>\n",
       "      <td>39820</td>\n",
       "      <td>True</td>\n",
       "    </tr>\n",
       "    <tr>\n",
       "      <th>2</th>\n",
       "      <td>3</td>\n",
       "      <td>1340</td>\n",
       "      <td>1609</td>\n",
       "      <td>720</td>\n",
       "      <td>54010</td>\n",
       "      <td>False</td>\n",
       "    </tr>\n",
       "    <tr>\n",
       "      <th>3</th>\n",
       "      <td>4</td>\n",
       "      <td>1451</td>\n",
       "      <td>1748</td>\n",
       "      <td>620</td>\n",
       "      <td>53730</td>\n",
       "      <td>False</td>\n",
       "    </tr>\n",
       "    <tr>\n",
       "      <th>4</th>\n",
       "      <td>5</td>\n",
       "      <td>1770</td>\n",
       "      <td>2111</td>\n",
       "      <td>450</td>\n",
       "      <td>46620</td>\n",
       "      <td>True</td>\n",
       "    </tr>\n",
       "    <tr>\n",
       "      <th>...</th>\n",
       "      <td>...</td>\n",
       "      <td>...</td>\n",
       "      <td>...</td>\n",
       "      <td>...</td>\n",
       "      <td>...</td>\n",
       "      <td>...</td>\n",
       "    </tr>\n",
       "    <tr>\n",
       "      <th>891</th>\n",
       "      <td>892</td>\n",
       "      <td>1582</td>\n",
       "      <td>1910</td>\n",
       "      <td>1080</td>\n",
       "      <td>66390</td>\n",
       "      <td>False</td>\n",
       "    </tr>\n",
       "    <tr>\n",
       "      <th>892</th>\n",
       "      <td>893</td>\n",
       "      <td>1387</td>\n",
       "      <td>1663</td>\n",
       "      <td>850</td>\n",
       "      <td>82080</td>\n",
       "      <td>False</td>\n",
       "    </tr>\n",
       "    <tr>\n",
       "      <th>893</th>\n",
       "      <td>894</td>\n",
       "      <td>1200</td>\n",
       "      <td>1436</td>\n",
       "      <td>1060</td>\n",
       "      <td>76440</td>\n",
       "      <td>False</td>\n",
       "    </tr>\n",
       "    <tr>\n",
       "      <th>894</th>\n",
       "      <td>895</td>\n",
       "      <td>1299</td>\n",
       "      <td>1560</td>\n",
       "      <td>770</td>\n",
       "      <td>96610</td>\n",
       "      <td>True</td>\n",
       "    </tr>\n",
       "    <tr>\n",
       "      <th>895</th>\n",
       "      <td>896</td>\n",
       "      <td>1174</td>\n",
       "      <td>1429</td>\n",
       "      <td>1110</td>\n",
       "      <td>54340</td>\n",
       "      <td>False</td>\n",
       "    </tr>\n",
       "  </tbody>\n",
       "</table>\n",
       "<p>896 rows × 6 columns</p>\n",
       "</div>"
      ],
      "text/plain": [
       "     Store ID   Store_Area  Items_Available  Daily_Customer_Count   \n",
       "0            1        1659             1961                   530  \\\n",
       "1            2        1461             1752                   210   \n",
       "2            3        1340             1609                   720   \n",
       "3            4        1451             1748                   620   \n",
       "4            5        1770             2111                   450   \n",
       "..         ...         ...              ...                   ...   \n",
       "891        892        1582             1910                  1080   \n",
       "892        893        1387             1663                   850   \n",
       "893        894        1200             1436                  1060   \n",
       "894        895        1299             1560                   770   \n",
       "895        896        1174             1429                  1110   \n",
       "\n",
       "     Store_Sales  Profitable  \n",
       "0          66490        True  \n",
       "1          39820        True  \n",
       "2          54010       False  \n",
       "3          53730       False  \n",
       "4          46620        True  \n",
       "..           ...         ...  \n",
       "891        66390       False  \n",
       "892        82080       False  \n",
       "893        76440       False  \n",
       "894        96610        True  \n",
       "895        54340       False  \n",
       "\n",
       "[896 rows x 6 columns]"
      ]
     },
     "execution_count": 31,
     "metadata": {},
     "output_type": "execute_result"
    }
   ],
   "source": [
    "df[\"Profitable\"] = df[\"Store_Sales\"]/df['Daily_Customer_Count']>100\n",
    "df"
   ]
  },
  {
   "cell_type": "code",
   "execution_count": 32,
   "id": "665c7689-3ff6-4e6a-9521-5bbfd68ca30d",
   "metadata": {
    "tags": []
   },
   "outputs": [],
   "source": [
    "x=df[['Store_Area','Store_Sales','Daily_Customer_Count']].values\n",
    "y = df[['Profitable']].values\n",
    "x_train, x_test, y_train, y_test = train_test_split(x,y,test_size=0.25, random_state=0)"
   ]
  },
  {
   "cell_type": "code",
   "execution_count": 33,
   "id": "479d5c2f-d3e6-402d-96ea-eaa80f010eae",
   "metadata": {
    "tags": []
   },
   "outputs": [],
   "source": [
    "from sklearn.preprocessing import StandardScaler\n",
    "st_x = StandardScaler()\n",
    "x_train = st_x.fit_transform(x_train)\n",
    "x_test = st_x.fit_transform(x_test)"
   ]
  },
  {
   "cell_type": "code",
   "execution_count": 34,
   "id": "86769fca-62cd-4456-84da-48c6bddba4aa",
   "metadata": {
    "tags": []
   },
   "outputs": [
    {
     "name": "stderr",
     "output_type": "stream",
     "text": [
      "c:\\Users\\paxyi\\AppData\\Local\\Programs\\Python\\Python311\\Lib\\site-packages\\sklearn\\utils\\validation.py:1143: DataConversionWarning: A column-vector y was passed when a 1d array was expected. Please change the shape of y to (n_samples, ), for example using ravel().\n",
      "  y = column_or_1d(y, warn=True)\n"
     ]
    },
    {
     "data": {
      "text/html": [
       "<style>#sk-container-id-1 {color: black;background-color: white;}#sk-container-id-1 pre{padding: 0;}#sk-container-id-1 div.sk-toggleable {background-color: white;}#sk-container-id-1 label.sk-toggleable__label {cursor: pointer;display: block;width: 100%;margin-bottom: 0;padding: 0.3em;box-sizing: border-box;text-align: center;}#sk-container-id-1 label.sk-toggleable__label-arrow:before {content: \"▸\";float: left;margin-right: 0.25em;color: #696969;}#sk-container-id-1 label.sk-toggleable__label-arrow:hover:before {color: black;}#sk-container-id-1 div.sk-estimator:hover label.sk-toggleable__label-arrow:before {color: black;}#sk-container-id-1 div.sk-toggleable__content {max-height: 0;max-width: 0;overflow: hidden;text-align: left;background-color: #f0f8ff;}#sk-container-id-1 div.sk-toggleable__content pre {margin: 0.2em;color: black;border-radius: 0.25em;background-color: #f0f8ff;}#sk-container-id-1 input.sk-toggleable__control:checked~div.sk-toggleable__content {max-height: 200px;max-width: 100%;overflow: auto;}#sk-container-id-1 input.sk-toggleable__control:checked~label.sk-toggleable__label-arrow:before {content: \"▾\";}#sk-container-id-1 div.sk-estimator input.sk-toggleable__control:checked~label.sk-toggleable__label {background-color: #d4ebff;}#sk-container-id-1 div.sk-label input.sk-toggleable__control:checked~label.sk-toggleable__label {background-color: #d4ebff;}#sk-container-id-1 input.sk-hidden--visually {border: 0;clip: rect(1px 1px 1px 1px);clip: rect(1px, 1px, 1px, 1px);height: 1px;margin: -1px;overflow: hidden;padding: 0;position: absolute;width: 1px;}#sk-container-id-1 div.sk-estimator {font-family: monospace;background-color: #f0f8ff;border: 1px dotted black;border-radius: 0.25em;box-sizing: border-box;margin-bottom: 0.5em;}#sk-container-id-1 div.sk-estimator:hover {background-color: #d4ebff;}#sk-container-id-1 div.sk-parallel-item::after {content: \"\";width: 100%;border-bottom: 1px solid gray;flex-grow: 1;}#sk-container-id-1 div.sk-label:hover label.sk-toggleable__label {background-color: #d4ebff;}#sk-container-id-1 div.sk-serial::before {content: \"\";position: absolute;border-left: 1px solid gray;box-sizing: border-box;top: 0;bottom: 0;left: 50%;z-index: 0;}#sk-container-id-1 div.sk-serial {display: flex;flex-direction: column;align-items: center;background-color: white;padding-right: 0.2em;padding-left: 0.2em;position: relative;}#sk-container-id-1 div.sk-item {position: relative;z-index: 1;}#sk-container-id-1 div.sk-parallel {display: flex;align-items: stretch;justify-content: center;background-color: white;position: relative;}#sk-container-id-1 div.sk-item::before, #sk-container-id-1 div.sk-parallel-item::before {content: \"\";position: absolute;border-left: 1px solid gray;box-sizing: border-box;top: 0;bottom: 0;left: 50%;z-index: -1;}#sk-container-id-1 div.sk-parallel-item {display: flex;flex-direction: column;z-index: 1;position: relative;background-color: white;}#sk-container-id-1 div.sk-parallel-item:first-child::after {align-self: flex-end;width: 50%;}#sk-container-id-1 div.sk-parallel-item:last-child::after {align-self: flex-start;width: 50%;}#sk-container-id-1 div.sk-parallel-item:only-child::after {width: 0;}#sk-container-id-1 div.sk-dashed-wrapped {border: 1px dashed gray;margin: 0 0.4em 0.5em 0.4em;box-sizing: border-box;padding-bottom: 0.4em;background-color: white;}#sk-container-id-1 div.sk-label label {font-family: monospace;font-weight: bold;display: inline-block;line-height: 1.2em;}#sk-container-id-1 div.sk-label-container {text-align: center;}#sk-container-id-1 div.sk-container {/* jupyter's `normalize.less` sets `[hidden] { display: none; }` but bootstrap.min.css set `[hidden] { display: none !important; }` so we also need the `!important` here to be able to override the default hidden behavior on the sphinx rendered scikit-learn.org. See: https://github.com/scikit-learn/scikit-learn/issues/21755 */display: inline-block !important;position: relative;}#sk-container-id-1 div.sk-text-repr-fallback {display: none;}</style><div id=\"sk-container-id-1\" class=\"sk-top-container\"><div class=\"sk-text-repr-fallback\"><pre>LogisticRegression(random_state=0)</pre><b>In a Jupyter environment, please rerun this cell to show the HTML representation or trust the notebook. <br />On GitHub, the HTML representation is unable to render, please try loading this page with nbviewer.org.</b></div><div class=\"sk-container\" hidden><div class=\"sk-item\"><div class=\"sk-estimator sk-toggleable\"><input class=\"sk-toggleable__control sk-hidden--visually\" id=\"sk-estimator-id-1\" type=\"checkbox\" checked><label for=\"sk-estimator-id-1\" class=\"sk-toggleable__label sk-toggleable__label-arrow\">LogisticRegression</label><div class=\"sk-toggleable__content\"><pre>LogisticRegression(random_state=0)</pre></div></div></div></div></div>"
      ],
      "text/plain": [
       "LogisticRegression(random_state=0)"
      ]
     },
     "execution_count": 34,
     "metadata": {},
     "output_type": "execute_result"
    }
   ],
   "source": [
    "from sklearn.linear_model import LogisticRegression\n",
    "lm = LogisticRegression(random_state=0)\n",
    "lm.fit(x_train,y_train)"
   ]
  },
  {
   "cell_type": "code",
   "execution_count": 35,
   "id": "e06d3e26-c261-4721-8351-1b02c291e69d",
   "metadata": {
    "tags": []
   },
   "outputs": [
    {
     "name": "stdout",
     "output_type": "stream",
     "text": [
      "[[ 8.01122365e-04 -4.36135143e-01  7.65220970e-01]\n",
      " [ 9.65850926e-01  7.64211777e-01 -1.75969071e+00]\n",
      " [ 7.86399517e-01  4.27565500e-01 -5.15015939e-01]\n",
      " [-8.44614408e-01 -2.60105721e+00  6.94096697e-01]\n",
      " [ 1.28487566e+00  3.29078557e-01  5.51848152e-01]\n",
      " [ 1.54807106e+00  1.58195185e+00  1.12084233e+00]\n",
      " [ 3.75655178e-01  8.07187898e-01 -1.23832439e-01]\n",
      " [ 7.02655525e-01  7.42723717e-01  9.07469516e-01]\n",
      " [ 2.91911187e-01  4.73462121e-02 -9.06199439e-01]\n",
      " [ 1.48426611e+00  2.14661032e+00  1.25102515e-01]\n",
      " [ 6.26887152e-01 -7.70990749e-01  1.72539865e+00]\n",
      " [-8.69306780e-02  4.50844232e-01 -7.63950894e-01]\n",
      " [-5.61479962e-01  6.20361152e-01 -8.82703028e-02]\n",
      " [-3.70065125e-01 -1.11957484e+00 -8.82703028e-02]\n",
      " [-8.56577836e-01  4.32937515e-01 -1.65300430e+00]\n",
      " [-3.50126079e-01  2.12930049e+00  1.01415592e+00]\n",
      " [-5.17614062e-01  1.89406166e-01 -5.86140212e-01]\n",
      " [-4.70525869e-02 -1.19000792e+00  4.80723879e-01]\n",
      " [-1.47468825e+00  1.07638554e+00 -6.92826621e-01]\n",
      " [-1.84156669e+00 -3.56748698e-01  9.78593788e-01]\n",
      " [ 2.87157861e-02  4.69347840e-01 -8.82703028e-02]\n",
      " [ 1.33671717e+00 -1.66340609e-01 -2.30518848e-01]\n",
      " [-2.71135414e-02  1.56344824e+00 -1.43963148e+00]\n",
      " [-1.04799267e+00  9.08062403e-01  8.00783106e-01]\n",
      " [-9.00443736e-01 -1.58813393e+00 -8.35075167e-01]\n",
      " [ 2.47279770e-02  9.05077950e-01 -7.28388757e-01]\n",
      " [-5.81419007e-01 -1.30938604e+00  6.58534561e-01]\n",
      " [ 3.66914043e-02  7.23026328e-01 -5.27081664e-02]\n",
      " [-9.88175536e-01  1.71446155e+00  5.51848152e-01]\n",
      " [-1.18357818e+00 -2.31998571e-01  1.51202583e+00]\n",
      " [ 1.21309509e+00 -3.50246855e-02  1.15640447e+00]\n",
      " [ 1.23702195e+00 -5.94311142e-01  8.36345243e-01]\n",
      " [ 6.74740862e-01  1.54673530e+00 -4.43891666e-01]\n",
      " [-1.58711242e-01  9.74210667e-03 -8.35075167e-01]\n",
      " [ 1.38457088e+00 -1.31117671e+00  5.16286016e-01]\n",
      " [-5.93382435e-01 -9.17228936e-01  4.45161743e-01]\n",
      " [-4.70525869e-02 -7.04139006e-01 -1.11957226e+00]\n",
      " [ 1.10143644e+00 -1.20380036e-01 -1.59394576e-01]\n",
      " [-5.29577489e-01  6.02454435e-01  1.26309088e+00]\n",
      " [ 1.60313487e-01 -1.50224564e-01 -2.15087421e+00]\n",
      " [-2.71135414e-02  5.38587145e-01 -5.15015939e-01]\n",
      " [-2.10874990e+00 -1.49627673e-01  5.16286016e-01]\n",
      " [ 6.38850580e-01  3.75039131e-01 -2.07974994e+00]\n",
      " [-5.53504344e-01 -1.82211503e+00  1.96226788e-01]\n",
      " [-1.78650287e-01 -5.86551565e-01 -1.94956712e-01]\n",
      " [-2.90308942e-01 -9.65044134e-02 -4.08329530e-01]\n",
      " [ 1.36386632e-01  2.86699328e-01 -5.27081664e-02]\n",
      " [ 1.41248555e+00  1.60158528e-01  1.29865302e+00]\n",
      " [-2.71888469e+00 -1.96357809e+00 -1.71460300e-02]\n",
      " [ 1.63979067e+00  1.24232112e+00 -1.65300430e+00]\n",
      " [-2.66382088e-01  1.93650484e+00  4.45161743e-01]\n",
      " [ 6.06948107e-01 -3.14369469e-01  1.12084233e+00]\n",
      " [ 9.77814354e-01  6.34686525e-01  4.45161743e-01]\n",
      " [-2.16457922e+00  9.14031308e-01  2.72113847e+00]\n",
      " [ 2.48045287e-01 -1.10584635e+00  1.40533942e+00]\n",
      " [ 5.87009061e-01 -1.08614897e+00  4.45161743e-01]\n",
      " [-9.88175536e-01 -5.69838629e-01 -9.41761576e-01]\n",
      " [-2.58406470e-01 -2.22024103e+00  1.96226788e-01]\n",
      " [-1.34707836e+00  3.01024701e-01 -5.15015939e-01]\n",
      " [-9.09184871e-02  2.37157411e-01 -1.40406935e+00]\n",
      " [ 1.15327795e+00  5.29036896e-01 -1.71460300e-02]\n",
      " [-1.30796578e-01 -2.74974691e-01  3.38475334e-01]\n",
      " [-8.44614408e-01  4.21596595e-01  2.11658215e+00]\n",
      " [ 1.51616858e+00 -4.28375566e-01  4.80723879e-01]\n",
      " [ 1.71157123e+00 -4.14050192e-01 -1.54631789e+00]\n",
      " [ 1.59592477e+00 -3.93159023e-01  1.29865302e+00]\n",
      " [ 3.59703942e-01  1.21605793e+00 -3.01643121e-01]\n",
      " [ 1.67169314e+00  4.49650451e-01  4.45161743e-01]\n",
      " [-1.08787076e+00 -1.92657088e+00 -5.27081664e-02]\n",
      " [ 1.64301296e-01  5.88129061e-01 -5.86140212e-01]\n",
      " [-1.48266387e+00 -7.27417738e-01 -4.08329530e-01]\n",
      " [ 1.14131453e+00 -2.82734269e-01 -8.70637303e-01]\n",
      " [ 5.67070016e-01 -1.47830606e+00 -1.51075576e+00]\n",
      " [ 5.39155352e-01  7.95846977e-01  1.65427438e+00]\n",
      " [-1.10780981e+00 -6.72503806e-01 -4.43891666e-01]\n",
      " [ 9.02045981e-01  8.70458297e-01 -1.23832439e-01]\n",
      " [-1.86625906e-01 -1.13867533e+00  1.44090156e+00]\n",
      " [ 1.39653431e+00  1.16950047e+00 -1.72412858e+00]\n",
      " [ 1.49224173e+00 -7.96060152e-01  5.16286016e-01]\n",
      " [-8.80504690e-01 -2.27223446e-01 -8.82703028e-02]\n",
      " [-3.46138270e-01  8.31660411e-01  8.00783106e-01]\n",
      " [ 1.36386632e-01  5.09339507e-01  1.58315011e+00]\n",
      " [ 9.02045981e-01 -4.49863626e-01 -7.28388757e-01]\n",
      " [ 6.98667716e-01  8.61440986e-02 -1.23832439e-01]\n",
      " [-6.81114235e-01  2.11616890e+00 -1.33294508e+00]\n",
      " [-2.86321133e-01  1.21360642e-01  6.58534561e-01]\n",
      " [-1.35904178e+00  1.62194352e+00 -1.68856644e+00]\n",
      " [-9.09184871e-02  1.29186303e+00  6.94096697e-01]\n",
      " [-1.23143189e+00 -3.11981906e-01 -2.30518848e-01]\n",
      " [ 1.25696099e+00 -1.20672086e+00 -5.27081664e-02]\n",
      " [ 1.40374441e-01  4.13773065e-02 -3.37205257e-01]\n",
      " [ 1.88304702e+00 -3.28694842e-01 -1.59394576e-01]\n",
      " [-2.18850608e+00 -1.12620459e-01  2.31788925e-01]\n",
      " [-4.17918834e-01 -3.78236759e-01  1.22752874e+00]\n",
      " [-2.25629883e+00  9.91627081e-01  2.67351061e-01]\n",
      " [ 2.04654719e+00  1.69118282e+00 -1.22625867e+00]\n",
      " [ 2.22201080e+00  7.80327822e-01 -9.06199439e-01]\n",
      " [ 1.12935110e+00 -6.91007413e-01 -2.30518848e-01]\n",
      " [ 2.08167196e-01 -2.19463869e-01  2.15214429e+00]\n",
      " [ 9.25207318e-02  4.57410028e-01  1.93877147e+00]\n",
      " [-1.55444443e+00 -6.51015746e-01  3.74037470e-01]\n",
      " [-1.02881914e-01 -6.15799202e-01  8.36345243e-01]\n",
      " [ 1.44362250e-01  5.27182271e-02 -6.21702348e-01]\n",
      " [ 7.14618953e-01  2.05946430e+00  5.51848152e-01]\n",
      " [-1.10857533e-01 -5.36412758e-01 -1.11957226e+00]\n",
      " [-1.61426157e+00 -1.37743156e+00  2.47220352e+00]\n",
      " [ 1.82322988e+00  4.22790376e-01 -1.23832439e-01]\n",
      " [ 2.15023023e+00  1.23456154e+00 -9.06199439e-01]\n",
      " [ 9.21985026e-01 -9.90049585e-01 -6.57264485e-01]\n",
      " [ 5.15228497e-01 -3.67492729e-01 -5.50578076e-01]\n",
      " [-1.35904178e+00 -2.33192352e-01 -1.71460300e-02]\n",
      " [ 1.88228150e-01 -1.18762036e+00  5.87410288e-01]\n",
      " [ 1.49622954e+00 -4.57026313e-01 -1.61744217e+00]\n",
      " [ 2.32094051e-01  3.04606044e-01  1.96226788e-01]\n",
      " [-2.73882373e+00 -9.53042370e-01  1.04971806e+00]\n",
      " [ 3.51728324e-01  1.94181290e-01 -3.37205257e-01]\n",
      " [ 3.11850233e-01 -1.41335158e-02  8.00783106e-01]\n",
      " [-5.77431198e-01 -1.69975246e+00  4.09599606e-01]\n",
      " [ 2.87923378e-01  1.75684078e+00 -4.08329530e-01]\n",
      " [-1.37898083e+00  9.30147353e-01 -3.37205257e-01]\n",
      " [-6.17309289e-01 -1.00198740e+00  1.01415592e+00]\n",
      " [-1.37100521e+00  8.22110162e-01 -8.35075167e-01]\n",
      " [-1.01210239e+00 -1.01511899e+00  4.80723879e-01]\n",
      " [-1.78650287e-01 -1.44368641e+00 -7.99513030e-01]\n",
      " [-4.29882261e-01  2.23256256e+00  1.68983652e+00]\n",
      " [ 1.54009544e+00  8.79347703e-02  7.29658834e-01]\n",
      " [-2.58406470e-01 -5.57303927e-01  2.18770642e+00]\n",
      " [ 1.34070498e+00  8.08978569e-01  8.95403791e-02]\n",
      " [-7.89550598e-02 -7.90091247e-01 -1.23832439e-01]\n",
      " [-3.30187034e-01 -1.29685133e+00 -1.26182080e+00]\n",
      " [-8.69306780e-02  1.76818170e+00  8.00783106e-01]\n",
      " [-5.37553107e-01  1.39512510e+00 -8.82703028e-02]\n",
      " [ 2.03059596e+00  1.67506678e+00 -3.72767394e-01]\n",
      " [ 5.03265070e-01 -6.88022960e-01 -1.22625867e+00]\n",
      " [ 4.35472315e-01 -2.28417228e-01 -7.63950894e-01]\n",
      " [-5.89394626e-01 -1.69325062e-01 -1.54631789e+00]\n",
      " [ 1.30082689e+00 -2.33192352e-01  7.29658834e-01]\n",
      " [ 2.52033096e-01 -4.28972456e-01 -9.06199439e-01]\n",
      " [-7.44919181e-01  1.46078306e+00 -1.51075576e+00]\n",
      " [ 5.79033443e-01 -8.00835277e-01  5.16286016e-01]\n",
      " [-2.36396968e+00 -3.55554917e-01  1.96226788e-01]\n",
      " [-1.14768790e+00  2.61033033e-01  1.01415592e+00]\n",
      " [-2.02577142e-01  1.84631041e-01  9.78593788e-01]\n",
      " [-1.06869724e-01 -5.34025195e-01  1.61871224e+00]\n",
      " [ 7.14618953e-01 -7.42936892e-01 -6.21702348e-01]\n",
      " [-1.78174955e+00 -1.63051316e+00  4.80723879e-01]\n",
      " [-4.21906643e-01 -9.47670355e-01 -3.37205257e-01]\n",
      " [ 7.02655525e-01  1.39333443e+00 -3.72767394e-01]\n",
      " [ 6.38850580e-01  6.63337272e-01 -1.61744217e+00]\n",
      " [-1.46747815e-01  4.47859779e-01 -1.23832439e-01]\n",
      " [-1.23541970e+00 -2.45727054e-01  2.31788925e-01]\n",
      " [-1.20351723e+00 -1.38101290e+00  3.74037470e-01]\n",
      " [-1.25137094e+00 -6.38481044e-01 -2.30518848e-01]\n",
      " [ 1.26094880e+00 -7.48905798e-01 -1.83081498e+00]\n",
      " [ 4.87313833e-01 -6.67728681e-01  1.47646370e+00]\n",
      " [ 2.44057478e-01 -8.07997963e-01 -9.77323712e-01]\n",
      " [-4.57796925e-01  8.26885286e-01 -2.39980917e+00]\n",
      " [ 4.06792134e-02 -5.60885271e-01 -6.92826621e-01]\n",
      " [ 8.01122365e-04  4.27565500e-01 -6.92826621e-01]\n",
      " [ 5.83021252e-01 -1.23358093e+00 -1.23832439e-01]\n",
      " [ 4.78893147e-03 -5.07762011e-01  3.74037470e-01]\n",
      " [-1.14768790e+00 -1.04854486e+00  1.08528020e+00]\n",
      " [ 3.35777087e-01  3.42146197e-02 -1.23832439e-01]\n",
      " [ 8.85329227e-02  7.77876308e-02  5.16286016e-01]\n",
      " [-2.86321133e-01 -6.95782538e-01  1.84161063e-02]\n",
      " [ 9.53887499e-01  9.80819099e-02  1.25102515e-01]\n",
      " [-3.11013505e-02 -2.11339762e+00  2.67351061e-01]\n",
      " [-1.00013896e+00 -1.06048267e+00  1.12084233e+00]\n",
      " [-2.98284561e-01  1.40765980e+00  1.96226788e-01]\n",
      " [-1.04799267e+00 -2.46323944e-01  9.78593788e-01]\n",
      " [ 2.47279770e-02 -4.30763128e-01 -1.83081498e+00]\n",
      " [-6.33260526e-01  2.61516941e+00  1.83208506e+00]\n",
      " [ 6.90692098e-01  1.40706291e+00 -2.66080985e-01]\n",
      " [ 9.14009408e-01  1.21360642e-01 -3.37205257e-01]\n",
      " [-1.09584638e+00  2.64550424e-02  1.54758797e+00]\n",
      " [ 1.87905921e+00 -8.21726446e-01  1.22752874e+00]\n",
      " [ 3.51728324e-01  9.44472727e-01 -7.28388757e-01]\n",
      " [ 3.67679560e-01 -6.19380546e-01 -1.26182080e+00]\n",
      " [-1.14768790e+00 -2.48114616e-01  1.12084233e+00]\n",
      " [-3.18668674e-03 -1.11479971e+00 -2.07974994e+00]\n",
      " [ 1.31279032e+00  3.47582165e-01 -3.37205257e-01]\n",
      " [-5.01662825e-01  1.67864812e+00 -3.01643121e-01]\n",
      " [ 7.18606762e-01 -2.41548820e-01 -2.66080985e-01]\n",
      " [-6.25284908e-01 -1.78875311e-01 -7.63950894e-01]\n",
      " [-9.09184871e-02 -4.52251188e-01  3.74037470e-01]\n",
      " [ 7.70448280e-01 -6.65341119e-01  1.84161063e-02]\n",
      " [ 5.26426408e-02  8.50164018e-01 -2.00862567e+00]\n",
      " [ 2.05851062e+00 -5.91326689e-01  1.84161063e-02]\n",
      " [-1.24339532e+00  5.30827567e-01 -2.30518848e-01]\n",
      " [-1.23143189e+00 -4.80901935e-01  8.00783106e-01]\n",
      " [ 4.46670225e-02  1.32648269e+00 -7.99513030e-01]\n",
      " [ 2.04179387e-01  1.04176589e+00  6.58534561e-01]\n",
      " [ 1.25696099e+00  1.33066092e+00 -9.77323712e-01]\n",
      " [ 1.56325678e-01 -5.45963007e-01 -7.28388757e-01]\n",
      " [-6.61175190e-01  2.01768196e+00  9.78593788e-01]\n",
      " [-8.40626599e-01  3.18334527e-01 -1.47519362e+00]\n",
      " [-1.90613715e-01  6.62740382e-01 -4.08329530e-01]\n",
      " [ 2.20130623e-01 -1.65080744e+00 -6.57264485e-01]\n",
      " [-1.00013896e+00  4.11449455e-01 -1.71460300e-02]\n",
      " [ 1.57598572e+00  5.32618239e-01  1.72539865e+00]\n",
      " [-1.78174955e+00 -1.86150981e+00 -1.19069653e+00]\n",
      " [ 9.02045981e-01 -2.95268971e-01 -1.47519362e+00]\n",
      " [ 4.47435742e-01 -1.35302300e-01 -6.21702348e-01]\n",
      " [-5.65467771e-01  1.71147710e+00 -6.57264485e-01]\n",
      " [-6.57187380e-01 -3.31679295e-01  2.67351061e-01]\n",
      " [ 4.31484506e-01  3.33853682e-01  6.58534561e-01]\n",
      " [-9.36334018e-01 -5.50738131e-01  2.67351061e-01]\n",
      " [-1.81365202e+00 -6.58775323e-01 -4.43891666e-01]\n",
      " [-1.18357818e+00 -1.18642658e+00  8.00783106e-01]\n",
      " [-5.69455580e-01 -1.96178742e+00  1.40533942e+00]\n",
      " [-1.51501141e-02  1.01789027e+00 -1.59394576e-01]\n",
      " [-1.34784387e-01 -1.11599349e+00  9.43031652e-01]\n",
      " [-8.48602218e-01 -5.69838629e-01 -4.79453803e-01]\n",
      " [-7.64858226e-01 -7.76959654e-01 -2.79099267e+00]\n",
      " [ 1.96280320e+00 -7.56665375e-01  5.39782427e-02]\n",
      " [-3.46138270e-01  1.08295134e+00  1.01415592e+00]\n",
      " [-9.49062962e-02  3.01024701e-01  8.36345243e-01]\n",
      " [ 4.15533270e-01 -1.25155160e-01 -6.57264485e-01]\n",
      " [ 6.02960298e-01  8.53745362e-01  1.44090156e+00]\n",
      " [ 5.03265070e-01 -4.45749345e-02 -9.06199439e-01]\n",
      " [-6.09333671e-01 -3.71074072e-01 -1.01288585e+00]\n",
      " [ 2.83935569e-01  1.54375085e+00  5.51848152e-01]\n",
      " [ 2.08167196e-01  1.39214065e+00  4.09599606e-01]\n",
      " [-3.18668674e-03 -2.15995509e+00  1.61871224e+00]]\n",
      "[False  True  True False False False False False  True  True False  True\n",
      " False False  True False False False  True False False False  True False\n",
      " False  True False False False False False False  True  True False False\n",
      " False False False  True  True False  True False False False False False\n",
      " False  True  True False False False False False False False False  True\n",
      " False False False False  True False  True False False  True False  True\n",
      " False False False False False  True False False False False False False\n",
      "  True False  True False False False False False False False False  True\n",
      "  True False False False False False False  True  True False False  True\n",
      " False False False False  True False False False False False  True  True\n",
      " False  True False False False False False False False False False  True\n",
      "  True  True False  True False False  True False False False False False\n",
      " False False False  True  True False False False False  True False False\n",
      "  True False  True False False False False False False False False False\n",
      " False False  True False  True False False False  True  True False  True\n",
      " False  True False False False False  True False False False  True False\n",
      "  True False False  True  True False False False False  True False  True\n",
      " False False False False False False  True False False  True False False\n",
      " False False False  True  True False False False]\n"
     ]
    }
   ],
   "source": [
    "y_pred=lm.predict(x_test)\n",
    "print(x_test)\n",
    "print(y_pred)"
   ]
  },
  {
   "cell_type": "code",
   "execution_count": 36,
   "id": "02ec0ec2-6869-4261-b50e-cbc1270c1975",
   "metadata": {},
   "outputs": [
    {
     "name": "stdout",
     "output_type": "stream",
     "text": [
      "0.9866071428571429\n"
     ]
    },
    {
     "data": {
      "text/plain": [
       "array([[164,   3],\n",
       "       [  0,  57]], dtype=int64)"
      ]
     },
     "execution_count": 36,
     "metadata": {},
     "output_type": "execute_result"
    }
   ],
   "source": [
    "from sklearn.metrics import confusion_matrix as cm, accuracy_score\n",
    "print(accuracy_score(y_test,y_pred))\n",
    "df_cm = cm(y_test,y_pred)\n",
    "df_cm"
   ]
  },
  {
   "cell_type": "code",
   "execution_count": 37,
   "id": "9015eb05",
   "metadata": {},
   "outputs": [
    {
     "data": {
      "text/plain": [
       "<Axes: >"
      ]
     },
     "execution_count": 37,
     "metadata": {},
     "output_type": "execute_result"
    },
    {
     "data": {
      "image/png": "[encoded data removed]",
      "text/plain": [
       "<Figure size 1000x700 with 2 Axes>"
      ]
     },
     "metadata": {},
     "output_type": "display_data"
    }
   ],
   "source": [
    "import seaborn as sns\n",
    "import matplotlib.pyplot as plt\n",
    "plt.figure(figsize=(10,7))\n",
    "sns.heatmap(df_cm, annot=True)"
   ]
  },
  {
   "attachments": {},
   "cell_type": "markdown",
   "id": "7ce412a0",
   "metadata": {},
   "source": [
    "## Conclusion\n",
    "We have successfully implemented Linear and Logistic Regression on our dataset."
   ]
  }
 ],
 "metadata": {
  "kernelspec": {
   "display_name": "Python 3 (ipykernel)",
   "language": "python",
   "name": "python3"
  },
  "language_info": {
   "codemirror_mode": {
    "name": "ipython",
    "version": 3
   },
   "file_extension": ".py",
   "mimetype": "text/x-python",
   "name": "python",
   "nbconvert_exporter": "python",
   "pygments_lexer": "ipython3",
   "version": "3.11.3"
  }
 },
 "nbformat": 4,
 "nbformat_minor": 5
}
