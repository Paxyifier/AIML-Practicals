{
 "cells": [
  {
   "attachments": {},
   "cell_type": "markdown",
   "metadata": {},
   "source": [
    "## Importing Dataset"
   ]
  },
  {
   "cell_type": "code",
   "execution_count": null,
   "metadata": {},
   "outputs": [],
   "source": [
    "# importing libraries\n",
    "import numpy as nm\n",
    "import matplotlib.pyplot as mtp\n",
    "import pandas as pd\n",
    "# Importing the dataset\n",
    "dataset = pd.read_csv('Mall_Customers.csv')\n",
    "#dataset\n",
    "dataset"
   ]
  },
  {
   "attachments": {},
   "cell_type": "markdown",
   "metadata": {},
   "source": [
    "## Extracting independent Variables"
   ]
  },
  {
   "cell_type": "code",
   "execution_count": null,
   "metadata": {},
   "outputs": [],
   "source": [
    "x = dataset.iloc[:, [3, 4]].values\n",
    "#finding optimal number of clusters using the elbow method\n",
    "from sklearn.cluster import KMeans\n",
    "wcss_list= [] #Initializing the list for the values of WCSS\n",
    "#Using for loop for iterations from 1 to 10.\n",
    "for i in range(1, 11):\n",
    "    kmeans = KMeans(n_clusters=i, init='k-means++', random_state= 42)\n",
    "    kmeans.fit(x)\n",
    "wcss_list.append(kmeans.inertia_)\n",
    "mtp.plot(range(1, 11), wcss_list)\n",
    "mtp.title('The Elbow Method Graph')\n",
    "mtp.xlabel('Number of clusters(k)')\n",
    "mtp.ylabel('wcss_list')\n",
    "mtp.show()"
   ]
  },
  {
   "attachments": {},
   "cell_type": "markdown",
   "metadata": {},
   "source": [
    "## Training K-Means Model on a Dataset"
   ]
  },
  {
   "cell_type": "code",
   "execution_count": null,
   "metadata": {},
   "outputs": [],
   "source": [
    "kmeans = KMeans(n_clusters=5, init='k-means++', random_state= 42)\n",
    "y_predict= kmeans.fit_predict(x)\n",
    "#visualizing the clusters\n",
    "mtp.scatter(x[y_predict == 0, 0], x[y_predict == 0, 1], s = 100, c = 'blue', label = 'Cluster 1') #for first cluster\n",
    "mtp.scatter(x[y_predict == 1, 0], x[y_predict == 1, 1], s = 100, c = 'green', label = 'Cluster 2') #for second\n",
    "mtp.scatter(x[y_predict== 2, 0], x[y_predict == 2, 1], s = 100, c = 'red', label = 'Cluster 3') #for third cluster\n",
    "mtp.scatter(x[y_predict == 3, 0], x[y_predict == 3, 1], s = 100, c = 'cyan', label = 'Cluster 4') #for fourth cluster\n",
    "mtp.scatter(x[y_predict == 4, 0], x[y_predict == 4, 1], s = 100, c = 'magenta', label = 'Cluster 5') #for fifth cluster\n",
    "mtp.scatter(kmeans.cluster_centers_[:, 0], kmeans.cluster_centers_[:, 1], s = 300, c = 'yellow', label = 'Centroid')\n",
    "mtp.title('Clusters of customers')\n",
    "mtp.xlabel('Annual Income (k$)')\n",
    "mtp.ylabel('Spending Score (1-100)')\n",
    "mtp.legend()\n",
    "mtp.show()"
   ]
  },
  {
   "attachments": {},
   "cell_type": "markdown",
   "metadata": {},
   "source": [
    "## K-Medoids"
   ]
  },
  {
   "cell_type": "code",
   "execution_count": null,
   "metadata": {},
   "outputs": [],
   "source": [
    "%pip install scikit-learn-extra\n",
    "\n"
   ]
  },
  {
   "cell_type": "code",
   "execution_count": null,
   "metadata": {},
   "outputs": [],
   "source": [
    "import numpy as np #linear algebra\n",
    "import matplotlib.pyplot as plt\n",
    "import pandas as pd #data processing\n",
    "from sklearn.cluster import KMeans\n",
    "from sklearn_extra.cluster import KMedoids\n",
    "from sklearn import datasets\n",
    "#loding Dataset\n",
    "myiris = datasets.load_iris()\n",
    "x = myiris.data #we get independent variables\n",
    "y = myiris.target #we get target variables\n",
    "myiris"
   ]
  },
  {
   "attachments": {},
   "cell_type": "markdown",
   "metadata": {},
   "source": [
    "## Scaling And Fitting of K-Medoids"
   ]
  },
  {
   "cell_type": "code",
   "execution_count": null,
   "metadata": {},
   "outputs": [],
   "source": [
    "from sklearn.preprocessing import StandardScaler\n",
    "scaler = StandardScaler().fit(x)\n",
    "x_scaled = scaler.transform(x)\n",
    "kMedoids = KMedoids(n_clusters = 3, random_state = 0)\n",
    "kMedoids.fit(x_scaled)\n",
    "y_kmed = kMedoids.fit_predict(x_scaled)\n",
    "#to find out the cluster labels corresponding to different observations."
   ]
  },
  {
   "attachments": {},
   "cell_type": "markdown",
   "metadata": {},
   "source": [
    "## Silhouette Method to evaluate cluster"
   ]
  },
  {
   "cell_type": "code",
   "execution_count": null,
   "metadata": {},
   "outputs": [],
   "source": [
    "from sklearn.metrics import silhouette_samples, silhouette_score\n",
    "kMedoids = KMedoids(n_clusters = 3, random_state = 0)\n",
    "kMedoids.fit(x_scaled)\n",
    "y_kmed = kMedoids.fit_predict(x_scaled)\n",
    "silhouette_avg = silhouette_score(x_scaled, y_kmed)\n",
    "print(silhouette_avg) # we get average value of all clusters"
   ]
  },
  {
   "attachments": {},
   "cell_type": "markdown",
   "metadata": {},
   "source": [
    "## Silhouette Widt to find Number of clusters"
   ]
  },
  {
   "cell_type": "code",
   "execution_count": null,
   "metadata": {},
   "outputs": [],
   "source": [
    "sw = []\n",
    "for i in range(2, 11):\n",
    "    kMedoids = KMedoids(n_clusters = i, random_state = 0)\n",
    "    kMedoids.fit(x_scaled)\n",
    "    y_kmed = kMedoids.fit_predict(x_scaled)\n",
    "    silhouette_avg = silhouette_score(x_scaled, y_kmed)\n",
    "    sw.append(silhouette_avg)\n",
    "#different silhouette is calculated fo r different clusters\n",
    "plt.plot(range(2, 11), sw)\n",
    "plt.title('Sillhoute Score')\n",
    "plt.xlabel('Number of clusters')\n",
    "plt.ylabel('SW') #within cluster sum of squares\n",
    "plt.show()"
   ]
  },
  {
   "attachments": {},
   "cell_type": "markdown",
   "metadata": {},
   "source": [
    "## Computing Purity"
   ]
  },
  {
   "cell_type": "code",
   "execution_count": null,
   "metadata": {},
   "outputs": [],
   "source": [
    "from sklearn import metrics\n",
    "def purity_score(y_true, y_pred):\n",
    "    # compute contingency matrix (also called confusion matrix)\n",
    "    contingency_matrix = metrics.cluster.contingency_matrix(y_true, y_pred)\n",
    "    # return purity\n",
    "    return np.sum(np.amax(contingency_matrix, axis=0)) / np.sum(contingency_matrix)"
   ]
  },
  {
   "attachments": {},
   "cell_type": "markdown",
   "metadata": {},
   "source": [
    "## How extreme values effect K-Medoid compared to K-Means "
   ]
  },
  {
   "cell_type": "code",
   "execution_count": null,
   "metadata": {},
   "outputs": [],
   "source": [
    "kmeans = KMeans(n_clusters = 3, init = 'random', max_iter = 300, n_init = 10, random_state = 0)\n",
    "y_kmeans = kmeans.fit_predict(x_scaled)\n",
    "purity_score(y,y_kmeans)"
   ]
  },
  {
   "attachments": {},
   "cell_type": "markdown",
   "metadata": {},
   "source": [
    "## Plotting Values"
   ]
  },
  {
   "cell_type": "code",
   "execution_count": null,
   "metadata": {},
   "outputs": [],
   "source": [
    "plt.scatter(x_scaled[y_kmeans == 0, 0], x_scaled[y_kmeans == 0, 1], s = 100, c = 'red', label = 'C1')\n",
    "plt.scatter(x_scaled[y_kmeans == 1, 0], x_scaled[y_kmeans == 1, 1], s = 100, c = 'blue', label = 'C2')\n",
    "plt.scatter(x_scaled[y_kmeans == 2, 0], x_scaled[y_kmeans == 2, 1], s = 100, c = 'green', label = 'C3')\n",
    "plt.scatter(kmeans.cluster_centers_[:, 0], kmeans.cluster_centers_[:,1] , s = 100, c = 'yellow', label = 'Centroids')\n",
    "plt.legend()"
   ]
  },
  {
   "attachments": {},
   "cell_type": "markdown",
   "metadata": {},
   "source": [
    "## Adding Extreme Values"
   ]
  },
  {
   "cell_type": "code",
   "execution_count": null,
   "metadata": {},
   "outputs": [],
   "source": [
    "import numpy as np\n",
    "m=np.append(x,[[10,10,10,10],[15,15,15,15],[12,12,12,12]],axis =0)\n",
    "m.shape\n",
    "y=np.append(y,[2,2,2])\n",
    "print(y)\n",
    "print(\"we see 3 observations are added over here.-\",m.shape)"
   ]
  },
  {
   "cell_type": "code",
   "execution_count": null,
   "metadata": {},
   "outputs": [],
   "source": [
    "scaler = StandardScaler().fit(m)\n",
    "x_scaled = scaler.transform(m)\n",
    "kmeans = KMeans(n_clusters = 3, init = 'random', max_iter =\n",
    "300, n_init = 10, random_state = 0)\n",
    "y_kmeans = kmeans.fit_predict(x_scaled)\n",
    "purity_score(y,y_kmeans)"
   ]
  },
  {
   "attachments": {},
   "cell_type": "markdown",
   "metadata": {},
   "source": [
    "## Plotting Values"
   ]
  },
  {
   "cell_type": "code",
   "execution_count": null,
   "metadata": {},
   "outputs": [],
   "source": [
    "plt.scatter(x_scaled[y_kmeans == 0, 0], x_scaled[y_kmeans == 0, 1], s = 100, c = 'red', label = 'C1')\n",
    "plt.scatter(x_scaled[y_kmeans == 1, 0], x_scaled[y_kmeans == 1, 1], s = 100, c = 'blue', label = 'C2')\n",
    "plt.scatter(x_scaled[y_kmeans == 2, 0], x_scaled[y_kmeans== 2, ], s = 100, c = 'green', label = 'C3')\n",
    "plt.scatter(kmeans.cluster_centers_[:, 0], kmeans.cluster_centers_[:,1] , s = 100, c = 'yellow', label ='Centroids')\n",
    "#here 3 points formed cluster on their own.\n",
    "plt.legend()"
   ]
  },
  {
   "cell_type": "code",
   "execution_count": null,
   "metadata": {},
   "outputs": [],
   "source": [
    "data = [['k-Means', 0.81], ['k-Means with Outliers', 0.67], ['k-Medoid', 0.84],['K Medoid with outliers', 0.86]]\n",
    "df = pd.DataFrame(data, columns = ['Method', 'Purity'])\n",
    "df.plot.bar(x='Method',y='Purity',title='Cluster Quality')"
   ]
  }
 ],
 "metadata": {
  "language_info": {
   "name": "python"
  },
  "orig_nbformat": 4
 },
 "nbformat": 4,
 "nbformat_minor": 2
}
