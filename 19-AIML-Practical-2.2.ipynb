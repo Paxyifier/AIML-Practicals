{
 "cells": [
  {
   "cell_type": "markdown",
   "id": "c060ae5a-f291-4ce3-8d9f-5217fe322ba4",
   "metadata": {},
   "source": [
    "# Practical 2 Pandas\n",
    "## AIM:\n",
    "To study the opeations of pandas in python"
   ]
  },
  {
   "cell_type": "markdown",
   "id": "8bef3af0-bf1c-4d61-964d-d646098108d8",
   "metadata": {},
   "source": [
    "Prathamesh Ingale"
   ]
  },
  {
   "cell_type": "markdown",
   "id": "3b6fc641-440e-485d-967f-38e4c2af08df",
   "metadata": {},
   "source": [
    "Pandas: \n",
    "Pandas is a popular open-source library in Python that is widely used for data manipulation, analysis, and visualization. It provides a powerful set of tools for working with structured data, including data frames and series, which make it easier to analyze and visualize complex datasets. Pandas is built on top of Numpy, another popular library in Python for scientific computing, and it is highly optimized for performance.\n",
    "\n",
    "Pandas offers a comprehensive set of functions for data wrangling, cleaning, and preparation, including missing data handling, reshaping, grouping, and aggregating. It also provides tools for data exploration, such as filtering, sorting, and selecting data based on various criteria.\n",
    "\n",
    "Why we use Pandas?\n",
    "One of the main benefits of Pandas is its ability to handle large datasets efficiently. The library allows for efficient data handling and processing, and its functions are optimized for speed and memory efficiency. Pandas also integrates well with other Python libraries for data analysis and visualization, such as Matplotlib and Seaborn, which makes it a popular choice for data scientists and analysts.\n",
    "\n",
    "Pandas is particularly useful for working with tabular or structured data, such as data stored in CSV, Excel, or SQL databases. The library provides a simple and intuitive interface for loading data from various sources, such as local files or remote databases. Once the data is loaded into a Pandas data frame, it becomes easy to manipulate and analyze using the library's powerful functions.\n",
    "\n",
    "Another advantage of Pandas is its flexibility and extensibility. The library provides many built-in functions for data manipulation and analysis, but it also allows for custom functions to be defined and applied to the data. This makes it easy to create custom data analysis pipelines that fit specific requirements and use cases.\n",
    "\n",
    "Pandas also provides excellent support for time series data analysis, which is essential in many fields, such as finance, economics, and engineering. The library provides specialized functions for time series manipulation, such as resampling, shifting, and rolling windows, which make it easier to analyze and visualize time series data.\n",
    "\n"
   ]
  },
  {
   "cell_type": "code",
   "execution_count": 1,
   "id": "1cef8bea-8587-4142-9894-444347b7a3da",
   "metadata": {
    "tags": []
   },
   "outputs": [],
   "source": [
    "import pandas as prathamesh_pd"
   ]
  },
  {
   "cell_type": "code",
   "execution_count": 2,
   "id": "361fbd76-a86b-4858-a04d-adcc19a97d98",
   "metadata": {
    "tags": []
   },
   "outputs": [
    {
     "name": "stdout",
     "output_type": "stream",
     "text": [
      "0    1\n",
      "1    4\n",
      "2    5\n",
      "dtype: int64\n"
     ]
    }
   ],
   "source": [
    "a = [1,4,5]\n",
    "\n",
    "myvar = prathamesh_pd.Series(a)\n",
    "\n",
    "print(myvar)"
   ]
  },
  {
   "cell_type": "markdown",
   "id": "ebb83796-c338-4dab-9285-a3687e40aadc",
   "metadata": {},
   "source": [
    "## Labels\n",
    "\n",
    "In Pandas, labels are used to give names to rows and columns in a DataFrame, allowing for easier manipulation and analysis of the data. They can be created using the syntax \"df.columns = \\['label1', 'label2', ...\\]\" for column labels and \"df.index = \\['label1', 'label2', ...\\]\" for row labels, where \"df\" is the DataFrame object and \"label1\", \"label2\", etc. are the desired labels."
   ]
  },
  {
   "cell_type": "code",
   "execution_count": 3,
   "id": "f8506fb6-27ff-4d93-9f83-b6ceda7c38ab",
   "metadata": {
    "tags": []
   },
   "outputs": [
    {
     "name": "stdout",
     "output_type": "stream",
     "text": [
      "4\n"
     ]
    }
   ],
   "source": [
    "print(myvar[1])"
   ]
  },
  {
   "cell_type": "markdown",
   "id": "d6522cd5-3f85-4956-ab65-220a67621255",
   "metadata": {
    "tags": []
   },
   "source": [
    "## Creating Labels"
   ]
  },
  {
   "cell_type": "code",
   "execution_count": 4,
   "id": "3640794e-7fac-4e15-947d-56cc95ea4526",
   "metadata": {
    "tags": []
   },
   "outputs": [
    {
     "name": "stdout",
     "output_type": "stream",
     "text": [
      "a    1\n",
      "b    4\n",
      "c    5\n",
      "dtype: int64\n"
     ]
    }
   ],
   "source": [
    "a = [1,4,5]\n",
    "myvar = prathamesh_pd.Series(a,index=[\"a\",\"b\",\"c\"])\n",
    "print(myvar)"
   ]
  },
  {
   "cell_type": "code",
   "execution_count": 5,
   "id": "8ec2f961-4b34-4408-892f-3673279dcc0a",
   "metadata": {
    "tags": []
   },
   "outputs": [
    {
     "name": "stdout",
     "output_type": "stream",
     "text": [
      "1\n"
     ]
    }
   ],
   "source": [
    "print(myvar[\"a\"])"
   ]
  },
  {
   "cell_type": "markdown",
   "id": "9a076441-0bcf-47ec-911c-35175df4089a",
   "metadata": {},
   "source": [
    "## NP Arrays to Series \n",
    "Numpy Arrays as well as python lists and dictionaries can be easily converted into pandas Series format."
   ]
  },
  {
   "cell_type": "code",
   "execution_count": 6,
   "id": "25655c1c-206f-4b6a-9cfe-da1c14cfc5c1",
   "metadata": {
    "tags": []
   },
   "outputs": [],
   "source": [
    "import numpy as np"
   ]
  },
  {
   "cell_type": "code",
   "execution_count": 7,
   "id": "1c0d857a-6372-43be-8bd1-ac8e7ba70bed",
   "metadata": {
    "tags": []
   },
   "outputs": [
    {
     "data": {
      "text/plain": [
       "0    10\n",
       "1    20\n",
       "2    30\n",
       "dtype: int64"
      ]
     },
     "execution_count": 7,
     "metadata": {},
     "output_type": "execute_result"
    }
   ],
   "source": [
    "arr = np.array([10,20,30])\n",
    "prathamesh_pd.Series(arr)"
   ]
  },
  {
   "cell_type": "code",
   "execution_count": 8,
   "id": "9a479b83-4b00-412e-87a8-112e220bc3a7",
   "metadata": {
    "tags": []
   },
   "outputs": [
    {
     "data": {
      "text/plain": [
       "a    10\n",
       "b    20\n",
       "c    30\n",
       "dtype: int64"
      ]
     },
     "execution_count": 8,
     "metadata": {},
     "output_type": "execute_result"
    }
   ],
   "source": [
    "labels = [\"a\",\"b\",\"c\"]\n",
    "prathamesh_pd.Series(arr,labels)"
   ]
  },
  {
   "cell_type": "markdown",
   "id": "ca205459-229d-4c27-a637-964f8637361f",
   "metadata": {},
   "source": [
    "## Dictionary to Series"
   ]
  },
  {
   "cell_type": "code",
   "execution_count": 9,
   "id": "6da04981-657f-4100-b1ed-730359c95676",
   "metadata": {
    "tags": []
   },
   "outputs": [
    {
     "data": {
      "text/plain": [
       "a    10\n",
       "b    20\n",
       "c    30\n",
       "dtype: int64"
      ]
     },
     "execution_count": 9,
     "metadata": {},
     "output_type": "execute_result"
    }
   ],
   "source": [
    "d = {'a':10,'b':20,'c':30}\n",
    "prathamesh_pd.Series(d)"
   ]
  },
  {
   "cell_type": "markdown",
   "id": "d694cce0-828d-46e1-88c8-a6238dd66f72",
   "metadata": {},
   "source": [
    "## Using an index"
   ]
  },
  {
   "cell_type": "code",
   "execution_count": 10,
   "id": "7c9c3de5-29cf-4435-860d-a290ca4186e2",
   "metadata": {
    "tags": []
   },
   "outputs": [],
   "source": [
    "ser1 = prathamesh_pd.Series([1,2,3,4],index=['USA','Germany','USSR','Japan'])"
   ]
  },
  {
   "cell_type": "code",
   "execution_count": 11,
   "id": "108be426-2f46-4bf9-8bbe-ed7cb56ef743",
   "metadata": {
    "tags": []
   },
   "outputs": [
    {
     "data": {
      "text/plain": [
       "USA        1\n",
       "Germany    2\n",
       "USSR       3\n",
       "Japan      4\n",
       "dtype: int64"
      ]
     },
     "execution_count": 11,
     "metadata": {},
     "output_type": "execute_result"
    }
   ],
   "source": [
    "ser1"
   ]
  },
  {
   "cell_type": "code",
   "execution_count": 12,
   "id": "1f1de0fb-e160-47da-88e3-b9dc86584c67",
   "metadata": {
    "tags": []
   },
   "outputs": [],
   "source": [
    "ser2 = prathamesh_pd.Series([1,2,5,4],index= ['USA', 'Germany', 'Italy', 'Japan'])"
   ]
  },
  {
   "cell_type": "code",
   "execution_count": 13,
   "id": "2f532efa-98ea-4a6f-aa6e-b2f9f1bf946b",
   "metadata": {
    "tags": []
   },
   "outputs": [
    {
     "data": {
      "text/plain": [
       "USA        1\n",
       "Germany    2\n",
       "Italy      5\n",
       "Japan      4\n",
       "dtype: int64"
      ]
     },
     "execution_count": 13,
     "metadata": {},
     "output_type": "execute_result"
    }
   ],
   "source": [
    "ser2"
   ]
  },
  {
   "cell_type": "code",
   "execution_count": 14,
   "id": "1d6d287f-95b0-4e8e-b37b-24b077794a55",
   "metadata": {
    "tags": []
   },
   "outputs": [
    {
     "data": {
      "text/plain": [
       "4"
      ]
     },
     "execution_count": 14,
     "metadata": {},
     "output_type": "execute_result"
    }
   ],
   "source": [
    "ser1['Japan']"
   ]
  },
  {
   "cell_type": "code",
   "execution_count": 15,
   "id": "fab062d8-ee84-4a65-bb7c-8af4126606e5",
   "metadata": {
    "tags": []
   },
   "outputs": [
    {
     "data": {
      "text/plain": [
       "Germany    4.0\n",
       "Italy      NaN\n",
       "Japan      8.0\n",
       "USA        2.0\n",
       "USSR       NaN\n",
       "dtype: float64"
      ]
     },
     "execution_count": 15,
     "metadata": {},
     "output_type": "execute_result"
    }
   ],
   "source": [
    "ser1+ser2"
   ]
  },
  {
   "cell_type": "markdown",
   "id": "3023b45c-a837-48e3-8782-13d624195a9a",
   "metadata": {},
   "source": [
    "## DataFrames"
   ]
  },
  {
   "cell_type": "code",
   "execution_count": 16,
   "id": "ed6d1da3-3b06-4eb0-be74-4a4a2c9bc502",
   "metadata": {
    "tags": []
   },
   "outputs": [],
   "source": [
    "data = {\n",
    "    \"Age\":[19,18,22,24,25,26,27,28,29,30],\n",
    "    \"Height\" :[120,140,162,186,172,174,177,187,166,155]\n",
    "}\n",
    "prathamesh_df = prathamesh_pd.DataFrame(data=data)"
   ]
  },
  {
   "cell_type": "code",
   "execution_count": 17,
   "id": "5ed39d5f-3eb8-4649-8d70-fa6941f5ff2a",
   "metadata": {
    "tags": []
   },
   "outputs": [
    {
     "data": {
      "text/html": [
       "<div>\n",
       "<style scoped>\n",
       "    .dataframe tbody tr th:only-of-type {\n",
       "        vertical-align: middle;\n",
       "    }\n",
       "\n",
       "    .dataframe tbody tr th {\n",
       "        vertical-align: top;\n",
       "    }\n",
       "\n",
       "    .dataframe thead th {\n",
       "        text-align: right;\n",
       "    }\n",
       "</style>\n",
       "<table border=\"1\" class=\"dataframe\">\n",
       "  <thead>\n",
       "    <tr style=\"text-align: right;\">\n",
       "      <th></th>\n",
       "      <th>Age</th>\n",
       "      <th>Height</th>\n",
       "    </tr>\n",
       "  </thead>\n",
       "  <tbody>\n",
       "    <tr>\n",
       "      <th>0</th>\n",
       "      <td>19</td>\n",
       "      <td>120</td>\n",
       "    </tr>\n",
       "    <tr>\n",
       "      <th>1</th>\n",
       "      <td>18</td>\n",
       "      <td>140</td>\n",
       "    </tr>\n",
       "    <tr>\n",
       "      <th>2</th>\n",
       "      <td>22</td>\n",
       "      <td>162</td>\n",
       "    </tr>\n",
       "    <tr>\n",
       "      <th>3</th>\n",
       "      <td>24</td>\n",
       "      <td>186</td>\n",
       "    </tr>\n",
       "    <tr>\n",
       "      <th>4</th>\n",
       "      <td>25</td>\n",
       "      <td>172</td>\n",
       "    </tr>\n",
       "    <tr>\n",
       "      <th>5</th>\n",
       "      <td>26</td>\n",
       "      <td>174</td>\n",
       "    </tr>\n",
       "    <tr>\n",
       "      <th>6</th>\n",
       "      <td>27</td>\n",
       "      <td>177</td>\n",
       "    </tr>\n",
       "    <tr>\n",
       "      <th>7</th>\n",
       "      <td>28</td>\n",
       "      <td>187</td>\n",
       "    </tr>\n",
       "    <tr>\n",
       "      <th>8</th>\n",
       "      <td>29</td>\n",
       "      <td>166</td>\n",
       "    </tr>\n",
       "    <tr>\n",
       "      <th>9</th>\n",
       "      <td>30</td>\n",
       "      <td>155</td>\n",
       "    </tr>\n",
       "  </tbody>\n",
       "</table>\n",
       "</div>"
      ],
      "text/plain": [
       "   Age  Height\n",
       "0   19     120\n",
       "1   18     140\n",
       "2   22     162\n",
       "3   24     186\n",
       "4   25     172\n",
       "5   26     174\n",
       "6   27     177\n",
       "7   28     187\n",
       "8   29     166\n",
       "9   30     155"
      ]
     },
     "execution_count": 17,
     "metadata": {},
     "output_type": "execute_result"
    }
   ],
   "source": [
    "prathamesh_df"
   ]
  },
  {
   "cell_type": "code",
   "execution_count": 18,
   "id": "d0785118-dd4e-4397-9549-a887eb3c98ce",
   "metadata": {
    "tags": []
   },
   "outputs": [
    {
     "data": {
      "text/html": [
       "<div>\n",
       "<style scoped>\n",
       "    .dataframe tbody tr th:only-of-type {\n",
       "        vertical-align: middle;\n",
       "    }\n",
       "\n",
       "    .dataframe tbody tr th {\n",
       "        vertical-align: top;\n",
       "    }\n",
       "\n",
       "    .dataframe thead th {\n",
       "        text-align: right;\n",
       "    }\n",
       "</style>\n",
       "<table border=\"1\" class=\"dataframe\">\n",
       "  <thead>\n",
       "    <tr style=\"text-align: right;\">\n",
       "      <th></th>\n",
       "      <th>Age</th>\n",
       "      <th>Height</th>\n",
       "    </tr>\n",
       "  </thead>\n",
       "  <tbody>\n",
       "    <tr>\n",
       "      <th>Age1</th>\n",
       "      <td>19</td>\n",
       "      <td>120</td>\n",
       "    </tr>\n",
       "    <tr>\n",
       "      <th>Age2</th>\n",
       "      <td>18</td>\n",
       "      <td>140</td>\n",
       "    </tr>\n",
       "    <tr>\n",
       "      <th>Age3</th>\n",
       "      <td>22</td>\n",
       "      <td>162</td>\n",
       "    </tr>\n",
       "    <tr>\n",
       "      <th>Age4</th>\n",
       "      <td>24</td>\n",
       "      <td>186</td>\n",
       "    </tr>\n",
       "    <tr>\n",
       "      <th>Age5</th>\n",
       "      <td>25</td>\n",
       "      <td>172</td>\n",
       "    </tr>\n",
       "    <tr>\n",
       "      <th>Age6</th>\n",
       "      <td>26</td>\n",
       "      <td>174</td>\n",
       "    </tr>\n",
       "    <tr>\n",
       "      <th>Age7</th>\n",
       "      <td>27</td>\n",
       "      <td>177</td>\n",
       "    </tr>\n",
       "    <tr>\n",
       "      <th>Age8</th>\n",
       "      <td>28</td>\n",
       "      <td>187</td>\n",
       "    </tr>\n",
       "    <tr>\n",
       "      <th>Age9</th>\n",
       "      <td>29</td>\n",
       "      <td>166</td>\n",
       "    </tr>\n",
       "    <tr>\n",
       "      <th>Age10</th>\n",
       "      <td>30</td>\n",
       "      <td>155</td>\n",
       "    </tr>\n",
       "  </tbody>\n",
       "</table>\n",
       "</div>"
      ],
      "text/plain": [
       "       Age  Height\n",
       "Age1    19     120\n",
       "Age2    18     140\n",
       "Age3    22     162\n",
       "Age4    24     186\n",
       "Age5    25     172\n",
       "Age6    26     174\n",
       "Age7    27     177\n",
       "Age8    28     187\n",
       "Age9    29     166\n",
       "Age10   30     155"
      ]
     },
     "execution_count": 18,
     "metadata": {},
     "output_type": "execute_result"
    }
   ],
   "source": [
    "prathamesh_df = prathamesh_pd.DataFrame(data=data, \n",
    "                             index=[(\"Age\"+str(i)) for i in range(1,len(data[\"Age\"])+1)])\n",
    "prathamesh_df"
   ]
  },
  {
   "cell_type": "code",
   "execution_count": 19,
   "id": "a1efe1c5-3801-46ad-94df-c3008dc9f44f",
   "metadata": {
    "tags": []
   },
   "outputs": [],
   "source": [
    "np.random.seed(101)"
   ]
  },
  {
   "cell_type": "code",
   "execution_count": 20,
   "id": "8ab16ffe-132f-4ba6-b7a2-12621d65b84e",
   "metadata": {
    "tags": []
   },
   "outputs": [],
   "source": [
    "prathamesh_df  = prathamesh_pd.DataFrame(data=np.random.randn(5,4),index='A B C D E'.split(),columns='W X Y Z'.split())"
   ]
  },
  {
   "cell_type": "code",
   "execution_count": 21,
   "id": "7c245367-84ea-4739-a05c-072e5318d3c2",
   "metadata": {
    "tags": []
   },
   "outputs": [
    {
     "data": {
      "text/html": [
       "<div>\n",
       "<style scoped>\n",
       "    .dataframe tbody tr th:only-of-type {\n",
       "        vertical-align: middle;\n",
       "    }\n",
       "\n",
       "    .dataframe tbody tr th {\n",
       "        vertical-align: top;\n",
       "    }\n",
       "\n",
       "    .dataframe thead th {\n",
       "        text-align: right;\n",
       "    }\n",
       "</style>\n",
       "<table border=\"1\" class=\"dataframe\">\n",
       "  <thead>\n",
       "    <tr style=\"text-align: right;\">\n",
       "      <th></th>\n",
       "      <th>W</th>\n",
       "      <th>X</th>\n",
       "      <th>Y</th>\n",
       "      <th>Z</th>\n",
       "    </tr>\n",
       "  </thead>\n",
       "  <tbody>\n",
       "    <tr>\n",
       "      <th>A</th>\n",
       "      <td>2.706850</td>\n",
       "      <td>0.628133</td>\n",
       "      <td>0.907969</td>\n",
       "      <td>0.503826</td>\n",
       "    </tr>\n",
       "    <tr>\n",
       "      <th>B</th>\n",
       "      <td>0.651118</td>\n",
       "      <td>-0.319318</td>\n",
       "      <td>-0.848077</td>\n",
       "      <td>0.605965</td>\n",
       "    </tr>\n",
       "    <tr>\n",
       "      <th>C</th>\n",
       "      <td>-2.018168</td>\n",
       "      <td>0.740122</td>\n",
       "      <td>0.528813</td>\n",
       "      <td>-0.589001</td>\n",
       "    </tr>\n",
       "    <tr>\n",
       "      <th>D</th>\n",
       "      <td>0.188695</td>\n",
       "      <td>-0.758872</td>\n",
       "      <td>-0.933237</td>\n",
       "      <td>0.955057</td>\n",
       "    </tr>\n",
       "    <tr>\n",
       "      <th>E</th>\n",
       "      <td>0.190794</td>\n",
       "      <td>1.978757</td>\n",
       "      <td>2.605967</td>\n",
       "      <td>0.683509</td>\n",
       "    </tr>\n",
       "  </tbody>\n",
       "</table>\n",
       "</div>"
      ],
      "text/plain": [
       "          W         X         Y         Z\n",
       "A  2.706850  0.628133  0.907969  0.503826\n",
       "B  0.651118 -0.319318 -0.848077  0.605965\n",
       "C -2.018168  0.740122  0.528813 -0.589001\n",
       "D  0.188695 -0.758872 -0.933237  0.955057\n",
       "E  0.190794  1.978757  2.605967  0.683509"
      ]
     },
     "execution_count": 21,
     "metadata": {},
     "output_type": "execute_result"
    }
   ],
   "source": [
    "prathamesh_df"
   ]
  },
  {
   "cell_type": "markdown",
   "id": "edd06f05-40f3-4e25-9899-46ec8c089c4d",
   "metadata": {},
   "source": [
    "## Selection of Indexes in pandas\n",
    "\n",
    "In Pandas dataframes, we can use the index operator selection to select rows and columns by specifying their labels or integer positions within square brackets. For example, to select a column with label 'W', we can use df\\['W'\\]. This returns a pandas series object that contains the values of the 'W' column.\n",
    "\n",
    "We can also select multiple columns by passing a list of labels within square brackets. For example, to select columns 'W' and 'X', we can use df\\[\\['W', 'X'\\]\\]. This returns a dataframe that contains only the 'W' and 'X' columns.\n",
    "\n",
    "To select rows based on their integer position, we can use the same index operator selection by passing an integer or a slice object within square brackets. For example, to select the first row, we can use df\\[0:1\\], and to select the first three rows, we can use df\\[0:3\\].\n",
    "\n",
    "It's important to note that when selecting rows using index operator selection with a slice object, the end position is not inclusive. In other words, df\\[0:3\\] selects rows 0, 1, and 2, but not 3.\n",
    "\n",
    "In addition to selecting rows and columns, we can also use index operator selection to set values in a dataframe. For example, to set the value of the 'age' column for the first row to 35, we can use df.loc\\[0, 'age'\\] = 35.\n",
    "\n",
    "loc is a label-based indexer that selects rows and columns based on their labels. It accepts row and column labels as input and returns a new dataframe containing the specified rows and columns. For example, df.loc\\[\\[0, 1\\], \\['name', 'age'\\]\\] returns a new dataframe with rows 0 and 1 and columns 'name' and 'age'. The syntax for loc is df.loc\\[row_selector, column_selector\\], where row_selector and column_selector can be labels, lists of labels, slices, or boolean arrays.\n",
    "\n",
    "iloc is an integer-based indexer that selects rows and columns based on their integer positions. It accepts row and column positions as input and returns a new dataframe containing the specified rows and columns. For example, df.iloc\\[\\[0, 1\\], \\[0, 1\\]\\] returns a new dataframe with the first two rows and columns. The syntax for iloc is similar to loc, but uses integer positions instead of labels: df.iloc\\[row_selector, column_selector\\].\n",
    "\n",
    "One important difference between loc and iloc is their handling of slicing. loc includes both the start and end labels in the slice, while iloc includes the start position but excludes the end position. For example, df.loc\\[0:2, 'name':'age'\\] selects rows with labels 0, 1, and 2, and columns with labels 'name', 'age', and everything in between. However, df.iloc\\[0:2, 0:2\\] selects the first and second rows and columns, but not the third row or column.\n",
    "\n",
    "Another difference between loc and iloc is that iloc does not support boolean arrays as selectors, while loc does. Boolean arrays are a powerful way to select rows or columns based on a condition, and can be very useful for data manipulation.\n",
    "\n",
    "In summary, loc and iloc are two important indexing methods in Pandas that allow us to select rows and columns in a dataframe based on their labels or positions, respectively. The choice between loc and iloc depends on the type of indexing used in the dataframe and the requirements of the specific data manipulation task."
   ]
  },
  {
   "cell_type": "code",
   "execution_count": 22,
   "id": "24cef25e-f54d-45bf-9c9b-235232c1ef2d",
   "metadata": {
    "tags": []
   },
   "outputs": [
    {
     "data": {
      "text/plain": [
       "A    2.706850\n",
       "B    0.651118\n",
       "C   -2.018168\n",
       "D    0.188695\n",
       "E    0.190794\n",
       "Name: W, dtype: float64"
      ]
     },
     "execution_count": 22,
     "metadata": {},
     "output_type": "execute_result"
    }
   ],
   "source": [
    "prathamesh_df['W']"
   ]
  },
  {
   "cell_type": "code",
   "execution_count": 23,
   "id": "58c574ba-3483-473a-a231-6a6f9072c5c9",
   "metadata": {
    "tags": []
   },
   "outputs": [
    {
     "data": {
      "text/plain": [
       "A    2.706850\n",
       "B    0.651118\n",
       "C   -2.018168\n",
       "D    0.188695\n",
       "E    0.190794\n",
       "Name: W, dtype: float64"
      ]
     },
     "execution_count": 23,
     "metadata": {},
     "output_type": "execute_result"
    }
   ],
   "source": [
    "prathamesh_df.W # SQL Syntax, Not Recommended"
   ]
  },
  {
   "cell_type": "code",
   "execution_count": 24,
   "id": "21637a90-2ff3-4645-8661-447d9d6d113e",
   "metadata": {
    "tags": []
   },
   "outputs": [
    {
     "data": {
      "text/plain": [
       "pandas.core.series.Series"
      ]
     },
     "execution_count": 24,
     "metadata": {},
     "output_type": "execute_result"
    }
   ],
   "source": [
    "type(prathamesh_df['W'])"
   ]
  },
  {
   "cell_type": "code",
   "execution_count": 25,
   "id": "3c3d4bac-cd1a-4ce0-9ed5-46aaf7dce8b7",
   "metadata": {
    "tags": []
   },
   "outputs": [],
   "source": [
    "prathamesh_df['new'] = prathamesh_df['W']+prathamesh_df['X']"
   ]
  },
  {
   "cell_type": "markdown",
   "id": "924b6d40-ea99-4ba6-8897-320e08174405",
   "metadata": {},
   "source": [
    "Here We add all values from each row and display the sum in rows."
   ]
  },
  {
   "cell_type": "code",
   "execution_count": 26,
   "id": "3a0607c4-b0eb-404a-a2c8-4100a7eeaea8",
   "metadata": {
    "tags": []
   },
   "outputs": [
    {
     "data": {
      "text/plain": [
       "A    3.334983\n",
       "B    0.331800\n",
       "C   -1.278046\n",
       "D   -0.570177\n",
       "E    2.169552\n",
       "Name: new, dtype: float64"
      ]
     },
     "execution_count": 26,
     "metadata": {},
     "output_type": "execute_result"
    }
   ],
   "source": [
    "prathamesh_df['new']"
   ]
  },
  {
   "cell_type": "code",
   "execution_count": 27,
   "id": "332721db-76d7-4b50-895b-4b135ac3f58b",
   "metadata": {
    "tags": []
   },
   "outputs": [
    {
     "data": {
      "text/html": [
       "<div>\n",
       "<style scoped>\n",
       "    .dataframe tbody tr th:only-of-type {\n",
       "        vertical-align: middle;\n",
       "    }\n",
       "\n",
       "    .dataframe tbody tr th {\n",
       "        vertical-align: top;\n",
       "    }\n",
       "\n",
       "    .dataframe thead th {\n",
       "        text-align: right;\n",
       "    }\n",
       "</style>\n",
       "<table border=\"1\" class=\"dataframe\">\n",
       "  <thead>\n",
       "    <tr style=\"text-align: right;\">\n",
       "      <th></th>\n",
       "      <th>W</th>\n",
       "      <th>X</th>\n",
       "      <th>Y</th>\n",
       "      <th>Z</th>\n",
       "      <th>new</th>\n",
       "    </tr>\n",
       "  </thead>\n",
       "  <tbody>\n",
       "    <tr>\n",
       "      <th>A</th>\n",
       "      <td>2.706850</td>\n",
       "      <td>0.628133</td>\n",
       "      <td>0.907969</td>\n",
       "      <td>0.503826</td>\n",
       "      <td>3.334983</td>\n",
       "    </tr>\n",
       "    <tr>\n",
       "      <th>B</th>\n",
       "      <td>0.651118</td>\n",
       "      <td>-0.319318</td>\n",
       "      <td>-0.848077</td>\n",
       "      <td>0.605965</td>\n",
       "      <td>0.331800</td>\n",
       "    </tr>\n",
       "    <tr>\n",
       "      <th>C</th>\n",
       "      <td>-2.018168</td>\n",
       "      <td>0.740122</td>\n",
       "      <td>0.528813</td>\n",
       "      <td>-0.589001</td>\n",
       "      <td>-1.278046</td>\n",
       "    </tr>\n",
       "    <tr>\n",
       "      <th>D</th>\n",
       "      <td>0.188695</td>\n",
       "      <td>-0.758872</td>\n",
       "      <td>-0.933237</td>\n",
       "      <td>0.955057</td>\n",
       "      <td>-0.570177</td>\n",
       "    </tr>\n",
       "    <tr>\n",
       "      <th>E</th>\n",
       "      <td>0.190794</td>\n",
       "      <td>1.978757</td>\n",
       "      <td>2.605967</td>\n",
       "      <td>0.683509</td>\n",
       "      <td>2.169552</td>\n",
       "    </tr>\n",
       "  </tbody>\n",
       "</table>\n",
       "</div>"
      ],
      "text/plain": [
       "          W         X         Y         Z       new\n",
       "A  2.706850  0.628133  0.907969  0.503826  3.334983\n",
       "B  0.651118 -0.319318 -0.848077  0.605965  0.331800\n",
       "C -2.018168  0.740122  0.528813 -0.589001 -1.278046\n",
       "D  0.188695 -0.758872 -0.933237  0.955057 -0.570177\n",
       "E  0.190794  1.978757  2.605967  0.683509  2.169552"
      ]
     },
     "execution_count": 27,
     "metadata": {},
     "output_type": "execute_result"
    }
   ],
   "source": [
    "prathamesh_df"
   ]
  },
  {
   "cell_type": "markdown",
   "id": "0a44e3f3-8c7b-419f-8e6d-b345fbd95299",
   "metadata": {},
   "source": [
    "## Drop\n",
    "In Pandas, the drop() method is used to remove rows or columns from a dataframe. The drop() method takes two important parameters - axis and inplace.\n",
    "\n",
    "The axis parameter specifies whether to drop rows or columns. The value of axis can be set to 0 or 'index' to drop rows, and 1 or 'columns' to drop columns. For example, to drop the 'age' column from a dataframe df, we can use df.drop('age', axis=1).\n",
    "\n",
    "The inplace parameter is an optional parameter that modifies the dataframe directly instead of returning a new dataframe. If inplace is set to True, the original dataframe is modified and no copy is returned. If inplace is set to False (default value), a new dataframe with the specified rows or columns removed is returned. For example, to drop the 'age' column from a dataframe df and modify it in place, we can use df.drop('age', axis=1, inplace=True).\n",
    "\n",
    "When dropping rows or columns using drop(), the original dataframe is not modified by default. Instead, a new dataframe with the specified rows or columns removed is returned. For example, to drop the first row of a dataframe df, we can use df.drop(0).\n",
    "\n",
    "It's important to note that when dropping rows or columns using drop(), a new dataframe is returned by default, even if the inplace parameter is not set to True. To modify the original dataframe, we need to set inplace=True."
   ]
  },
  {
   "cell_type": "code",
   "execution_count": 28,
   "id": "35dc8585-9ce6-4e75-96f1-167e881f1aca",
   "metadata": {
    "tags": []
   },
   "outputs": [
    {
     "data": {
      "text/html": [
       "<div>\n",
       "<style scoped>\n",
       "    .dataframe tbody tr th:only-of-type {\n",
       "        vertical-align: middle;\n",
       "    }\n",
       "\n",
       "    .dataframe tbody tr th {\n",
       "        vertical-align: top;\n",
       "    }\n",
       "\n",
       "    .dataframe thead th {\n",
       "        text-align: right;\n",
       "    }\n",
       "</style>\n",
       "<table border=\"1\" class=\"dataframe\">\n",
       "  <thead>\n",
       "    <tr style=\"text-align: right;\">\n",
       "      <th></th>\n",
       "      <th>W</th>\n",
       "      <th>X</th>\n",
       "      <th>Y</th>\n",
       "      <th>Z</th>\n",
       "    </tr>\n",
       "  </thead>\n",
       "  <tbody>\n",
       "    <tr>\n",
       "      <th>A</th>\n",
       "      <td>2.706850</td>\n",
       "      <td>0.628133</td>\n",
       "      <td>0.907969</td>\n",
       "      <td>0.503826</td>\n",
       "    </tr>\n",
       "    <tr>\n",
       "      <th>B</th>\n",
       "      <td>0.651118</td>\n",
       "      <td>-0.319318</td>\n",
       "      <td>-0.848077</td>\n",
       "      <td>0.605965</td>\n",
       "    </tr>\n",
       "    <tr>\n",
       "      <th>C</th>\n",
       "      <td>-2.018168</td>\n",
       "      <td>0.740122</td>\n",
       "      <td>0.528813</td>\n",
       "      <td>-0.589001</td>\n",
       "    </tr>\n",
       "    <tr>\n",
       "      <th>D</th>\n",
       "      <td>0.188695</td>\n",
       "      <td>-0.758872</td>\n",
       "      <td>-0.933237</td>\n",
       "      <td>0.955057</td>\n",
       "    </tr>\n",
       "    <tr>\n",
       "      <th>E</th>\n",
       "      <td>0.190794</td>\n",
       "      <td>1.978757</td>\n",
       "      <td>2.605967</td>\n",
       "      <td>0.683509</td>\n",
       "    </tr>\n",
       "  </tbody>\n",
       "</table>\n",
       "</div>"
      ],
      "text/plain": [
       "          W         X         Y         Z\n",
       "A  2.706850  0.628133  0.907969  0.503826\n",
       "B  0.651118 -0.319318 -0.848077  0.605965\n",
       "C -2.018168  0.740122  0.528813 -0.589001\n",
       "D  0.188695 -0.758872 -0.933237  0.955057\n",
       "E  0.190794  1.978757  2.605967  0.683509"
      ]
     },
     "execution_count": 28,
     "metadata": {},
     "output_type": "execute_result"
    }
   ],
   "source": [
    "prathamesh_df.drop('new',axis=1)"
   ]
  },
  {
   "cell_type": "markdown",
   "id": "549f7044-9c3d-4058-8aab-71d97f331dc6",
   "metadata": {},
   "source": [
    "Drop used to remove a column with the given name. Throws exception if not found. "
   ]
  },
  {
   "cell_type": "code",
   "execution_count": 29,
   "id": "36fefa69-14d4-4a84-aef6-071fd2f55774",
   "metadata": {
    "tags": []
   },
   "outputs": [
    {
     "data": {
      "text/html": [
       "<div>\n",
       "<style scoped>\n",
       "    .dataframe tbody tr th:only-of-type {\n",
       "        vertical-align: middle;\n",
       "    }\n",
       "\n",
       "    .dataframe tbody tr th {\n",
       "        vertical-align: top;\n",
       "    }\n",
       "\n",
       "    .dataframe thead th {\n",
       "        text-align: right;\n",
       "    }\n",
       "</style>\n",
       "<table border=\"1\" class=\"dataframe\">\n",
       "  <thead>\n",
       "    <tr style=\"text-align: right;\">\n",
       "      <th></th>\n",
       "      <th>W</th>\n",
       "      <th>X</th>\n",
       "      <th>Y</th>\n",
       "      <th>Z</th>\n",
       "      <th>new</th>\n",
       "    </tr>\n",
       "  </thead>\n",
       "  <tbody>\n",
       "    <tr>\n",
       "      <th>A</th>\n",
       "      <td>2.706850</td>\n",
       "      <td>0.628133</td>\n",
       "      <td>0.907969</td>\n",
       "      <td>0.503826</td>\n",
       "      <td>3.334983</td>\n",
       "    </tr>\n",
       "    <tr>\n",
       "      <th>B</th>\n",
       "      <td>0.651118</td>\n",
       "      <td>-0.319318</td>\n",
       "      <td>-0.848077</td>\n",
       "      <td>0.605965</td>\n",
       "      <td>0.331800</td>\n",
       "    </tr>\n",
       "    <tr>\n",
       "      <th>C</th>\n",
       "      <td>-2.018168</td>\n",
       "      <td>0.740122</td>\n",
       "      <td>0.528813</td>\n",
       "      <td>-0.589001</td>\n",
       "      <td>-1.278046</td>\n",
       "    </tr>\n",
       "    <tr>\n",
       "      <th>D</th>\n",
       "      <td>0.188695</td>\n",
       "      <td>-0.758872</td>\n",
       "      <td>-0.933237</td>\n",
       "      <td>0.955057</td>\n",
       "      <td>-0.570177</td>\n",
       "    </tr>\n",
       "    <tr>\n",
       "      <th>E</th>\n",
       "      <td>0.190794</td>\n",
       "      <td>1.978757</td>\n",
       "      <td>2.605967</td>\n",
       "      <td>0.683509</td>\n",
       "      <td>2.169552</td>\n",
       "    </tr>\n",
       "  </tbody>\n",
       "</table>\n",
       "</div>"
      ],
      "text/plain": [
       "          W         X         Y         Z       new\n",
       "A  2.706850  0.628133  0.907969  0.503826  3.334983\n",
       "B  0.651118 -0.319318 -0.848077  0.605965  0.331800\n",
       "C -2.018168  0.740122  0.528813 -0.589001 -1.278046\n",
       "D  0.188695 -0.758872 -0.933237  0.955057 -0.570177\n",
       "E  0.190794  1.978757  2.605967  0.683509  2.169552"
      ]
     },
     "execution_count": 29,
     "metadata": {},
     "output_type": "execute_result"
    }
   ],
   "source": [
    "prathamesh_df # Does not drop as it is not inplace."
   ]
  },
  {
   "cell_type": "code",
   "execution_count": 30,
   "id": "199ad27d-dbfa-46b7-a5a6-1f5f46c53893",
   "metadata": {
    "tags": []
   },
   "outputs": [],
   "source": [
    "prathamesh_df.drop('new',axis=1, inplace=True)"
   ]
  },
  {
   "cell_type": "code",
   "execution_count": 31,
   "id": "c0405b4b-94f7-4e75-a465-3b19e8524563",
   "metadata": {
    "tags": []
   },
   "outputs": [
    {
     "data": {
      "text/html": [
       "<div>\n",
       "<style scoped>\n",
       "    .dataframe tbody tr th:only-of-type {\n",
       "        vertical-align: middle;\n",
       "    }\n",
       "\n",
       "    .dataframe tbody tr th {\n",
       "        vertical-align: top;\n",
       "    }\n",
       "\n",
       "    .dataframe thead th {\n",
       "        text-align: right;\n",
       "    }\n",
       "</style>\n",
       "<table border=\"1\" class=\"dataframe\">\n",
       "  <thead>\n",
       "    <tr style=\"text-align: right;\">\n",
       "      <th></th>\n",
       "      <th>W</th>\n",
       "      <th>X</th>\n",
       "      <th>Y</th>\n",
       "      <th>Z</th>\n",
       "    </tr>\n",
       "  </thead>\n",
       "  <tbody>\n",
       "    <tr>\n",
       "      <th>A</th>\n",
       "      <td>2.706850</td>\n",
       "      <td>0.628133</td>\n",
       "      <td>0.907969</td>\n",
       "      <td>0.503826</td>\n",
       "    </tr>\n",
       "    <tr>\n",
       "      <th>B</th>\n",
       "      <td>0.651118</td>\n",
       "      <td>-0.319318</td>\n",
       "      <td>-0.848077</td>\n",
       "      <td>0.605965</td>\n",
       "    </tr>\n",
       "    <tr>\n",
       "      <th>C</th>\n",
       "      <td>-2.018168</td>\n",
       "      <td>0.740122</td>\n",
       "      <td>0.528813</td>\n",
       "      <td>-0.589001</td>\n",
       "    </tr>\n",
       "    <tr>\n",
       "      <th>D</th>\n",
       "      <td>0.188695</td>\n",
       "      <td>-0.758872</td>\n",
       "      <td>-0.933237</td>\n",
       "      <td>0.955057</td>\n",
       "    </tr>\n",
       "    <tr>\n",
       "      <th>E</th>\n",
       "      <td>0.190794</td>\n",
       "      <td>1.978757</td>\n",
       "      <td>2.605967</td>\n",
       "      <td>0.683509</td>\n",
       "    </tr>\n",
       "  </tbody>\n",
       "</table>\n",
       "</div>"
      ],
      "text/plain": [
       "          W         X         Y         Z\n",
       "A  2.706850  0.628133  0.907969  0.503826\n",
       "B  0.651118 -0.319318 -0.848077  0.605965\n",
       "C -2.018168  0.740122  0.528813 -0.589001\n",
       "D  0.188695 -0.758872 -0.933237  0.955057\n",
       "E  0.190794  1.978757  2.605967  0.683509"
      ]
     },
     "execution_count": 31,
     "metadata": {},
     "output_type": "execute_result"
    }
   ],
   "source": [
    "prathamesh_df"
   ]
  },
  {
   "cell_type": "code",
   "execution_count": 32,
   "id": "f5b27c21-ea07-48f0-8cd5-e38c50685707",
   "metadata": {
    "tags": []
   },
   "outputs": [
    {
     "data": {
      "text/html": [
       "<div>\n",
       "<style scoped>\n",
       "    .dataframe tbody tr th:only-of-type {\n",
       "        vertical-align: middle;\n",
       "    }\n",
       "\n",
       "    .dataframe tbody tr th {\n",
       "        vertical-align: top;\n",
       "    }\n",
       "\n",
       "    .dataframe thead th {\n",
       "        text-align: right;\n",
       "    }\n",
       "</style>\n",
       "<table border=\"1\" class=\"dataframe\">\n",
       "  <thead>\n",
       "    <tr style=\"text-align: right;\">\n",
       "      <th></th>\n",
       "      <th>W</th>\n",
       "      <th>X</th>\n",
       "      <th>Y</th>\n",
       "      <th>Z</th>\n",
       "    </tr>\n",
       "  </thead>\n",
       "  <tbody>\n",
       "    <tr>\n",
       "      <th>A</th>\n",
       "      <td>2.706850</td>\n",
       "      <td>0.628133</td>\n",
       "      <td>0.907969</td>\n",
       "      <td>0.503826</td>\n",
       "    </tr>\n",
       "    <tr>\n",
       "      <th>B</th>\n",
       "      <td>0.651118</td>\n",
       "      <td>-0.319318</td>\n",
       "      <td>-0.848077</td>\n",
       "      <td>0.605965</td>\n",
       "    </tr>\n",
       "    <tr>\n",
       "      <th>C</th>\n",
       "      <td>-2.018168</td>\n",
       "      <td>0.740122</td>\n",
       "      <td>0.528813</td>\n",
       "      <td>-0.589001</td>\n",
       "    </tr>\n",
       "    <tr>\n",
       "      <th>D</th>\n",
       "      <td>0.188695</td>\n",
       "      <td>-0.758872</td>\n",
       "      <td>-0.933237</td>\n",
       "      <td>0.955057</td>\n",
       "    </tr>\n",
       "  </tbody>\n",
       "</table>\n",
       "</div>"
      ],
      "text/plain": [
       "          W         X         Y         Z\n",
       "A  2.706850  0.628133  0.907969  0.503826\n",
       "B  0.651118 -0.319318 -0.848077  0.605965\n",
       "C -2.018168  0.740122  0.528813 -0.589001\n",
       "D  0.188695 -0.758872 -0.933237  0.955057"
      ]
     },
     "execution_count": 32,
     "metadata": {},
     "output_type": "execute_result"
    }
   ],
   "source": [
    "prathamesh_df.drop('E',axis=0)"
   ]
  },
  {
   "cell_type": "code",
   "execution_count": 33,
   "id": "837a8ad6-232f-4844-bccf-e03e61513ee0",
   "metadata": {
    "tags": []
   },
   "outputs": [
    {
     "data": {
      "text/html": [
       "<div>\n",
       "<style scoped>\n",
       "    .dataframe tbody tr th:only-of-type {\n",
       "        vertical-align: middle;\n",
       "    }\n",
       "\n",
       "    .dataframe tbody tr th {\n",
       "        vertical-align: top;\n",
       "    }\n",
       "\n",
       "    .dataframe thead th {\n",
       "        text-align: right;\n",
       "    }\n",
       "</style>\n",
       "<table border=\"1\" class=\"dataframe\">\n",
       "  <thead>\n",
       "    <tr style=\"text-align: right;\">\n",
       "      <th></th>\n",
       "      <th>W</th>\n",
       "      <th>X</th>\n",
       "      <th>Y</th>\n",
       "      <th>Z</th>\n",
       "    </tr>\n",
       "  </thead>\n",
       "  <tbody>\n",
       "    <tr>\n",
       "      <th>A</th>\n",
       "      <td>2.706850</td>\n",
       "      <td>0.628133</td>\n",
       "      <td>0.907969</td>\n",
       "      <td>0.503826</td>\n",
       "    </tr>\n",
       "    <tr>\n",
       "      <th>B</th>\n",
       "      <td>0.651118</td>\n",
       "      <td>-0.319318</td>\n",
       "      <td>-0.848077</td>\n",
       "      <td>0.605965</td>\n",
       "    </tr>\n",
       "    <tr>\n",
       "      <th>C</th>\n",
       "      <td>-2.018168</td>\n",
       "      <td>0.740122</td>\n",
       "      <td>0.528813</td>\n",
       "      <td>-0.589001</td>\n",
       "    </tr>\n",
       "    <tr>\n",
       "      <th>D</th>\n",
       "      <td>0.188695</td>\n",
       "      <td>-0.758872</td>\n",
       "      <td>-0.933237</td>\n",
       "      <td>0.955057</td>\n",
       "    </tr>\n",
       "    <tr>\n",
       "      <th>E</th>\n",
       "      <td>0.190794</td>\n",
       "      <td>1.978757</td>\n",
       "      <td>2.605967</td>\n",
       "      <td>0.683509</td>\n",
       "    </tr>\n",
       "  </tbody>\n",
       "</table>\n",
       "</div>"
      ],
      "text/plain": [
       "          W         X         Y         Z\n",
       "A  2.706850  0.628133  0.907969  0.503826\n",
       "B  0.651118 -0.319318 -0.848077  0.605965\n",
       "C -2.018168  0.740122  0.528813 -0.589001\n",
       "D  0.188695 -0.758872 -0.933237  0.955057\n",
       "E  0.190794  1.978757  2.605967  0.683509"
      ]
     },
     "execution_count": 33,
     "metadata": {},
     "output_type": "execute_result"
    }
   ],
   "source": [
    "prathamesh_df"
   ]
  },
  {
   "cell_type": "code",
   "execution_count": 34,
   "id": "add6ebab-bdd1-4a68-9c02-c91a020ea3f5",
   "metadata": {
    "tags": []
   },
   "outputs": [
    {
     "data": {
      "text/plain": [
       "W    2.706850\n",
       "X    0.628133\n",
       "Y    0.907969\n",
       "Z    0.503826\n",
       "Name: A, dtype: float64"
      ]
     },
     "execution_count": 34,
     "metadata": {},
     "output_type": "execute_result"
    }
   ],
   "source": [
    "prathamesh_df.loc['A']"
   ]
  },
  {
   "cell_type": "code",
   "execution_count": 35,
   "id": "4bfba942-5a7c-437d-a429-b5e988f6be41",
   "metadata": {},
   "outputs": [
    {
     "data": {
      "text/html": [
       "<div>\n",
       "<style scoped>\n",
       "    .dataframe tbody tr th:only-of-type {\n",
       "        vertical-align: middle;\n",
       "    }\n",
       "\n",
       "    .dataframe tbody tr th {\n",
       "        vertical-align: top;\n",
       "    }\n",
       "\n",
       "    .dataframe thead th {\n",
       "        text-align: right;\n",
       "    }\n",
       "</style>\n",
       "<table border=\"1\" class=\"dataframe\">\n",
       "  <thead>\n",
       "    <tr style=\"text-align: right;\">\n",
       "      <th></th>\n",
       "      <th>W</th>\n",
       "      <th>X</th>\n",
       "      <th>Y</th>\n",
       "      <th>Z</th>\n",
       "    </tr>\n",
       "  </thead>\n",
       "  <tbody>\n",
       "    <tr>\n",
       "      <th>A</th>\n",
       "      <td>2.70685</td>\n",
       "      <td>0.628133</td>\n",
       "      <td>0.907969</td>\n",
       "      <td>0.503826</td>\n",
       "    </tr>\n",
       "  </tbody>\n",
       "</table>\n",
       "</div>"
      ],
      "text/plain": [
       "         W         X         Y         Z\n",
       "A  2.70685  0.628133  0.907969  0.503826"
      ]
     },
     "execution_count": 35,
     "metadata": {},
     "output_type": "execute_result"
    }
   ],
   "source": [
    "prathamesh_df.loc[['A']]"
   ]
  },
  {
   "cell_type": "code",
   "execution_count": 36,
   "id": "c06617ce-7c79-4708-b641-bfc53ca3349e",
   "metadata": {
    "tags": []
   },
   "outputs": [
    {
     "data": {
      "text/plain": [
       "A    2.706850\n",
       "B    0.651118\n",
       "C   -2.018168\n",
       "D    0.188695\n",
       "E    0.190794\n",
       "Name: W, dtype: float64"
      ]
     },
     "execution_count": 36,
     "metadata": {},
     "output_type": "execute_result"
    }
   ],
   "source": [
    "prathamesh_df.loc[:,'W']"
   ]
  },
  {
   "cell_type": "code",
   "execution_count": 37,
   "id": "d6eaa5e8-d5e0-402b-a6d6-54b1a8f367e0",
   "metadata": {
    "tags": []
   },
   "outputs": [
    {
     "data": {
      "text/plain": [
       "A    2.706850\n",
       "B    0.651118\n",
       "C   -2.018168\n",
       "D    0.188695\n",
       "E    0.190794\n",
       "Name: W, dtype: float64"
      ]
     },
     "execution_count": 37,
     "metadata": {},
     "output_type": "execute_result"
    }
   ],
   "source": [
    "prathamesh_df.loc[:,'W']"
   ]
  },
  {
   "cell_type": "code",
   "execution_count": 38,
   "id": "be16af6b-a30b-415d-8012-6c82fe2100e6",
   "metadata": {
    "tags": []
   },
   "outputs": [
    {
     "data": {
      "text/plain": [
       "A    2.706850\n",
       "B    0.651118\n",
       "C   -2.018168\n",
       "Name: W, dtype: float64"
      ]
     },
     "execution_count": 38,
     "metadata": {},
     "output_type": "execute_result"
    }
   ],
   "source": [
    "prathamesh_df.loc['A':'C','W']"
   ]
  },
  {
   "cell_type": "code",
   "execution_count": 39,
   "id": "64b0c761-a713-4e20-8c4f-26f1a8a51cce",
   "metadata": {
    "tags": []
   },
   "outputs": [
    {
     "data": {
      "text/plain": [
       "-0.8480769834036315"
      ]
     },
     "execution_count": 39,
     "metadata": {},
     "output_type": "execute_result"
    }
   ],
   "source": [
    "prathamesh_df.loc['B','Y']"
   ]
  },
  {
   "cell_type": "code",
   "execution_count": 40,
   "id": "949a2fcb-7ee4-427b-bc09-6f87f68fcdcd",
   "metadata": {
    "tags": []
   },
   "outputs": [
    {
     "data": {
      "text/html": [
       "<div>\n",
       "<style scoped>\n",
       "    .dataframe tbody tr th:only-of-type {\n",
       "        vertical-align: middle;\n",
       "    }\n",
       "\n",
       "    .dataframe tbody tr th {\n",
       "        vertical-align: top;\n",
       "    }\n",
       "\n",
       "    .dataframe thead th {\n",
       "        text-align: right;\n",
       "    }\n",
       "</style>\n",
       "<table border=\"1\" class=\"dataframe\">\n",
       "  <thead>\n",
       "    <tr style=\"text-align: right;\">\n",
       "      <th></th>\n",
       "      <th>X</th>\n",
       "      <th>Y</th>\n",
       "    </tr>\n",
       "  </thead>\n",
       "  <tbody>\n",
       "    <tr>\n",
       "      <th>A</th>\n",
       "      <td>0.628133</td>\n",
       "      <td>0.907969</td>\n",
       "    </tr>\n",
       "    <tr>\n",
       "      <th>B</th>\n",
       "      <td>-0.319318</td>\n",
       "      <td>-0.848077</td>\n",
       "    </tr>\n",
       "  </tbody>\n",
       "</table>\n",
       "</div>"
      ],
      "text/plain": [
       "          X         Y\n",
       "A  0.628133  0.907969\n",
       "B -0.319318 -0.848077"
      ]
     },
     "execution_count": 40,
     "metadata": {},
     "output_type": "execute_result"
    }
   ],
   "source": [
    "prathamesh_df.loc[['A','B'],['X','Y']]"
   ]
  },
  {
   "cell_type": "code",
   "execution_count": 41,
   "id": "fc015e32-ef07-4649-8e40-f73d30e032da",
   "metadata": {
    "tags": []
   },
   "outputs": [
    {
     "data": {
      "text/plain": [
       "B    0.605965\n",
       "C   -0.589001\n",
       "Name: Z, dtype: float64"
      ]
     },
     "execution_count": 41,
     "metadata": {},
     "output_type": "execute_result"
    }
   ],
   "source": [
    "prathamesh_df.iloc[1:3,3]"
   ]
  },
  {
   "cell_type": "code",
   "execution_count": 42,
   "id": "66fda432-bcab-41cc-b25e-f95748a230d2",
   "metadata": {
    "tags": []
   },
   "outputs": [
    {
     "data": {
      "text/plain": [
       "W   -2.018168\n",
       "X    0.740122\n",
       "Y    0.528813\n",
       "Z   -0.589001\n",
       "Name: C, dtype: float64"
      ]
     },
     "execution_count": 42,
     "metadata": {},
     "output_type": "execute_result"
    }
   ],
   "source": [
    "prathamesh_df.iloc[2]"
   ]
  },
  {
   "cell_type": "code",
   "execution_count": 43,
   "id": "56489f84-df1c-40db-851b-30a8f35ae1ed",
   "metadata": {
    "tags": []
   },
   "outputs": [
    {
     "data": {
      "text/plain": [
       "A    0.907969\n",
       "B   -0.848077\n",
       "C    0.528813\n",
       "D   -0.933237\n",
       "E    2.605967\n",
       "Name: Y, dtype: float64"
      ]
     },
     "execution_count": 43,
     "metadata": {},
     "output_type": "execute_result"
    }
   ],
   "source": [
    "prathamesh_df.iloc[:,2]"
   ]
  },
  {
   "cell_type": "markdown",
   "id": "901621dd-21b4-4338-b838-1b444921a9bc",
   "metadata": {},
   "source": [
    "## Conditional Selection\n",
    "Conditional selection, also known as Boolean indexing, is a powerful feature in Python that allows us to select rows from a dataset based on certain conditions. In Pandas, we can use conditional selection to filter rows from a DataFrame based on a condition that evaluates to True or False. We can use logical operators such as & (and), | (or), and ~ (not) to create complex conditions. We can also use comparison operators such as <, >, ==, and != to compare values. Conditional selection allows us to extract specific subsets of data from a larger dataset for further analysis or processing."
   ]
  },
  {
   "cell_type": "code",
   "execution_count": 44,
   "id": "070cdbb4-42e4-4995-b4dc-d7941d8eb0f8",
   "metadata": {
    "tags": []
   },
   "outputs": [
    {
     "data": {
      "text/html": [
       "<div>\n",
       "<style scoped>\n",
       "    .dataframe tbody tr th:only-of-type {\n",
       "        vertical-align: middle;\n",
       "    }\n",
       "\n",
       "    .dataframe tbody tr th {\n",
       "        vertical-align: top;\n",
       "    }\n",
       "\n",
       "    .dataframe thead th {\n",
       "        text-align: right;\n",
       "    }\n",
       "</style>\n",
       "<table border=\"1\" class=\"dataframe\">\n",
       "  <thead>\n",
       "    <tr style=\"text-align: right;\">\n",
       "      <th></th>\n",
       "      <th>W</th>\n",
       "      <th>X</th>\n",
       "      <th>Y</th>\n",
       "      <th>Z</th>\n",
       "    </tr>\n",
       "  </thead>\n",
       "  <tbody>\n",
       "    <tr>\n",
       "      <th>A</th>\n",
       "      <td>True</td>\n",
       "      <td>True</td>\n",
       "      <td>True</td>\n",
       "      <td>True</td>\n",
       "    </tr>\n",
       "    <tr>\n",
       "      <th>B</th>\n",
       "      <td>True</td>\n",
       "      <td>False</td>\n",
       "      <td>False</td>\n",
       "      <td>True</td>\n",
       "    </tr>\n",
       "    <tr>\n",
       "      <th>C</th>\n",
       "      <td>False</td>\n",
       "      <td>True</td>\n",
       "      <td>True</td>\n",
       "      <td>False</td>\n",
       "    </tr>\n",
       "    <tr>\n",
       "      <th>D</th>\n",
       "      <td>True</td>\n",
       "      <td>False</td>\n",
       "      <td>False</td>\n",
       "      <td>True</td>\n",
       "    </tr>\n",
       "    <tr>\n",
       "      <th>E</th>\n",
       "      <td>True</td>\n",
       "      <td>True</td>\n",
       "      <td>True</td>\n",
       "      <td>True</td>\n",
       "    </tr>\n",
       "  </tbody>\n",
       "</table>\n",
       "</div>"
      ],
      "text/plain": [
       "       W      X      Y      Z\n",
       "A   True   True   True   True\n",
       "B   True  False  False   True\n",
       "C  False   True   True  False\n",
       "D   True  False  False   True\n",
       "E   True   True   True   True"
      ]
     },
     "execution_count": 44,
     "metadata": {},
     "output_type": "execute_result"
    }
   ],
   "source": [
    "prathamesh_df>0"
   ]
  },
  {
   "cell_type": "code",
   "execution_count": 45,
   "id": "237aace5-3e12-47d4-af26-1b5ea40e8d61",
   "metadata": {
    "tags": []
   },
   "outputs": [
    {
     "data": {
      "text/html": [
       "<div>\n",
       "<style scoped>\n",
       "    .dataframe tbody tr th:only-of-type {\n",
       "        vertical-align: middle;\n",
       "    }\n",
       "\n",
       "    .dataframe tbody tr th {\n",
       "        vertical-align: top;\n",
       "    }\n",
       "\n",
       "    .dataframe thead th {\n",
       "        text-align: right;\n",
       "    }\n",
       "</style>\n",
       "<table border=\"1\" class=\"dataframe\">\n",
       "  <thead>\n",
       "    <tr style=\"text-align: right;\">\n",
       "      <th></th>\n",
       "      <th>W</th>\n",
       "      <th>X</th>\n",
       "      <th>Y</th>\n",
       "      <th>Z</th>\n",
       "    </tr>\n",
       "  </thead>\n",
       "  <tbody>\n",
       "    <tr>\n",
       "      <th>A</th>\n",
       "      <td>True</td>\n",
       "      <td>True</td>\n",
       "      <td>True</td>\n",
       "      <td>True</td>\n",
       "    </tr>\n",
       "    <tr>\n",
       "      <th>B</th>\n",
       "      <td>True</td>\n",
       "      <td>False</td>\n",
       "      <td>False</td>\n",
       "      <td>True</td>\n",
       "    </tr>\n",
       "    <tr>\n",
       "      <th>C</th>\n",
       "      <td>False</td>\n",
       "      <td>True</td>\n",
       "      <td>True</td>\n",
       "      <td>False</td>\n",
       "    </tr>\n",
       "    <tr>\n",
       "      <th>D</th>\n",
       "      <td>True</td>\n",
       "      <td>False</td>\n",
       "      <td>False</td>\n",
       "      <td>True</td>\n",
       "    </tr>\n",
       "    <tr>\n",
       "      <th>E</th>\n",
       "      <td>True</td>\n",
       "      <td>True</td>\n",
       "      <td>True</td>\n",
       "      <td>True</td>\n",
       "    </tr>\n",
       "  </tbody>\n",
       "</table>\n",
       "</div>"
      ],
      "text/plain": [
       "       W      X      Y      Z\n",
       "A   True   True   True   True\n",
       "B   True  False  False   True\n",
       "C  False   True   True  False\n",
       "D   True  False  False   True\n",
       "E   True   True   True   True"
      ]
     },
     "execution_count": 45,
     "metadata": {},
     "output_type": "execute_result"
    }
   ],
   "source": [
    "prathamesh_df>0"
   ]
  },
  {
   "cell_type": "code",
   "execution_count": 46,
   "id": "9b5affd4-1384-4fba-a5a5-64f2342cfd93",
   "metadata": {
    "tags": []
   },
   "outputs": [
    {
     "data": {
      "text/html": [
       "<div>\n",
       "<style scoped>\n",
       "    .dataframe tbody tr th:only-of-type {\n",
       "        vertical-align: middle;\n",
       "    }\n",
       "\n",
       "    .dataframe tbody tr th {\n",
       "        vertical-align: top;\n",
       "    }\n",
       "\n",
       "    .dataframe thead th {\n",
       "        text-align: right;\n",
       "    }\n",
       "</style>\n",
       "<table border=\"1\" class=\"dataframe\">\n",
       "  <thead>\n",
       "    <tr style=\"text-align: right;\">\n",
       "      <th></th>\n",
       "      <th>W</th>\n",
       "      <th>X</th>\n",
       "      <th>Y</th>\n",
       "      <th>Z</th>\n",
       "    </tr>\n",
       "  </thead>\n",
       "  <tbody>\n",
       "    <tr>\n",
       "      <th>A</th>\n",
       "      <td>2.706850</td>\n",
       "      <td>0.628133</td>\n",
       "      <td>0.907969</td>\n",
       "      <td>0.503826</td>\n",
       "    </tr>\n",
       "    <tr>\n",
       "      <th>B</th>\n",
       "      <td>0.651118</td>\n",
       "      <td>NaN</td>\n",
       "      <td>NaN</td>\n",
       "      <td>0.605965</td>\n",
       "    </tr>\n",
       "    <tr>\n",
       "      <th>C</th>\n",
       "      <td>NaN</td>\n",
       "      <td>0.740122</td>\n",
       "      <td>0.528813</td>\n",
       "      <td>NaN</td>\n",
       "    </tr>\n",
       "    <tr>\n",
       "      <th>D</th>\n",
       "      <td>0.188695</td>\n",
       "      <td>NaN</td>\n",
       "      <td>NaN</td>\n",
       "      <td>0.955057</td>\n",
       "    </tr>\n",
       "    <tr>\n",
       "      <th>E</th>\n",
       "      <td>0.190794</td>\n",
       "      <td>1.978757</td>\n",
       "      <td>2.605967</td>\n",
       "      <td>0.683509</td>\n",
       "    </tr>\n",
       "  </tbody>\n",
       "</table>\n",
       "</div>"
      ],
      "text/plain": [
       "          W         X         Y         Z\n",
       "A  2.706850  0.628133  0.907969  0.503826\n",
       "B  0.651118       NaN       NaN  0.605965\n",
       "C       NaN  0.740122  0.528813       NaN\n",
       "D  0.188695       NaN       NaN  0.955057\n",
       "E  0.190794  1.978757  2.605967  0.683509"
      ]
     },
     "execution_count": 46,
     "metadata": {},
     "output_type": "execute_result"
    }
   ],
   "source": [
    "prathamesh_df[prathamesh_df>0]"
   ]
  },
  {
   "cell_type": "code",
   "execution_count": 47,
   "id": "eeee44a7-fa37-4063-a42c-f0f32085ff7c",
   "metadata": {
    "tags": []
   },
   "outputs": [
    {
     "data": {
      "text/html": [
       "<div>\n",
       "<style scoped>\n",
       "    .dataframe tbody tr th:only-of-type {\n",
       "        vertical-align: middle;\n",
       "    }\n",
       "\n",
       "    .dataframe tbody tr th {\n",
       "        vertical-align: top;\n",
       "    }\n",
       "\n",
       "    .dataframe thead th {\n",
       "        text-align: right;\n",
       "    }\n",
       "</style>\n",
       "<table border=\"1\" class=\"dataframe\">\n",
       "  <thead>\n",
       "    <tr style=\"text-align: right;\">\n",
       "      <th></th>\n",
       "      <th>W</th>\n",
       "      <th>X</th>\n",
       "      <th>Y</th>\n",
       "      <th>Z</th>\n",
       "    </tr>\n",
       "  </thead>\n",
       "  <tbody>\n",
       "    <tr>\n",
       "      <th>A</th>\n",
       "      <td>2.706850</td>\n",
       "      <td>0.628133</td>\n",
       "      <td>0.907969</td>\n",
       "      <td>0.503826</td>\n",
       "    </tr>\n",
       "    <tr>\n",
       "      <th>B</th>\n",
       "      <td>0.651118</td>\n",
       "      <td>-0.319318</td>\n",
       "      <td>-0.848077</td>\n",
       "      <td>0.605965</td>\n",
       "    </tr>\n",
       "    <tr>\n",
       "      <th>D</th>\n",
       "      <td>0.188695</td>\n",
       "      <td>-0.758872</td>\n",
       "      <td>-0.933237</td>\n",
       "      <td>0.955057</td>\n",
       "    </tr>\n",
       "    <tr>\n",
       "      <th>E</th>\n",
       "      <td>0.190794</td>\n",
       "      <td>1.978757</td>\n",
       "      <td>2.605967</td>\n",
       "      <td>0.683509</td>\n",
       "    </tr>\n",
       "  </tbody>\n",
       "</table>\n",
       "</div>"
      ],
      "text/plain": [
       "          W         X         Y         Z\n",
       "A  2.706850  0.628133  0.907969  0.503826\n",
       "B  0.651118 -0.319318 -0.848077  0.605965\n",
       "D  0.188695 -0.758872 -0.933237  0.955057\n",
       "E  0.190794  1.978757  2.605967  0.683509"
      ]
     },
     "execution_count": 47,
     "metadata": {},
     "output_type": "execute_result"
    }
   ],
   "source": [
    "prathamesh_df[prathamesh_df['W']>0]"
   ]
  },
  {
   "cell_type": "code",
   "execution_count": 48,
   "id": "6f2deaab-a5c9-405b-8825-0c78421fda1e",
   "metadata": {
    "tags": []
   },
   "outputs": [
    {
     "data": {
      "text/plain": [
       "A    0.907969\n",
       "B   -0.848077\n",
       "D   -0.933237\n",
       "E    2.605967\n",
       "Name: Y, dtype: float64"
      ]
     },
     "execution_count": 48,
     "metadata": {},
     "output_type": "execute_result"
    }
   ],
   "source": [
    "prathamesh_df[prathamesh_df['W']>0]['Y'] \n",
    "# Value of Y Where W is greater than 0"
   ]
  },
  {
   "cell_type": "markdown",
   "id": "9ab903ea-0b34-464d-8fdb-a3e08886c3e5",
   "metadata": {},
   "source": [
    "## Reseting indexes and split\n",
    "We can set and modify indexes using the index param in dataframe. We can set it usint the set_index function and reset it to 0... using reset_index function."
   ]
  },
  {
   "cell_type": "code",
   "execution_count": 49,
   "id": "96db94b2-e599-49f0-8324-2a7ddd38d941",
   "metadata": {
    "tags": []
   },
   "outputs": [
    {
     "data": {
      "text/html": [
       "<div>\n",
       "<style scoped>\n",
       "    .dataframe tbody tr th:only-of-type {\n",
       "        vertical-align: middle;\n",
       "    }\n",
       "\n",
       "    .dataframe tbody tr th {\n",
       "        vertical-align: top;\n",
       "    }\n",
       "\n",
       "    .dataframe thead th {\n",
       "        text-align: right;\n",
       "    }\n",
       "</style>\n",
       "<table border=\"1\" class=\"dataframe\">\n",
       "  <thead>\n",
       "    <tr style=\"text-align: right;\">\n",
       "      <th></th>\n",
       "      <th>W</th>\n",
       "      <th>X</th>\n",
       "      <th>Y</th>\n",
       "      <th>Z</th>\n",
       "    </tr>\n",
       "  </thead>\n",
       "  <tbody>\n",
       "    <tr>\n",
       "      <th>A</th>\n",
       "      <td>2.706850</td>\n",
       "      <td>0.628133</td>\n",
       "      <td>0.907969</td>\n",
       "      <td>0.503826</td>\n",
       "    </tr>\n",
       "    <tr>\n",
       "      <th>B</th>\n",
       "      <td>0.651118</td>\n",
       "      <td>-0.319318</td>\n",
       "      <td>-0.848077</td>\n",
       "      <td>0.605965</td>\n",
       "    </tr>\n",
       "    <tr>\n",
       "      <th>C</th>\n",
       "      <td>-2.018168</td>\n",
       "      <td>0.740122</td>\n",
       "      <td>0.528813</td>\n",
       "      <td>-0.589001</td>\n",
       "    </tr>\n",
       "    <tr>\n",
       "      <th>D</th>\n",
       "      <td>0.188695</td>\n",
       "      <td>-0.758872</td>\n",
       "      <td>-0.933237</td>\n",
       "      <td>0.955057</td>\n",
       "    </tr>\n",
       "    <tr>\n",
       "      <th>E</th>\n",
       "      <td>0.190794</td>\n",
       "      <td>1.978757</td>\n",
       "      <td>2.605967</td>\n",
       "      <td>0.683509</td>\n",
       "    </tr>\n",
       "  </tbody>\n",
       "</table>\n",
       "</div>"
      ],
      "text/plain": [
       "          W         X         Y         Z\n",
       "A  2.706850  0.628133  0.907969  0.503826\n",
       "B  0.651118 -0.319318 -0.848077  0.605965\n",
       "C -2.018168  0.740122  0.528813 -0.589001\n",
       "D  0.188695 -0.758872 -0.933237  0.955057\n",
       "E  0.190794  1.978757  2.605967  0.683509"
      ]
     },
     "execution_count": 49,
     "metadata": {},
     "output_type": "execute_result"
    }
   ],
   "source": [
    "prathamesh_df"
   ]
  },
  {
   "cell_type": "code",
   "execution_count": 50,
   "id": "d5cc223c-3c52-4afe-83b3-8d67aeb02bb1",
   "metadata": {
    "tags": []
   },
   "outputs": [
    {
     "data": {
      "text/html": [
       "<div>\n",
       "<style scoped>\n",
       "    .dataframe tbody tr th:only-of-type {\n",
       "        vertical-align: middle;\n",
       "    }\n",
       "\n",
       "    .dataframe tbody tr th {\n",
       "        vertical-align: top;\n",
       "    }\n",
       "\n",
       "    .dataframe thead th {\n",
       "        text-align: right;\n",
       "    }\n",
       "</style>\n",
       "<table border=\"1\" class=\"dataframe\">\n",
       "  <thead>\n",
       "    <tr style=\"text-align: right;\">\n",
       "      <th></th>\n",
       "      <th>index</th>\n",
       "      <th>W</th>\n",
       "      <th>X</th>\n",
       "      <th>Y</th>\n",
       "      <th>Z</th>\n",
       "    </tr>\n",
       "  </thead>\n",
       "  <tbody>\n",
       "    <tr>\n",
       "      <th>0</th>\n",
       "      <td>A</td>\n",
       "      <td>2.706850</td>\n",
       "      <td>0.628133</td>\n",
       "      <td>0.907969</td>\n",
       "      <td>0.503826</td>\n",
       "    </tr>\n",
       "    <tr>\n",
       "      <th>1</th>\n",
       "      <td>B</td>\n",
       "      <td>0.651118</td>\n",
       "      <td>-0.319318</td>\n",
       "      <td>-0.848077</td>\n",
       "      <td>0.605965</td>\n",
       "    </tr>\n",
       "    <tr>\n",
       "      <th>2</th>\n",
       "      <td>C</td>\n",
       "      <td>-2.018168</td>\n",
       "      <td>0.740122</td>\n",
       "      <td>0.528813</td>\n",
       "      <td>-0.589001</td>\n",
       "    </tr>\n",
       "    <tr>\n",
       "      <th>3</th>\n",
       "      <td>D</td>\n",
       "      <td>0.188695</td>\n",
       "      <td>-0.758872</td>\n",
       "      <td>-0.933237</td>\n",
       "      <td>0.955057</td>\n",
       "    </tr>\n",
       "    <tr>\n",
       "      <th>4</th>\n",
       "      <td>E</td>\n",
       "      <td>0.190794</td>\n",
       "      <td>1.978757</td>\n",
       "      <td>2.605967</td>\n",
       "      <td>0.683509</td>\n",
       "    </tr>\n",
       "  </tbody>\n",
       "</table>\n",
       "</div>"
      ],
      "text/plain": [
       "  index         W         X         Y         Z\n",
       "0     A  2.706850  0.628133  0.907969  0.503826\n",
       "1     B  0.651118 -0.319318 -0.848077  0.605965\n",
       "2     C -2.018168  0.740122  0.528813 -0.589001\n",
       "3     D  0.188695 -0.758872 -0.933237  0.955057\n",
       "4     E  0.190794  1.978757  2.605967  0.683509"
      ]
     },
     "execution_count": 50,
     "metadata": {},
     "output_type": "execute_result"
    }
   ],
   "source": [
    "prathamesh_df.reset_index() "
   ]
  },
  {
   "cell_type": "code",
   "execution_count": 51,
   "id": "8a5b26e0-933d-49c2-91a2-a3373f98fef5",
   "metadata": {
    "tags": []
   },
   "outputs": [],
   "source": [
    "new_index ='MH OD GJ MP DL'.split()"
   ]
  },
  {
   "cell_type": "code",
   "execution_count": 52,
   "id": "13fddcb9-9ee3-4225-99ea-54249191b600",
   "metadata": {
    "tags": []
   },
   "outputs": [],
   "source": [
    "prathamesh_df['States'] = new_index"
   ]
  },
  {
   "cell_type": "code",
   "execution_count": 53,
   "id": "bef022d5-05dc-4861-99e3-8696a489a985",
   "metadata": {
    "tags": []
   },
   "outputs": [
    {
     "data": {
      "text/html": [
       "<div>\n",
       "<style scoped>\n",
       "    .dataframe tbody tr th:only-of-type {\n",
       "        vertical-align: middle;\n",
       "    }\n",
       "\n",
       "    .dataframe tbody tr th {\n",
       "        vertical-align: top;\n",
       "    }\n",
       "\n",
       "    .dataframe thead th {\n",
       "        text-align: right;\n",
       "    }\n",
       "</style>\n",
       "<table border=\"1\" class=\"dataframe\">\n",
       "  <thead>\n",
       "    <tr style=\"text-align: right;\">\n",
       "      <th></th>\n",
       "      <th>W</th>\n",
       "      <th>X</th>\n",
       "      <th>Y</th>\n",
       "      <th>Z</th>\n",
       "      <th>States</th>\n",
       "    </tr>\n",
       "  </thead>\n",
       "  <tbody>\n",
       "    <tr>\n",
       "      <th>A</th>\n",
       "      <td>2.706850</td>\n",
       "      <td>0.628133</td>\n",
       "      <td>0.907969</td>\n",
       "      <td>0.503826</td>\n",
       "      <td>MH</td>\n",
       "    </tr>\n",
       "    <tr>\n",
       "      <th>B</th>\n",
       "      <td>0.651118</td>\n",
       "      <td>-0.319318</td>\n",
       "      <td>-0.848077</td>\n",
       "      <td>0.605965</td>\n",
       "      <td>OD</td>\n",
       "    </tr>\n",
       "    <tr>\n",
       "      <th>C</th>\n",
       "      <td>-2.018168</td>\n",
       "      <td>0.740122</td>\n",
       "      <td>0.528813</td>\n",
       "      <td>-0.589001</td>\n",
       "      <td>GJ</td>\n",
       "    </tr>\n",
       "    <tr>\n",
       "      <th>D</th>\n",
       "      <td>0.188695</td>\n",
       "      <td>-0.758872</td>\n",
       "      <td>-0.933237</td>\n",
       "      <td>0.955057</td>\n",
       "      <td>MP</td>\n",
       "    </tr>\n",
       "    <tr>\n",
       "      <th>E</th>\n",
       "      <td>0.190794</td>\n",
       "      <td>1.978757</td>\n",
       "      <td>2.605967</td>\n",
       "      <td>0.683509</td>\n",
       "      <td>DL</td>\n",
       "    </tr>\n",
       "  </tbody>\n",
       "</table>\n",
       "</div>"
      ],
      "text/plain": [
       "          W         X         Y         Z States\n",
       "A  2.706850  0.628133  0.907969  0.503826     MH\n",
       "B  0.651118 -0.319318 -0.848077  0.605965     OD\n",
       "C -2.018168  0.740122  0.528813 -0.589001     GJ\n",
       "D  0.188695 -0.758872 -0.933237  0.955057     MP\n",
       "E  0.190794  1.978757  2.605967  0.683509     DL"
      ]
     },
     "execution_count": 53,
     "metadata": {},
     "output_type": "execute_result"
    }
   ],
   "source": [
    "prathamesh_df"
   ]
  },
  {
   "cell_type": "code",
   "execution_count": 54,
   "id": "83407b6b-8638-4888-acc9-de14594383b2",
   "metadata": {
    "tags": []
   },
   "outputs": [
    {
     "data": {
      "text/html": [
       "<div>\n",
       "<style scoped>\n",
       "    .dataframe tbody tr th:only-of-type {\n",
       "        vertical-align: middle;\n",
       "    }\n",
       "\n",
       "    .dataframe tbody tr th {\n",
       "        vertical-align: top;\n",
       "    }\n",
       "\n",
       "    .dataframe thead th {\n",
       "        text-align: right;\n",
       "    }\n",
       "</style>\n",
       "<table border=\"1\" class=\"dataframe\">\n",
       "  <thead>\n",
       "    <tr style=\"text-align: right;\">\n",
       "      <th></th>\n",
       "      <th>W</th>\n",
       "      <th>X</th>\n",
       "      <th>Y</th>\n",
       "      <th>Z</th>\n",
       "    </tr>\n",
       "    <tr>\n",
       "      <th>States</th>\n",
       "      <th></th>\n",
       "      <th></th>\n",
       "      <th></th>\n",
       "      <th></th>\n",
       "    </tr>\n",
       "  </thead>\n",
       "  <tbody>\n",
       "    <tr>\n",
       "      <th>MH</th>\n",
       "      <td>2.706850</td>\n",
       "      <td>0.628133</td>\n",
       "      <td>0.907969</td>\n",
       "      <td>0.503826</td>\n",
       "    </tr>\n",
       "    <tr>\n",
       "      <th>OD</th>\n",
       "      <td>0.651118</td>\n",
       "      <td>-0.319318</td>\n",
       "      <td>-0.848077</td>\n",
       "      <td>0.605965</td>\n",
       "    </tr>\n",
       "    <tr>\n",
       "      <th>GJ</th>\n",
       "      <td>-2.018168</td>\n",
       "      <td>0.740122</td>\n",
       "      <td>0.528813</td>\n",
       "      <td>-0.589001</td>\n",
       "    </tr>\n",
       "    <tr>\n",
       "      <th>MP</th>\n",
       "      <td>0.188695</td>\n",
       "      <td>-0.758872</td>\n",
       "      <td>-0.933237</td>\n",
       "      <td>0.955057</td>\n",
       "    </tr>\n",
       "    <tr>\n",
       "      <th>DL</th>\n",
       "      <td>0.190794</td>\n",
       "      <td>1.978757</td>\n",
       "      <td>2.605967</td>\n",
       "      <td>0.683509</td>\n",
       "    </tr>\n",
       "  </tbody>\n",
       "</table>\n",
       "</div>"
      ],
      "text/plain": [
       "               W         X         Y         Z\n",
       "States                                        \n",
       "MH      2.706850  0.628133  0.907969  0.503826\n",
       "OD      0.651118 -0.319318 -0.848077  0.605965\n",
       "GJ     -2.018168  0.740122  0.528813 -0.589001\n",
       "MP      0.188695 -0.758872 -0.933237  0.955057\n",
       "DL      0.190794  1.978757  2.605967  0.683509"
      ]
     },
     "execution_count": 54,
     "metadata": {},
     "output_type": "execute_result"
    }
   ],
   "source": [
    "prathamesh_df.set_index('States')"
   ]
  },
  {
   "cell_type": "code",
   "execution_count": 55,
   "id": "63db5887-bd5e-46b1-89b3-937376f8b90e",
   "metadata": {
    "tags": []
   },
   "outputs": [
    {
     "data": {
      "text/html": [
       "<div>\n",
       "<style scoped>\n",
       "    .dataframe tbody tr th:only-of-type {\n",
       "        vertical-align: middle;\n",
       "    }\n",
       "\n",
       "    .dataframe tbody tr th {\n",
       "        vertical-align: top;\n",
       "    }\n",
       "\n",
       "    .dataframe thead th {\n",
       "        text-align: right;\n",
       "    }\n",
       "</style>\n",
       "<table border=\"1\" class=\"dataframe\">\n",
       "  <thead>\n",
       "    <tr style=\"text-align: right;\">\n",
       "      <th></th>\n",
       "      <th>W</th>\n",
       "      <th>X</th>\n",
       "      <th>Y</th>\n",
       "      <th>Z</th>\n",
       "      <th>States</th>\n",
       "    </tr>\n",
       "  </thead>\n",
       "  <tbody>\n",
       "    <tr>\n",
       "      <th>A</th>\n",
       "      <td>2.706850</td>\n",
       "      <td>0.628133</td>\n",
       "      <td>0.907969</td>\n",
       "      <td>0.503826</td>\n",
       "      <td>MH</td>\n",
       "    </tr>\n",
       "    <tr>\n",
       "      <th>B</th>\n",
       "      <td>0.651118</td>\n",
       "      <td>-0.319318</td>\n",
       "      <td>-0.848077</td>\n",
       "      <td>0.605965</td>\n",
       "      <td>OD</td>\n",
       "    </tr>\n",
       "    <tr>\n",
       "      <th>C</th>\n",
       "      <td>-2.018168</td>\n",
       "      <td>0.740122</td>\n",
       "      <td>0.528813</td>\n",
       "      <td>-0.589001</td>\n",
       "      <td>GJ</td>\n",
       "    </tr>\n",
       "    <tr>\n",
       "      <th>D</th>\n",
       "      <td>0.188695</td>\n",
       "      <td>-0.758872</td>\n",
       "      <td>-0.933237</td>\n",
       "      <td>0.955057</td>\n",
       "      <td>MP</td>\n",
       "    </tr>\n",
       "    <tr>\n",
       "      <th>E</th>\n",
       "      <td>0.190794</td>\n",
       "      <td>1.978757</td>\n",
       "      <td>2.605967</td>\n",
       "      <td>0.683509</td>\n",
       "      <td>DL</td>\n",
       "    </tr>\n",
       "  </tbody>\n",
       "</table>\n",
       "</div>"
      ],
      "text/plain": [
       "          W         X         Y         Z States\n",
       "A  2.706850  0.628133  0.907969  0.503826     MH\n",
       "B  0.651118 -0.319318 -0.848077  0.605965     OD\n",
       "C -2.018168  0.740122  0.528813 -0.589001     GJ\n",
       "D  0.188695 -0.758872 -0.933237  0.955057     MP\n",
       "E  0.190794  1.978757  2.605967  0.683509     DL"
      ]
     },
     "execution_count": 55,
     "metadata": {},
     "output_type": "execute_result"
    }
   ],
   "source": [
    "prathamesh_df"
   ]
  },
  {
   "cell_type": "code",
   "execution_count": 56,
   "id": "ec71e872-55e2-4e2a-b490-e6c541659276",
   "metadata": {
    "tags": []
   },
   "outputs": [],
   "source": [
    "prathamesh_df.set_index('States', inplace=True)"
   ]
  },
  {
   "cell_type": "code",
   "execution_count": 57,
   "id": "4d56ccf9-3173-4d60-a0b2-bfaa6a7450ae",
   "metadata": {
    "tags": []
   },
   "outputs": [
    {
     "data": {
      "text/html": [
       "<div>\n",
       "<style scoped>\n",
       "    .dataframe tbody tr th:only-of-type {\n",
       "        vertical-align: middle;\n",
       "    }\n",
       "\n",
       "    .dataframe tbody tr th {\n",
       "        vertical-align: top;\n",
       "    }\n",
       "\n",
       "    .dataframe thead th {\n",
       "        text-align: right;\n",
       "    }\n",
       "</style>\n",
       "<table border=\"1\" class=\"dataframe\">\n",
       "  <thead>\n",
       "    <tr style=\"text-align: right;\">\n",
       "      <th></th>\n",
       "      <th>W</th>\n",
       "      <th>X</th>\n",
       "      <th>Y</th>\n",
       "      <th>Z</th>\n",
       "    </tr>\n",
       "    <tr>\n",
       "      <th>States</th>\n",
       "      <th></th>\n",
       "      <th></th>\n",
       "      <th></th>\n",
       "      <th></th>\n",
       "    </tr>\n",
       "  </thead>\n",
       "  <tbody>\n",
       "    <tr>\n",
       "      <th>MH</th>\n",
       "      <td>2.706850</td>\n",
       "      <td>0.628133</td>\n",
       "      <td>0.907969</td>\n",
       "      <td>0.503826</td>\n",
       "    </tr>\n",
       "    <tr>\n",
       "      <th>OD</th>\n",
       "      <td>0.651118</td>\n",
       "      <td>-0.319318</td>\n",
       "      <td>-0.848077</td>\n",
       "      <td>0.605965</td>\n",
       "    </tr>\n",
       "    <tr>\n",
       "      <th>GJ</th>\n",
       "      <td>-2.018168</td>\n",
       "      <td>0.740122</td>\n",
       "      <td>0.528813</td>\n",
       "      <td>-0.589001</td>\n",
       "    </tr>\n",
       "    <tr>\n",
       "      <th>MP</th>\n",
       "      <td>0.188695</td>\n",
       "      <td>-0.758872</td>\n",
       "      <td>-0.933237</td>\n",
       "      <td>0.955057</td>\n",
       "    </tr>\n",
       "    <tr>\n",
       "      <th>DL</th>\n",
       "      <td>0.190794</td>\n",
       "      <td>1.978757</td>\n",
       "      <td>2.605967</td>\n",
       "      <td>0.683509</td>\n",
       "    </tr>\n",
       "  </tbody>\n",
       "</table>\n",
       "</div>"
      ],
      "text/plain": [
       "               W         X         Y         Z\n",
       "States                                        \n",
       "MH      2.706850  0.628133  0.907969  0.503826\n",
       "OD      0.651118 -0.319318 -0.848077  0.605965\n",
       "GJ     -2.018168  0.740122  0.528813 -0.589001\n",
       "MP      0.188695 -0.758872 -0.933237  0.955057\n",
       "DL      0.190794  1.978757  2.605967  0.683509"
      ]
     },
     "execution_count": 57,
     "metadata": {},
     "output_type": "execute_result"
    }
   ],
   "source": [
    "prathamesh_df"
   ]
  },
  {
   "cell_type": "markdown",
   "id": "df331cb9-2b17-43e4-b85d-922201c480ef",
   "metadata": {},
   "source": [
    "## Handling Missing Data"
   ]
  },
  {
   "cell_type": "code",
   "execution_count": 58,
   "id": "6cf54050-aa45-4ffa-a3f9-91515b0fd502",
   "metadata": {
    "tags": []
   },
   "outputs": [],
   "source": [
    "prathamesh_df = prathamesh_pd.read_csv('./Stores_with_null.csv')"
   ]
  },
  {
   "cell_type": "code",
   "execution_count": 59,
   "id": "fffd3491-44ef-47fa-91cc-8995987f9a92",
   "metadata": {
    "tags": []
   },
   "outputs": [
    {
     "data": {
      "text/html": [
       "<div>\n",
       "<style scoped>\n",
       "    .dataframe tbody tr th:only-of-type {\n",
       "        vertical-align: middle;\n",
       "    }\n",
       "\n",
       "    .dataframe tbody tr th {\n",
       "        vertical-align: top;\n",
       "    }\n",
       "\n",
       "    .dataframe thead th {\n",
       "        text-align: right;\n",
       "    }\n",
       "</style>\n",
       "<table border=\"1\" class=\"dataframe\">\n",
       "  <thead>\n",
       "    <tr style=\"text-align: right;\">\n",
       "      <th></th>\n",
       "      <th>Store ID</th>\n",
       "      <th>Store_Area</th>\n",
       "      <th>Items_Available</th>\n",
       "      <th>Daily_Customer_Count</th>\n",
       "      <th>Store_Sales</th>\n",
       "    </tr>\n",
       "  </thead>\n",
       "  <tbody>\n",
       "    <tr>\n",
       "      <th>0</th>\n",
       "      <td>1</td>\n",
       "      <td>1659.0</td>\n",
       "      <td>1961.0</td>\n",
       "      <td>NaN</td>\n",
       "      <td>66490.0</td>\n",
       "    </tr>\n",
       "    <tr>\n",
       "      <th>1</th>\n",
       "      <td>2</td>\n",
       "      <td>NaN</td>\n",
       "      <td>1752.0</td>\n",
       "      <td>210.0</td>\n",
       "      <td>39820.0</td>\n",
       "    </tr>\n",
       "    <tr>\n",
       "      <th>2</th>\n",
       "      <td>3</td>\n",
       "      <td>1340.0</td>\n",
       "      <td>1609.0</td>\n",
       "      <td>720.0</td>\n",
       "      <td>NaN</td>\n",
       "    </tr>\n",
       "    <tr>\n",
       "      <th>3</th>\n",
       "      <td>4</td>\n",
       "      <td>1451.0</td>\n",
       "      <td>1748.0</td>\n",
       "      <td>620.0</td>\n",
       "      <td>53730.0</td>\n",
       "    </tr>\n",
       "    <tr>\n",
       "      <th>4</th>\n",
       "      <td>5</td>\n",
       "      <td>1770.0</td>\n",
       "      <td>2111.0</td>\n",
       "      <td>NaN</td>\n",
       "      <td>46620.0</td>\n",
       "    </tr>\n",
       "    <tr>\n",
       "      <th>...</th>\n",
       "      <td>...</td>\n",
       "      <td>...</td>\n",
       "      <td>...</td>\n",
       "      <td>...</td>\n",
       "      <td>...</td>\n",
       "    </tr>\n",
       "    <tr>\n",
       "      <th>891</th>\n",
       "      <td>892</td>\n",
       "      <td>1582.0</td>\n",
       "      <td>1910.0</td>\n",
       "      <td>1080.0</td>\n",
       "      <td>66390.0</td>\n",
       "    </tr>\n",
       "    <tr>\n",
       "      <th>892</th>\n",
       "      <td>893</td>\n",
       "      <td>1387.0</td>\n",
       "      <td>1663.0</td>\n",
       "      <td>850.0</td>\n",
       "      <td>82080.0</td>\n",
       "    </tr>\n",
       "    <tr>\n",
       "      <th>893</th>\n",
       "      <td>894</td>\n",
       "      <td>1200.0</td>\n",
       "      <td>1436.0</td>\n",
       "      <td>1060.0</td>\n",
       "      <td>76440.0</td>\n",
       "    </tr>\n",
       "    <tr>\n",
       "      <th>894</th>\n",
       "      <td>895</td>\n",
       "      <td>1299.0</td>\n",
       "      <td>1560.0</td>\n",
       "      <td>770.0</td>\n",
       "      <td>96610.0</td>\n",
       "    </tr>\n",
       "    <tr>\n",
       "      <th>895</th>\n",
       "      <td>896</td>\n",
       "      <td>1174.0</td>\n",
       "      <td>1429.0</td>\n",
       "      <td>1110.0</td>\n",
       "      <td>54340.0</td>\n",
       "    </tr>\n",
       "  </tbody>\n",
       "</table>\n",
       "<p>896 rows × 5 columns</p>\n",
       "</div>"
      ],
      "text/plain": [
       "     Store ID   Store_Area  Items_Available  Daily_Customer_Count  Store_Sales\n",
       "0            1      1659.0           1961.0                   NaN      66490.0\n",
       "1            2         NaN           1752.0                 210.0      39820.0\n",
       "2            3      1340.0           1609.0                 720.0          NaN\n",
       "3            4      1451.0           1748.0                 620.0      53730.0\n",
       "4            5      1770.0           2111.0                   NaN      46620.0\n",
       "..         ...         ...              ...                   ...          ...\n",
       "891        892      1582.0           1910.0                1080.0      66390.0\n",
       "892        893      1387.0           1663.0                 850.0      82080.0\n",
       "893        894      1200.0           1436.0                1060.0      76440.0\n",
       "894        895      1299.0           1560.0                 770.0      96610.0\n",
       "895        896      1174.0           1429.0                1110.0      54340.0\n",
       "\n",
       "[896 rows x 5 columns]"
      ]
     },
     "execution_count": 59,
     "metadata": {},
     "output_type": "execute_result"
    }
   ],
   "source": [
    "prathamesh_df"
   ]
  },
  {
   "cell_type": "markdown",
   "id": "84ad29e6-3d52-4c43-a0c3-5a6234eb73e9",
   "metadata": {},
   "source": [
    "isnull function returns a new dataframe with true for all values that are null and false for all values not null."
   ]
  },
  {
   "cell_type": "code",
   "execution_count": 60,
   "id": "ffeccd89-67b9-418f-8f57-0b7ac761ec24",
   "metadata": {
    "tags": []
   },
   "outputs": [
    {
     "data": {
      "text/html": [
       "<div>\n",
       "<style scoped>\n",
       "    .dataframe tbody tr th:only-of-type {\n",
       "        vertical-align: middle;\n",
       "    }\n",
       "\n",
       "    .dataframe tbody tr th {\n",
       "        vertical-align: top;\n",
       "    }\n",
       "\n",
       "    .dataframe thead th {\n",
       "        text-align: right;\n",
       "    }\n",
       "</style>\n",
       "<table border=\"1\" class=\"dataframe\">\n",
       "  <thead>\n",
       "    <tr style=\"text-align: right;\">\n",
       "      <th></th>\n",
       "      <th>Store ID</th>\n",
       "      <th>Store_Area</th>\n",
       "      <th>Items_Available</th>\n",
       "      <th>Daily_Customer_Count</th>\n",
       "      <th>Store_Sales</th>\n",
       "    </tr>\n",
       "  </thead>\n",
       "  <tbody>\n",
       "    <tr>\n",
       "      <th>0</th>\n",
       "      <td>False</td>\n",
       "      <td>False</td>\n",
       "      <td>False</td>\n",
       "      <td>True</td>\n",
       "      <td>False</td>\n",
       "    </tr>\n",
       "    <tr>\n",
       "      <th>1</th>\n",
       "      <td>False</td>\n",
       "      <td>True</td>\n",
       "      <td>False</td>\n",
       "      <td>False</td>\n",
       "      <td>False</td>\n",
       "    </tr>\n",
       "    <tr>\n",
       "      <th>2</th>\n",
       "      <td>False</td>\n",
       "      <td>False</td>\n",
       "      <td>False</td>\n",
       "      <td>False</td>\n",
       "      <td>True</td>\n",
       "    </tr>\n",
       "    <tr>\n",
       "      <th>3</th>\n",
       "      <td>False</td>\n",
       "      <td>False</td>\n",
       "      <td>False</td>\n",
       "      <td>False</td>\n",
       "      <td>False</td>\n",
       "    </tr>\n",
       "    <tr>\n",
       "      <th>4</th>\n",
       "      <td>False</td>\n",
       "      <td>False</td>\n",
       "      <td>False</td>\n",
       "      <td>True</td>\n",
       "      <td>False</td>\n",
       "    </tr>\n",
       "    <tr>\n",
       "      <th>...</th>\n",
       "      <td>...</td>\n",
       "      <td>...</td>\n",
       "      <td>...</td>\n",
       "      <td>...</td>\n",
       "      <td>...</td>\n",
       "    </tr>\n",
       "    <tr>\n",
       "      <th>891</th>\n",
       "      <td>False</td>\n",
       "      <td>False</td>\n",
       "      <td>False</td>\n",
       "      <td>False</td>\n",
       "      <td>False</td>\n",
       "    </tr>\n",
       "    <tr>\n",
       "      <th>892</th>\n",
       "      <td>False</td>\n",
       "      <td>False</td>\n",
       "      <td>False</td>\n",
       "      <td>False</td>\n",
       "      <td>False</td>\n",
       "    </tr>\n",
       "    <tr>\n",
       "      <th>893</th>\n",
       "      <td>False</td>\n",
       "      <td>False</td>\n",
       "      <td>False</td>\n",
       "      <td>False</td>\n",
       "      <td>False</td>\n",
       "    </tr>\n",
       "    <tr>\n",
       "      <th>894</th>\n",
       "      <td>False</td>\n",
       "      <td>False</td>\n",
       "      <td>False</td>\n",
       "      <td>False</td>\n",
       "      <td>False</td>\n",
       "    </tr>\n",
       "    <tr>\n",
       "      <th>895</th>\n",
       "      <td>False</td>\n",
       "      <td>False</td>\n",
       "      <td>False</td>\n",
       "      <td>False</td>\n",
       "      <td>False</td>\n",
       "    </tr>\n",
       "  </tbody>\n",
       "</table>\n",
       "<p>896 rows × 5 columns</p>\n",
       "</div>"
      ],
      "text/plain": [
       "     Store ID   Store_Area  Items_Available  Daily_Customer_Count  Store_Sales\n",
       "0        False       False            False                  True        False\n",
       "1        False        True            False                 False        False\n",
       "2        False       False            False                 False         True\n",
       "3        False       False            False                 False        False\n",
       "4        False       False            False                  True        False\n",
       "..         ...         ...              ...                   ...          ...\n",
       "891      False       False            False                 False        False\n",
       "892      False       False            False                 False        False\n",
       "893      False       False            False                 False        False\n",
       "894      False       False            False                 False        False\n",
       "895      False       False            False                 False        False\n",
       "\n",
       "[896 rows x 5 columns]"
      ]
     },
     "execution_count": 60,
     "metadata": {},
     "output_type": "execute_result"
    }
   ],
   "source": [
    "prathamesh_df.isnull()"
   ]
  },
  {
   "cell_type": "markdown",
   "id": "8e9b912d-79c7-4b16-be8c-8ff346d8080e",
   "metadata": {},
   "source": [
    "notnull function  returns a new dataframe with value true if the value is not null and vice versa."
   ]
  },
  {
   "cell_type": "code",
   "execution_count": 61,
   "id": "32cd4c17-1748-4ee7-a85c-9e9b1b3cf38a",
   "metadata": {
    "tags": []
   },
   "outputs": [
    {
     "data": {
      "text/html": [
       "<div>\n",
       "<style scoped>\n",
       "    .dataframe tbody tr th:only-of-type {\n",
       "        vertical-align: middle;\n",
       "    }\n",
       "\n",
       "    .dataframe tbody tr th {\n",
       "        vertical-align: top;\n",
       "    }\n",
       "\n",
       "    .dataframe thead th {\n",
       "        text-align: right;\n",
       "    }\n",
       "</style>\n",
       "<table border=\"1\" class=\"dataframe\">\n",
       "  <thead>\n",
       "    <tr style=\"text-align: right;\">\n",
       "      <th></th>\n",
       "      <th>Store ID</th>\n",
       "      <th>Store_Area</th>\n",
       "      <th>Items_Available</th>\n",
       "      <th>Daily_Customer_Count</th>\n",
       "      <th>Store_Sales</th>\n",
       "    </tr>\n",
       "  </thead>\n",
       "  <tbody>\n",
       "    <tr>\n",
       "      <th>0</th>\n",
       "      <td>True</td>\n",
       "      <td>True</td>\n",
       "      <td>True</td>\n",
       "      <td>False</td>\n",
       "      <td>True</td>\n",
       "    </tr>\n",
       "    <tr>\n",
       "      <th>1</th>\n",
       "      <td>True</td>\n",
       "      <td>False</td>\n",
       "      <td>True</td>\n",
       "      <td>True</td>\n",
       "      <td>True</td>\n",
       "    </tr>\n",
       "    <tr>\n",
       "      <th>2</th>\n",
       "      <td>True</td>\n",
       "      <td>True</td>\n",
       "      <td>True</td>\n",
       "      <td>True</td>\n",
       "      <td>False</td>\n",
       "    </tr>\n",
       "    <tr>\n",
       "      <th>3</th>\n",
       "      <td>True</td>\n",
       "      <td>True</td>\n",
       "      <td>True</td>\n",
       "      <td>True</td>\n",
       "      <td>True</td>\n",
       "    </tr>\n",
       "    <tr>\n",
       "      <th>4</th>\n",
       "      <td>True</td>\n",
       "      <td>True</td>\n",
       "      <td>True</td>\n",
       "      <td>False</td>\n",
       "      <td>True</td>\n",
       "    </tr>\n",
       "    <tr>\n",
       "      <th>...</th>\n",
       "      <td>...</td>\n",
       "      <td>...</td>\n",
       "      <td>...</td>\n",
       "      <td>...</td>\n",
       "      <td>...</td>\n",
       "    </tr>\n",
       "    <tr>\n",
       "      <th>891</th>\n",
       "      <td>True</td>\n",
       "      <td>True</td>\n",
       "      <td>True</td>\n",
       "      <td>True</td>\n",
       "      <td>True</td>\n",
       "    </tr>\n",
       "    <tr>\n",
       "      <th>892</th>\n",
       "      <td>True</td>\n",
       "      <td>True</td>\n",
       "      <td>True</td>\n",
       "      <td>True</td>\n",
       "      <td>True</td>\n",
       "    </tr>\n",
       "    <tr>\n",
       "      <th>893</th>\n",
       "      <td>True</td>\n",
       "      <td>True</td>\n",
       "      <td>True</td>\n",
       "      <td>True</td>\n",
       "      <td>True</td>\n",
       "    </tr>\n",
       "    <tr>\n",
       "      <th>894</th>\n",
       "      <td>True</td>\n",
       "      <td>True</td>\n",
       "      <td>True</td>\n",
       "      <td>True</td>\n",
       "      <td>True</td>\n",
       "    </tr>\n",
       "    <tr>\n",
       "      <th>895</th>\n",
       "      <td>True</td>\n",
       "      <td>True</td>\n",
       "      <td>True</td>\n",
       "      <td>True</td>\n",
       "      <td>True</td>\n",
       "    </tr>\n",
       "  </tbody>\n",
       "</table>\n",
       "<p>896 rows × 5 columns</p>\n",
       "</div>"
      ],
      "text/plain": [
       "     Store ID   Store_Area  Items_Available  Daily_Customer_Count  Store_Sales\n",
       "0         True        True             True                 False         True\n",
       "1         True       False             True                  True         True\n",
       "2         True        True             True                  True        False\n",
       "3         True        True             True                  True         True\n",
       "4         True        True             True                 False         True\n",
       "..         ...         ...              ...                   ...          ...\n",
       "891       True        True             True                  True         True\n",
       "892       True        True             True                  True         True\n",
       "893       True        True             True                  True         True\n",
       "894       True        True             True                  True         True\n",
       "895       True        True             True                  True         True\n",
       "\n",
       "[896 rows x 5 columns]"
      ]
     },
     "execution_count": 61,
     "metadata": {},
     "output_type": "execute_result"
    }
   ],
   "source": [
    "prathamesh_df.notnull()"
   ]
  },
  {
   "cell_type": "markdown",
   "id": "59a1e5d7-693f-434c-b488-228e282dbe69",
   "metadata": {},
   "source": [
    "dropna funcion drops all rows/columns from the axis where any value is null. You can set a threshold for how many values can be null in an axis. By default function drops all rows with NaN data. Default value for axis is 0 as ususal. "
   ]
  },
  {
   "cell_type": "code",
   "execution_count": 62,
   "id": "16c8a549-9a4e-4ef7-b82a-e2a0c0e76bcc",
   "metadata": {
    "tags": []
   },
   "outputs": [
    {
     "data": {
      "text/html": [
       "<div>\n",
       "<style scoped>\n",
       "    .dataframe tbody tr th:only-of-type {\n",
       "        vertical-align: middle;\n",
       "    }\n",
       "\n",
       "    .dataframe tbody tr th {\n",
       "        vertical-align: top;\n",
       "    }\n",
       "\n",
       "    .dataframe thead th {\n",
       "        text-align: right;\n",
       "    }\n",
       "</style>\n",
       "<table border=\"1\" class=\"dataframe\">\n",
       "  <thead>\n",
       "    <tr style=\"text-align: right;\">\n",
       "      <th></th>\n",
       "      <th>Store ID</th>\n",
       "      <th>Store_Area</th>\n",
       "      <th>Items_Available</th>\n",
       "      <th>Daily_Customer_Count</th>\n",
       "      <th>Store_Sales</th>\n",
       "    </tr>\n",
       "  </thead>\n",
       "  <tbody>\n",
       "    <tr>\n",
       "      <th>3</th>\n",
       "      <td>4</td>\n",
       "      <td>1451.0</td>\n",
       "      <td>1748.0</td>\n",
       "      <td>620.0</td>\n",
       "      <td>53730.0</td>\n",
       "    </tr>\n",
       "    <tr>\n",
       "      <th>6</th>\n",
       "      <td>7</td>\n",
       "      <td>1542.0</td>\n",
       "      <td>1858.0</td>\n",
       "      <td>1030.0</td>\n",
       "      <td>72240.0</td>\n",
       "    </tr>\n",
       "    <tr>\n",
       "      <th>9</th>\n",
       "      <td>10</td>\n",
       "      <td>1030.0</td>\n",
       "      <td>1235.0</td>\n",
       "      <td>1130.0</td>\n",
       "      <td>44150.0</td>\n",
       "    </tr>\n",
       "    <tr>\n",
       "      <th>11</th>\n",
       "      <td>12</td>\n",
       "      <td>1751.0</td>\n",
       "      <td>2098.0</td>\n",
       "      <td>720.0</td>\n",
       "      <td>57620.0</td>\n",
       "    </tr>\n",
       "    <tr>\n",
       "      <th>12</th>\n",
       "      <td>13</td>\n",
       "      <td>1746.0</td>\n",
       "      <td>2064.0</td>\n",
       "      <td>1050.0</td>\n",
       "      <td>60470.0</td>\n",
       "    </tr>\n",
       "    <tr>\n",
       "      <th>...</th>\n",
       "      <td>...</td>\n",
       "      <td>...</td>\n",
       "      <td>...</td>\n",
       "      <td>...</td>\n",
       "      <td>...</td>\n",
       "    </tr>\n",
       "    <tr>\n",
       "      <th>891</th>\n",
       "      <td>892</td>\n",
       "      <td>1582.0</td>\n",
       "      <td>1910.0</td>\n",
       "      <td>1080.0</td>\n",
       "      <td>66390.0</td>\n",
       "    </tr>\n",
       "    <tr>\n",
       "      <th>892</th>\n",
       "      <td>893</td>\n",
       "      <td>1387.0</td>\n",
       "      <td>1663.0</td>\n",
       "      <td>850.0</td>\n",
       "      <td>82080.0</td>\n",
       "    </tr>\n",
       "    <tr>\n",
       "      <th>893</th>\n",
       "      <td>894</td>\n",
       "      <td>1200.0</td>\n",
       "      <td>1436.0</td>\n",
       "      <td>1060.0</td>\n",
       "      <td>76440.0</td>\n",
       "    </tr>\n",
       "    <tr>\n",
       "      <th>894</th>\n",
       "      <td>895</td>\n",
       "      <td>1299.0</td>\n",
       "      <td>1560.0</td>\n",
       "      <td>770.0</td>\n",
       "      <td>96610.0</td>\n",
       "    </tr>\n",
       "    <tr>\n",
       "      <th>895</th>\n",
       "      <td>896</td>\n",
       "      <td>1174.0</td>\n",
       "      <td>1429.0</td>\n",
       "      <td>1110.0</td>\n",
       "      <td>54340.0</td>\n",
       "    </tr>\n",
       "  </tbody>\n",
       "</table>\n",
       "<p>888 rows × 5 columns</p>\n",
       "</div>"
      ],
      "text/plain": [
       "     Store ID   Store_Area  Items_Available  Daily_Customer_Count  Store_Sales\n",
       "3            4      1451.0           1748.0                 620.0      53730.0\n",
       "6            7      1542.0           1858.0                1030.0      72240.0\n",
       "9           10      1030.0           1235.0                1130.0      44150.0\n",
       "11          12      1751.0           2098.0                 720.0      57620.0\n",
       "12          13      1746.0           2064.0                1050.0      60470.0\n",
       "..         ...         ...              ...                   ...          ...\n",
       "891        892      1582.0           1910.0                1080.0      66390.0\n",
       "892        893      1387.0           1663.0                 850.0      82080.0\n",
       "893        894      1200.0           1436.0                1060.0      76440.0\n",
       "894        895      1299.0           1560.0                 770.0      96610.0\n",
       "895        896      1174.0           1429.0                1110.0      54340.0\n",
       "\n",
       "[888 rows x 5 columns]"
      ]
     },
     "execution_count": 62,
     "metadata": {},
     "output_type": "execute_result"
    }
   ],
   "source": [
    "prathamesh_df.dropna()"
   ]
  },
  {
   "cell_type": "code",
   "execution_count": 63,
   "id": "0df804bd-70a7-432c-9a11-7e900fed6fd4",
   "metadata": {
    "tags": []
   },
   "outputs": [
    {
     "data": {
      "text/html": [
       "<div>\n",
       "<style scoped>\n",
       "    .dataframe tbody tr th:only-of-type {\n",
       "        vertical-align: middle;\n",
       "    }\n",
       "\n",
       "    .dataframe tbody tr th {\n",
       "        vertical-align: top;\n",
       "    }\n",
       "\n",
       "    .dataframe thead th {\n",
       "        text-align: right;\n",
       "    }\n",
       "</style>\n",
       "<table border=\"1\" class=\"dataframe\">\n",
       "  <thead>\n",
       "    <tr style=\"text-align: right;\">\n",
       "      <th></th>\n",
       "      <th>Store ID</th>\n",
       "    </tr>\n",
       "  </thead>\n",
       "  <tbody>\n",
       "    <tr>\n",
       "      <th>0</th>\n",
       "      <td>1</td>\n",
       "    </tr>\n",
       "    <tr>\n",
       "      <th>1</th>\n",
       "      <td>2</td>\n",
       "    </tr>\n",
       "    <tr>\n",
       "      <th>2</th>\n",
       "      <td>3</td>\n",
       "    </tr>\n",
       "    <tr>\n",
       "      <th>3</th>\n",
       "      <td>4</td>\n",
       "    </tr>\n",
       "    <tr>\n",
       "      <th>4</th>\n",
       "      <td>5</td>\n",
       "    </tr>\n",
       "    <tr>\n",
       "      <th>5</th>\n",
       "      <td>6</td>\n",
       "    </tr>\n",
       "    <tr>\n",
       "      <th>6</th>\n",
       "      <td>7</td>\n",
       "    </tr>\n",
       "    <tr>\n",
       "      <th>7</th>\n",
       "      <td>8</td>\n",
       "    </tr>\n",
       "    <tr>\n",
       "      <th>8</th>\n",
       "      <td>9</td>\n",
       "    </tr>\n",
       "    <tr>\n",
       "      <th>9</th>\n",
       "      <td>10</td>\n",
       "    </tr>\n",
       "    <tr>\n",
       "      <th>10</th>\n",
       "      <td>11</td>\n",
       "    </tr>\n",
       "    <tr>\n",
       "      <th>11</th>\n",
       "      <td>12</td>\n",
       "    </tr>\n",
       "    <tr>\n",
       "      <th>12</th>\n",
       "      <td>13</td>\n",
       "    </tr>\n",
       "    <tr>\n",
       "      <th>13</th>\n",
       "      <td>14</td>\n",
       "    </tr>\n",
       "    <tr>\n",
       "      <th>14</th>\n",
       "      <td>15</td>\n",
       "    </tr>\n",
       "  </tbody>\n",
       "</table>\n",
       "</div>"
      ],
      "text/plain": [
       "    Store ID \n",
       "0           1\n",
       "1           2\n",
       "2           3\n",
       "3           4\n",
       "4           5\n",
       "5           6\n",
       "6           7\n",
       "7           8\n",
       "8           9\n",
       "9          10\n",
       "10         11\n",
       "11         12\n",
       "12         13\n",
       "13         14\n",
       "14         15"
      ]
     },
     "execution_count": 63,
     "metadata": {},
     "output_type": "execute_result"
    }
   ],
   "source": [
    "# Extra\n",
    "prathamesh_df.iloc[0:15,:].dropna(axis=1)"
   ]
  },
  {
   "cell_type": "code",
   "execution_count": 64,
   "id": "940417b6-c6b2-481a-a411-6799f982ea0f",
   "metadata": {
    "tags": []
   },
   "outputs": [
    {
     "data": {
      "text/html": [
       "<div>\n",
       "<style scoped>\n",
       "    .dataframe tbody tr th:only-of-type {\n",
       "        vertical-align: middle;\n",
       "    }\n",
       "\n",
       "    .dataframe tbody tr th {\n",
       "        vertical-align: top;\n",
       "    }\n",
       "\n",
       "    .dataframe thead th {\n",
       "        text-align: right;\n",
       "    }\n",
       "</style>\n",
       "<table border=\"1\" class=\"dataframe\">\n",
       "  <thead>\n",
       "    <tr style=\"text-align: right;\">\n",
       "      <th></th>\n",
       "      <th>Store ID</th>\n",
       "      <th>Store_Area</th>\n",
       "      <th>Items_Available</th>\n",
       "      <th>Daily_Customer_Count</th>\n",
       "      <th>Store_Sales</th>\n",
       "    </tr>\n",
       "  </thead>\n",
       "  <tbody>\n",
       "    <tr>\n",
       "      <th>11</th>\n",
       "      <td>12</td>\n",
       "      <td>1751.0</td>\n",
       "      <td>2098.0</td>\n",
       "      <td>720.0</td>\n",
       "      <td>57620.0</td>\n",
       "    </tr>\n",
       "    <tr>\n",
       "      <th>12</th>\n",
       "      <td>13</td>\n",
       "      <td>1746.0</td>\n",
       "      <td>2064.0</td>\n",
       "      <td>1050.0</td>\n",
       "      <td>60470.0</td>\n",
       "    </tr>\n",
       "    <tr>\n",
       "      <th>13</th>\n",
       "      <td>14</td>\n",
       "      <td>1615.0</td>\n",
       "      <td>1931.0</td>\n",
       "      <td>1160.0</td>\n",
       "      <td>59130.0</td>\n",
       "    </tr>\n",
       "    <tr>\n",
       "      <th>14</th>\n",
       "      <td>15</td>\n",
       "      <td>1469.0</td>\n",
       "      <td>1756.0</td>\n",
       "      <td>770.0</td>\n",
       "      <td>66360.0</td>\n",
       "    </tr>\n",
       "  </tbody>\n",
       "</table>\n",
       "</div>"
      ],
      "text/plain": [
       "    Store ID   Store_Area  Items_Available  Daily_Customer_Count  Store_Sales\n",
       "11         12      1751.0           2098.0                 720.0      57620.0\n",
       "12         13      1746.0           2064.0                1050.0      60470.0\n",
       "13         14      1615.0           1931.0                1160.0      59130.0\n",
       "14         15      1469.0           1756.0                 770.0      66360.0"
      ]
     },
     "execution_count": 64,
     "metadata": {},
     "output_type": "execute_result"
    }
   ],
   "source": [
    "prathamesh_df.iloc[11:15,:].dropna(axis=1) # no null data after 10"
   ]
  },
  {
   "cell_type": "code",
   "execution_count": 65,
   "id": "55456811-e36a-4bc8-a9f1-d835200a141c",
   "metadata": {
    "tags": []
   },
   "outputs": [],
   "source": [
    "prathamesh_df.dropna(axis=1, inplace=True)"
   ]
  },
  {
   "cell_type": "code",
   "execution_count": 66,
   "id": "898c40be-676b-4759-9706-91f4000380c8",
   "metadata": {
    "tags": []
   },
   "outputs": [
    {
     "data": {
      "text/html": [
       "<div>\n",
       "<style scoped>\n",
       "    .dataframe tbody tr th:only-of-type {\n",
       "        vertical-align: middle;\n",
       "    }\n",
       "\n",
       "    .dataframe tbody tr th {\n",
       "        vertical-align: top;\n",
       "    }\n",
       "\n",
       "    .dataframe thead th {\n",
       "        text-align: right;\n",
       "    }\n",
       "</style>\n",
       "<table border=\"1\" class=\"dataframe\">\n",
       "  <thead>\n",
       "    <tr style=\"text-align: right;\">\n",
       "      <th></th>\n",
       "      <th>Store ID</th>\n",
       "    </tr>\n",
       "  </thead>\n",
       "  <tbody>\n",
       "    <tr>\n",
       "      <th>0</th>\n",
       "      <td>1</td>\n",
       "    </tr>\n",
       "    <tr>\n",
       "      <th>1</th>\n",
       "      <td>2</td>\n",
       "    </tr>\n",
       "    <tr>\n",
       "      <th>2</th>\n",
       "      <td>3</td>\n",
       "    </tr>\n",
       "    <tr>\n",
       "      <th>3</th>\n",
       "      <td>4</td>\n",
       "    </tr>\n",
       "    <tr>\n",
       "      <th>4</th>\n",
       "      <td>5</td>\n",
       "    </tr>\n",
       "    <tr>\n",
       "      <th>...</th>\n",
       "      <td>...</td>\n",
       "    </tr>\n",
       "    <tr>\n",
       "      <th>891</th>\n",
       "      <td>892</td>\n",
       "    </tr>\n",
       "    <tr>\n",
       "      <th>892</th>\n",
       "      <td>893</td>\n",
       "    </tr>\n",
       "    <tr>\n",
       "      <th>893</th>\n",
       "      <td>894</td>\n",
       "    </tr>\n",
       "    <tr>\n",
       "      <th>894</th>\n",
       "      <td>895</td>\n",
       "    </tr>\n",
       "    <tr>\n",
       "      <th>895</th>\n",
       "      <td>896</td>\n",
       "    </tr>\n",
       "  </tbody>\n",
       "</table>\n",
       "<p>896 rows × 1 columns</p>\n",
       "</div>"
      ],
      "text/plain": [
       "     Store ID \n",
       "0            1\n",
       "1            2\n",
       "2            3\n",
       "3            4\n",
       "4            5\n",
       "..         ...\n",
       "891        892\n",
       "892        893\n",
       "893        894\n",
       "894        895\n",
       "895        896\n",
       "\n",
       "[896 rows x 1 columns]"
      ]
     },
     "execution_count": 66,
     "metadata": {},
     "output_type": "execute_result"
    }
   ],
   "source": [
    "prathamesh_df"
   ]
  },
  {
   "cell_type": "code",
   "execution_count": 67,
   "id": "e524306a-9e2a-4ccf-8894-3061894bd69a",
   "metadata": {
    "tags": []
   },
   "outputs": [
    {
     "data": {
      "text/html": [
       "<div>\n",
       "<style scoped>\n",
       "    .dataframe tbody tr th:only-of-type {\n",
       "        vertical-align: middle;\n",
       "    }\n",
       "\n",
       "    .dataframe tbody tr th {\n",
       "        vertical-align: top;\n",
       "    }\n",
       "\n",
       "    .dataframe thead th {\n",
       "        text-align: right;\n",
       "    }\n",
       "</style>\n",
       "<table border=\"1\" class=\"dataframe\">\n",
       "  <thead>\n",
       "    <tr style=\"text-align: right;\">\n",
       "      <th></th>\n",
       "      <th>Store ID</th>\n",
       "      <th>Store_Area</th>\n",
       "      <th>Items_Available</th>\n",
       "      <th>Daily_Customer_Count</th>\n",
       "      <th>Store_Sales</th>\n",
       "    </tr>\n",
       "  </thead>\n",
       "  <tbody>\n",
       "    <tr>\n",
       "      <th>0</th>\n",
       "      <td>1</td>\n",
       "      <td>1659.0</td>\n",
       "      <td>1961.0</td>\n",
       "      <td>NaN</td>\n",
       "      <td>66490.0</td>\n",
       "    </tr>\n",
       "    <tr>\n",
       "      <th>1</th>\n",
       "      <td>2</td>\n",
       "      <td>NaN</td>\n",
       "      <td>1752.0</td>\n",
       "      <td>210.0</td>\n",
       "      <td>39820.0</td>\n",
       "    </tr>\n",
       "    <tr>\n",
       "      <th>2</th>\n",
       "      <td>3</td>\n",
       "      <td>1340.0</td>\n",
       "      <td>1609.0</td>\n",
       "      <td>720.0</td>\n",
       "      <td>NaN</td>\n",
       "    </tr>\n",
       "    <tr>\n",
       "      <th>3</th>\n",
       "      <td>4</td>\n",
       "      <td>1451.0</td>\n",
       "      <td>1748.0</td>\n",
       "      <td>620.0</td>\n",
       "      <td>53730.0</td>\n",
       "    </tr>\n",
       "    <tr>\n",
       "      <th>4</th>\n",
       "      <td>5</td>\n",
       "      <td>1770.0</td>\n",
       "      <td>2111.0</td>\n",
       "      <td>NaN</td>\n",
       "      <td>46620.0</td>\n",
       "    </tr>\n",
       "    <tr>\n",
       "      <th>...</th>\n",
       "      <td>...</td>\n",
       "      <td>...</td>\n",
       "      <td>...</td>\n",
       "      <td>...</td>\n",
       "      <td>...</td>\n",
       "    </tr>\n",
       "    <tr>\n",
       "      <th>891</th>\n",
       "      <td>892</td>\n",
       "      <td>1582.0</td>\n",
       "      <td>1910.0</td>\n",
       "      <td>1080.0</td>\n",
       "      <td>66390.0</td>\n",
       "    </tr>\n",
       "    <tr>\n",
       "      <th>892</th>\n",
       "      <td>893</td>\n",
       "      <td>1387.0</td>\n",
       "      <td>1663.0</td>\n",
       "      <td>850.0</td>\n",
       "      <td>82080.0</td>\n",
       "    </tr>\n",
       "    <tr>\n",
       "      <th>893</th>\n",
       "      <td>894</td>\n",
       "      <td>1200.0</td>\n",
       "      <td>1436.0</td>\n",
       "      <td>1060.0</td>\n",
       "      <td>76440.0</td>\n",
       "    </tr>\n",
       "    <tr>\n",
       "      <th>894</th>\n",
       "      <td>895</td>\n",
       "      <td>1299.0</td>\n",
       "      <td>1560.0</td>\n",
       "      <td>770.0</td>\n",
       "      <td>96610.0</td>\n",
       "    </tr>\n",
       "    <tr>\n",
       "      <th>895</th>\n",
       "      <td>896</td>\n",
       "      <td>1174.0</td>\n",
       "      <td>1429.0</td>\n",
       "      <td>1110.0</td>\n",
       "      <td>54340.0</td>\n",
       "    </tr>\n",
       "  </tbody>\n",
       "</table>\n",
       "<p>896 rows × 5 columns</p>\n",
       "</div>"
      ],
      "text/plain": [
       "     Store ID   Store_Area  Items_Available  Daily_Customer_Count  Store_Sales\n",
       "0            1      1659.0           1961.0                   NaN      66490.0\n",
       "1            2         NaN           1752.0                 210.0      39820.0\n",
       "2            3      1340.0           1609.0                 720.0          NaN\n",
       "3            4      1451.0           1748.0                 620.0      53730.0\n",
       "4            5      1770.0           2111.0                   NaN      46620.0\n",
       "..         ...         ...              ...                   ...          ...\n",
       "891        892      1582.0           1910.0                1080.0      66390.0\n",
       "892        893      1387.0           1663.0                 850.0      82080.0\n",
       "893        894      1200.0           1436.0                1060.0      76440.0\n",
       "894        895      1299.0           1560.0                 770.0      96610.0\n",
       "895        896      1174.0           1429.0                1110.0      54340.0\n",
       "\n",
       "[896 rows x 5 columns]"
      ]
     },
     "execution_count": 67,
     "metadata": {},
     "output_type": "execute_result"
    }
   ],
   "source": [
    "prathamesh_df = prathamesh_pd.read_csv('./Stores_with_null.csv')\n",
    "prathamesh_df"
   ]
  },
  {
   "cell_type": "markdown",
   "id": "7c099deb-2062-43d8-9246-5231559f3447",
   "metadata": {},
   "source": [
    "## Threshold param\n",
    "Threshold Param is the count of number of values that must be in that axis for it to be not dropped.\n",
    "An example for this is say if 70 % of people have not responded to a specific quesiton in an questionaire, then the answer for that question is useless in statistical analysis. so we should drop the column."
   ]
  },
  {
   "cell_type": "code",
   "execution_count": 68,
   "id": "2cc2ecde-c533-411a-987d-47e076aa10cb",
   "metadata": {
    "tags": []
   },
   "outputs": [
    {
     "data": {
      "text/html": [
       "<div>\n",
       "<style scoped>\n",
       "    .dataframe tbody tr th:only-of-type {\n",
       "        vertical-align: middle;\n",
       "    }\n",
       "\n",
       "    .dataframe tbody tr th {\n",
       "        vertical-align: top;\n",
       "    }\n",
       "\n",
       "    .dataframe thead th {\n",
       "        text-align: right;\n",
       "    }\n",
       "</style>\n",
       "<table border=\"1\" class=\"dataframe\">\n",
       "  <thead>\n",
       "    <tr style=\"text-align: right;\">\n",
       "      <th></th>\n",
       "      <th>Store ID</th>\n",
       "      <th>Store_Area</th>\n",
       "      <th>Items_Available</th>\n",
       "      <th>Daily_Customer_Count</th>\n",
       "      <th>Store_Sales</th>\n",
       "    </tr>\n",
       "  </thead>\n",
       "  <tbody>\n",
       "    <tr>\n",
       "      <th>3</th>\n",
       "      <td>4</td>\n",
       "      <td>1451.0</td>\n",
       "      <td>1748.0</td>\n",
       "      <td>620.0</td>\n",
       "      <td>53730.0</td>\n",
       "    </tr>\n",
       "    <tr>\n",
       "      <th>6</th>\n",
       "      <td>7</td>\n",
       "      <td>1542.0</td>\n",
       "      <td>1858.0</td>\n",
       "      <td>1030.0</td>\n",
       "      <td>72240.0</td>\n",
       "    </tr>\n",
       "    <tr>\n",
       "      <th>9</th>\n",
       "      <td>10</td>\n",
       "      <td>1030.0</td>\n",
       "      <td>1235.0</td>\n",
       "      <td>1130.0</td>\n",
       "      <td>44150.0</td>\n",
       "    </tr>\n",
       "    <tr>\n",
       "      <th>11</th>\n",
       "      <td>12</td>\n",
       "      <td>1751.0</td>\n",
       "      <td>2098.0</td>\n",
       "      <td>720.0</td>\n",
       "      <td>57620.0</td>\n",
       "    </tr>\n",
       "    <tr>\n",
       "      <th>12</th>\n",
       "      <td>13</td>\n",
       "      <td>1746.0</td>\n",
       "      <td>2064.0</td>\n",
       "      <td>1050.0</td>\n",
       "      <td>60470.0</td>\n",
       "    </tr>\n",
       "    <tr>\n",
       "      <th>13</th>\n",
       "      <td>14</td>\n",
       "      <td>1615.0</td>\n",
       "      <td>1931.0</td>\n",
       "      <td>1160.0</td>\n",
       "      <td>59130.0</td>\n",
       "    </tr>\n",
       "    <tr>\n",
       "      <th>14</th>\n",
       "      <td>15</td>\n",
       "      <td>1469.0</td>\n",
       "      <td>1756.0</td>\n",
       "      <td>770.0</td>\n",
       "      <td>66360.0</td>\n",
       "    </tr>\n",
       "    <tr>\n",
       "      <th>15</th>\n",
       "      <td>16</td>\n",
       "      <td>1644.0</td>\n",
       "      <td>1950.0</td>\n",
       "      <td>790.0</td>\n",
       "      <td>78870.0</td>\n",
       "    </tr>\n",
       "    <tr>\n",
       "      <th>16</th>\n",
       "      <td>17</td>\n",
       "      <td>1578.0</td>\n",
       "      <td>1907.0</td>\n",
       "      <td>1440.0</td>\n",
       "      <td>77250.0</td>\n",
       "    </tr>\n",
       "    <tr>\n",
       "      <th>17</th>\n",
       "      <td>18</td>\n",
       "      <td>1703.0</td>\n",
       "      <td>2045.0</td>\n",
       "      <td>670.0</td>\n",
       "      <td>38170.0</td>\n",
       "    </tr>\n",
       "  </tbody>\n",
       "</table>\n",
       "</div>"
      ],
      "text/plain": [
       "    Store ID   Store_Area  Items_Available  Daily_Customer_Count  Store_Sales\n",
       "3           4      1451.0           1748.0                 620.0      53730.0\n",
       "6           7      1542.0           1858.0                1030.0      72240.0\n",
       "9          10      1030.0           1235.0                1130.0      44150.0\n",
       "11         12      1751.0           2098.0                 720.0      57620.0\n",
       "12         13      1746.0           2064.0                1050.0      60470.0\n",
       "13         14      1615.0           1931.0                1160.0      59130.0\n",
       "14         15      1469.0           1756.0                 770.0      66360.0\n",
       "15         16      1644.0           1950.0                 790.0      78870.0\n",
       "16         17      1578.0           1907.0                1440.0      77250.0\n",
       "17         18      1703.0           2045.0                 670.0      38170.0"
      ]
     },
     "execution_count": 68,
     "metadata": {},
     "output_type": "execute_result"
    }
   ],
   "source": [
    "prathamesh_df.dropna(axis=0,thresh=5).head(10)"
   ]
  },
  {
   "cell_type": "code",
   "execution_count": 69,
   "id": "ccf1e640-b2aa-4a3d-b7e5-d6a7ff42484d",
   "metadata": {
    "tags": []
   },
   "outputs": [
    {
     "data": {
      "text/html": [
       "<div>\n",
       "<style scoped>\n",
       "    .dataframe tbody tr th:only-of-type {\n",
       "        vertical-align: middle;\n",
       "    }\n",
       "\n",
       "    .dataframe tbody tr th {\n",
       "        vertical-align: top;\n",
       "    }\n",
       "\n",
       "    .dataframe thead th {\n",
       "        text-align: right;\n",
       "    }\n",
       "</style>\n",
       "<table border=\"1\" class=\"dataframe\">\n",
       "  <thead>\n",
       "    <tr style=\"text-align: right;\">\n",
       "      <th></th>\n",
       "      <th>Store ID</th>\n",
       "      <th>Store_Area</th>\n",
       "      <th>Items_Available</th>\n",
       "      <th>Daily_Customer_Count</th>\n",
       "      <th>Store_Sales</th>\n",
       "    </tr>\n",
       "  </thead>\n",
       "  <tbody>\n",
       "    <tr>\n",
       "      <th>0</th>\n",
       "      <td>1</td>\n",
       "      <td>1659.0</td>\n",
       "      <td>1961.0</td>\n",
       "      <td>NaN</td>\n",
       "      <td>66490.0</td>\n",
       "    </tr>\n",
       "    <tr>\n",
       "      <th>1</th>\n",
       "      <td>2</td>\n",
       "      <td>NaN</td>\n",
       "      <td>1752.0</td>\n",
       "      <td>210.0</td>\n",
       "      <td>39820.0</td>\n",
       "    </tr>\n",
       "    <tr>\n",
       "      <th>2</th>\n",
       "      <td>3</td>\n",
       "      <td>1340.0</td>\n",
       "      <td>1609.0</td>\n",
       "      <td>720.0</td>\n",
       "      <td>NaN</td>\n",
       "    </tr>\n",
       "    <tr>\n",
       "      <th>3</th>\n",
       "      <td>4</td>\n",
       "      <td>1451.0</td>\n",
       "      <td>1748.0</td>\n",
       "      <td>620.0</td>\n",
       "      <td>53730.0</td>\n",
       "    </tr>\n",
       "    <tr>\n",
       "      <th>4</th>\n",
       "      <td>5</td>\n",
       "      <td>1770.0</td>\n",
       "      <td>2111.0</td>\n",
       "      <td>NaN</td>\n",
       "      <td>46620.0</td>\n",
       "    </tr>\n",
       "    <tr>\n",
       "      <th>5</th>\n",
       "      <td>6</td>\n",
       "      <td>NaN</td>\n",
       "      <td>NaN</td>\n",
       "      <td>NaN</td>\n",
       "      <td>45260.0</td>\n",
       "    </tr>\n",
       "    <tr>\n",
       "      <th>6</th>\n",
       "      <td>7</td>\n",
       "      <td>1542.0</td>\n",
       "      <td>1858.0</td>\n",
       "      <td>1030.0</td>\n",
       "      <td>72240.0</td>\n",
       "    </tr>\n",
       "    <tr>\n",
       "      <th>7</th>\n",
       "      <td>8</td>\n",
       "      <td>1261.0</td>\n",
       "      <td>1507.0</td>\n",
       "      <td>1020.0</td>\n",
       "      <td>NaN</td>\n",
       "    </tr>\n",
       "    <tr>\n",
       "      <th>8</th>\n",
       "      <td>9</td>\n",
       "      <td>NaN</td>\n",
       "      <td>1321.0</td>\n",
       "      <td>680.0</td>\n",
       "      <td>46310.0</td>\n",
       "    </tr>\n",
       "    <tr>\n",
       "      <th>9</th>\n",
       "      <td>10</td>\n",
       "      <td>1030.0</td>\n",
       "      <td>1235.0</td>\n",
       "      <td>1130.0</td>\n",
       "      <td>44150.0</td>\n",
       "    </tr>\n",
       "  </tbody>\n",
       "</table>\n",
       "</div>"
      ],
      "text/plain": [
       "   Store ID   Store_Area  Items_Available  Daily_Customer_Count  Store_Sales\n",
       "0          1      1659.0           1961.0                   NaN      66490.0\n",
       "1          2         NaN           1752.0                 210.0      39820.0\n",
       "2          3      1340.0           1609.0                 720.0          NaN\n",
       "3          4      1451.0           1748.0                 620.0      53730.0\n",
       "4          5      1770.0           2111.0                   NaN      46620.0\n",
       "5          6         NaN              NaN                   NaN      45260.0\n",
       "6          7      1542.0           1858.0                1030.0      72240.0\n",
       "7          8      1261.0           1507.0                1020.0          NaN\n",
       "8          9         NaN           1321.0                 680.0      46310.0\n",
       "9         10      1030.0           1235.0                1130.0      44150.0"
      ]
     },
     "execution_count": 69,
     "metadata": {},
     "output_type": "execute_result"
    }
   ],
   "source": [
    "prathamesh_df.dropna(axis=0,thresh=1).head(10)"
   ]
  },
  {
   "cell_type": "code",
   "execution_count": 70,
   "id": "a9996fda-d758-4410-8790-4fe82c96c0a0",
   "metadata": {
    "tags": []
   },
   "outputs": [
    {
     "data": {
      "text/html": [
       "<div>\n",
       "<style scoped>\n",
       "    .dataframe tbody tr th:only-of-type {\n",
       "        vertical-align: middle;\n",
       "    }\n",
       "\n",
       "    .dataframe tbody tr th {\n",
       "        vertical-align: top;\n",
       "    }\n",
       "\n",
       "    .dataframe thead th {\n",
       "        text-align: right;\n",
       "    }\n",
       "</style>\n",
       "<table border=\"1\" class=\"dataframe\">\n",
       "  <thead>\n",
       "    <tr style=\"text-align: right;\">\n",
       "      <th></th>\n",
       "      <th>Store ID</th>\n",
       "      <th>Store_Area</th>\n",
       "      <th>Items_Available</th>\n",
       "      <th>Daily_Customer_Count</th>\n",
       "      <th>Store_Sales</th>\n",
       "    </tr>\n",
       "  </thead>\n",
       "  <tbody>\n",
       "    <tr>\n",
       "      <th>0</th>\n",
       "      <td>1</td>\n",
       "      <td>1659.0</td>\n",
       "      <td>1961.0</td>\n",
       "      <td>NaN</td>\n",
       "      <td>66490.0</td>\n",
       "    </tr>\n",
       "    <tr>\n",
       "      <th>1</th>\n",
       "      <td>2</td>\n",
       "      <td>NaN</td>\n",
       "      <td>1752.0</td>\n",
       "      <td>210.0</td>\n",
       "      <td>39820.0</td>\n",
       "    </tr>\n",
       "    <tr>\n",
       "      <th>2</th>\n",
       "      <td>3</td>\n",
       "      <td>1340.0</td>\n",
       "      <td>1609.0</td>\n",
       "      <td>720.0</td>\n",
       "      <td>NaN</td>\n",
       "    </tr>\n",
       "    <tr>\n",
       "      <th>3</th>\n",
       "      <td>4</td>\n",
       "      <td>1451.0</td>\n",
       "      <td>1748.0</td>\n",
       "      <td>620.0</td>\n",
       "      <td>53730.0</td>\n",
       "    </tr>\n",
       "    <tr>\n",
       "      <th>4</th>\n",
       "      <td>5</td>\n",
       "      <td>1770.0</td>\n",
       "      <td>2111.0</td>\n",
       "      <td>NaN</td>\n",
       "      <td>46620.0</td>\n",
       "    </tr>\n",
       "    <tr>\n",
       "      <th>...</th>\n",
       "      <td>...</td>\n",
       "      <td>...</td>\n",
       "      <td>...</td>\n",
       "      <td>...</td>\n",
       "      <td>...</td>\n",
       "    </tr>\n",
       "    <tr>\n",
       "      <th>891</th>\n",
       "      <td>892</td>\n",
       "      <td>1582.0</td>\n",
       "      <td>1910.0</td>\n",
       "      <td>1080.0</td>\n",
       "      <td>66390.0</td>\n",
       "    </tr>\n",
       "    <tr>\n",
       "      <th>892</th>\n",
       "      <td>893</td>\n",
       "      <td>1387.0</td>\n",
       "      <td>1663.0</td>\n",
       "      <td>850.0</td>\n",
       "      <td>82080.0</td>\n",
       "    </tr>\n",
       "    <tr>\n",
       "      <th>893</th>\n",
       "      <td>894</td>\n",
       "      <td>1200.0</td>\n",
       "      <td>1436.0</td>\n",
       "      <td>1060.0</td>\n",
       "      <td>76440.0</td>\n",
       "    </tr>\n",
       "    <tr>\n",
       "      <th>894</th>\n",
       "      <td>895</td>\n",
       "      <td>1299.0</td>\n",
       "      <td>1560.0</td>\n",
       "      <td>770.0</td>\n",
       "      <td>96610.0</td>\n",
       "    </tr>\n",
       "    <tr>\n",
       "      <th>895</th>\n",
       "      <td>896</td>\n",
       "      <td>1174.0</td>\n",
       "      <td>1429.0</td>\n",
       "      <td>1110.0</td>\n",
       "      <td>54340.0</td>\n",
       "    </tr>\n",
       "  </tbody>\n",
       "</table>\n",
       "<p>896 rows × 5 columns</p>\n",
       "</div>"
      ],
      "text/plain": [
       "     Store ID   Store_Area  Items_Available  Daily_Customer_Count  Store_Sales\n",
       "0            1      1659.0           1961.0                   NaN      66490.0\n",
       "1            2         NaN           1752.0                 210.0      39820.0\n",
       "2            3      1340.0           1609.0                 720.0          NaN\n",
       "3            4      1451.0           1748.0                 620.0      53730.0\n",
       "4            5      1770.0           2111.0                   NaN      46620.0\n",
       "..         ...         ...              ...                   ...          ...\n",
       "891        892      1582.0           1910.0                1080.0      66390.0\n",
       "892        893      1387.0           1663.0                 850.0      82080.0\n",
       "893        894      1200.0           1436.0                1060.0      76440.0\n",
       "894        895      1299.0           1560.0                 770.0      96610.0\n",
       "895        896      1174.0           1429.0                1110.0      54340.0\n",
       "\n",
       "[896 rows x 5 columns]"
      ]
     },
     "execution_count": 70,
     "metadata": {},
     "output_type": "execute_result"
    }
   ],
   "source": [
    "prathamesh_df"
   ]
  },
  {
   "cell_type": "markdown",
   "id": "4a984bfe-8631-41eb-95cf-b10d73956ddc",
   "metadata": {},
   "source": [
    "## Fillna\n",
    "fillna function fills all null values with some value given. We can also use methods of filling instead of value. The methods for filling are as follows:\n",
    "1. value: In this method, we pass the value kwarg to the function. It returns a dataframe with all null values replaced with the given value.\n",
    "2. ffill: In this method, we pass a kwarg method with ffill. this fills all null values with values in front of the null value. in ffill, last row with null values stay null as there is nothing to fill those with.\n",
    "3. bfill: It is same as ffill but with values behind. In bfill, first row remains null as there is nothing to fill those with.\n",
    "We have more params in fillna. \n",
    "1. We can use limit param to limit the number of rows filled with fillna.\n",
    "We can also use value method to fill values with different statistical functions for the data such as mean, median or mode."
   ]
  },
  {
   "cell_type": "code",
   "execution_count": 71,
   "id": "5deed85f-d0cf-48a8-ae39-96e588c01033",
   "metadata": {
    "tags": []
   },
   "outputs": [
    {
     "data": {
      "text/html": [
       "<div>\n",
       "<style scoped>\n",
       "    .dataframe tbody tr th:only-of-type {\n",
       "        vertical-align: middle;\n",
       "    }\n",
       "\n",
       "    .dataframe tbody tr th {\n",
       "        vertical-align: top;\n",
       "    }\n",
       "\n",
       "    .dataframe thead th {\n",
       "        text-align: right;\n",
       "    }\n",
       "</style>\n",
       "<table border=\"1\" class=\"dataframe\">\n",
       "  <thead>\n",
       "    <tr style=\"text-align: right;\">\n",
       "      <th></th>\n",
       "      <th>Store ID</th>\n",
       "      <th>Store_Area</th>\n",
       "      <th>Items_Available</th>\n",
       "      <th>Daily_Customer_Count</th>\n",
       "      <th>Store_Sales</th>\n",
       "    </tr>\n",
       "  </thead>\n",
       "  <tbody>\n",
       "    <tr>\n",
       "      <th>0</th>\n",
       "      <td>1</td>\n",
       "      <td>1659.0</td>\n",
       "      <td>1961.0</td>\n",
       "      <td>-99.0</td>\n",
       "      <td>66490.0</td>\n",
       "    </tr>\n",
       "    <tr>\n",
       "      <th>1</th>\n",
       "      <td>2</td>\n",
       "      <td>-99.0</td>\n",
       "      <td>1752.0</td>\n",
       "      <td>210.0</td>\n",
       "      <td>39820.0</td>\n",
       "    </tr>\n",
       "    <tr>\n",
       "      <th>2</th>\n",
       "      <td>3</td>\n",
       "      <td>1340.0</td>\n",
       "      <td>1609.0</td>\n",
       "      <td>720.0</td>\n",
       "      <td>-99.0</td>\n",
       "    </tr>\n",
       "    <tr>\n",
       "      <th>3</th>\n",
       "      <td>4</td>\n",
       "      <td>1451.0</td>\n",
       "      <td>1748.0</td>\n",
       "      <td>620.0</td>\n",
       "      <td>53730.0</td>\n",
       "    </tr>\n",
       "    <tr>\n",
       "      <th>4</th>\n",
       "      <td>5</td>\n",
       "      <td>1770.0</td>\n",
       "      <td>2111.0</td>\n",
       "      <td>-99.0</td>\n",
       "      <td>46620.0</td>\n",
       "    </tr>\n",
       "    <tr>\n",
       "      <th>...</th>\n",
       "      <td>...</td>\n",
       "      <td>...</td>\n",
       "      <td>...</td>\n",
       "      <td>...</td>\n",
       "      <td>...</td>\n",
       "    </tr>\n",
       "    <tr>\n",
       "      <th>891</th>\n",
       "      <td>892</td>\n",
       "      <td>1582.0</td>\n",
       "      <td>1910.0</td>\n",
       "      <td>1080.0</td>\n",
       "      <td>66390.0</td>\n",
       "    </tr>\n",
       "    <tr>\n",
       "      <th>892</th>\n",
       "      <td>893</td>\n",
       "      <td>1387.0</td>\n",
       "      <td>1663.0</td>\n",
       "      <td>850.0</td>\n",
       "      <td>82080.0</td>\n",
       "    </tr>\n",
       "    <tr>\n",
       "      <th>893</th>\n",
       "      <td>894</td>\n",
       "      <td>1200.0</td>\n",
       "      <td>1436.0</td>\n",
       "      <td>1060.0</td>\n",
       "      <td>76440.0</td>\n",
       "    </tr>\n",
       "    <tr>\n",
       "      <th>894</th>\n",
       "      <td>895</td>\n",
       "      <td>1299.0</td>\n",
       "      <td>1560.0</td>\n",
       "      <td>770.0</td>\n",
       "      <td>96610.0</td>\n",
       "    </tr>\n",
       "    <tr>\n",
       "      <th>895</th>\n",
       "      <td>896</td>\n",
       "      <td>1174.0</td>\n",
       "      <td>1429.0</td>\n",
       "      <td>1110.0</td>\n",
       "      <td>54340.0</td>\n",
       "    </tr>\n",
       "  </tbody>\n",
       "</table>\n",
       "<p>896 rows × 5 columns</p>\n",
       "</div>"
      ],
      "text/plain": [
       "     Store ID   Store_Area  Items_Available  Daily_Customer_Count  Store_Sales\n",
       "0            1      1659.0           1961.0                 -99.0      66490.0\n",
       "1            2       -99.0           1752.0                 210.0      39820.0\n",
       "2            3      1340.0           1609.0                 720.0        -99.0\n",
       "3            4      1451.0           1748.0                 620.0      53730.0\n",
       "4            5      1770.0           2111.0                 -99.0      46620.0\n",
       "..         ...         ...              ...                   ...          ...\n",
       "891        892      1582.0           1910.0                1080.0      66390.0\n",
       "892        893      1387.0           1663.0                 850.0      82080.0\n",
       "893        894      1200.0           1436.0                1060.0      76440.0\n",
       "894        895      1299.0           1560.0                 770.0      96610.0\n",
       "895        896      1174.0           1429.0                1110.0      54340.0\n",
       "\n",
       "[896 rows x 5 columns]"
      ]
     },
     "execution_count": 71,
     "metadata": {},
     "output_type": "execute_result"
    }
   ],
   "source": [
    "prathamesh_df.fillna(value=-99)"
   ]
  },
  {
   "cell_type": "code",
   "execution_count": 72,
   "id": "44b8b9bf-9852-45ae-a5d9-dc5d6afce8d3",
   "metadata": {
    "tags": []
   },
   "outputs": [
    {
     "data": {
      "text/html": [
       "<div>\n",
       "<style scoped>\n",
       "    .dataframe tbody tr th:only-of-type {\n",
       "        vertical-align: middle;\n",
       "    }\n",
       "\n",
       "    .dataframe tbody tr th {\n",
       "        vertical-align: top;\n",
       "    }\n",
       "\n",
       "    .dataframe thead th {\n",
       "        text-align: right;\n",
       "    }\n",
       "</style>\n",
       "<table border=\"1\" class=\"dataframe\">\n",
       "  <thead>\n",
       "    <tr style=\"text-align: right;\">\n",
       "      <th></th>\n",
       "      <th>Store ID</th>\n",
       "      <th>Store_Area</th>\n",
       "      <th>Items_Available</th>\n",
       "      <th>Daily_Customer_Count</th>\n",
       "      <th>Store_Sales</th>\n",
       "    </tr>\n",
       "  </thead>\n",
       "  <tbody>\n",
       "    <tr>\n",
       "      <th>0</th>\n",
       "      <td>1</td>\n",
       "      <td>1659.0</td>\n",
       "      <td>1961.0</td>\n",
       "      <td>no value</td>\n",
       "      <td>66490.0</td>\n",
       "    </tr>\n",
       "    <tr>\n",
       "      <th>1</th>\n",
       "      <td>2</td>\n",
       "      <td>no value</td>\n",
       "      <td>1752.0</td>\n",
       "      <td>210.0</td>\n",
       "      <td>39820.0</td>\n",
       "    </tr>\n",
       "    <tr>\n",
       "      <th>2</th>\n",
       "      <td>3</td>\n",
       "      <td>1340.0</td>\n",
       "      <td>1609.0</td>\n",
       "      <td>720.0</td>\n",
       "      <td>no value</td>\n",
       "    </tr>\n",
       "    <tr>\n",
       "      <th>3</th>\n",
       "      <td>4</td>\n",
       "      <td>1451.0</td>\n",
       "      <td>1748.0</td>\n",
       "      <td>620.0</td>\n",
       "      <td>53730.0</td>\n",
       "    </tr>\n",
       "    <tr>\n",
       "      <th>4</th>\n",
       "      <td>5</td>\n",
       "      <td>1770.0</td>\n",
       "      <td>2111.0</td>\n",
       "      <td>no value</td>\n",
       "      <td>46620.0</td>\n",
       "    </tr>\n",
       "    <tr>\n",
       "      <th>...</th>\n",
       "      <td>...</td>\n",
       "      <td>...</td>\n",
       "      <td>...</td>\n",
       "      <td>...</td>\n",
       "      <td>...</td>\n",
       "    </tr>\n",
       "    <tr>\n",
       "      <th>891</th>\n",
       "      <td>892</td>\n",
       "      <td>1582.0</td>\n",
       "      <td>1910.0</td>\n",
       "      <td>1080.0</td>\n",
       "      <td>66390.0</td>\n",
       "    </tr>\n",
       "    <tr>\n",
       "      <th>892</th>\n",
       "      <td>893</td>\n",
       "      <td>1387.0</td>\n",
       "      <td>1663.0</td>\n",
       "      <td>850.0</td>\n",
       "      <td>82080.0</td>\n",
       "    </tr>\n",
       "    <tr>\n",
       "      <th>893</th>\n",
       "      <td>894</td>\n",
       "      <td>1200.0</td>\n",
       "      <td>1436.0</td>\n",
       "      <td>1060.0</td>\n",
       "      <td>76440.0</td>\n",
       "    </tr>\n",
       "    <tr>\n",
       "      <th>894</th>\n",
       "      <td>895</td>\n",
       "      <td>1299.0</td>\n",
       "      <td>1560.0</td>\n",
       "      <td>770.0</td>\n",
       "      <td>96610.0</td>\n",
       "    </tr>\n",
       "    <tr>\n",
       "      <th>895</th>\n",
       "      <td>896</td>\n",
       "      <td>1174.0</td>\n",
       "      <td>1429.0</td>\n",
       "      <td>1110.0</td>\n",
       "      <td>54340.0</td>\n",
       "    </tr>\n",
       "  </tbody>\n",
       "</table>\n",
       "<p>896 rows × 5 columns</p>\n",
       "</div>"
      ],
      "text/plain": [
       "     Store ID  Store_Area Items_Available Daily_Customer_Count Store_Sales\n",
       "0            1     1659.0          1961.0             no value     66490.0\n",
       "1            2   no value          1752.0                210.0     39820.0\n",
       "2            3     1340.0          1609.0                720.0    no value\n",
       "3            4     1451.0          1748.0                620.0     53730.0\n",
       "4            5     1770.0          2111.0             no value     46620.0\n",
       "..         ...        ...             ...                  ...         ...\n",
       "891        892     1582.0          1910.0               1080.0     66390.0\n",
       "892        893     1387.0          1663.0                850.0     82080.0\n",
       "893        894     1200.0          1436.0               1060.0     76440.0\n",
       "894        895     1299.0          1560.0                770.0     96610.0\n",
       "895        896     1174.0          1429.0               1110.0     54340.0\n",
       "\n",
       "[896 rows x 5 columns]"
      ]
     },
     "execution_count": 72,
     "metadata": {},
     "output_type": "execute_result"
    }
   ],
   "source": [
    "prathamesh_df.fillna(value=\"no value\")"
   ]
  },
  {
   "cell_type": "code",
   "execution_count": 73,
   "id": "cacdc0d5-0a5f-42f5-84aa-864f4fe11220",
   "metadata": {
    "tags": []
   },
   "outputs": [
    {
     "data": {
      "text/plain": [
       "0      1659.000000\n",
       "1      1485.928331\n",
       "2      1340.000000\n",
       "3      1451.000000\n",
       "4      1770.000000\n",
       "          ...     \n",
       "891    1582.000000\n",
       "892    1387.000000\n",
       "893    1200.000000\n",
       "894    1299.000000\n",
       "895    1174.000000\n",
       "Name: Store_Area, Length: 896, dtype: float64"
      ]
     },
     "execution_count": 73,
     "metadata": {},
     "output_type": "execute_result"
    }
   ],
   "source": [
    "prathamesh_df['Store_Area'].fillna(value=prathamesh_df['Store_Area'].mean())"
   ]
  },
  {
   "cell_type": "code",
   "execution_count": 74,
   "id": "7f51332c-8a81-4479-81c0-ade5b9b25d9a",
   "metadata": {
    "tags": []
   },
   "outputs": [
    {
     "data": {
      "text/html": [
       "<div>\n",
       "<style scoped>\n",
       "    .dataframe tbody tr th:only-of-type {\n",
       "        vertical-align: middle;\n",
       "    }\n",
       "\n",
       "    .dataframe tbody tr th {\n",
       "        vertical-align: top;\n",
       "    }\n",
       "\n",
       "    .dataframe thead th {\n",
       "        text-align: right;\n",
       "    }\n",
       "</style>\n",
       "<table border=\"1\" class=\"dataframe\">\n",
       "  <thead>\n",
       "    <tr style=\"text-align: right;\">\n",
       "      <th></th>\n",
       "      <th>Store ID</th>\n",
       "      <th>Store_Area</th>\n",
       "      <th>Items_Available</th>\n",
       "      <th>Daily_Customer_Count</th>\n",
       "      <th>Store_Sales</th>\n",
       "    </tr>\n",
       "  </thead>\n",
       "  <tbody>\n",
       "    <tr>\n",
       "      <th>0</th>\n",
       "      <td>1</td>\n",
       "      <td>1659.0</td>\n",
       "      <td>1961.0</td>\n",
       "      <td>NaN</td>\n",
       "      <td>66490.0</td>\n",
       "    </tr>\n",
       "    <tr>\n",
       "      <th>1</th>\n",
       "      <td>2</td>\n",
       "      <td>1659.0</td>\n",
       "      <td>1752.0</td>\n",
       "      <td>210.0</td>\n",
       "      <td>39820.0</td>\n",
       "    </tr>\n",
       "    <tr>\n",
       "      <th>2</th>\n",
       "      <td>3</td>\n",
       "      <td>1340.0</td>\n",
       "      <td>1609.0</td>\n",
       "      <td>720.0</td>\n",
       "      <td>39820.0</td>\n",
       "    </tr>\n",
       "    <tr>\n",
       "      <th>3</th>\n",
       "      <td>4</td>\n",
       "      <td>1451.0</td>\n",
       "      <td>1748.0</td>\n",
       "      <td>620.0</td>\n",
       "      <td>53730.0</td>\n",
       "    </tr>\n",
       "    <tr>\n",
       "      <th>4</th>\n",
       "      <td>5</td>\n",
       "      <td>1770.0</td>\n",
       "      <td>2111.0</td>\n",
       "      <td>620.0</td>\n",
       "      <td>46620.0</td>\n",
       "    </tr>\n",
       "    <tr>\n",
       "      <th>...</th>\n",
       "      <td>...</td>\n",
       "      <td>...</td>\n",
       "      <td>...</td>\n",
       "      <td>...</td>\n",
       "      <td>...</td>\n",
       "    </tr>\n",
       "    <tr>\n",
       "      <th>891</th>\n",
       "      <td>892</td>\n",
       "      <td>1582.0</td>\n",
       "      <td>1910.0</td>\n",
       "      <td>1080.0</td>\n",
       "      <td>66390.0</td>\n",
       "    </tr>\n",
       "    <tr>\n",
       "      <th>892</th>\n",
       "      <td>893</td>\n",
       "      <td>1387.0</td>\n",
       "      <td>1663.0</td>\n",
       "      <td>850.0</td>\n",
       "      <td>82080.0</td>\n",
       "    </tr>\n",
       "    <tr>\n",
       "      <th>893</th>\n",
       "      <td>894</td>\n",
       "      <td>1200.0</td>\n",
       "      <td>1436.0</td>\n",
       "      <td>1060.0</td>\n",
       "      <td>76440.0</td>\n",
       "    </tr>\n",
       "    <tr>\n",
       "      <th>894</th>\n",
       "      <td>895</td>\n",
       "      <td>1299.0</td>\n",
       "      <td>1560.0</td>\n",
       "      <td>770.0</td>\n",
       "      <td>96610.0</td>\n",
       "    </tr>\n",
       "    <tr>\n",
       "      <th>895</th>\n",
       "      <td>896</td>\n",
       "      <td>1174.0</td>\n",
       "      <td>1429.0</td>\n",
       "      <td>1110.0</td>\n",
       "      <td>54340.0</td>\n",
       "    </tr>\n",
       "  </tbody>\n",
       "</table>\n",
       "<p>896 rows × 5 columns</p>\n",
       "</div>"
      ],
      "text/plain": [
       "     Store ID   Store_Area  Items_Available  Daily_Customer_Count  Store_Sales\n",
       "0            1      1659.0           1961.0                   NaN      66490.0\n",
       "1            2      1659.0           1752.0                 210.0      39820.0\n",
       "2            3      1340.0           1609.0                 720.0      39820.0\n",
       "3            4      1451.0           1748.0                 620.0      53730.0\n",
       "4            5      1770.0           2111.0                 620.0      46620.0\n",
       "..         ...         ...              ...                   ...          ...\n",
       "891        892      1582.0           1910.0                1080.0      66390.0\n",
       "892        893      1387.0           1663.0                 850.0      82080.0\n",
       "893        894      1200.0           1436.0                1060.0      76440.0\n",
       "894        895      1299.0           1560.0                 770.0      96610.0\n",
       "895        896      1174.0           1429.0                1110.0      54340.0\n",
       "\n",
       "[896 rows x 5 columns]"
      ]
     },
     "execution_count": 74,
     "metadata": {},
     "output_type": "execute_result"
    }
   ],
   "source": [
    "prathamesh_df.fillna(method='pad')"
   ]
  },
  {
   "cell_type": "code",
   "execution_count": 75,
   "id": "ab224e6f-aad2-47fc-a669-b063a4e64665",
   "metadata": {
    "tags": []
   },
   "outputs": [],
   "source": [
    "prathamesh_df = prathamesh_pd.read_csv('./Stores_with_null.csv')"
   ]
  },
  {
   "cell_type": "code",
   "execution_count": 76,
   "id": "296fefe5-fb08-400d-abb7-aed3a7c135dc",
   "metadata": {
    "tags": []
   },
   "outputs": [
    {
     "data": {
      "text/html": [
       "<div>\n",
       "<style scoped>\n",
       "    .dataframe tbody tr th:only-of-type {\n",
       "        vertical-align: middle;\n",
       "    }\n",
       "\n",
       "    .dataframe tbody tr th {\n",
       "        vertical-align: top;\n",
       "    }\n",
       "\n",
       "    .dataframe thead th {\n",
       "        text-align: right;\n",
       "    }\n",
       "</style>\n",
       "<table border=\"1\" class=\"dataframe\">\n",
       "  <thead>\n",
       "    <tr style=\"text-align: right;\">\n",
       "      <th></th>\n",
       "      <th>Store ID</th>\n",
       "      <th>Store_Area</th>\n",
       "      <th>Items_Available</th>\n",
       "      <th>Daily_Customer_Count</th>\n",
       "      <th>Store_Sales</th>\n",
       "    </tr>\n",
       "  </thead>\n",
       "  <tbody>\n",
       "    <tr>\n",
       "      <th>0</th>\n",
       "      <td>1</td>\n",
       "      <td>1659.0</td>\n",
       "      <td>1961.0</td>\n",
       "      <td>210.0</td>\n",
       "      <td>66490.0</td>\n",
       "    </tr>\n",
       "    <tr>\n",
       "      <th>1</th>\n",
       "      <td>2</td>\n",
       "      <td>1340.0</td>\n",
       "      <td>1752.0</td>\n",
       "      <td>210.0</td>\n",
       "      <td>39820.0</td>\n",
       "    </tr>\n",
       "    <tr>\n",
       "      <th>2</th>\n",
       "      <td>3</td>\n",
       "      <td>1340.0</td>\n",
       "      <td>1609.0</td>\n",
       "      <td>720.0</td>\n",
       "      <td>53730.0</td>\n",
       "    </tr>\n",
       "    <tr>\n",
       "      <th>3</th>\n",
       "      <td>4</td>\n",
       "      <td>1451.0</td>\n",
       "      <td>1748.0</td>\n",
       "      <td>620.0</td>\n",
       "      <td>53730.0</td>\n",
       "    </tr>\n",
       "    <tr>\n",
       "      <th>4</th>\n",
       "      <td>5</td>\n",
       "      <td>1770.0</td>\n",
       "      <td>2111.0</td>\n",
       "      <td>1030.0</td>\n",
       "      <td>46620.0</td>\n",
       "    </tr>\n",
       "    <tr>\n",
       "      <th>...</th>\n",
       "      <td>...</td>\n",
       "      <td>...</td>\n",
       "      <td>...</td>\n",
       "      <td>...</td>\n",
       "      <td>...</td>\n",
       "    </tr>\n",
       "    <tr>\n",
       "      <th>891</th>\n",
       "      <td>892</td>\n",
       "      <td>1582.0</td>\n",
       "      <td>1910.0</td>\n",
       "      <td>1080.0</td>\n",
       "      <td>66390.0</td>\n",
       "    </tr>\n",
       "    <tr>\n",
       "      <th>892</th>\n",
       "      <td>893</td>\n",
       "      <td>1387.0</td>\n",
       "      <td>1663.0</td>\n",
       "      <td>850.0</td>\n",
       "      <td>82080.0</td>\n",
       "    </tr>\n",
       "    <tr>\n",
       "      <th>893</th>\n",
       "      <td>894</td>\n",
       "      <td>1200.0</td>\n",
       "      <td>1436.0</td>\n",
       "      <td>1060.0</td>\n",
       "      <td>76440.0</td>\n",
       "    </tr>\n",
       "    <tr>\n",
       "      <th>894</th>\n",
       "      <td>895</td>\n",
       "      <td>1299.0</td>\n",
       "      <td>1560.0</td>\n",
       "      <td>770.0</td>\n",
       "      <td>96610.0</td>\n",
       "    </tr>\n",
       "    <tr>\n",
       "      <th>895</th>\n",
       "      <td>896</td>\n",
       "      <td>1174.0</td>\n",
       "      <td>1429.0</td>\n",
       "      <td>1110.0</td>\n",
       "      <td>54340.0</td>\n",
       "    </tr>\n",
       "  </tbody>\n",
       "</table>\n",
       "<p>896 rows × 5 columns</p>\n",
       "</div>"
      ],
      "text/plain": [
       "     Store ID   Store_Area  Items_Available  Daily_Customer_Count  Store_Sales\n",
       "0            1      1659.0           1961.0                 210.0      66490.0\n",
       "1            2      1340.0           1752.0                 210.0      39820.0\n",
       "2            3      1340.0           1609.0                 720.0      53730.0\n",
       "3            4      1451.0           1748.0                 620.0      53730.0\n",
       "4            5      1770.0           2111.0                1030.0      46620.0\n",
       "..         ...         ...              ...                   ...          ...\n",
       "891        892      1582.0           1910.0                1080.0      66390.0\n",
       "892        893      1387.0           1663.0                 850.0      82080.0\n",
       "893        894      1200.0           1436.0                1060.0      76440.0\n",
       "894        895      1299.0           1560.0                 770.0      96610.0\n",
       "895        896      1174.0           1429.0                1110.0      54340.0\n",
       "\n",
       "[896 rows x 5 columns]"
      ]
     },
     "execution_count": 76,
     "metadata": {},
     "output_type": "execute_result"
    }
   ],
   "source": [
    "prathamesh_df.fillna(method='bfill')"
   ]
  },
  {
   "cell_type": "markdown",
   "id": "e024a462-9a36-4f8d-a482-975931236313",
   "metadata": {},
   "source": [
    "## Replace\n",
    "We can use the replace function to replace any given value with another. "
   ]
  },
  {
   "cell_type": "code",
   "execution_count": 77,
   "id": "c88dd2a2-59d4-4913-97b2-5a461d64319b",
   "metadata": {
    "tags": []
   },
   "outputs": [
    {
     "data": {
      "text/html": [
       "<div>\n",
       "<style scoped>\n",
       "    .dataframe tbody tr th:only-of-type {\n",
       "        vertical-align: middle;\n",
       "    }\n",
       "\n",
       "    .dataframe tbody tr th {\n",
       "        vertical-align: top;\n",
       "    }\n",
       "\n",
       "    .dataframe thead th {\n",
       "        text-align: right;\n",
       "    }\n",
       "</style>\n",
       "<table border=\"1\" class=\"dataframe\">\n",
       "  <thead>\n",
       "    <tr style=\"text-align: right;\">\n",
       "      <th></th>\n",
       "      <th>Store ID</th>\n",
       "      <th>Store_Area</th>\n",
       "      <th>Items_Available</th>\n",
       "      <th>Daily_Customer_Count</th>\n",
       "      <th>Store_Sales</th>\n",
       "    </tr>\n",
       "  </thead>\n",
       "  <tbody>\n",
       "    <tr>\n",
       "      <th>0</th>\n",
       "      <td>1</td>\n",
       "      <td>1659.0</td>\n",
       "      <td>1961.0</td>\n",
       "      <td>-99.0</td>\n",
       "      <td>66490.0</td>\n",
       "    </tr>\n",
       "    <tr>\n",
       "      <th>1</th>\n",
       "      <td>2</td>\n",
       "      <td>-99.0</td>\n",
       "      <td>1752.0</td>\n",
       "      <td>210.0</td>\n",
       "      <td>39820.0</td>\n",
       "    </tr>\n",
       "    <tr>\n",
       "      <th>2</th>\n",
       "      <td>3</td>\n",
       "      <td>1340.0</td>\n",
       "      <td>1609.0</td>\n",
       "      <td>720.0</td>\n",
       "      <td>-99.0</td>\n",
       "    </tr>\n",
       "    <tr>\n",
       "      <th>3</th>\n",
       "      <td>4</td>\n",
       "      <td>1451.0</td>\n",
       "      <td>1748.0</td>\n",
       "      <td>620.0</td>\n",
       "      <td>53730.0</td>\n",
       "    </tr>\n",
       "    <tr>\n",
       "      <th>4</th>\n",
       "      <td>5</td>\n",
       "      <td>1770.0</td>\n",
       "      <td>2111.0</td>\n",
       "      <td>-99.0</td>\n",
       "      <td>46620.0</td>\n",
       "    </tr>\n",
       "    <tr>\n",
       "      <th>...</th>\n",
       "      <td>...</td>\n",
       "      <td>...</td>\n",
       "      <td>...</td>\n",
       "      <td>...</td>\n",
       "      <td>...</td>\n",
       "    </tr>\n",
       "    <tr>\n",
       "      <th>891</th>\n",
       "      <td>892</td>\n",
       "      <td>1582.0</td>\n",
       "      <td>1910.0</td>\n",
       "      <td>1080.0</td>\n",
       "      <td>66390.0</td>\n",
       "    </tr>\n",
       "    <tr>\n",
       "      <th>892</th>\n",
       "      <td>893</td>\n",
       "      <td>1387.0</td>\n",
       "      <td>1663.0</td>\n",
       "      <td>850.0</td>\n",
       "      <td>82080.0</td>\n",
       "    </tr>\n",
       "    <tr>\n",
       "      <th>893</th>\n",
       "      <td>894</td>\n",
       "      <td>1200.0</td>\n",
       "      <td>1436.0</td>\n",
       "      <td>1060.0</td>\n",
       "      <td>76440.0</td>\n",
       "    </tr>\n",
       "    <tr>\n",
       "      <th>894</th>\n",
       "      <td>895</td>\n",
       "      <td>1299.0</td>\n",
       "      <td>1560.0</td>\n",
       "      <td>770.0</td>\n",
       "      <td>96610.0</td>\n",
       "    </tr>\n",
       "    <tr>\n",
       "      <th>895</th>\n",
       "      <td>896</td>\n",
       "      <td>1174.0</td>\n",
       "      <td>1429.0</td>\n",
       "      <td>1110.0</td>\n",
       "      <td>54340.0</td>\n",
       "    </tr>\n",
       "  </tbody>\n",
       "</table>\n",
       "<p>896 rows × 5 columns</p>\n",
       "</div>"
      ],
      "text/plain": [
       "     Store ID   Store_Area  Items_Available  Daily_Customer_Count  Store_Sales\n",
       "0            1      1659.0           1961.0                 -99.0      66490.0\n",
       "1            2       -99.0           1752.0                 210.0      39820.0\n",
       "2            3      1340.0           1609.0                 720.0        -99.0\n",
       "3            4      1451.0           1748.0                 620.0      53730.0\n",
       "4            5      1770.0           2111.0                 -99.0      46620.0\n",
       "..         ...         ...              ...                   ...          ...\n",
       "891        892      1582.0           1910.0                1080.0      66390.0\n",
       "892        893      1387.0           1663.0                 850.0      82080.0\n",
       "893        894      1200.0           1436.0                1060.0      76440.0\n",
       "894        895      1299.0           1560.0                 770.0      96610.0\n",
       "895        896      1174.0           1429.0                1110.0      54340.0\n",
       "\n",
       "[896 rows x 5 columns]"
      ]
     },
     "execution_count": 77,
     "metadata": {},
     "output_type": "execute_result"
    }
   ],
   "source": [
    "prathamesh_df.replace(to_replace=np.nan, value=-99)"
   ]
  },
  {
   "cell_type": "code",
   "execution_count": 78,
   "id": "b6d646df-6b4e-4cef-ae22-949c85aa492c",
   "metadata": {
    "tags": []
   },
   "outputs": [],
   "source": [
    "prathamesh_df.replace(to_replace=np.nan, value=-99, inplace=True)"
   ]
  },
  {
   "cell_type": "code",
   "execution_count": 79,
   "id": "1252d587-dcca-46ab-a097-515c083365ba",
   "metadata": {
    "tags": []
   },
   "outputs": [
    {
     "data": {
      "text/html": [
       "<div>\n",
       "<style scoped>\n",
       "    .dataframe tbody tr th:only-of-type {\n",
       "        vertical-align: middle;\n",
       "    }\n",
       "\n",
       "    .dataframe tbody tr th {\n",
       "        vertical-align: top;\n",
       "    }\n",
       "\n",
       "    .dataframe thead th {\n",
       "        text-align: right;\n",
       "    }\n",
       "</style>\n",
       "<table border=\"1\" class=\"dataframe\">\n",
       "  <thead>\n",
       "    <tr style=\"text-align: right;\">\n",
       "      <th></th>\n",
       "      <th>Store ID</th>\n",
       "      <th>Store_Area</th>\n",
       "      <th>Items_Available</th>\n",
       "      <th>Daily_Customer_Count</th>\n",
       "      <th>Store_Sales</th>\n",
       "    </tr>\n",
       "  </thead>\n",
       "  <tbody>\n",
       "    <tr>\n",
       "      <th>0</th>\n",
       "      <td>1</td>\n",
       "      <td>1659.0</td>\n",
       "      <td>1961.0</td>\n",
       "      <td>-99.0</td>\n",
       "      <td>66490.0</td>\n",
       "    </tr>\n",
       "    <tr>\n",
       "      <th>1</th>\n",
       "      <td>2</td>\n",
       "      <td>-99.0</td>\n",
       "      <td>1752.0</td>\n",
       "      <td>210.0</td>\n",
       "      <td>39820.0</td>\n",
       "    </tr>\n",
       "    <tr>\n",
       "      <th>2</th>\n",
       "      <td>3</td>\n",
       "      <td>1340.0</td>\n",
       "      <td>1609.0</td>\n",
       "      <td>720.0</td>\n",
       "      <td>-99.0</td>\n",
       "    </tr>\n",
       "    <tr>\n",
       "      <th>3</th>\n",
       "      <td>4</td>\n",
       "      <td>1451.0</td>\n",
       "      <td>1748.0</td>\n",
       "      <td>620.0</td>\n",
       "      <td>53730.0</td>\n",
       "    </tr>\n",
       "    <tr>\n",
       "      <th>4</th>\n",
       "      <td>5</td>\n",
       "      <td>1770.0</td>\n",
       "      <td>2111.0</td>\n",
       "      <td>-99.0</td>\n",
       "      <td>46620.0</td>\n",
       "    </tr>\n",
       "    <tr>\n",
       "      <th>...</th>\n",
       "      <td>...</td>\n",
       "      <td>...</td>\n",
       "      <td>...</td>\n",
       "      <td>...</td>\n",
       "      <td>...</td>\n",
       "    </tr>\n",
       "    <tr>\n",
       "      <th>891</th>\n",
       "      <td>892</td>\n",
       "      <td>1582.0</td>\n",
       "      <td>1910.0</td>\n",
       "      <td>1080.0</td>\n",
       "      <td>66390.0</td>\n",
       "    </tr>\n",
       "    <tr>\n",
       "      <th>892</th>\n",
       "      <td>893</td>\n",
       "      <td>1387.0</td>\n",
       "      <td>1663.0</td>\n",
       "      <td>850.0</td>\n",
       "      <td>82080.0</td>\n",
       "    </tr>\n",
       "    <tr>\n",
       "      <th>893</th>\n",
       "      <td>894</td>\n",
       "      <td>1200.0</td>\n",
       "      <td>1436.0</td>\n",
       "      <td>1060.0</td>\n",
       "      <td>76440.0</td>\n",
       "    </tr>\n",
       "    <tr>\n",
       "      <th>894</th>\n",
       "      <td>895</td>\n",
       "      <td>1299.0</td>\n",
       "      <td>1560.0</td>\n",
       "      <td>770.0</td>\n",
       "      <td>96610.0</td>\n",
       "    </tr>\n",
       "    <tr>\n",
       "      <th>895</th>\n",
       "      <td>896</td>\n",
       "      <td>1174.0</td>\n",
       "      <td>1429.0</td>\n",
       "      <td>1110.0</td>\n",
       "      <td>54340.0</td>\n",
       "    </tr>\n",
       "  </tbody>\n",
       "</table>\n",
       "<p>896 rows × 5 columns</p>\n",
       "</div>"
      ],
      "text/plain": [
       "     Store ID   Store_Area  Items_Available  Daily_Customer_Count  Store_Sales\n",
       "0            1      1659.0           1961.0                 -99.0      66490.0\n",
       "1            2       -99.0           1752.0                 210.0      39820.0\n",
       "2            3      1340.0           1609.0                 720.0        -99.0\n",
       "3            4      1451.0           1748.0                 620.0      53730.0\n",
       "4            5      1770.0           2111.0                 -99.0      46620.0\n",
       "..         ...         ...              ...                   ...          ...\n",
       "891        892      1582.0           1910.0                1080.0      66390.0\n",
       "892        893      1387.0           1663.0                 850.0      82080.0\n",
       "893        894      1200.0           1436.0                1060.0      76440.0\n",
       "894        895      1299.0           1560.0                 770.0      96610.0\n",
       "895        896      1174.0           1429.0                1110.0      54340.0\n",
       "\n",
       "[896 rows x 5 columns]"
      ]
     },
     "execution_count": 79,
     "metadata": {},
     "output_type": "execute_result"
    }
   ],
   "source": [
    "prathamesh_df"
   ]
  },
  {
   "cell_type": "markdown",
   "id": "ce0af09b-e8cc-4075-ad36-9a185d8c7309",
   "metadata": {},
   "source": [
    "## Interpolation\n",
    "Interpolation is the process of estimating missing or undefined values based on the known values in a dataset. The interpolate() method can perform linear or polynomial interpolation on a Series or DataFrame. Linear interpolation is the process of estimating values within a range based on two known values at the edges of the range. Polynomial interpolation is the process of fitting a polynomial function to a set of data points and using the function to estimate missing values. By default, the interpolate() method performs linear interpolation. However, we can specify the type of interpolation to be used by passing the method parameter. The method parameter can take values such as 'linear', 'quadratic', 'cubic', and so on. For example, to perform cubic interpolation, we can set method='cubic'.\n",
    "\n",
    "In addition to the method parameter, the interpolate() method also has other parameters such as limit and limit_direction. The limit parameter sets the maximum number of consecutive NaN values that can be filled. The limit_direction parameter sets the direction in which the filling should occur, either 'forward', 'backward', or 'both'."
   ]
  },
  {
   "cell_type": "code",
   "execution_count": 80,
   "id": "4121130b-87aa-46e6-ba29-b032aa2ec2c2",
   "metadata": {
    "tags": []
   },
   "outputs": [],
   "source": [
    "prathamesh_df = prathamesh_pd.read_csv('./Stores_with_null.csv')"
   ]
  },
  {
   "cell_type": "code",
   "execution_count": 81,
   "id": "ca324618-a1ec-4fcc-822a-7d7f7ae66975",
   "metadata": {
    "tags": []
   },
   "outputs": [
    {
     "data": {
      "text/html": [
       "<div>\n",
       "<style scoped>\n",
       "    .dataframe tbody tr th:only-of-type {\n",
       "        vertical-align: middle;\n",
       "    }\n",
       "\n",
       "    .dataframe tbody tr th {\n",
       "        vertical-align: top;\n",
       "    }\n",
       "\n",
       "    .dataframe thead th {\n",
       "        text-align: right;\n",
       "    }\n",
       "</style>\n",
       "<table border=\"1\" class=\"dataframe\">\n",
       "  <thead>\n",
       "    <tr style=\"text-align: right;\">\n",
       "      <th></th>\n",
       "      <th>Store ID</th>\n",
       "      <th>Store_Area</th>\n",
       "      <th>Items_Available</th>\n",
       "      <th>Daily_Customer_Count</th>\n",
       "      <th>Store_Sales</th>\n",
       "    </tr>\n",
       "  </thead>\n",
       "  <tbody>\n",
       "    <tr>\n",
       "      <th>0</th>\n",
       "      <td>1</td>\n",
       "      <td>1659.0</td>\n",
       "      <td>1961.0</td>\n",
       "      <td>NaN</td>\n",
       "      <td>66490.0</td>\n",
       "    </tr>\n",
       "    <tr>\n",
       "      <th>1</th>\n",
       "      <td>2</td>\n",
       "      <td>NaN</td>\n",
       "      <td>1752.0</td>\n",
       "      <td>210.0</td>\n",
       "      <td>39820.0</td>\n",
       "    </tr>\n",
       "    <tr>\n",
       "      <th>2</th>\n",
       "      <td>3</td>\n",
       "      <td>1340.0</td>\n",
       "      <td>1609.0</td>\n",
       "      <td>720.0</td>\n",
       "      <td>NaN</td>\n",
       "    </tr>\n",
       "    <tr>\n",
       "      <th>3</th>\n",
       "      <td>4</td>\n",
       "      <td>1451.0</td>\n",
       "      <td>1748.0</td>\n",
       "      <td>620.0</td>\n",
       "      <td>53730.0</td>\n",
       "    </tr>\n",
       "    <tr>\n",
       "      <th>4</th>\n",
       "      <td>5</td>\n",
       "      <td>1770.0</td>\n",
       "      <td>2111.0</td>\n",
       "      <td>NaN</td>\n",
       "      <td>46620.0</td>\n",
       "    </tr>\n",
       "    <tr>\n",
       "      <th>...</th>\n",
       "      <td>...</td>\n",
       "      <td>...</td>\n",
       "      <td>...</td>\n",
       "      <td>...</td>\n",
       "      <td>...</td>\n",
       "    </tr>\n",
       "    <tr>\n",
       "      <th>891</th>\n",
       "      <td>892</td>\n",
       "      <td>1582.0</td>\n",
       "      <td>1910.0</td>\n",
       "      <td>1080.0</td>\n",
       "      <td>66390.0</td>\n",
       "    </tr>\n",
       "    <tr>\n",
       "      <th>892</th>\n",
       "      <td>893</td>\n",
       "      <td>1387.0</td>\n",
       "      <td>1663.0</td>\n",
       "      <td>850.0</td>\n",
       "      <td>82080.0</td>\n",
       "    </tr>\n",
       "    <tr>\n",
       "      <th>893</th>\n",
       "      <td>894</td>\n",
       "      <td>1200.0</td>\n",
       "      <td>1436.0</td>\n",
       "      <td>1060.0</td>\n",
       "      <td>76440.0</td>\n",
       "    </tr>\n",
       "    <tr>\n",
       "      <th>894</th>\n",
       "      <td>895</td>\n",
       "      <td>1299.0</td>\n",
       "      <td>1560.0</td>\n",
       "      <td>770.0</td>\n",
       "      <td>96610.0</td>\n",
       "    </tr>\n",
       "    <tr>\n",
       "      <th>895</th>\n",
       "      <td>896</td>\n",
       "      <td>1174.0</td>\n",
       "      <td>1429.0</td>\n",
       "      <td>1110.0</td>\n",
       "      <td>54340.0</td>\n",
       "    </tr>\n",
       "  </tbody>\n",
       "</table>\n",
       "<p>896 rows × 5 columns</p>\n",
       "</div>"
      ],
      "text/plain": [
       "     Store ID   Store_Area  Items_Available  Daily_Customer_Count  Store_Sales\n",
       "0            1      1659.0           1961.0                   NaN      66490.0\n",
       "1            2         NaN           1752.0                 210.0      39820.0\n",
       "2            3      1340.0           1609.0                 720.0          NaN\n",
       "3            4      1451.0           1748.0                 620.0      53730.0\n",
       "4            5      1770.0           2111.0                   NaN      46620.0\n",
       "..         ...         ...              ...                   ...          ...\n",
       "891        892      1582.0           1910.0                1080.0      66390.0\n",
       "892        893      1387.0           1663.0                 850.0      82080.0\n",
       "893        894      1200.0           1436.0                1060.0      76440.0\n",
       "894        895      1299.0           1560.0                 770.0      96610.0\n",
       "895        896      1174.0           1429.0                1110.0      54340.0\n",
       "\n",
       "[896 rows x 5 columns]"
      ]
     },
     "execution_count": 81,
     "metadata": {},
     "output_type": "execute_result"
    }
   ],
   "source": [
    "prathamesh_df"
   ]
  },
  {
   "cell_type": "code",
   "execution_count": 82,
   "id": "6573e845-aab7-48d2-8ca6-d44d89985fcf",
   "metadata": {
    "tags": []
   },
   "outputs": [
    {
     "data": {
      "text/html": [
       "<div>\n",
       "<style scoped>\n",
       "    .dataframe tbody tr th:only-of-type {\n",
       "        vertical-align: middle;\n",
       "    }\n",
       "\n",
       "    .dataframe tbody tr th {\n",
       "        vertical-align: top;\n",
       "    }\n",
       "\n",
       "    .dataframe thead th {\n",
       "        text-align: right;\n",
       "    }\n",
       "</style>\n",
       "<table border=\"1\" class=\"dataframe\">\n",
       "  <thead>\n",
       "    <tr style=\"text-align: right;\">\n",
       "      <th></th>\n",
       "      <th>Store ID</th>\n",
       "      <th>Store_Area</th>\n",
       "      <th>Items_Available</th>\n",
       "      <th>Daily_Customer_Count</th>\n",
       "      <th>Store_Sales</th>\n",
       "    </tr>\n",
       "  </thead>\n",
       "  <tbody>\n",
       "    <tr>\n",
       "      <th>0</th>\n",
       "      <td>1</td>\n",
       "      <td>1659.0</td>\n",
       "      <td>1961.0</td>\n",
       "      <td>NaN</td>\n",
       "      <td>66490.0</td>\n",
       "    </tr>\n",
       "    <tr>\n",
       "      <th>1</th>\n",
       "      <td>2</td>\n",
       "      <td>1499.5</td>\n",
       "      <td>1752.0</td>\n",
       "      <td>210.000000</td>\n",
       "      <td>39820.0</td>\n",
       "    </tr>\n",
       "    <tr>\n",
       "      <th>2</th>\n",
       "      <td>3</td>\n",
       "      <td>1340.0</td>\n",
       "      <td>1609.0</td>\n",
       "      <td>720.000000</td>\n",
       "      <td>46775.0</td>\n",
       "    </tr>\n",
       "    <tr>\n",
       "      <th>3</th>\n",
       "      <td>4</td>\n",
       "      <td>1451.0</td>\n",
       "      <td>1748.0</td>\n",
       "      <td>620.000000</td>\n",
       "      <td>53730.0</td>\n",
       "    </tr>\n",
       "    <tr>\n",
       "      <th>4</th>\n",
       "      <td>5</td>\n",
       "      <td>1770.0</td>\n",
       "      <td>2111.0</td>\n",
       "      <td>756.666667</td>\n",
       "      <td>46620.0</td>\n",
       "    </tr>\n",
       "    <tr>\n",
       "      <th>...</th>\n",
       "      <td>...</td>\n",
       "      <td>...</td>\n",
       "      <td>...</td>\n",
       "      <td>...</td>\n",
       "      <td>...</td>\n",
       "    </tr>\n",
       "    <tr>\n",
       "      <th>891</th>\n",
       "      <td>892</td>\n",
       "      <td>1582.0</td>\n",
       "      <td>1910.0</td>\n",
       "      <td>1080.000000</td>\n",
       "      <td>66390.0</td>\n",
       "    </tr>\n",
       "    <tr>\n",
       "      <th>892</th>\n",
       "      <td>893</td>\n",
       "      <td>1387.0</td>\n",
       "      <td>1663.0</td>\n",
       "      <td>850.000000</td>\n",
       "      <td>82080.0</td>\n",
       "    </tr>\n",
       "    <tr>\n",
       "      <th>893</th>\n",
       "      <td>894</td>\n",
       "      <td>1200.0</td>\n",
       "      <td>1436.0</td>\n",
       "      <td>1060.000000</td>\n",
       "      <td>76440.0</td>\n",
       "    </tr>\n",
       "    <tr>\n",
       "      <th>894</th>\n",
       "      <td>895</td>\n",
       "      <td>1299.0</td>\n",
       "      <td>1560.0</td>\n",
       "      <td>770.000000</td>\n",
       "      <td>96610.0</td>\n",
       "    </tr>\n",
       "    <tr>\n",
       "      <th>895</th>\n",
       "      <td>896</td>\n",
       "      <td>1174.0</td>\n",
       "      <td>1429.0</td>\n",
       "      <td>1110.000000</td>\n",
       "      <td>54340.0</td>\n",
       "    </tr>\n",
       "  </tbody>\n",
       "</table>\n",
       "<p>896 rows × 5 columns</p>\n",
       "</div>"
      ],
      "text/plain": [
       "     Store ID   Store_Area  Items_Available  Daily_Customer_Count  Store_Sales\n",
       "0            1      1659.0           1961.0                   NaN      66490.0\n",
       "1            2      1499.5           1752.0            210.000000      39820.0\n",
       "2            3      1340.0           1609.0            720.000000      46775.0\n",
       "3            4      1451.0           1748.0            620.000000      53730.0\n",
       "4            5      1770.0           2111.0            756.666667      46620.0\n",
       "..         ...         ...              ...                   ...          ...\n",
       "891        892      1582.0           1910.0           1080.000000      66390.0\n",
       "892        893      1387.0           1663.0            850.000000      82080.0\n",
       "893        894      1200.0           1436.0           1060.000000      76440.0\n",
       "894        895      1299.0           1560.0            770.000000      96610.0\n",
       "895        896      1174.0           1429.0           1110.000000      54340.0\n",
       "\n",
       "[896 rows x 5 columns]"
      ]
     },
     "execution_count": 82,
     "metadata": {},
     "output_type": "execute_result"
    }
   ],
   "source": [
    "prathamesh_df.interpolate(method='linear', limit_direction='forward')"
   ]
  },
  {
   "cell_type": "markdown",
   "id": "0d2716e7-0ba1-419d-980d-ab165c29db1b",
   "metadata": {},
   "source": [
    "## Pandas Operations"
   ]
  },
  {
   "cell_type": "code",
   "execution_count": 83,
   "id": "fc02752a-12a2-4244-b798-7af17d96d71c",
   "metadata": {},
   "outputs": [],
   "source": [
    "import pandas as prathamesh_pd"
   ]
  },
  {
   "cell_type": "code",
   "execution_count": 84,
   "id": "f83cb0c8-8d0f-4501-b5dc-f5ac29d1b811",
   "metadata": {},
   "outputs": [],
   "source": [
    "prathamesh_groceries = {\n",
    "    'Company':['Nestle','Nestle','Parle','Colgate','Parle'],\n",
    "    'Person':['Prathamesh','Pratik','Pranav','Pranali','Prachi'],\n",
    "    'Sales':[20000,12000,34000,12400,24300]\n",
    "}"
   ]
  },
  {
   "cell_type": "code",
   "execution_count": 85,
   "id": "402dd7e1-1b92-4e31-ba42-6a9dc19381fd",
   "metadata": {
    "tags": []
   },
   "outputs": [
    {
     "data": {
      "text/html": [
       "<div>\n",
       "<style scoped>\n",
       "    .dataframe tbody tr th:only-of-type {\n",
       "        vertical-align: middle;\n",
       "    }\n",
       "\n",
       "    .dataframe tbody tr th {\n",
       "        vertical-align: top;\n",
       "    }\n",
       "\n",
       "    .dataframe thead th {\n",
       "        text-align: right;\n",
       "    }\n",
       "</style>\n",
       "<table border=\"1\" class=\"dataframe\">\n",
       "  <thead>\n",
       "    <tr style=\"text-align: right;\">\n",
       "      <th></th>\n",
       "      <th>Company</th>\n",
       "      <th>Person</th>\n",
       "      <th>Sales</th>\n",
       "    </tr>\n",
       "  </thead>\n",
       "  <tbody>\n",
       "    <tr>\n",
       "      <th>0</th>\n",
       "      <td>Nestle</td>\n",
       "      <td>Prathamesh</td>\n",
       "      <td>20000</td>\n",
       "    </tr>\n",
       "    <tr>\n",
       "      <th>1</th>\n",
       "      <td>Nestle</td>\n",
       "      <td>Pratik</td>\n",
       "      <td>12000</td>\n",
       "    </tr>\n",
       "    <tr>\n",
       "      <th>2</th>\n",
       "      <td>Parle</td>\n",
       "      <td>Pranav</td>\n",
       "      <td>34000</td>\n",
       "    </tr>\n",
       "    <tr>\n",
       "      <th>3</th>\n",
       "      <td>Colgate</td>\n",
       "      <td>Pranali</td>\n",
       "      <td>12400</td>\n",
       "    </tr>\n",
       "    <tr>\n",
       "      <th>4</th>\n",
       "      <td>Parle</td>\n",
       "      <td>Prachi</td>\n",
       "      <td>24300</td>\n",
       "    </tr>\n",
       "  </tbody>\n",
       "</table>\n",
       "</div>"
      ],
      "text/plain": [
       "   Company      Person  Sales\n",
       "0   Nestle  Prathamesh  20000\n",
       "1   Nestle      Pratik  12000\n",
       "2    Parle      Pranav  34000\n",
       "3  Colgate     Pranali  12400\n",
       "4    Parle      Prachi  24300"
      ]
     },
     "execution_count": 85,
     "metadata": {},
     "output_type": "execute_result"
    }
   ],
   "source": [
    "prathamesh_df = prathamesh_pd.DataFrame(data=prathamesh_groceries)\n",
    "prathamesh_df"
   ]
  },
  {
   "cell_type": "markdown",
   "id": "f9c097d1-fded-40d6-957b-f016f31f8d7f",
   "metadata": {},
   "source": [
    "## Group By \n",
    "\n",
    "The groupby method allows you to group rows of data together and call aggregate functions.\n",
    "It generates a special GroupBy object.\n",
    "The group by object is a great way to perform operations on specific groups of rows in a dataframe. It is similar to SQL group by."
   ]
  },
  {
   "cell_type": "code",
   "execution_count": 86,
   "id": "2ce8f5ed-7215-403a-9c55-38d09c6956b5",
   "metadata": {
    "tags": []
   },
   "outputs": [],
   "source": [
    "group_by_company = prathamesh_df.groupby('Company')"
   ]
  },
  {
   "cell_type": "markdown",
   "id": "7c70f489-fb54-4269-b616-cb9a9a1bf227",
   "metadata": {},
   "source": [
    "### First method\n",
    "\n",
    "The first method returns the first row of each group."
   ]
  },
  {
   "cell_type": "code",
   "execution_count": 87,
   "id": "bb2772da-ffb1-460e-8ec4-4768aa7027a0",
   "metadata": {
    "tags": []
   },
   "outputs": [
    {
     "data": {
      "text/html": [
       "<div>\n",
       "<style scoped>\n",
       "    .dataframe tbody tr th:only-of-type {\n",
       "        vertical-align: middle;\n",
       "    }\n",
       "\n",
       "    .dataframe tbody tr th {\n",
       "        vertical-align: top;\n",
       "    }\n",
       "\n",
       "    .dataframe thead th {\n",
       "        text-align: right;\n",
       "    }\n",
       "</style>\n",
       "<table border=\"1\" class=\"dataframe\">\n",
       "  <thead>\n",
       "    <tr style=\"text-align: right;\">\n",
       "      <th></th>\n",
       "      <th>Person</th>\n",
       "      <th>Sales</th>\n",
       "    </tr>\n",
       "    <tr>\n",
       "      <th>Company</th>\n",
       "      <th></th>\n",
       "      <th></th>\n",
       "    </tr>\n",
       "  </thead>\n",
       "  <tbody>\n",
       "    <tr>\n",
       "      <th>Colgate</th>\n",
       "      <td>Pranali</td>\n",
       "      <td>12400</td>\n",
       "    </tr>\n",
       "    <tr>\n",
       "      <th>Nestle</th>\n",
       "      <td>Prathamesh</td>\n",
       "      <td>20000</td>\n",
       "    </tr>\n",
       "    <tr>\n",
       "      <th>Parle</th>\n",
       "      <td>Pranav</td>\n",
       "      <td>34000</td>\n",
       "    </tr>\n",
       "  </tbody>\n",
       "</table>\n",
       "</div>"
      ],
      "text/plain": [
       "             Person  Sales\n",
       "Company                   \n",
       "Colgate     Pranali  12400\n",
       "Nestle   Prathamesh  20000\n",
       "Parle        Pranav  34000"
      ]
     },
     "execution_count": 87,
     "metadata": {},
     "output_type": "execute_result"
    }
   ],
   "source": [
    "group_by_company.first()"
   ]
  },
  {
   "cell_type": "markdown",
   "id": "6749102f-61ae-4cdf-90b4-e35b01dbddb3",
   "metadata": {
    "tags": []
   },
   "source": [
    "## Merging, Joining, Concatenating"
   ]
  },
  {
   "cell_type": "markdown",
   "id": "17474501-bbb2-47e5-b2a2-14e49e7e4c2a",
   "metadata": {},
   "source": [
    "Merging, joining and concatenating are ways to combine dataframes together. Dataframes can be combined in different ways. The most common ways are:\n",
    " -  Merging: This is similar to SQL join. It combines dataframes based on a common column.\n",
    " -  Joins: This is similar to SQL join. It combines dataframes based on a common column.\n",
    "    - There are different types of joins: inner, outer, left, right.\n",
    "      1. Inner join: This is the default join. It returns only the rows that have a match in both dataframes.\n",
    "      2. Outer join: This returns all the rows from both dataframes.\n",
    "      3. Left join: This returns all the rows from the left dataframe and the matching rows from the right dataframe. \n",
    "      4. Right join: This returns all the rows from the right dataframe and the matching rows from the left dataframe.\n",
    " - Concatenating: This is similar to SQL union. It combines dataframes based on the index. It is used to combine dataframes that have the same columns. It is also used to combine dataframes that have different columns. \n",
    "\n",
    "To explain the concatenation, we will use the following dataframes:"
   ]
  },
  {
   "cell_type": "markdown",
   "id": "8c3acca1-77b9-4a3a-8ddb-d3d08d6da4f9",
   "metadata": {},
   "source": [
    "### Using Concatenation"
   ]
  },
  {
   "cell_type": "code",
   "execution_count": 88,
   "id": "05716ee4-c9ac-4924-8430-70cc4b0d8b33",
   "metadata": {},
   "outputs": [
    {
     "data": {
      "text/html": [
       "<div>\n",
       "<style scoped>\n",
       "    .dataframe tbody tr th:only-of-type {\n",
       "        vertical-align: middle;\n",
       "    }\n",
       "\n",
       "    .dataframe tbody tr th {\n",
       "        vertical-align: top;\n",
       "    }\n",
       "\n",
       "    .dataframe thead th {\n",
       "        text-align: right;\n",
       "    }\n",
       "</style>\n",
       "<table border=\"1\" class=\"dataframe\">\n",
       "  <thead>\n",
       "    <tr style=\"text-align: right;\">\n",
       "      <th></th>\n",
       "      <th>Student_id</th>\n",
       "      <th>Student_name</th>\n",
       "      <th>Physics</th>\n",
       "      <th>Chemistry</th>\n",
       "      <th>Biology</th>\n",
       "      <th>Mathematics</th>\n",
       "    </tr>\n",
       "  </thead>\n",
       "  <tbody>\n",
       "    <tr>\n",
       "      <th>0</th>\n",
       "      <td>32468</td>\n",
       "      <td>Prathamesh</td>\n",
       "      <td>52</td>\n",
       "      <td>80</td>\n",
       "      <td>67</td>\n",
       "      <td>68</td>\n",
       "    </tr>\n",
       "    <tr>\n",
       "      <th>1</th>\n",
       "      <td>32469</td>\n",
       "      <td>Pratik</td>\n",
       "      <td>36</td>\n",
       "      <td>46</td>\n",
       "      <td>59</td>\n",
       "      <td>21</td>\n",
       "    </tr>\n",
       "    <tr>\n",
       "      <th>2</th>\n",
       "      <td>32470</td>\n",
       "      <td>Pranav</td>\n",
       "      <td>70</td>\n",
       "      <td>68</td>\n",
       "      <td>39</td>\n",
       "      <td>42</td>\n",
       "    </tr>\n",
       "    <tr>\n",
       "      <th>3</th>\n",
       "      <td>32471</td>\n",
       "      <td>Pranali</td>\n",
       "      <td>27</td>\n",
       "      <td>43</td>\n",
       "      <td>52</td>\n",
       "      <td>78</td>\n",
       "    </tr>\n",
       "    <tr>\n",
       "      <th>4</th>\n",
       "      <td>32472</td>\n",
       "      <td>Prachi</td>\n",
       "      <td>43</td>\n",
       "      <td>62</td>\n",
       "      <td>79</td>\n",
       "      <td>43</td>\n",
       "    </tr>\n",
       "  </tbody>\n",
       "</table>\n",
       "</div>"
      ],
      "text/plain": [
       "   Student_id Student_name  Physics  Chemistry  Biology  Mathematics\n",
       "0       32468   Prathamesh       52         80       67           68\n",
       "1       32469       Pratik       36         46       59           21\n",
       "2       32470       Pranav       70         68       39           42\n",
       "3       32471      Pranali       27         43       52           78\n",
       "4       32472       Prachi       43         62       79           43"
      ]
     },
     "execution_count": 88,
     "metadata": {},
     "output_type": "execute_result"
    }
   ],
   "source": [
    "prathamesh_data_1 = {\n",
    "    'Student_id': [32468, 32469, 32470, 32471, 32472],\n",
    "    'Student_name': ['Prathamesh', 'Pratik', 'Pranav', 'Pranali', 'Prachi'],\n",
    "    'Physics': [52, 36, 70, 27, 43],\n",
    "    'Chemistry': [80, 46, 68, 43, 62],\n",
    "    'Biology': [67, 59, 39, 52, 79],\n",
    "    'Mathematics': [68, 21, 42, 78, 43]\n",
    "}\n",
    "prathamesh_df1 = prathamesh_pd.DataFrame(data=prathamesh_data_1)\n",
    "prathamesh_df1"
   ]
  },
  {
   "cell_type": "code",
   "execution_count": 89,
   "id": "0110d9a5-8f89-4091-bbb3-5d94a1382230",
   "metadata": {
    "tags": []
   },
   "outputs": [
    {
     "data": {
      "text/html": [
       "<div>\n",
       "<style scoped>\n",
       "    .dataframe tbody tr th:only-of-type {\n",
       "        vertical-align: middle;\n",
       "    }\n",
       "\n",
       "    .dataframe tbody tr th {\n",
       "        vertical-align: top;\n",
       "    }\n",
       "\n",
       "    .dataframe thead th {\n",
       "        text-align: right;\n",
       "    }\n",
       "</style>\n",
       "<table border=\"1\" class=\"dataframe\">\n",
       "  <thead>\n",
       "    <tr style=\"text-align: right;\">\n",
       "      <th></th>\n",
       "      <th>Student_id</th>\n",
       "      <th>Student_name</th>\n",
       "      <th>Physics</th>\n",
       "      <th>Chemistry</th>\n",
       "      <th>Biology</th>\n",
       "      <th>Mathematics</th>\n",
       "    </tr>\n",
       "  </thead>\n",
       "  <tbody>\n",
       "    <tr>\n",
       "      <th>6</th>\n",
       "      <td>32473</td>\n",
       "      <td>Sachin</td>\n",
       "      <td>30</td>\n",
       "      <td>71</td>\n",
       "      <td>42</td>\n",
       "      <td>79</td>\n",
       "    </tr>\n",
       "    <tr>\n",
       "      <th>7</th>\n",
       "      <td>32474</td>\n",
       "      <td>Saurav</td>\n",
       "      <td>55</td>\n",
       "      <td>52</td>\n",
       "      <td>75</td>\n",
       "      <td>42</td>\n",
       "    </tr>\n",
       "    <tr>\n",
       "      <th>8</th>\n",
       "      <td>32475</td>\n",
       "      <td>Rahul</td>\n",
       "      <td>71</td>\n",
       "      <td>80</td>\n",
       "      <td>50</td>\n",
       "      <td>79</td>\n",
       "    </tr>\n",
       "    <tr>\n",
       "      <th>9</th>\n",
       "      <td>32476</td>\n",
       "      <td>Virat</td>\n",
       "      <td>21</td>\n",
       "      <td>28</td>\n",
       "      <td>23</td>\n",
       "      <td>72</td>\n",
       "    </tr>\n",
       "    <tr>\n",
       "      <th>10</th>\n",
       "      <td>32477</td>\n",
       "      <td>Rohit</td>\n",
       "      <td>57</td>\n",
       "      <td>42</td>\n",
       "      <td>25</td>\n",
       "      <td>52</td>\n",
       "    </tr>\n",
       "  </tbody>\n",
       "</table>\n",
       "</div>"
      ],
      "text/plain": [
       "    Student_id Student_name  Physics  Chemistry  Biology  Mathematics\n",
       "6        32473       Sachin       30         71       42           79\n",
       "7        32474       Saurav       55         52       75           42\n",
       "8        32475        Rahul       71         80       50           79\n",
       "9        32476        Virat       21         28       23           72\n",
       "10       32477        Rohit       57         42       25           52"
      ]
     },
     "execution_count": 89,
     "metadata": {},
     "output_type": "execute_result"
    }
   ],
   "source": [
    "prathamesh_data_2 = {\n",
    "  'Student_id': [32473, 32474, 32475, 32476, 32477],\n",
    "  'Student_name': ['Sachin', 'Saurav', 'Rahul', 'Virat', 'Rohit'],\n",
    "  'Physics': [30, 55, 71, 21, 57],\n",
    "  'Chemistry': [71, 52, 80, 28, 42],\n",
    "  'Biology': [42, 75, 50, 23, 25],\n",
    "  'Mathematics': [79, 42, 79, 72, 52]\n",
    "}\n",
    "prathamesh_df2 = prathamesh_pd.DataFrame(prathamesh_data_2, index = [6, 7, 8, 9, 10])\n",
    "prathamesh_df2"
   ]
  },
  {
   "cell_type": "code",
   "execution_count": 90,
   "id": "863f6288-a1ab-4e38-86de-fe36abb98da5",
   "metadata": {
    "tags": []
   },
   "outputs": [
    {
     "data": {
      "text/html": [
       "<div>\n",
       "<style scoped>\n",
       "    .dataframe tbody tr th:only-of-type {\n",
       "        vertical-align: middle;\n",
       "    }\n",
       "\n",
       "    .dataframe tbody tr th {\n",
       "        vertical-align: top;\n",
       "    }\n",
       "\n",
       "    .dataframe thead th {\n",
       "        text-align: right;\n",
       "    }\n",
       "</style>\n",
       "<table border=\"1\" class=\"dataframe\">\n",
       "  <thead>\n",
       "    <tr style=\"text-align: right;\">\n",
       "      <th></th>\n",
       "      <th>Student_id</th>\n",
       "      <th>Student_name</th>\n",
       "      <th>Physics</th>\n",
       "      <th>Chemistry</th>\n",
       "      <th>Biology</th>\n",
       "      <th>Mathematics</th>\n",
       "    </tr>\n",
       "  </thead>\n",
       "  <tbody>\n",
       "    <tr>\n",
       "      <th>11</th>\n",
       "      <td>32478</td>\n",
       "      <td>Raj</td>\n",
       "      <td>74</td>\n",
       "      <td>53</td>\n",
       "      <td>70</td>\n",
       "      <td>77</td>\n",
       "    </tr>\n",
       "    <tr>\n",
       "      <th>12</th>\n",
       "      <td>32479</td>\n",
       "      <td>Rohan</td>\n",
       "      <td>47</td>\n",
       "      <td>46</td>\n",
       "      <td>33</td>\n",
       "      <td>53</td>\n",
       "    </tr>\n",
       "    <tr>\n",
       "      <th>13</th>\n",
       "      <td>32480</td>\n",
       "      <td>Rahul</td>\n",
       "      <td>62</td>\n",
       "      <td>23</td>\n",
       "      <td>47</td>\n",
       "      <td>64</td>\n",
       "    </tr>\n",
       "    <tr>\n",
       "      <th>14</th>\n",
       "      <td>32481</td>\n",
       "      <td>Ravi</td>\n",
       "      <td>69</td>\n",
       "      <td>68</td>\n",
       "      <td>55</td>\n",
       "      <td>73</td>\n",
       "    </tr>\n",
       "    <tr>\n",
       "      <th>15</th>\n",
       "      <td>32482</td>\n",
       "      <td>Ramesh</td>\n",
       "      <td>47</td>\n",
       "      <td>29</td>\n",
       "      <td>59</td>\n",
       "      <td>23</td>\n",
       "    </tr>\n",
       "  </tbody>\n",
       "</table>\n",
       "</div>"
      ],
      "text/plain": [
       "    Student_id Student_name  Physics  Chemistry  Biology  Mathematics\n",
       "11       32478          Raj       74         53       70           77\n",
       "12       32479        Rohan       47         46       33           53\n",
       "13       32480        Rahul       62         23       47           64\n",
       "14       32481         Ravi       69         68       55           73\n",
       "15       32482       Ramesh       47         29       59           23"
      ]
     },
     "execution_count": 90,
     "metadata": {},
     "output_type": "execute_result"
    }
   ],
   "source": [
    "prathamesh_data_3 = {\n",
    "  'Student_id': [32478, 32479, 32480, 32481, 32482],\n",
    "  'Student_name': ['Raj', 'Rohan', 'Rahul', 'Ravi', 'Ramesh'],\n",
    "    'Physics': [74, 47, 62, 69, 47],\n",
    "    'Chemistry': [53, 46, 23, 68, 29],\n",
    "    'Biology': [70, 33, 47, 55, 59],\n",
    "    'Mathematics': [77, 53, 64, 73, 23]\n",
    "}\n",
    "prathamesh_df3 = prathamesh_pd.DataFrame(prathamesh_data_3, index = [11, 12, 13, 14, 15])\n",
    "prathamesh_df3"
   ]
  },
  {
   "cell_type": "markdown",
   "id": "14c0fe14-adf3-406e-ad3d-f99161e7aa78",
   "metadata": {},
   "source": [
    "Here, we concatenate the dataframes along the rows. The index is not reset. The index is not reset because the dataframes have different indexes. If the dataframes have the same indexes, the index is reset."
   ]
  },
  {
   "cell_type": "code",
   "execution_count": 91,
   "id": "2572df06-f2f6-41f7-af71-4d5bc41eff2a",
   "metadata": {
    "tags": []
   },
   "outputs": [
    {
     "data": {
      "text/html": [
       "<div>\n",
       "<style scoped>\n",
       "    .dataframe tbody tr th:only-of-type {\n",
       "        vertical-align: middle;\n",
       "    }\n",
       "\n",
       "    .dataframe tbody tr th {\n",
       "        vertical-align: top;\n",
       "    }\n",
       "\n",
       "    .dataframe thead th {\n",
       "        text-align: right;\n",
       "    }\n",
       "</style>\n",
       "<table border=\"1\" class=\"dataframe\">\n",
       "  <thead>\n",
       "    <tr style=\"text-align: right;\">\n",
       "      <th></th>\n",
       "      <th>Student_id</th>\n",
       "      <th>Student_name</th>\n",
       "      <th>Physics</th>\n",
       "      <th>Chemistry</th>\n",
       "      <th>Biology</th>\n",
       "      <th>Mathematics</th>\n",
       "    </tr>\n",
       "  </thead>\n",
       "  <tbody>\n",
       "    <tr>\n",
       "      <th>0</th>\n",
       "      <td>32468</td>\n",
       "      <td>Prathamesh</td>\n",
       "      <td>52</td>\n",
       "      <td>80</td>\n",
       "      <td>67</td>\n",
       "      <td>68</td>\n",
       "    </tr>\n",
       "    <tr>\n",
       "      <th>1</th>\n",
       "      <td>32469</td>\n",
       "      <td>Pratik</td>\n",
       "      <td>36</td>\n",
       "      <td>46</td>\n",
       "      <td>59</td>\n",
       "      <td>21</td>\n",
       "    </tr>\n",
       "    <tr>\n",
       "      <th>2</th>\n",
       "      <td>32470</td>\n",
       "      <td>Pranav</td>\n",
       "      <td>70</td>\n",
       "      <td>68</td>\n",
       "      <td>39</td>\n",
       "      <td>42</td>\n",
       "    </tr>\n",
       "    <tr>\n",
       "      <th>3</th>\n",
       "      <td>32471</td>\n",
       "      <td>Pranali</td>\n",
       "      <td>27</td>\n",
       "      <td>43</td>\n",
       "      <td>52</td>\n",
       "      <td>78</td>\n",
       "    </tr>\n",
       "    <tr>\n",
       "      <th>4</th>\n",
       "      <td>32472</td>\n",
       "      <td>Prachi</td>\n",
       "      <td>43</td>\n",
       "      <td>62</td>\n",
       "      <td>79</td>\n",
       "      <td>43</td>\n",
       "    </tr>\n",
       "    <tr>\n",
       "      <th>6</th>\n",
       "      <td>32473</td>\n",
       "      <td>Sachin</td>\n",
       "      <td>30</td>\n",
       "      <td>71</td>\n",
       "      <td>42</td>\n",
       "      <td>79</td>\n",
       "    </tr>\n",
       "    <tr>\n",
       "      <th>7</th>\n",
       "      <td>32474</td>\n",
       "      <td>Saurav</td>\n",
       "      <td>55</td>\n",
       "      <td>52</td>\n",
       "      <td>75</td>\n",
       "      <td>42</td>\n",
       "    </tr>\n",
       "    <tr>\n",
       "      <th>8</th>\n",
       "      <td>32475</td>\n",
       "      <td>Rahul</td>\n",
       "      <td>71</td>\n",
       "      <td>80</td>\n",
       "      <td>50</td>\n",
       "      <td>79</td>\n",
       "    </tr>\n",
       "    <tr>\n",
       "      <th>9</th>\n",
       "      <td>32476</td>\n",
       "      <td>Virat</td>\n",
       "      <td>21</td>\n",
       "      <td>28</td>\n",
       "      <td>23</td>\n",
       "      <td>72</td>\n",
       "    </tr>\n",
       "    <tr>\n",
       "      <th>10</th>\n",
       "      <td>32477</td>\n",
       "      <td>Rohit</td>\n",
       "      <td>57</td>\n",
       "      <td>42</td>\n",
       "      <td>25</td>\n",
       "      <td>52</td>\n",
       "    </tr>\n",
       "    <tr>\n",
       "      <th>11</th>\n",
       "      <td>32478</td>\n",
       "      <td>Raj</td>\n",
       "      <td>74</td>\n",
       "      <td>53</td>\n",
       "      <td>70</td>\n",
       "      <td>77</td>\n",
       "    </tr>\n",
       "    <tr>\n",
       "      <th>12</th>\n",
       "      <td>32479</td>\n",
       "      <td>Rohan</td>\n",
       "      <td>47</td>\n",
       "      <td>46</td>\n",
       "      <td>33</td>\n",
       "      <td>53</td>\n",
       "    </tr>\n",
       "    <tr>\n",
       "      <th>13</th>\n",
       "      <td>32480</td>\n",
       "      <td>Rahul</td>\n",
       "      <td>62</td>\n",
       "      <td>23</td>\n",
       "      <td>47</td>\n",
       "      <td>64</td>\n",
       "    </tr>\n",
       "    <tr>\n",
       "      <th>14</th>\n",
       "      <td>32481</td>\n",
       "      <td>Ravi</td>\n",
       "      <td>69</td>\n",
       "      <td>68</td>\n",
       "      <td>55</td>\n",
       "      <td>73</td>\n",
       "    </tr>\n",
       "    <tr>\n",
       "      <th>15</th>\n",
       "      <td>32482</td>\n",
       "      <td>Ramesh</td>\n",
       "      <td>47</td>\n",
       "      <td>29</td>\n",
       "      <td>59</td>\n",
       "      <td>23</td>\n",
       "    </tr>\n",
       "  </tbody>\n",
       "</table>\n",
       "</div>"
      ],
      "text/plain": [
       "    Student_id Student_name  Physics  Chemistry  Biology  Mathematics\n",
       "0        32468   Prathamesh       52         80       67           68\n",
       "1        32469       Pratik       36         46       59           21\n",
       "2        32470       Pranav       70         68       39           42\n",
       "3        32471      Pranali       27         43       52           78\n",
       "4        32472       Prachi       43         62       79           43\n",
       "6        32473       Sachin       30         71       42           79\n",
       "7        32474       Saurav       55         52       75           42\n",
       "8        32475        Rahul       71         80       50           79\n",
       "9        32476        Virat       21         28       23           72\n",
       "10       32477        Rohit       57         42       25           52\n",
       "11       32478          Raj       74         53       70           77\n",
       "12       32479        Rohan       47         46       33           53\n",
       "13       32480        Rahul       62         23       47           64\n",
       "14       32481         Ravi       69         68       55           73\n",
       "15       32482       Ramesh       47         29       59           23"
      ]
     },
     "execution_count": 91,
     "metadata": {},
     "output_type": "execute_result"
    }
   ],
   "source": [
    "prathamesh_pd.concat([prathamesh_df1,prathamesh_df2,prathamesh_df3])"
   ]
  },
  {
   "cell_type": "markdown",
   "id": "44b68b04-a80d-4706-b5ea-7dec1ff92f73",
   "metadata": {},
   "source": [
    "Concatenation along the columns is similar to SQL union. The dataframes are concatenated along the columns. The index is reset because the dataframes have the same indexes."
   ]
  },
  {
   "cell_type": "code",
   "execution_count": 92,
   "id": "623ebd27-904f-47b9-afe2-2c7b1a0f325c",
   "metadata": {
    "tags": []
   },
   "outputs": [
    {
     "data": {
      "text/html": [
       "<div>\n",
       "<style scoped>\n",
       "    .dataframe tbody tr th:only-of-type {\n",
       "        vertical-align: middle;\n",
       "    }\n",
       "\n",
       "    .dataframe tbody tr th {\n",
       "        vertical-align: top;\n",
       "    }\n",
       "\n",
       "    .dataframe thead th {\n",
       "        text-align: right;\n",
       "    }\n",
       "</style>\n",
       "<table border=\"1\" class=\"dataframe\">\n",
       "  <thead>\n",
       "    <tr style=\"text-align: right;\">\n",
       "      <th></th>\n",
       "      <th>Student_id</th>\n",
       "      <th>Student_name</th>\n",
       "      <th>Physics</th>\n",
       "      <th>Chemistry</th>\n",
       "      <th>Biology</th>\n",
       "      <th>Mathematics</th>\n",
       "      <th>Student_id</th>\n",
       "      <th>Student_name</th>\n",
       "      <th>Physics</th>\n",
       "      <th>Chemistry</th>\n",
       "      <th>Biology</th>\n",
       "      <th>Mathematics</th>\n",
       "      <th>Student_id</th>\n",
       "      <th>Student_name</th>\n",
       "      <th>Physics</th>\n",
       "      <th>Chemistry</th>\n",
       "      <th>Biology</th>\n",
       "      <th>Mathematics</th>\n",
       "    </tr>\n",
       "  </thead>\n",
       "  <tbody>\n",
       "    <tr>\n",
       "      <th>0</th>\n",
       "      <td>32468.0</td>\n",
       "      <td>Prathamesh</td>\n",
       "      <td>52.0</td>\n",
       "      <td>80.0</td>\n",
       "      <td>67.0</td>\n",
       "      <td>68.0</td>\n",
       "      <td>NaN</td>\n",
       "      <td>NaN</td>\n",
       "      <td>NaN</td>\n",
       "      <td>NaN</td>\n",
       "      <td>NaN</td>\n",
       "      <td>NaN</td>\n",
       "      <td>NaN</td>\n",
       "      <td>NaN</td>\n",
       "      <td>NaN</td>\n",
       "      <td>NaN</td>\n",
       "      <td>NaN</td>\n",
       "      <td>NaN</td>\n",
       "    </tr>\n",
       "    <tr>\n",
       "      <th>1</th>\n",
       "      <td>32469.0</td>\n",
       "      <td>Pratik</td>\n",
       "      <td>36.0</td>\n",
       "      <td>46.0</td>\n",
       "      <td>59.0</td>\n",
       "      <td>21.0</td>\n",
       "      <td>NaN</td>\n",
       "      <td>NaN</td>\n",
       "      <td>NaN</td>\n",
       "      <td>NaN</td>\n",
       "      <td>NaN</td>\n",
       "      <td>NaN</td>\n",
       "      <td>NaN</td>\n",
       "      <td>NaN</td>\n",
       "      <td>NaN</td>\n",
       "      <td>NaN</td>\n",
       "      <td>NaN</td>\n",
       "      <td>NaN</td>\n",
       "    </tr>\n",
       "    <tr>\n",
       "      <th>2</th>\n",
       "      <td>32470.0</td>\n",
       "      <td>Pranav</td>\n",
       "      <td>70.0</td>\n",
       "      <td>68.0</td>\n",
       "      <td>39.0</td>\n",
       "      <td>42.0</td>\n",
       "      <td>NaN</td>\n",
       "      <td>NaN</td>\n",
       "      <td>NaN</td>\n",
       "      <td>NaN</td>\n",
       "      <td>NaN</td>\n",
       "      <td>NaN</td>\n",
       "      <td>NaN</td>\n",
       "      <td>NaN</td>\n",
       "      <td>NaN</td>\n",
       "      <td>NaN</td>\n",
       "      <td>NaN</td>\n",
       "      <td>NaN</td>\n",
       "    </tr>\n",
       "    <tr>\n",
       "      <th>3</th>\n",
       "      <td>32471.0</td>\n",
       "      <td>Pranali</td>\n",
       "      <td>27.0</td>\n",
       "      <td>43.0</td>\n",
       "      <td>52.0</td>\n",
       "      <td>78.0</td>\n",
       "      <td>NaN</td>\n",
       "      <td>NaN</td>\n",
       "      <td>NaN</td>\n",
       "      <td>NaN</td>\n",
       "      <td>NaN</td>\n",
       "      <td>NaN</td>\n",
       "      <td>NaN</td>\n",
       "      <td>NaN</td>\n",
       "      <td>NaN</td>\n",
       "      <td>NaN</td>\n",
       "      <td>NaN</td>\n",
       "      <td>NaN</td>\n",
       "    </tr>\n",
       "    <tr>\n",
       "      <th>4</th>\n",
       "      <td>32472.0</td>\n",
       "      <td>Prachi</td>\n",
       "      <td>43.0</td>\n",
       "      <td>62.0</td>\n",
       "      <td>79.0</td>\n",
       "      <td>43.0</td>\n",
       "      <td>NaN</td>\n",
       "      <td>NaN</td>\n",
       "      <td>NaN</td>\n",
       "      <td>NaN</td>\n",
       "      <td>NaN</td>\n",
       "      <td>NaN</td>\n",
       "      <td>NaN</td>\n",
       "      <td>NaN</td>\n",
       "      <td>NaN</td>\n",
       "      <td>NaN</td>\n",
       "      <td>NaN</td>\n",
       "      <td>NaN</td>\n",
       "    </tr>\n",
       "    <tr>\n",
       "      <th>6</th>\n",
       "      <td>NaN</td>\n",
       "      <td>NaN</td>\n",
       "      <td>NaN</td>\n",
       "      <td>NaN</td>\n",
       "      <td>NaN</td>\n",
       "      <td>NaN</td>\n",
       "      <td>32473.0</td>\n",
       "      <td>Sachin</td>\n",
       "      <td>30.0</td>\n",
       "      <td>71.0</td>\n",
       "      <td>42.0</td>\n",
       "      <td>79.0</td>\n",
       "      <td>NaN</td>\n",
       "      <td>NaN</td>\n",
       "      <td>NaN</td>\n",
       "      <td>NaN</td>\n",
       "      <td>NaN</td>\n",
       "      <td>NaN</td>\n",
       "    </tr>\n",
       "    <tr>\n",
       "      <th>7</th>\n",
       "      <td>NaN</td>\n",
       "      <td>NaN</td>\n",
       "      <td>NaN</td>\n",
       "      <td>NaN</td>\n",
       "      <td>NaN</td>\n",
       "      <td>NaN</td>\n",
       "      <td>32474.0</td>\n",
       "      <td>Saurav</td>\n",
       "      <td>55.0</td>\n",
       "      <td>52.0</td>\n",
       "      <td>75.0</td>\n",
       "      <td>42.0</td>\n",
       "      <td>NaN</td>\n",
       "      <td>NaN</td>\n",
       "      <td>NaN</td>\n",
       "      <td>NaN</td>\n",
       "      <td>NaN</td>\n",
       "      <td>NaN</td>\n",
       "    </tr>\n",
       "    <tr>\n",
       "      <th>8</th>\n",
       "      <td>NaN</td>\n",
       "      <td>NaN</td>\n",
       "      <td>NaN</td>\n",
       "      <td>NaN</td>\n",
       "      <td>NaN</td>\n",
       "      <td>NaN</td>\n",
       "      <td>32475.0</td>\n",
       "      <td>Rahul</td>\n",
       "      <td>71.0</td>\n",
       "      <td>80.0</td>\n",
       "      <td>50.0</td>\n",
       "      <td>79.0</td>\n",
       "      <td>NaN</td>\n",
       "      <td>NaN</td>\n",
       "      <td>NaN</td>\n",
       "      <td>NaN</td>\n",
       "      <td>NaN</td>\n",
       "      <td>NaN</td>\n",
       "    </tr>\n",
       "    <tr>\n",
       "      <th>9</th>\n",
       "      <td>NaN</td>\n",
       "      <td>NaN</td>\n",
       "      <td>NaN</td>\n",
       "      <td>NaN</td>\n",
       "      <td>NaN</td>\n",
       "      <td>NaN</td>\n",
       "      <td>32476.0</td>\n",
       "      <td>Virat</td>\n",
       "      <td>21.0</td>\n",
       "      <td>28.0</td>\n",
       "      <td>23.0</td>\n",
       "      <td>72.0</td>\n",
       "      <td>NaN</td>\n",
       "      <td>NaN</td>\n",
       "      <td>NaN</td>\n",
       "      <td>NaN</td>\n",
       "      <td>NaN</td>\n",
       "      <td>NaN</td>\n",
       "    </tr>\n",
       "    <tr>\n",
       "      <th>10</th>\n",
       "      <td>NaN</td>\n",
       "      <td>NaN</td>\n",
       "      <td>NaN</td>\n",
       "      <td>NaN</td>\n",
       "      <td>NaN</td>\n",
       "      <td>NaN</td>\n",
       "      <td>32477.0</td>\n",
       "      <td>Rohit</td>\n",
       "      <td>57.0</td>\n",
       "      <td>42.0</td>\n",
       "      <td>25.0</td>\n",
       "      <td>52.0</td>\n",
       "      <td>NaN</td>\n",
       "      <td>NaN</td>\n",
       "      <td>NaN</td>\n",
       "      <td>NaN</td>\n",
       "      <td>NaN</td>\n",
       "      <td>NaN</td>\n",
       "    </tr>\n",
       "    <tr>\n",
       "      <th>11</th>\n",
       "      <td>NaN</td>\n",
       "      <td>NaN</td>\n",
       "      <td>NaN</td>\n",
       "      <td>NaN</td>\n",
       "      <td>NaN</td>\n",
       "      <td>NaN</td>\n",
       "      <td>NaN</td>\n",
       "      <td>NaN</td>\n",
       "      <td>NaN</td>\n",
       "      <td>NaN</td>\n",
       "      <td>NaN</td>\n",
       "      <td>NaN</td>\n",
       "      <td>32478.0</td>\n",
       "      <td>Raj</td>\n",
       "      <td>74.0</td>\n",
       "      <td>53.0</td>\n",
       "      <td>70.0</td>\n",
       "      <td>77.0</td>\n",
       "    </tr>\n",
       "    <tr>\n",
       "      <th>12</th>\n",
       "      <td>NaN</td>\n",
       "      <td>NaN</td>\n",
       "      <td>NaN</td>\n",
       "      <td>NaN</td>\n",
       "      <td>NaN</td>\n",
       "      <td>NaN</td>\n",
       "      <td>NaN</td>\n",
       "      <td>NaN</td>\n",
       "      <td>NaN</td>\n",
       "      <td>NaN</td>\n",
       "      <td>NaN</td>\n",
       "      <td>NaN</td>\n",
       "      <td>32479.0</td>\n",
       "      <td>Rohan</td>\n",
       "      <td>47.0</td>\n",
       "      <td>46.0</td>\n",
       "      <td>33.0</td>\n",
       "      <td>53.0</td>\n",
       "    </tr>\n",
       "    <tr>\n",
       "      <th>13</th>\n",
       "      <td>NaN</td>\n",
       "      <td>NaN</td>\n",
       "      <td>NaN</td>\n",
       "      <td>NaN</td>\n",
       "      <td>NaN</td>\n",
       "      <td>NaN</td>\n",
       "      <td>NaN</td>\n",
       "      <td>NaN</td>\n",
       "      <td>NaN</td>\n",
       "      <td>NaN</td>\n",
       "      <td>NaN</td>\n",
       "      <td>NaN</td>\n",
       "      <td>32480.0</td>\n",
       "      <td>Rahul</td>\n",
       "      <td>62.0</td>\n",
       "      <td>23.0</td>\n",
       "      <td>47.0</td>\n",
       "      <td>64.0</td>\n",
       "    </tr>\n",
       "    <tr>\n",
       "      <th>14</th>\n",
       "      <td>NaN</td>\n",
       "      <td>NaN</td>\n",
       "      <td>NaN</td>\n",
       "      <td>NaN</td>\n",
       "      <td>NaN</td>\n",
       "      <td>NaN</td>\n",
       "      <td>NaN</td>\n",
       "      <td>NaN</td>\n",
       "      <td>NaN</td>\n",
       "      <td>NaN</td>\n",
       "      <td>NaN</td>\n",
       "      <td>NaN</td>\n",
       "      <td>32481.0</td>\n",
       "      <td>Ravi</td>\n",
       "      <td>69.0</td>\n",
       "      <td>68.0</td>\n",
       "      <td>55.0</td>\n",
       "      <td>73.0</td>\n",
       "    </tr>\n",
       "    <tr>\n",
       "      <th>15</th>\n",
       "      <td>NaN</td>\n",
       "      <td>NaN</td>\n",
       "      <td>NaN</td>\n",
       "      <td>NaN</td>\n",
       "      <td>NaN</td>\n",
       "      <td>NaN</td>\n",
       "      <td>NaN</td>\n",
       "      <td>NaN</td>\n",
       "      <td>NaN</td>\n",
       "      <td>NaN</td>\n",
       "      <td>NaN</td>\n",
       "      <td>NaN</td>\n",
       "      <td>32482.0</td>\n",
       "      <td>Ramesh</td>\n",
       "      <td>47.0</td>\n",
       "      <td>29.0</td>\n",
       "      <td>59.0</td>\n",
       "      <td>23.0</td>\n",
       "    </tr>\n",
       "  </tbody>\n",
       "</table>\n",
       "</div>"
      ],
      "text/plain": [
       "    Student_id Student_name  Physics  Chemistry  Biology  Mathematics  \\\n",
       "0      32468.0   Prathamesh     52.0       80.0     67.0         68.0   \n",
       "1      32469.0       Pratik     36.0       46.0     59.0         21.0   \n",
       "2      32470.0       Pranav     70.0       68.0     39.0         42.0   \n",
       "3      32471.0      Pranali     27.0       43.0     52.0         78.0   \n",
       "4      32472.0       Prachi     43.0       62.0     79.0         43.0   \n",
       "6          NaN          NaN      NaN        NaN      NaN          NaN   \n",
       "7          NaN          NaN      NaN        NaN      NaN          NaN   \n",
       "8          NaN          NaN      NaN        NaN      NaN          NaN   \n",
       "9          NaN          NaN      NaN        NaN      NaN          NaN   \n",
       "10         NaN          NaN      NaN        NaN      NaN          NaN   \n",
       "11         NaN          NaN      NaN        NaN      NaN          NaN   \n",
       "12         NaN          NaN      NaN        NaN      NaN          NaN   \n",
       "13         NaN          NaN      NaN        NaN      NaN          NaN   \n",
       "14         NaN          NaN      NaN        NaN      NaN          NaN   \n",
       "15         NaN          NaN      NaN        NaN      NaN          NaN   \n",
       "\n",
       "    Student_id Student_name  Physics  Chemistry  Biology  Mathematics  \\\n",
       "0          NaN          NaN      NaN        NaN      NaN          NaN   \n",
       "1          NaN          NaN      NaN        NaN      NaN          NaN   \n",
       "2          NaN          NaN      NaN        NaN      NaN          NaN   \n",
       "3          NaN          NaN      NaN        NaN      NaN          NaN   \n",
       "4          NaN          NaN      NaN        NaN      NaN          NaN   \n",
       "6      32473.0       Sachin     30.0       71.0     42.0         79.0   \n",
       "7      32474.0       Saurav     55.0       52.0     75.0         42.0   \n",
       "8      32475.0        Rahul     71.0       80.0     50.0         79.0   \n",
       "9      32476.0        Virat     21.0       28.0     23.0         72.0   \n",
       "10     32477.0        Rohit     57.0       42.0     25.0         52.0   \n",
       "11         NaN          NaN      NaN        NaN      NaN          NaN   \n",
       "12         NaN          NaN      NaN        NaN      NaN          NaN   \n",
       "13         NaN          NaN      NaN        NaN      NaN          NaN   \n",
       "14         NaN          NaN      NaN        NaN      NaN          NaN   \n",
       "15         NaN          NaN      NaN        NaN      NaN          NaN   \n",
       "\n",
       "    Student_id Student_name  Physics  Chemistry  Biology  Mathematics  \n",
       "0          NaN          NaN      NaN        NaN      NaN          NaN  \n",
       "1          NaN          NaN      NaN        NaN      NaN          NaN  \n",
       "2          NaN          NaN      NaN        NaN      NaN          NaN  \n",
       "3          NaN          NaN      NaN        NaN      NaN          NaN  \n",
       "4          NaN          NaN      NaN        NaN      NaN          NaN  \n",
       "6          NaN          NaN      NaN        NaN      NaN          NaN  \n",
       "7          NaN          NaN      NaN        NaN      NaN          NaN  \n",
       "8          NaN          NaN      NaN        NaN      NaN          NaN  \n",
       "9          NaN          NaN      NaN        NaN      NaN          NaN  \n",
       "10         NaN          NaN      NaN        NaN      NaN          NaN  \n",
       "11     32478.0          Raj     74.0       53.0     70.0         77.0  \n",
       "12     32479.0        Rohan     47.0       46.0     33.0         53.0  \n",
       "13     32480.0        Rahul     62.0       23.0     47.0         64.0  \n",
       "14     32481.0         Ravi     69.0       68.0     55.0         73.0  \n",
       "15     32482.0       Ramesh     47.0       29.0     59.0         23.0  "
      ]
     },
     "execution_count": 92,
     "metadata": {},
     "output_type": "execute_result"
    }
   ],
   "source": [
    "prathamesh_pd.concat([prathamesh_df1,prathamesh_df2,prathamesh_df3],axis=1)"
   ]
  },
  {
   "cell_type": "markdown",
   "id": "2fd330e2-c22b-4824-a96d-3c8d5ce3b7db",
   "metadata": {},
   "source": [
    "### Using Merge Operation\n",
    "\n",
    "Here, we create two dataframes with data split between them. We use joins to combine the dataframes. The data taken is based on two common columns. The common columns are the student_id and the student_name. First, we take a single column to merge the data, as you will see, the data is not merged correctly. It has Student name column twice. This is because it does not merge any other columns. It only merges the common column. Then, we merge the dataframes based on two columns. The data is merged correctly."
   ]
  },
  {
   "cell_type": "code",
   "execution_count": 93,
   "id": "03f16f98-9b22-4ae7-a62c-e31a7572070a",
   "metadata": {
    "tags": []
   },
   "outputs": [],
   "source": [
    "prathamesh_data_1_1 = {\n",
    "    'Student_id': [32468, 32469, 32470, 32471, 32472],\n",
    "    'Student_name': ['Prathamesh', 'Pratik', 'Pranav', 'Pranali', 'Prachi'],\n",
    "    'Physics': [52, 36, 70, 27, 43],\n",
    "    'Chemistry': [80, 46, 68, 43, 62],\n",
    "}\n",
    "prathamesh_data_1_2 = {\n",
    "    'Student_id': [32468, 32469, 32470, 32471, 32472],\n",
    "    'Student_name': ['Prathamesh', 'Pratik', 'Pranav', 'Pranali', 'Prachi'],\n",
    "    'Biology': [67, 59, 39, 52, 79],\n",
    "    'Mathematics': [68, 21, 42, 78, 43]\n",
    "\n",
    "}\n",
    "prathamesh_left = prathamesh_pd.DataFrame(prathamesh_data_1_1)\n",
    "prathamesh_right = prathamesh_pd.DataFrame(prathamesh_data_1_2)"
   ]
  },
  {
   "cell_type": "code",
   "execution_count": 94,
   "id": "5a356001-5177-4e9a-b9b4-b60eacc6086b",
   "metadata": {
    "tags": []
   },
   "outputs": [
    {
     "data": {
      "text/html": [
       "<div>\n",
       "<style scoped>\n",
       "    .dataframe tbody tr th:only-of-type {\n",
       "        vertical-align: middle;\n",
       "    }\n",
       "\n",
       "    .dataframe tbody tr th {\n",
       "        vertical-align: top;\n",
       "    }\n",
       "\n",
       "    .dataframe thead th {\n",
       "        text-align: right;\n",
       "    }\n",
       "</style>\n",
       "<table border=\"1\" class=\"dataframe\">\n",
       "  <thead>\n",
       "    <tr style=\"text-align: right;\">\n",
       "      <th></th>\n",
       "      <th>Student_id</th>\n",
       "      <th>Student_name</th>\n",
       "      <th>Physics</th>\n",
       "      <th>Chemistry</th>\n",
       "    </tr>\n",
       "  </thead>\n",
       "  <tbody>\n",
       "    <tr>\n",
       "      <th>0</th>\n",
       "      <td>32468</td>\n",
       "      <td>Prathamesh</td>\n",
       "      <td>52</td>\n",
       "      <td>80</td>\n",
       "    </tr>\n",
       "    <tr>\n",
       "      <th>1</th>\n",
       "      <td>32469</td>\n",
       "      <td>Pratik</td>\n",
       "      <td>36</td>\n",
       "      <td>46</td>\n",
       "    </tr>\n",
       "    <tr>\n",
       "      <th>2</th>\n",
       "      <td>32470</td>\n",
       "      <td>Pranav</td>\n",
       "      <td>70</td>\n",
       "      <td>68</td>\n",
       "    </tr>\n",
       "    <tr>\n",
       "      <th>3</th>\n",
       "      <td>32471</td>\n",
       "      <td>Pranali</td>\n",
       "      <td>27</td>\n",
       "      <td>43</td>\n",
       "    </tr>\n",
       "    <tr>\n",
       "      <th>4</th>\n",
       "      <td>32472</td>\n",
       "      <td>Prachi</td>\n",
       "      <td>43</td>\n",
       "      <td>62</td>\n",
       "    </tr>\n",
       "  </tbody>\n",
       "</table>\n",
       "</div>"
      ],
      "text/plain": [
       "   Student_id Student_name  Physics  Chemistry\n",
       "0       32468   Prathamesh       52         80\n",
       "1       32469       Pratik       36         46\n",
       "2       32470       Pranav       70         68\n",
       "3       32471      Pranali       27         43\n",
       "4       32472       Prachi       43         62"
      ]
     },
     "execution_count": 94,
     "metadata": {},
     "output_type": "execute_result"
    }
   ],
   "source": [
    "prathamesh_left"
   ]
  },
  {
   "cell_type": "code",
   "execution_count": 95,
   "id": "55e3fbb7-c228-43b8-a658-a5843b8bc04d",
   "metadata": {
    "tags": []
   },
   "outputs": [
    {
     "data": {
      "text/html": [
       "<div>\n",
       "<style scoped>\n",
       "    .dataframe tbody tr th:only-of-type {\n",
       "        vertical-align: middle;\n",
       "    }\n",
       "\n",
       "    .dataframe tbody tr th {\n",
       "        vertical-align: top;\n",
       "    }\n",
       "\n",
       "    .dataframe thead th {\n",
       "        text-align: right;\n",
       "    }\n",
       "</style>\n",
       "<table border=\"1\" class=\"dataframe\">\n",
       "  <thead>\n",
       "    <tr style=\"text-align: right;\">\n",
       "      <th></th>\n",
       "      <th>Student_id</th>\n",
       "      <th>Student_name</th>\n",
       "      <th>Biology</th>\n",
       "      <th>Mathematics</th>\n",
       "    </tr>\n",
       "  </thead>\n",
       "  <tbody>\n",
       "    <tr>\n",
       "      <th>0</th>\n",
       "      <td>32468</td>\n",
       "      <td>Prathamesh</td>\n",
       "      <td>67</td>\n",
       "      <td>68</td>\n",
       "    </tr>\n",
       "    <tr>\n",
       "      <th>1</th>\n",
       "      <td>32469</td>\n",
       "      <td>Pratik</td>\n",
       "      <td>59</td>\n",
       "      <td>21</td>\n",
       "    </tr>\n",
       "    <tr>\n",
       "      <th>2</th>\n",
       "      <td>32470</td>\n",
       "      <td>Pranav</td>\n",
       "      <td>39</td>\n",
       "      <td>42</td>\n",
       "    </tr>\n",
       "    <tr>\n",
       "      <th>3</th>\n",
       "      <td>32471</td>\n",
       "      <td>Pranali</td>\n",
       "      <td>52</td>\n",
       "      <td>78</td>\n",
       "    </tr>\n",
       "    <tr>\n",
       "      <th>4</th>\n",
       "      <td>32472</td>\n",
       "      <td>Prachi</td>\n",
       "      <td>79</td>\n",
       "      <td>43</td>\n",
       "    </tr>\n",
       "  </tbody>\n",
       "</table>\n",
       "</div>"
      ],
      "text/plain": [
       "   Student_id Student_name  Biology  Mathematics\n",
       "0       32468   Prathamesh       67           68\n",
       "1       32469       Pratik       59           21\n",
       "2       32470       Pranav       39           42\n",
       "3       32471      Pranali       52           78\n",
       "4       32472       Prachi       79           43"
      ]
     },
     "execution_count": 95,
     "metadata": {},
     "output_type": "execute_result"
    }
   ],
   "source": [
    "prathamesh_right"
   ]
  },
  {
   "cell_type": "code",
   "execution_count": 96,
   "id": "c5ec24d2-a0f2-441d-bdf2-a3a12a011d72",
   "metadata": {
    "tags": []
   },
   "outputs": [
    {
     "data": {
      "text/html": [
       "<div>\n",
       "<style scoped>\n",
       "    .dataframe tbody tr th:only-of-type {\n",
       "        vertical-align: middle;\n",
       "    }\n",
       "\n",
       "    .dataframe tbody tr th {\n",
       "        vertical-align: top;\n",
       "    }\n",
       "\n",
       "    .dataframe thead th {\n",
       "        text-align: right;\n",
       "    }\n",
       "</style>\n",
       "<table border=\"1\" class=\"dataframe\">\n",
       "  <thead>\n",
       "    <tr style=\"text-align: right;\">\n",
       "      <th></th>\n",
       "      <th>Student_id</th>\n",
       "      <th>Student_name_x</th>\n",
       "      <th>Physics</th>\n",
       "      <th>Chemistry</th>\n",
       "      <th>Student_name_y</th>\n",
       "      <th>Biology</th>\n",
       "      <th>Mathematics</th>\n",
       "    </tr>\n",
       "  </thead>\n",
       "  <tbody>\n",
       "    <tr>\n",
       "      <th>0</th>\n",
       "      <td>32468</td>\n",
       "      <td>Prathamesh</td>\n",
       "      <td>52</td>\n",
       "      <td>80</td>\n",
       "      <td>Prathamesh</td>\n",
       "      <td>67</td>\n",
       "      <td>68</td>\n",
       "    </tr>\n",
       "    <tr>\n",
       "      <th>1</th>\n",
       "      <td>32469</td>\n",
       "      <td>Pratik</td>\n",
       "      <td>36</td>\n",
       "      <td>46</td>\n",
       "      <td>Pratik</td>\n",
       "      <td>59</td>\n",
       "      <td>21</td>\n",
       "    </tr>\n",
       "    <tr>\n",
       "      <th>2</th>\n",
       "      <td>32470</td>\n",
       "      <td>Pranav</td>\n",
       "      <td>70</td>\n",
       "      <td>68</td>\n",
       "      <td>Pranav</td>\n",
       "      <td>39</td>\n",
       "      <td>42</td>\n",
       "    </tr>\n",
       "    <tr>\n",
       "      <th>3</th>\n",
       "      <td>32471</td>\n",
       "      <td>Pranali</td>\n",
       "      <td>27</td>\n",
       "      <td>43</td>\n",
       "      <td>Pranali</td>\n",
       "      <td>52</td>\n",
       "      <td>78</td>\n",
       "    </tr>\n",
       "    <tr>\n",
       "      <th>4</th>\n",
       "      <td>32472</td>\n",
       "      <td>Prachi</td>\n",
       "      <td>43</td>\n",
       "      <td>62</td>\n",
       "      <td>Prachi</td>\n",
       "      <td>79</td>\n",
       "      <td>43</td>\n",
       "    </tr>\n",
       "  </tbody>\n",
       "</table>\n",
       "</div>"
      ],
      "text/plain": [
       "   Student_id Student_name_x  Physics  Chemistry Student_name_y  Biology  \\\n",
       "0       32468     Prathamesh       52         80     Prathamesh       67   \n",
       "1       32469         Pratik       36         46         Pratik       59   \n",
       "2       32470         Pranav       70         68         Pranav       39   \n",
       "3       32471        Pranali       27         43        Pranali       52   \n",
       "4       32472         Prachi       43         62         Prachi       79   \n",
       "\n",
       "   Mathematics  \n",
       "0           68  \n",
       "1           21  \n",
       "2           42  \n",
       "3           78  \n",
       "4           43  "
      ]
     },
     "execution_count": 96,
     "metadata": {},
     "output_type": "execute_result"
    }
   ],
   "source": [
    "prathamesh_pd.merge(prathamesh_left,prathamesh_right,how='inner',on='Student_id')"
   ]
  },
  {
   "cell_type": "code",
   "execution_count": 97,
   "id": "4273aeda-1801-4ba5-8b43-abb6b3fa5a3d",
   "metadata": {},
   "outputs": [
    {
     "data": {
      "text/html": [
       "<div>\n",
       "<style scoped>\n",
       "    .dataframe tbody tr th:only-of-type {\n",
       "        vertical-align: middle;\n",
       "    }\n",
       "\n",
       "    .dataframe tbody tr th {\n",
       "        vertical-align: top;\n",
       "    }\n",
       "\n",
       "    .dataframe thead th {\n",
       "        text-align: right;\n",
       "    }\n",
       "</style>\n",
       "<table border=\"1\" class=\"dataframe\">\n",
       "  <thead>\n",
       "    <tr style=\"text-align: right;\">\n",
       "      <th></th>\n",
       "      <th>Student_id</th>\n",
       "      <th>Student_name</th>\n",
       "      <th>Physics</th>\n",
       "      <th>Chemistry</th>\n",
       "      <th>Biology</th>\n",
       "      <th>Mathematics</th>\n",
       "    </tr>\n",
       "  </thead>\n",
       "  <tbody>\n",
       "    <tr>\n",
       "      <th>0</th>\n",
       "      <td>32468</td>\n",
       "      <td>Prathamesh</td>\n",
       "      <td>52</td>\n",
       "      <td>80</td>\n",
       "      <td>67</td>\n",
       "      <td>68</td>\n",
       "    </tr>\n",
       "    <tr>\n",
       "      <th>1</th>\n",
       "      <td>32469</td>\n",
       "      <td>Pratik</td>\n",
       "      <td>36</td>\n",
       "      <td>46</td>\n",
       "      <td>59</td>\n",
       "      <td>21</td>\n",
       "    </tr>\n",
       "    <tr>\n",
       "      <th>2</th>\n",
       "      <td>32470</td>\n",
       "      <td>Pranav</td>\n",
       "      <td>70</td>\n",
       "      <td>68</td>\n",
       "      <td>39</td>\n",
       "      <td>42</td>\n",
       "    </tr>\n",
       "    <tr>\n",
       "      <th>3</th>\n",
       "      <td>32471</td>\n",
       "      <td>Pranali</td>\n",
       "      <td>27</td>\n",
       "      <td>43</td>\n",
       "      <td>52</td>\n",
       "      <td>78</td>\n",
       "    </tr>\n",
       "    <tr>\n",
       "      <th>4</th>\n",
       "      <td>32472</td>\n",
       "      <td>Prachi</td>\n",
       "      <td>43</td>\n",
       "      <td>62</td>\n",
       "      <td>79</td>\n",
       "      <td>43</td>\n",
       "    </tr>\n",
       "  </tbody>\n",
       "</table>\n",
       "</div>"
      ],
      "text/plain": [
       "   Student_id Student_name  Physics  Chemistry  Biology  Mathematics\n",
       "0       32468   Prathamesh       52         80       67           68\n",
       "1       32469       Pratik       36         46       59           21\n",
       "2       32470       Pranav       70         68       39           42\n",
       "3       32471      Pranali       27         43       52           78\n",
       "4       32472       Prachi       43         62       79           43"
      ]
     },
     "execution_count": 97,
     "metadata": {},
     "output_type": "execute_result"
    }
   ],
   "source": [
    "prathamesh_pd.merge(prathamesh_left,prathamesh_right,how='inner',on=['Student_id','Student_name'])"
   ]
  },
  {
   "cell_type": "markdown",
   "id": "cb2a6aa9-8276-4dbb-a0ac-6a4877ded7c3",
   "metadata": {},
   "source": [
    "Now we perform these operations with differently sharded data. Now, the keys are disjoint. Therefore, the only those common keys are merged. The rest of the data is discarded."
   ]
  },
  {
   "cell_type": "code",
   "execution_count": 98,
   "id": "89debaed-ce52-4757-93cc-7ed1236fee38",
   "metadata": {
    "tags": []
   },
   "outputs": [],
   "source": [
    "prathamesh_data_2_1 = {\n",
    "  'Student_id': [32473, 32473, 32473, 32473, 32477],\n",
    "  'Student_name': ['Sachin', 'Sachin', 'Saurav', 'Saurav', 'Rahul'],\n",
    "  'Physics': [30, 55, 71, 21, 57],\n",
    "  'Chemistry': [71, 52, 80, 28, 42]\n",
    "}\n",
    "prathamesh_data_2_2 = {\n",
    "  'Student_id': [32473, 32474, 32474, 32474, 32475],\n",
    "  'Student_name': ['Sachin', 'Sachin', 'Sachin', 'Sachin', 'Sachin'],\n",
    "  'Biology': [42, 75, 50, 23, 25],\n",
    "  'Mathematics': [79, 42, 79, 72, 52]\n",
    "}\n",
    "prathamesh_left = prathamesh_pd.DataFrame(prathamesh_data_2_1)\n",
    "prathamesh_right = prathamesh_pd.DataFrame(prathamesh_data_2_2)"
   ]
  },
  {
   "cell_type": "code",
   "execution_count": 99,
   "id": "02b0084c-b47d-447e-b758-222ccb4e421c",
   "metadata": {
    "tags": []
   },
   "outputs": [
    {
     "data": {
      "text/html": [
       "<div>\n",
       "<style scoped>\n",
       "    .dataframe tbody tr th:only-of-type {\n",
       "        vertical-align: middle;\n",
       "    }\n",
       "\n",
       "    .dataframe tbody tr th {\n",
       "        vertical-align: top;\n",
       "    }\n",
       "\n",
       "    .dataframe thead th {\n",
       "        text-align: right;\n",
       "    }\n",
       "</style>\n",
       "<table border=\"1\" class=\"dataframe\">\n",
       "  <thead>\n",
       "    <tr style=\"text-align: right;\">\n",
       "      <th></th>\n",
       "      <th>Student_id</th>\n",
       "      <th>Student_name</th>\n",
       "      <th>Physics</th>\n",
       "      <th>Chemistry</th>\n",
       "    </tr>\n",
       "  </thead>\n",
       "  <tbody>\n",
       "    <tr>\n",
       "      <th>0</th>\n",
       "      <td>32473</td>\n",
       "      <td>Sachin</td>\n",
       "      <td>30</td>\n",
       "      <td>71</td>\n",
       "    </tr>\n",
       "    <tr>\n",
       "      <th>1</th>\n",
       "      <td>32473</td>\n",
       "      <td>Sachin</td>\n",
       "      <td>55</td>\n",
       "      <td>52</td>\n",
       "    </tr>\n",
       "    <tr>\n",
       "      <th>2</th>\n",
       "      <td>32473</td>\n",
       "      <td>Saurav</td>\n",
       "      <td>71</td>\n",
       "      <td>80</td>\n",
       "    </tr>\n",
       "    <tr>\n",
       "      <th>3</th>\n",
       "      <td>32473</td>\n",
       "      <td>Saurav</td>\n",
       "      <td>21</td>\n",
       "      <td>28</td>\n",
       "    </tr>\n",
       "    <tr>\n",
       "      <th>4</th>\n",
       "      <td>32477</td>\n",
       "      <td>Rahul</td>\n",
       "      <td>57</td>\n",
       "      <td>42</td>\n",
       "    </tr>\n",
       "  </tbody>\n",
       "</table>\n",
       "</div>"
      ],
      "text/plain": [
       "   Student_id Student_name  Physics  Chemistry\n",
       "0       32473       Sachin       30         71\n",
       "1       32473       Sachin       55         52\n",
       "2       32473       Saurav       71         80\n",
       "3       32473       Saurav       21         28\n",
       "4       32477        Rahul       57         42"
      ]
     },
     "execution_count": 99,
     "metadata": {},
     "output_type": "execute_result"
    }
   ],
   "source": [
    "prathamesh_left"
   ]
  },
  {
   "cell_type": "code",
   "execution_count": 100,
   "id": "314df0af-7382-4195-b721-cf645e3568eb",
   "metadata": {
    "tags": []
   },
   "outputs": [
    {
     "data": {
      "text/html": [
       "<div>\n",
       "<style scoped>\n",
       "    .dataframe tbody tr th:only-of-type {\n",
       "        vertical-align: middle;\n",
       "    }\n",
       "\n",
       "    .dataframe tbody tr th {\n",
       "        vertical-align: top;\n",
       "    }\n",
       "\n",
       "    .dataframe thead th {\n",
       "        text-align: right;\n",
       "    }\n",
       "</style>\n",
       "<table border=\"1\" class=\"dataframe\">\n",
       "  <thead>\n",
       "    <tr style=\"text-align: right;\">\n",
       "      <th></th>\n",
       "      <th>Student_id</th>\n",
       "      <th>Student_name</th>\n",
       "      <th>Biology</th>\n",
       "      <th>Mathematics</th>\n",
       "    </tr>\n",
       "  </thead>\n",
       "  <tbody>\n",
       "    <tr>\n",
       "      <th>0</th>\n",
       "      <td>32473</td>\n",
       "      <td>Sachin</td>\n",
       "      <td>42</td>\n",
       "      <td>79</td>\n",
       "    </tr>\n",
       "    <tr>\n",
       "      <th>1</th>\n",
       "      <td>32474</td>\n",
       "      <td>Sachin</td>\n",
       "      <td>75</td>\n",
       "      <td>42</td>\n",
       "    </tr>\n",
       "    <tr>\n",
       "      <th>2</th>\n",
       "      <td>32474</td>\n",
       "      <td>Sachin</td>\n",
       "      <td>50</td>\n",
       "      <td>79</td>\n",
       "    </tr>\n",
       "    <tr>\n",
       "      <th>3</th>\n",
       "      <td>32474</td>\n",
       "      <td>Sachin</td>\n",
       "      <td>23</td>\n",
       "      <td>72</td>\n",
       "    </tr>\n",
       "    <tr>\n",
       "      <th>4</th>\n",
       "      <td>32475</td>\n",
       "      <td>Sachin</td>\n",
       "      <td>25</td>\n",
       "      <td>52</td>\n",
       "    </tr>\n",
       "  </tbody>\n",
       "</table>\n",
       "</div>"
      ],
      "text/plain": [
       "   Student_id Student_name  Biology  Mathematics\n",
       "0       32473       Sachin       42           79\n",
       "1       32474       Sachin       75           42\n",
       "2       32474       Sachin       50           79\n",
       "3       32474       Sachin       23           72\n",
       "4       32475       Sachin       25           52"
      ]
     },
     "execution_count": 100,
     "metadata": {},
     "output_type": "execute_result"
    }
   ],
   "source": [
    "prathamesh_right"
   ]
  },
  {
   "cell_type": "code",
   "execution_count": 101,
   "id": "c271ffa8-ec84-424f-bded-e16814faa005",
   "metadata": {
    "tags": []
   },
   "outputs": [
    {
     "data": {
      "text/html": [
       "<div>\n",
       "<style scoped>\n",
       "    .dataframe tbody tr th:only-of-type {\n",
       "        vertical-align: middle;\n",
       "    }\n",
       "\n",
       "    .dataframe tbody tr th {\n",
       "        vertical-align: top;\n",
       "    }\n",
       "\n",
       "    .dataframe thead th {\n",
       "        text-align: right;\n",
       "    }\n",
       "</style>\n",
       "<table border=\"1\" class=\"dataframe\">\n",
       "  <thead>\n",
       "    <tr style=\"text-align: right;\">\n",
       "      <th></th>\n",
       "      <th>Student_id</th>\n",
       "      <th>Student_name</th>\n",
       "      <th>Physics</th>\n",
       "      <th>Chemistry</th>\n",
       "      <th>Biology</th>\n",
       "      <th>Mathematics</th>\n",
       "    </tr>\n",
       "  </thead>\n",
       "  <tbody>\n",
       "    <tr>\n",
       "      <th>0</th>\n",
       "      <td>32473</td>\n",
       "      <td>Sachin</td>\n",
       "      <td>30</td>\n",
       "      <td>71</td>\n",
       "      <td>42</td>\n",
       "      <td>79</td>\n",
       "    </tr>\n",
       "    <tr>\n",
       "      <th>1</th>\n",
       "      <td>32473</td>\n",
       "      <td>Sachin</td>\n",
       "      <td>55</td>\n",
       "      <td>52</td>\n",
       "      <td>42</td>\n",
       "      <td>79</td>\n",
       "    </tr>\n",
       "  </tbody>\n",
       "</table>\n",
       "</div>"
      ],
      "text/plain": [
       "   Student_id Student_name  Physics  Chemistry  Biology  Mathematics\n",
       "0       32473       Sachin       30         71       42           79\n",
       "1       32473       Sachin       55         52       42           79"
      ]
     },
     "execution_count": 101,
     "metadata": {},
     "output_type": "execute_result"
    }
   ],
   "source": [
    "prathamesh_pd.merge(prathamesh_left,prathamesh_right,on=['Student_id','Student_name'])"
   ]
  },
  {
   "cell_type": "code",
   "execution_count": 102,
   "id": "4c39de95-3e38-4181-b3e4-8f19c8ccf2d4",
   "metadata": {
    "tags": []
   },
   "outputs": [
    {
     "data": {
      "text/html": [
       "<div>\n",
       "<style scoped>\n",
       "    .dataframe tbody tr th:only-of-type {\n",
       "        vertical-align: middle;\n",
       "    }\n",
       "\n",
       "    .dataframe tbody tr th {\n",
       "        vertical-align: top;\n",
       "    }\n",
       "\n",
       "    .dataframe thead th {\n",
       "        text-align: right;\n",
       "    }\n",
       "</style>\n",
       "<table border=\"1\" class=\"dataframe\">\n",
       "  <thead>\n",
       "    <tr style=\"text-align: right;\">\n",
       "      <th></th>\n",
       "      <th>Student_id</th>\n",
       "      <th>Student_name</th>\n",
       "      <th>Physics</th>\n",
       "      <th>Chemistry</th>\n",
       "      <th>Biology</th>\n",
       "      <th>Mathematics</th>\n",
       "    </tr>\n",
       "  </thead>\n",
       "  <tbody>\n",
       "    <tr>\n",
       "      <th>0</th>\n",
       "      <td>32473</td>\n",
       "      <td>Sachin</td>\n",
       "      <td>30.0</td>\n",
       "      <td>71.0</td>\n",
       "      <td>42.0</td>\n",
       "      <td>79.0</td>\n",
       "    </tr>\n",
       "    <tr>\n",
       "      <th>1</th>\n",
       "      <td>32473</td>\n",
       "      <td>Sachin</td>\n",
       "      <td>55.0</td>\n",
       "      <td>52.0</td>\n",
       "      <td>42.0</td>\n",
       "      <td>79.0</td>\n",
       "    </tr>\n",
       "    <tr>\n",
       "      <th>2</th>\n",
       "      <td>32473</td>\n",
       "      <td>Saurav</td>\n",
       "      <td>71.0</td>\n",
       "      <td>80.0</td>\n",
       "      <td>NaN</td>\n",
       "      <td>NaN</td>\n",
       "    </tr>\n",
       "    <tr>\n",
       "      <th>3</th>\n",
       "      <td>32473</td>\n",
       "      <td>Saurav</td>\n",
       "      <td>21.0</td>\n",
       "      <td>28.0</td>\n",
       "      <td>NaN</td>\n",
       "      <td>NaN</td>\n",
       "    </tr>\n",
       "    <tr>\n",
       "      <th>4</th>\n",
       "      <td>32477</td>\n",
       "      <td>Rahul</td>\n",
       "      <td>57.0</td>\n",
       "      <td>42.0</td>\n",
       "      <td>NaN</td>\n",
       "      <td>NaN</td>\n",
       "    </tr>\n",
       "    <tr>\n",
       "      <th>5</th>\n",
       "      <td>32474</td>\n",
       "      <td>Sachin</td>\n",
       "      <td>NaN</td>\n",
       "      <td>NaN</td>\n",
       "      <td>75.0</td>\n",
       "      <td>42.0</td>\n",
       "    </tr>\n",
       "    <tr>\n",
       "      <th>6</th>\n",
       "      <td>32474</td>\n",
       "      <td>Sachin</td>\n",
       "      <td>NaN</td>\n",
       "      <td>NaN</td>\n",
       "      <td>50.0</td>\n",
       "      <td>79.0</td>\n",
       "    </tr>\n",
       "    <tr>\n",
       "      <th>7</th>\n",
       "      <td>32474</td>\n",
       "      <td>Sachin</td>\n",
       "      <td>NaN</td>\n",
       "      <td>NaN</td>\n",
       "      <td>23.0</td>\n",
       "      <td>72.0</td>\n",
       "    </tr>\n",
       "    <tr>\n",
       "      <th>8</th>\n",
       "      <td>32475</td>\n",
       "      <td>Sachin</td>\n",
       "      <td>NaN</td>\n",
       "      <td>NaN</td>\n",
       "      <td>25.0</td>\n",
       "      <td>52.0</td>\n",
       "    </tr>\n",
       "  </tbody>\n",
       "</table>\n",
       "</div>"
      ],
      "text/plain": [
       "   Student_id Student_name  Physics  Chemistry  Biology  Mathematics\n",
       "0       32473       Sachin     30.0       71.0     42.0         79.0\n",
       "1       32473       Sachin     55.0       52.0     42.0         79.0\n",
       "2       32473       Saurav     71.0       80.0      NaN          NaN\n",
       "3       32473       Saurav     21.0       28.0      NaN          NaN\n",
       "4       32477        Rahul     57.0       42.0      NaN          NaN\n",
       "5       32474       Sachin      NaN        NaN     75.0         42.0\n",
       "6       32474       Sachin      NaN        NaN     50.0         79.0\n",
       "7       32474       Sachin      NaN        NaN     23.0         72.0\n",
       "8       32475       Sachin      NaN        NaN     25.0         52.0"
      ]
     },
     "execution_count": 102,
     "metadata": {},
     "output_type": "execute_result"
    }
   ],
   "source": [
    "prathamesh_pd.merge(prathamesh_left,prathamesh_right,how='outer',on=['Student_id','Student_name'])"
   ]
  },
  {
   "cell_type": "code",
   "execution_count": 103,
   "id": "a8dd4aa0-9e26-46b2-8075-2bf925a32a9f",
   "metadata": {},
   "outputs": [
    {
     "data": {
      "text/html": [
       "<div>\n",
       "<style scoped>\n",
       "    .dataframe tbody tr th:only-of-type {\n",
       "        vertical-align: middle;\n",
       "    }\n",
       "\n",
       "    .dataframe tbody tr th {\n",
       "        vertical-align: top;\n",
       "    }\n",
       "\n",
       "    .dataframe thead th {\n",
       "        text-align: right;\n",
       "    }\n",
       "</style>\n",
       "<table border=\"1\" class=\"dataframe\">\n",
       "  <thead>\n",
       "    <tr style=\"text-align: right;\">\n",
       "      <th></th>\n",
       "      <th>Student_id</th>\n",
       "      <th>Student_name</th>\n",
       "      <th>Physics</th>\n",
       "      <th>Chemistry</th>\n",
       "      <th>Biology</th>\n",
       "      <th>Mathematics</th>\n",
       "    </tr>\n",
       "  </thead>\n",
       "  <tbody>\n",
       "    <tr>\n",
       "      <th>0</th>\n",
       "      <td>32473</td>\n",
       "      <td>Sachin</td>\n",
       "      <td>30.0</td>\n",
       "      <td>71.0</td>\n",
       "      <td>42</td>\n",
       "      <td>79</td>\n",
       "    </tr>\n",
       "    <tr>\n",
       "      <th>1</th>\n",
       "      <td>32473</td>\n",
       "      <td>Sachin</td>\n",
       "      <td>55.0</td>\n",
       "      <td>52.0</td>\n",
       "      <td>42</td>\n",
       "      <td>79</td>\n",
       "    </tr>\n",
       "    <tr>\n",
       "      <th>2</th>\n",
       "      <td>32474</td>\n",
       "      <td>Sachin</td>\n",
       "      <td>NaN</td>\n",
       "      <td>NaN</td>\n",
       "      <td>75</td>\n",
       "      <td>42</td>\n",
       "    </tr>\n",
       "    <tr>\n",
       "      <th>3</th>\n",
       "      <td>32474</td>\n",
       "      <td>Sachin</td>\n",
       "      <td>NaN</td>\n",
       "      <td>NaN</td>\n",
       "      <td>50</td>\n",
       "      <td>79</td>\n",
       "    </tr>\n",
       "    <tr>\n",
       "      <th>4</th>\n",
       "      <td>32474</td>\n",
       "      <td>Sachin</td>\n",
       "      <td>NaN</td>\n",
       "      <td>NaN</td>\n",
       "      <td>23</td>\n",
       "      <td>72</td>\n",
       "    </tr>\n",
       "    <tr>\n",
       "      <th>5</th>\n",
       "      <td>32475</td>\n",
       "      <td>Sachin</td>\n",
       "      <td>NaN</td>\n",
       "      <td>NaN</td>\n",
       "      <td>25</td>\n",
       "      <td>52</td>\n",
       "    </tr>\n",
       "  </tbody>\n",
       "</table>\n",
       "</div>"
      ],
      "text/plain": [
       "   Student_id Student_name  Physics  Chemistry  Biology  Mathematics\n",
       "0       32473       Sachin     30.0       71.0       42           79\n",
       "1       32473       Sachin     55.0       52.0       42           79\n",
       "2       32474       Sachin      NaN        NaN       75           42\n",
       "3       32474       Sachin      NaN        NaN       50           79\n",
       "4       32474       Sachin      NaN        NaN       23           72\n",
       "5       32475       Sachin      NaN        NaN       25           52"
      ]
     },
     "execution_count": 103,
     "metadata": {},
     "output_type": "execute_result"
    }
   ],
   "source": [
    "prathamesh_pd.merge(prathamesh_left,prathamesh_right,how='right',on=['Student_id','Student_name'])"
   ]
  },
  {
   "cell_type": "code",
   "execution_count": 104,
   "id": "e6ef5a16-017d-44f6-95d2-b9f108406033",
   "metadata": {
    "tags": []
   },
   "outputs": [
    {
     "data": {
      "text/html": [
       "<div>\n",
       "<style scoped>\n",
       "    .dataframe tbody tr th:only-of-type {\n",
       "        vertical-align: middle;\n",
       "    }\n",
       "\n",
       "    .dataframe tbody tr th {\n",
       "        vertical-align: top;\n",
       "    }\n",
       "\n",
       "    .dataframe thead th {\n",
       "        text-align: right;\n",
       "    }\n",
       "</style>\n",
       "<table border=\"1\" class=\"dataframe\">\n",
       "  <thead>\n",
       "    <tr style=\"text-align: right;\">\n",
       "      <th></th>\n",
       "      <th>Student_id</th>\n",
       "      <th>Student_name</th>\n",
       "      <th>Physics</th>\n",
       "      <th>Chemistry</th>\n",
       "      <th>Biology</th>\n",
       "      <th>Mathematics</th>\n",
       "    </tr>\n",
       "  </thead>\n",
       "  <tbody>\n",
       "    <tr>\n",
       "      <th>0</th>\n",
       "      <td>32473</td>\n",
       "      <td>Sachin</td>\n",
       "      <td>30</td>\n",
       "      <td>71</td>\n",
       "      <td>42.0</td>\n",
       "      <td>79.0</td>\n",
       "    </tr>\n",
       "    <tr>\n",
       "      <th>1</th>\n",
       "      <td>32473</td>\n",
       "      <td>Sachin</td>\n",
       "      <td>55</td>\n",
       "      <td>52</td>\n",
       "      <td>42.0</td>\n",
       "      <td>79.0</td>\n",
       "    </tr>\n",
       "    <tr>\n",
       "      <th>2</th>\n",
       "      <td>32473</td>\n",
       "      <td>Saurav</td>\n",
       "      <td>71</td>\n",
       "      <td>80</td>\n",
       "      <td>NaN</td>\n",
       "      <td>NaN</td>\n",
       "    </tr>\n",
       "    <tr>\n",
       "      <th>3</th>\n",
       "      <td>32473</td>\n",
       "      <td>Saurav</td>\n",
       "      <td>21</td>\n",
       "      <td>28</td>\n",
       "      <td>NaN</td>\n",
       "      <td>NaN</td>\n",
       "    </tr>\n",
       "    <tr>\n",
       "      <th>4</th>\n",
       "      <td>32477</td>\n",
       "      <td>Rahul</td>\n",
       "      <td>57</td>\n",
       "      <td>42</td>\n",
       "      <td>NaN</td>\n",
       "      <td>NaN</td>\n",
       "    </tr>\n",
       "  </tbody>\n",
       "</table>\n",
       "</div>"
      ],
      "text/plain": [
       "   Student_id Student_name  Physics  Chemistry  Biology  Mathematics\n",
       "0       32473       Sachin       30         71     42.0         79.0\n",
       "1       32473       Sachin       55         52     42.0         79.0\n",
       "2       32473       Saurav       71         80      NaN          NaN\n",
       "3       32473       Saurav       21         28      NaN          NaN\n",
       "4       32477        Rahul       57         42      NaN          NaN"
      ]
     },
     "execution_count": 104,
     "metadata": {},
     "output_type": "execute_result"
    }
   ],
   "source": [
    "prathamesh_pd.merge(prathamesh_left,prathamesh_right,how='left',on=['Student_id','Student_name'])"
   ]
  },
  {
   "cell_type": "markdown",
   "id": "8f716ca1-2b01-4398-a836-dba45939ad94",
   "metadata": {},
   "source": [
    "### Using Join Operations\n",
    "\n",
    "Now, We directly use the join function to perform the join. The join function is similar to the merge function. The only difference is that the join function uses the index as the common column. The merge function uses the column name as the common column."
   ]
  },
  {
   "cell_type": "code",
   "execution_count": 105,
   "id": "3945096b-9b5d-49f7-b425-d269a2a9151a",
   "metadata": {
    "tags": []
   },
   "outputs": [],
   "source": [
    "prathamesh_data_3_1 = {\n",
    "  'Physics': [30, 55, 71, 21, 57],\n",
    "  'Chemistry': [71, 52, 80, 28, 42]\n",
    "}\n",
    "prathamesh_data_3_2 = {\n",
    "  'Biology': [42, 75, 50, 23, 25],\n",
    "  'Mathematics': [79, 42, 79, 72, 52]\n",
    "}\n",
    "prathamesh_left = prathamesh_pd.DataFrame(prathamesh_data_3_1,index = [32473, 32473, 32473, 32473, 32477])\n",
    "prathamesh_right = prathamesh_pd.DataFrame(prathamesh_data_3_2,index = [32473, 32474, 32474, 32474, 32475])"
   ]
  },
  {
   "cell_type": "code",
   "execution_count": 106,
   "id": "ad3bcb3c-20ba-4f93-bc3f-cdf09d7ed16e",
   "metadata": {
    "tags": []
   },
   "outputs": [
    {
     "data": {
      "text/html": [
       "<div>\n",
       "<style scoped>\n",
       "    .dataframe tbody tr th:only-of-type {\n",
       "        vertical-align: middle;\n",
       "    }\n",
       "\n",
       "    .dataframe tbody tr th {\n",
       "        vertical-align: top;\n",
       "    }\n",
       "\n",
       "    .dataframe thead th {\n",
       "        text-align: right;\n",
       "    }\n",
       "</style>\n",
       "<table border=\"1\" class=\"dataframe\">\n",
       "  <thead>\n",
       "    <tr style=\"text-align: right;\">\n",
       "      <th></th>\n",
       "      <th>Physics</th>\n",
       "      <th>Chemistry</th>\n",
       "    </tr>\n",
       "  </thead>\n",
       "  <tbody>\n",
       "    <tr>\n",
       "      <th>32473</th>\n",
       "      <td>30</td>\n",
       "      <td>71</td>\n",
       "    </tr>\n",
       "    <tr>\n",
       "      <th>32473</th>\n",
       "      <td>55</td>\n",
       "      <td>52</td>\n",
       "    </tr>\n",
       "    <tr>\n",
       "      <th>32473</th>\n",
       "      <td>71</td>\n",
       "      <td>80</td>\n",
       "    </tr>\n",
       "    <tr>\n",
       "      <th>32473</th>\n",
       "      <td>21</td>\n",
       "      <td>28</td>\n",
       "    </tr>\n",
       "    <tr>\n",
       "      <th>32477</th>\n",
       "      <td>57</td>\n",
       "      <td>42</td>\n",
       "    </tr>\n",
       "  </tbody>\n",
       "</table>\n",
       "</div>"
      ],
      "text/plain": [
       "       Physics  Chemistry\n",
       "32473       30         71\n",
       "32473       55         52\n",
       "32473       71         80\n",
       "32473       21         28\n",
       "32477       57         42"
      ]
     },
     "execution_count": 106,
     "metadata": {},
     "output_type": "execute_result"
    }
   ],
   "source": [
    "prathamesh_left"
   ]
  },
  {
   "cell_type": "code",
   "execution_count": 107,
   "id": "0dc84bde-f52d-4fbc-aef7-aa53699def5f",
   "metadata": {
    "tags": []
   },
   "outputs": [
    {
     "data": {
      "text/html": [
       "<div>\n",
       "<style scoped>\n",
       "    .dataframe tbody tr th:only-of-type {\n",
       "        vertical-align: middle;\n",
       "    }\n",
       "\n",
       "    .dataframe tbody tr th {\n",
       "        vertical-align: top;\n",
       "    }\n",
       "\n",
       "    .dataframe thead th {\n",
       "        text-align: right;\n",
       "    }\n",
       "</style>\n",
       "<table border=\"1\" class=\"dataframe\">\n",
       "  <thead>\n",
       "    <tr style=\"text-align: right;\">\n",
       "      <th></th>\n",
       "      <th>Biology</th>\n",
       "      <th>Mathematics</th>\n",
       "    </tr>\n",
       "  </thead>\n",
       "  <tbody>\n",
       "    <tr>\n",
       "      <th>32473</th>\n",
       "      <td>42</td>\n",
       "      <td>79</td>\n",
       "    </tr>\n",
       "    <tr>\n",
       "      <th>32474</th>\n",
       "      <td>75</td>\n",
       "      <td>42</td>\n",
       "    </tr>\n",
       "    <tr>\n",
       "      <th>32474</th>\n",
       "      <td>50</td>\n",
       "      <td>79</td>\n",
       "    </tr>\n",
       "    <tr>\n",
       "      <th>32474</th>\n",
       "      <td>23</td>\n",
       "      <td>72</td>\n",
       "    </tr>\n",
       "    <tr>\n",
       "      <th>32475</th>\n",
       "      <td>25</td>\n",
       "      <td>52</td>\n",
       "    </tr>\n",
       "  </tbody>\n",
       "</table>\n",
       "</div>"
      ],
      "text/plain": [
       "       Biology  Mathematics\n",
       "32473       42           79\n",
       "32474       75           42\n",
       "32474       50           79\n",
       "32474       23           72\n",
       "32475       25           52"
      ]
     },
     "execution_count": 107,
     "metadata": {},
     "output_type": "execute_result"
    }
   ],
   "source": [
    "prathamesh_right"
   ]
  },
  {
   "cell_type": "code",
   "execution_count": 108,
   "id": "9ea16a59-2afa-4854-a542-41dbd9b75a9a",
   "metadata": {
    "tags": []
   },
   "outputs": [
    {
     "data": {
      "text/html": [
       "<div>\n",
       "<style scoped>\n",
       "    .dataframe tbody tr th:only-of-type {\n",
       "        vertical-align: middle;\n",
       "    }\n",
       "\n",
       "    .dataframe tbody tr th {\n",
       "        vertical-align: top;\n",
       "    }\n",
       "\n",
       "    .dataframe thead th {\n",
       "        text-align: right;\n",
       "    }\n",
       "</style>\n",
       "<table border=\"1\" class=\"dataframe\">\n",
       "  <thead>\n",
       "    <tr style=\"text-align: right;\">\n",
       "      <th></th>\n",
       "      <th>Physics</th>\n",
       "      <th>Chemistry</th>\n",
       "      <th>Biology</th>\n",
       "      <th>Mathematics</th>\n",
       "    </tr>\n",
       "  </thead>\n",
       "  <tbody>\n",
       "    <tr>\n",
       "      <th>32473</th>\n",
       "      <td>30</td>\n",
       "      <td>71</td>\n",
       "      <td>42.0</td>\n",
       "      <td>79.0</td>\n",
       "    </tr>\n",
       "    <tr>\n",
       "      <th>32473</th>\n",
       "      <td>55</td>\n",
       "      <td>52</td>\n",
       "      <td>42.0</td>\n",
       "      <td>79.0</td>\n",
       "    </tr>\n",
       "    <tr>\n",
       "      <th>32473</th>\n",
       "      <td>71</td>\n",
       "      <td>80</td>\n",
       "      <td>42.0</td>\n",
       "      <td>79.0</td>\n",
       "    </tr>\n",
       "    <tr>\n",
       "      <th>32473</th>\n",
       "      <td>21</td>\n",
       "      <td>28</td>\n",
       "      <td>42.0</td>\n",
       "      <td>79.0</td>\n",
       "    </tr>\n",
       "    <tr>\n",
       "      <th>32477</th>\n",
       "      <td>57</td>\n",
       "      <td>42</td>\n",
       "      <td>NaN</td>\n",
       "      <td>NaN</td>\n",
       "    </tr>\n",
       "  </tbody>\n",
       "</table>\n",
       "</div>"
      ],
      "text/plain": [
       "       Physics  Chemistry  Biology  Mathematics\n",
       "32473       30         71     42.0         79.0\n",
       "32473       55         52     42.0         79.0\n",
       "32473       71         80     42.0         79.0\n",
       "32473       21         28     42.0         79.0\n",
       "32477       57         42      NaN          NaN"
      ]
     },
     "execution_count": 108,
     "metadata": {},
     "output_type": "execute_result"
    }
   ],
   "source": [
    "prathamesh_left.join(prathamesh_right)"
   ]
  },
  {
   "cell_type": "code",
   "execution_count": 109,
   "id": "8293f6eb-0fec-481a-b14c-85653f891473",
   "metadata": {
    "tags": []
   },
   "outputs": [
    {
     "data": {
      "text/html": [
       "<div>\n",
       "<style scoped>\n",
       "    .dataframe tbody tr th:only-of-type {\n",
       "        vertical-align: middle;\n",
       "    }\n",
       "\n",
       "    .dataframe tbody tr th {\n",
       "        vertical-align: top;\n",
       "    }\n",
       "\n",
       "    .dataframe thead th {\n",
       "        text-align: right;\n",
       "    }\n",
       "</style>\n",
       "<table border=\"1\" class=\"dataframe\">\n",
       "  <thead>\n",
       "    <tr style=\"text-align: right;\">\n",
       "      <th></th>\n",
       "      <th>Biology</th>\n",
       "      <th>Mathematics</th>\n",
       "      <th>Physics</th>\n",
       "      <th>Chemistry</th>\n",
       "    </tr>\n",
       "  </thead>\n",
       "  <tbody>\n",
       "    <tr>\n",
       "      <th>32473</th>\n",
       "      <td>42</td>\n",
       "      <td>79</td>\n",
       "      <td>30.0</td>\n",
       "      <td>71.0</td>\n",
       "    </tr>\n",
       "    <tr>\n",
       "      <th>32473</th>\n",
       "      <td>42</td>\n",
       "      <td>79</td>\n",
       "      <td>55.0</td>\n",
       "      <td>52.0</td>\n",
       "    </tr>\n",
       "    <tr>\n",
       "      <th>32473</th>\n",
       "      <td>42</td>\n",
       "      <td>79</td>\n",
       "      <td>71.0</td>\n",
       "      <td>80.0</td>\n",
       "    </tr>\n",
       "    <tr>\n",
       "      <th>32473</th>\n",
       "      <td>42</td>\n",
       "      <td>79</td>\n",
       "      <td>21.0</td>\n",
       "      <td>28.0</td>\n",
       "    </tr>\n",
       "    <tr>\n",
       "      <th>32474</th>\n",
       "      <td>75</td>\n",
       "      <td>42</td>\n",
       "      <td>NaN</td>\n",
       "      <td>NaN</td>\n",
       "    </tr>\n",
       "    <tr>\n",
       "      <th>32474</th>\n",
       "      <td>50</td>\n",
       "      <td>79</td>\n",
       "      <td>NaN</td>\n",
       "      <td>NaN</td>\n",
       "    </tr>\n",
       "    <tr>\n",
       "      <th>32474</th>\n",
       "      <td>23</td>\n",
       "      <td>72</td>\n",
       "      <td>NaN</td>\n",
       "      <td>NaN</td>\n",
       "    </tr>\n",
       "    <tr>\n",
       "      <th>32475</th>\n",
       "      <td>25</td>\n",
       "      <td>52</td>\n",
       "      <td>NaN</td>\n",
       "      <td>NaN</td>\n",
       "    </tr>\n",
       "  </tbody>\n",
       "</table>\n",
       "</div>"
      ],
      "text/plain": [
       "       Biology  Mathematics  Physics  Chemistry\n",
       "32473       42           79     30.0       71.0\n",
       "32473       42           79     55.0       52.0\n",
       "32473       42           79     71.0       80.0\n",
       "32473       42           79     21.0       28.0\n",
       "32474       75           42      NaN        NaN\n",
       "32474       50           79      NaN        NaN\n",
       "32474       23           72      NaN        NaN\n",
       "32475       25           52      NaN        NaN"
      ]
     },
     "execution_count": 109,
     "metadata": {},
     "output_type": "execute_result"
    }
   ],
   "source": [
    "prathamesh_right.join(prathamesh_left)"
   ]
  },
  {
   "cell_type": "code",
   "execution_count": 110,
   "id": "3fb94638-879b-4ef8-b9ce-7e25446fff2a",
   "metadata": {
    "tags": []
   },
   "outputs": [
    {
     "data": {
      "text/html": [
       "<div>\n",
       "<style scoped>\n",
       "    .dataframe tbody tr th:only-of-type {\n",
       "        vertical-align: middle;\n",
       "    }\n",
       "\n",
       "    .dataframe tbody tr th {\n",
       "        vertical-align: top;\n",
       "    }\n",
       "\n",
       "    .dataframe thead th {\n",
       "        text-align: right;\n",
       "    }\n",
       "</style>\n",
       "<table border=\"1\" class=\"dataframe\">\n",
       "  <thead>\n",
       "    <tr style=\"text-align: right;\">\n",
       "      <th></th>\n",
       "      <th>Physics</th>\n",
       "      <th>Chemistry</th>\n",
       "      <th>Biology</th>\n",
       "      <th>Mathematics</th>\n",
       "    </tr>\n",
       "  </thead>\n",
       "  <tbody>\n",
       "    <tr>\n",
       "      <th>32473</th>\n",
       "      <td>30.0</td>\n",
       "      <td>71.0</td>\n",
       "      <td>42.0</td>\n",
       "      <td>79.0</td>\n",
       "    </tr>\n",
       "    <tr>\n",
       "      <th>32473</th>\n",
       "      <td>55.0</td>\n",
       "      <td>52.0</td>\n",
       "      <td>42.0</td>\n",
       "      <td>79.0</td>\n",
       "    </tr>\n",
       "    <tr>\n",
       "      <th>32473</th>\n",
       "      <td>71.0</td>\n",
       "      <td>80.0</td>\n",
       "      <td>42.0</td>\n",
       "      <td>79.0</td>\n",
       "    </tr>\n",
       "    <tr>\n",
       "      <th>32473</th>\n",
       "      <td>21.0</td>\n",
       "      <td>28.0</td>\n",
       "      <td>42.0</td>\n",
       "      <td>79.0</td>\n",
       "    </tr>\n",
       "    <tr>\n",
       "      <th>32474</th>\n",
       "      <td>NaN</td>\n",
       "      <td>NaN</td>\n",
       "      <td>75.0</td>\n",
       "      <td>42.0</td>\n",
       "    </tr>\n",
       "    <tr>\n",
       "      <th>32474</th>\n",
       "      <td>NaN</td>\n",
       "      <td>NaN</td>\n",
       "      <td>50.0</td>\n",
       "      <td>79.0</td>\n",
       "    </tr>\n",
       "    <tr>\n",
       "      <th>32474</th>\n",
       "      <td>NaN</td>\n",
       "      <td>NaN</td>\n",
       "      <td>23.0</td>\n",
       "      <td>72.0</td>\n",
       "    </tr>\n",
       "    <tr>\n",
       "      <th>32475</th>\n",
       "      <td>NaN</td>\n",
       "      <td>NaN</td>\n",
       "      <td>25.0</td>\n",
       "      <td>52.0</td>\n",
       "    </tr>\n",
       "    <tr>\n",
       "      <th>32477</th>\n",
       "      <td>57.0</td>\n",
       "      <td>42.0</td>\n",
       "      <td>NaN</td>\n",
       "      <td>NaN</td>\n",
       "    </tr>\n",
       "  </tbody>\n",
       "</table>\n",
       "</div>"
      ],
      "text/plain": [
       "       Physics  Chemistry  Biology  Mathematics\n",
       "32473     30.0       71.0     42.0         79.0\n",
       "32473     55.0       52.0     42.0         79.0\n",
       "32473     71.0       80.0     42.0         79.0\n",
       "32473     21.0       28.0     42.0         79.0\n",
       "32474      NaN        NaN     75.0         42.0\n",
       "32474      NaN        NaN     50.0         79.0\n",
       "32474      NaN        NaN     23.0         72.0\n",
       "32475      NaN        NaN     25.0         52.0\n",
       "32477     57.0       42.0      NaN          NaN"
      ]
     },
     "execution_count": 110,
     "metadata": {},
     "output_type": "execute_result"
    }
   ],
   "source": [
    "prathamesh_left.join(prathamesh_right,how='outer')"
   ]
  },
  {
   "cell_type": "markdown",
   "id": "c69b4d89-ba05-4534-b4ff-dc4703584f67",
   "metadata": {},
   "source": [
    "## EDA\n",
    "Exploratory Data Analysis (EDA) is a critical step in the data analysis process, allowing analysts to explore and understand the data they are working with. Python with Pandas provides an ideal platform for EDA, offering a range of functions and tools to make the process efficient and effective. \n",
    "\n",
    "To start an EDA process in Python with Pandas, one can load the data into a Pandas DataFrame and explore it using various functions, such as `head()`, `tail()`, `info()`, `describe()`, and `shape`. Once the data is inspected, one can begin cleaning and transforming it, using Pandas functions such as `fillna()`, `dropna()`, `apply()`, and `groupby()`. \n",
    "\n",
    "EDA also involves data visualization, which Pandas provides a range of functions for, including `plot()`, `hist()`, `scatter()`, and `boxplot()`. These functions enable analysts to create various types of charts and graphs that help them identify patterns and relationships in the data.\n",
    "\n",
    "EDA is an essential step in the data analysis process, and Python with Pandas provides a powerful and efficient toolset for performing EDA. By leveraging Pandas functions and tools, analysts can gain insights into their data and make informed decisions that can be used to build predictive models or make strategic business decisions.\n",
    "\n",
    "Three types of EDA:\n",
    "1. Univariate analysis\n",
    "     - Univariate EDA involves analyzing one variable at a time, examining its distribution, central tendency, and variability using statistical measures and visualizations. This approach helps analysts understand the behavior of individual variables in the dataset.\n",
    "\n",
    "\n",
    "\n",
    "\n",
    "2. Bivariate analysis\n",
    "    - Bivariate EDA involves analyzing the relationship between two variables using statistical measures and visualizations such as scatter plots, heatmaps, and correlation matrices. This approach helps analysts identify patterns and relationships between two variables.\n",
    "3. Multivariate analysis\n",
    "    - Multivariate EDA involves analyzing multiple variables simultaneously, examining their relationship and interactions using techniques such as principal component analysis (PCA), factor analysis, and clustering. This approach helps analysts identify complex patterns and relationships between multiple variables."
   ]
  },
  {
   "cell_type": "code",
   "execution_count": 52,
   "id": "4c21609b-4879-4b44-98ff-e991535086bf",
   "metadata": {},
   "outputs": [
    {
     "data": {
      "text/html": [
       "<div>\n",
       "<style scoped>\n",
       "    .dataframe tbody tr th:only-of-type {\n",
       "        vertical-align: middle;\n",
       "    }\n",
       "\n",
       "    .dataframe tbody tr th {\n",
       "        vertical-align: top;\n",
       "    }\n",
       "\n",
       "    .dataframe thead th {\n",
       "        text-align: right;\n",
       "    }\n",
       "</style>\n",
       "<table border=\"1\" class=\"dataframe\">\n",
       "  <thead>\n",
       "    <tr style=\"text-align: right;\">\n",
       "      <th></th>\n",
       "      <th>col1</th>\n",
       "      <th>col2</th>\n",
       "      <th>col3</th>\n",
       "    </tr>\n",
       "  </thead>\n",
       "  <tbody>\n",
       "    <tr>\n",
       "      <th>0</th>\n",
       "      <td>1</td>\n",
       "      <td>444</td>\n",
       "      <td>pratham</td>\n",
       "    </tr>\n",
       "    <tr>\n",
       "      <th>1</th>\n",
       "      <td>2</td>\n",
       "      <td>555</td>\n",
       "      <td>shubham</td>\n",
       "    </tr>\n",
       "    <tr>\n",
       "      <th>2</th>\n",
       "      <td>3</td>\n",
       "      <td>666</td>\n",
       "      <td>saurabh</td>\n",
       "    </tr>\n",
       "    <tr>\n",
       "      <th>3</th>\n",
       "      <td>4</td>\n",
       "      <td>444</td>\n",
       "      <td>saurabh</td>\n",
       "    </tr>\n",
       "  </tbody>\n",
       "</table>\n",
       "</div>"
      ],
      "text/plain": [
       "   col1  col2     col3\n",
       "0     1   444  pratham\n",
       "1     2   555  shubham\n",
       "2     3   666  saurabh\n",
       "3     4   444  saurabh"
      ]
     },
     "execution_count": 52,
     "metadata": {},
     "output_type": "execute_result"
    }
   ],
   "source": [
    "prathamesh_dataframe = prathamesh_pd.DataFrame({\n",
    "    'col1': [1, 2, 3, 4],\n",
    "    'col2': [444, 555, 666, 444],\n",
    "    'col3': ['pratham', 'shubham', 'saurabh', 'saurabh']\n",
    "})\n",
    "prathamesh_dataframe.head()"
   ]
  },
  {
   "cell_type": "code",
   "execution_count": 53,
   "id": "dddb9374-8f28-4a6c-a096-6481ba7fd75b",
   "metadata": {},
   "outputs": [
    {
     "data": {
      "text/html": [
       "<div>\n",
       "<style scoped>\n",
       "    .dataframe tbody tr th:only-of-type {\n",
       "        vertical-align: middle;\n",
       "    }\n",
       "\n",
       "    .dataframe tbody tr th {\n",
       "        vertical-align: top;\n",
       "    }\n",
       "\n",
       "    .dataframe thead th {\n",
       "        text-align: right;\n",
       "    }\n",
       "</style>\n",
       "<table border=\"1\" class=\"dataframe\">\n",
       "  <thead>\n",
       "    <tr style=\"text-align: right;\">\n",
       "      <th></th>\n",
       "      <th>col1</th>\n",
       "      <th>col2</th>\n",
       "      <th>col3</th>\n",
       "    </tr>\n",
       "  </thead>\n",
       "  <tbody>\n",
       "    <tr>\n",
       "      <th>0</th>\n",
       "      <td>1</td>\n",
       "      <td>444</td>\n",
       "      <td>pratham</td>\n",
       "    </tr>\n",
       "    <tr>\n",
       "      <th>1</th>\n",
       "      <td>2</td>\n",
       "      <td>555</td>\n",
       "      <td>shubham</td>\n",
       "    </tr>\n",
       "  </tbody>\n",
       "</table>\n",
       "</div>"
      ],
      "text/plain": [
       "   col1  col2     col3\n",
       "0     1   444  pratham\n",
       "1     2   555  shubham"
      ]
     },
     "execution_count": 53,
     "metadata": {},
     "output_type": "execute_result"
    }
   ],
   "source": [
    "prathamesh_dataframe.head(2)"
   ]
  },
  {
   "cell_type": "markdown",
   "id": "830b5167-a6c0-440d-a40d-98487ccbed61",
   "metadata": {},
   "source": [
    "### info()\n",
    "The `df.info()` function in Pandas returns a summary of the DataFrame's metadata, including the total number of rows and columns, the data type of each column, and the number of non-null values in each column. This function is useful in the exploratory data analysis process as it provides a quick overview of the dataset, helping analysts understand the structure of the data they are working with. \n",
    "\n",
    "The output of `df.info()` includes the following information for each column:\n",
    "- The column name\n",
    "- The number of non-null values in the column\n",
    "- The data type of the column\n",
    "- The memory usage of the column\n",
    "- Additional information such as the number of unique values and the presence of null values. \n",
    "\n",
    "By inspecting this output, analysts can quickly identify columns with null values or columns with unexpected data types, helping them to plan their data cleaning and transformation strategies."
   ]
  },
  {
   "cell_type": "code",
   "execution_count": 54,
   "id": "b3fefc3d-31e7-454e-8cfe-9aba069cec98",
   "metadata": {},
   "outputs": [
    {
     "name": "stdout",
     "output_type": "stream",
     "text": [
      "<class 'pandas.core.frame.DataFrame'>\n",
      "RangeIndex: 4 entries, 0 to 3\n",
      "Data columns (total 3 columns):\n",
      " #   Column  Non-Null Count  Dtype \n",
      "---  ------  --------------  ----- \n",
      " 0   col1    4 non-null      int64 \n",
      " 1   col2    4 non-null      int64 \n",
      " 2   col3    4 non-null      object\n",
      "dtypes: int64(2), object(1)\n",
      "memory usage: 228.0+ bytes\n"
     ]
    }
   ],
   "source": [
    "prathamesh_dataframe.info()"
   ]
  },
  {
   "cell_type": "markdown",
   "id": "c99cc132-a610-46f6-ab00-80aaa5b58810",
   "metadata": {},
   "source": [
    "- `unique()` function returns an array of unique values in a Pandas Series or a DataFrame column.\n",
    "- `nunique()` function returns the count of unique values in a Pandas Series or a DataFrame column.\n",
    "- `value_counts()` function returns a Series containing the counts of unique values in a Pandas Series or a DataFrame column, sorted in descending order.\n",
    "- `head()` function returns the first n rows of a DataFrame, where n is a parameter (default is 5).\n",
    "- `tail()` function returns the last n rows of a DataFrame, where n is a parameter (default is 5).\n",
    "- `apply()` function applies a function along a specific axis of a DataFrame, row-wise or column-wise, depending on the axis parameter.\n",
    "- `mean()` function calculates the mean of the values in a Pandas Series or a DataFrame column.\n",
    "- `median()` function calculates the median of the values in a Pandas Series or a DataFrame column.\n",
    "- `mode()` function calculates the mode of the values in a Pandas Series or a DataFrame column.\n",
    "- `sum()` function calculates the sum of the values in a Pandas Series or a DataFrame column."
   ]
  },
  {
   "cell_type": "code",
   "execution_count": 55,
   "id": "694c59ef-6fd9-4a65-a666-85db56e110fe",
   "metadata": {},
   "outputs": [
    {
     "data": {
      "text/plain": [
       "array([444, 555, 666], dtype=int64)"
      ]
     },
     "execution_count": 55,
     "metadata": {},
     "output_type": "execute_result"
    }
   ],
   "source": [
    "prathamesh_dataframe['col2'].unique()"
   ]
  },
  {
   "cell_type": "code",
   "execution_count": 56,
   "id": "fb227f69-982d-487e-993a-0731491c81b0",
   "metadata": {},
   "outputs": [
    {
     "data": {
      "text/plain": [
       "3"
      ]
     },
     "execution_count": 56,
     "metadata": {},
     "output_type": "execute_result"
    }
   ],
   "source": [
    "prathamesh_dataframe['col3'].nunique()"
   ]
  },
  {
   "cell_type": "code",
   "execution_count": 57,
   "id": "8dc18553-e1c7-4524-9d1c-7a955d236a8e",
   "metadata": {},
   "outputs": [
    {
     "data": {
      "text/plain": [
       "col2\n",
       "444    2\n",
       "555    1\n",
       "666    1\n",
       "Name: count, dtype: int64"
      ]
     },
     "execution_count": 57,
     "metadata": {},
     "output_type": "execute_result"
    }
   ],
   "source": [
    "prathamesh_dataframe['col2'].value_counts()"
   ]
  },
  {
   "cell_type": "code",
   "execution_count": 58,
   "id": "69426cee-4261-4549-9d39-2e487ff86ea9",
   "metadata": {},
   "outputs": [
    {
     "data": {
      "text/html": [
       "<div>\n",
       "<style scoped>\n",
       "    .dataframe tbody tr th:only-of-type {\n",
       "        vertical-align: middle;\n",
       "    }\n",
       "\n",
       "    .dataframe tbody tr th {\n",
       "        vertical-align: top;\n",
       "    }\n",
       "\n",
       "    .dataframe thead th {\n",
       "        text-align: right;\n",
       "    }\n",
       "</style>\n",
       "<table border=\"1\" class=\"dataframe\">\n",
       "  <thead>\n",
       "    <tr style=\"text-align: right;\">\n",
       "      <th></th>\n",
       "      <th>col1</th>\n",
       "      <th>col2</th>\n",
       "      <th>col3</th>\n",
       "    </tr>\n",
       "  </thead>\n",
       "  <tbody>\n",
       "    <tr>\n",
       "      <th>2</th>\n",
       "      <td>3</td>\n",
       "      <td>666</td>\n",
       "      <td>saurabh</td>\n",
       "    </tr>\n",
       "    <tr>\n",
       "      <th>3</th>\n",
       "      <td>4</td>\n",
       "      <td>444</td>\n",
       "      <td>saurabh</td>\n",
       "    </tr>\n",
       "  </tbody>\n",
       "</table>\n",
       "</div>"
      ],
      "text/plain": [
       "   col1  col2     col3\n",
       "2     3   666  saurabh\n",
       "3     4   444  saurabh"
      ]
     },
     "execution_count": 58,
     "metadata": {},
     "output_type": "execute_result"
    }
   ],
   "source": [
    "prathamesh_dataframe.tail(2)"
   ]
  },
  {
   "cell_type": "code",
   "execution_count": 59,
   "id": "32dae0d6-2d2e-4fd2-bce3-da3c62b1904b",
   "metadata": {},
   "outputs": [
    {
     "data": {
      "text/plain": [
       "0    7\n",
       "1    7\n",
       "2    7\n",
       "3    7\n",
       "Name: col3, dtype: int64"
      ]
     },
     "execution_count": 59,
     "metadata": {},
     "output_type": "execute_result"
    }
   ],
   "source": [
    "prathamesh_dataframe['col3'].apply(len)"
   ]
  },
  {
   "cell_type": "code",
   "execution_count": 60,
   "id": "a13b513e-398a-4068-b13e-51a5619beda3",
   "metadata": {},
   "outputs": [
    {
     "data": {
      "text/plain": [
       "527.25"
      ]
     },
     "execution_count": 60,
     "metadata": {},
     "output_type": "execute_result"
    }
   ],
   "source": [
    "prathamesh_dataframe['col2'].mean()"
   ]
  },
  {
   "cell_type": "code",
   "execution_count": 61,
   "id": "7a66bebf-65fd-4897-ad80-814054daeac6",
   "metadata": {},
   "outputs": [
    {
     "data": {
      "text/plain": [
       "2109"
      ]
     },
     "execution_count": 61,
     "metadata": {},
     "output_type": "execute_result"
    }
   ],
   "source": [
    "prathamesh_dataframe['col2'].sum()"
   ]
  },
  {
   "cell_type": "code",
   "execution_count": 62,
   "id": "315aaf85-00a5-4dd7-b450-8a5e01604eed",
   "metadata": {},
   "outputs": [
    {
     "data": {
      "text/plain": [
       "499.5"
      ]
     },
     "execution_count": 62,
     "metadata": {},
     "output_type": "execute_result"
    }
   ],
   "source": [
    "prathamesh_dataframe['col2'].median()"
   ]
  },
  {
   "cell_type": "code",
   "execution_count": 63,
   "id": "91084e74-457a-4c4f-acb3-17d48a038d6c",
   "metadata": {},
   "outputs": [
    {
     "data": {
      "text/plain": [
       "0    444\n",
       "Name: col2, dtype: int64"
      ]
     },
     "execution_count": 63,
     "metadata": {},
     "output_type": "execute_result"
    }
   ],
   "source": [
    "prathamesh_dataframe['col2'].mode()"
   ]
  },
  {
   "cell_type": "code",
   "execution_count": 64,
   "id": "47c8e73e-ed7f-4e4c-8329-0673385adb28",
   "metadata": {},
   "outputs": [],
   "source": [
    "del prathamesh_dataframe['col1']"
   ]
  },
  {
   "cell_type": "code",
   "execution_count": 65,
   "id": "be5573e1-c0b3-4749-91a8-8ac36c4046d6",
   "metadata": {},
   "outputs": [
    {
     "data": {
      "text/html": [
       "<div>\n",
       "<style scoped>\n",
       "    .dataframe tbody tr th:only-of-type {\n",
       "        vertical-align: middle;\n",
       "    }\n",
       "\n",
       "    .dataframe tbody tr th {\n",
       "        vertical-align: top;\n",
       "    }\n",
       "\n",
       "    .dataframe thead th {\n",
       "        text-align: right;\n",
       "    }\n",
       "</style>\n",
       "<table border=\"1\" class=\"dataframe\">\n",
       "  <thead>\n",
       "    <tr style=\"text-align: right;\">\n",
       "      <th></th>\n",
       "      <th>col2</th>\n",
       "      <th>col3</th>\n",
       "    </tr>\n",
       "  </thead>\n",
       "  <tbody>\n",
       "    <tr>\n",
       "      <th>0</th>\n",
       "      <td>444</td>\n",
       "      <td>pratham</td>\n",
       "    </tr>\n",
       "    <tr>\n",
       "      <th>1</th>\n",
       "      <td>555</td>\n",
       "      <td>shubham</td>\n",
       "    </tr>\n",
       "    <tr>\n",
       "      <th>2</th>\n",
       "      <td>666</td>\n",
       "      <td>saurabh</td>\n",
       "    </tr>\n",
       "    <tr>\n",
       "      <th>3</th>\n",
       "      <td>444</td>\n",
       "      <td>saurabh</td>\n",
       "    </tr>\n",
       "  </tbody>\n",
       "</table>\n",
       "</div>"
      ],
      "text/plain": [
       "   col2     col3\n",
       "0   444  pratham\n",
       "1   555  shubham\n",
       "2   666  saurabh\n",
       "3   444  saurabh"
      ]
     },
     "execution_count": 65,
     "metadata": {},
     "output_type": "execute_result"
    }
   ],
   "source": [
    "prathamesh_dataframe"
   ]
  },
  {
   "cell_type": "markdown",
   "id": "4ec2366f-5c56-4292-a15f-0e5f1166e7ef",
   "metadata": {},
   "source": [
    "Dataset.column"
   ]
  },
  {
   "cell_type": "code",
   "execution_count": 66,
   "id": "98695451-04c2-48af-91c9-cc62c521902b",
   "metadata": {},
   "outputs": [
    {
     "data": {
      "text/plain": [
       "Index(['col2', 'col3'], dtype='object')"
      ]
     },
     "execution_count": 66,
     "metadata": {},
     "output_type": "execute_result"
    }
   ],
   "source": [
    "prathamesh_dataframe.columns"
   ]
  },
  {
   "cell_type": "code",
   "execution_count": 67,
   "id": "4c531b93-b509-444b-8882-9065fe06d437",
   "metadata": {},
   "outputs": [
    {
     "data": {
      "text/plain": [
       "RangeIndex(start=0, stop=4, step=1)"
      ]
     },
     "execution_count": 67,
     "metadata": {},
     "output_type": "execute_result"
    }
   ],
   "source": [
    "prathamesh_dataframe.index"
   ]
  },
  {
   "cell_type": "markdown",
   "id": "accc0dbc-e87b-4859-bd0e-299c6e5db449",
   "metadata": {},
   "source": [
    "Sorting data set using different columns"
   ]
  },
  {
   "cell_type": "code",
   "execution_count": 68,
   "id": "afe06b4b-e585-4edc-be56-f4ffeaacbe2a",
   "metadata": {},
   "outputs": [
    {
     "data": {
      "text/html": [
       "<div>\n",
       "<style scoped>\n",
       "    .dataframe tbody tr th:only-of-type {\n",
       "        vertical-align: middle;\n",
       "    }\n",
       "\n",
       "    .dataframe tbody tr th {\n",
       "        vertical-align: top;\n",
       "    }\n",
       "\n",
       "    .dataframe thead th {\n",
       "        text-align: right;\n",
       "    }\n",
       "</style>\n",
       "<table border=\"1\" class=\"dataframe\">\n",
       "  <thead>\n",
       "    <tr style=\"text-align: right;\">\n",
       "      <th></th>\n",
       "      <th>col2</th>\n",
       "      <th>col3</th>\n",
       "    </tr>\n",
       "  </thead>\n",
       "  <tbody>\n",
       "    <tr>\n",
       "      <th>0</th>\n",
       "      <td>444</td>\n",
       "      <td>pratham</td>\n",
       "    </tr>\n",
       "    <tr>\n",
       "      <th>3</th>\n",
       "      <td>444</td>\n",
       "      <td>saurabh</td>\n",
       "    </tr>\n",
       "    <tr>\n",
       "      <th>1</th>\n",
       "      <td>555</td>\n",
       "      <td>shubham</td>\n",
       "    </tr>\n",
       "    <tr>\n",
       "      <th>2</th>\n",
       "      <td>666</td>\n",
       "      <td>saurabh</td>\n",
       "    </tr>\n",
       "  </tbody>\n",
       "</table>\n",
       "</div>"
      ],
      "text/plain": [
       "   col2     col3\n",
       "0   444  pratham\n",
       "3   444  saurabh\n",
       "1   555  shubham\n",
       "2   666  saurabh"
      ]
     },
     "execution_count": 68,
     "metadata": {},
     "output_type": "execute_result"
    }
   ],
   "source": [
    "prathamesh_dataframe.sort_values(by='col2')"
   ]
  },
  {
   "cell_type": "code",
   "execution_count": 69,
   "id": "3c6f4870-c459-4dcb-93a0-b18de769e755",
   "metadata": {},
   "outputs": [
    {
     "name": "stderr",
     "output_type": "stream",
     "text": [
      "C:\\Users\\paxy\\AppData\\Local\\Temp\\ipykernel_1472\\1149453652.py:1: SettingWithCopyWarning: \n",
      "A value is trying to be set on a copy of a slice from a DataFrame\n",
      "\n",
      "See the caveats in the documentation: https://pandas.pydata.org/pandas-docs/stable/user_guide/indexing.html#returning-a-view-versus-a-copy\n",
      "  prathamesh_dataframe['col2'][2] = 420\n"
     ]
    }
   ],
   "source": [
    "prathamesh_dataframe['col2'][2] = 420"
   ]
  },
  {
   "cell_type": "markdown",
   "id": "dccd62d2-2a80-43e6-83b1-48d03f24a47e",
   "metadata": {},
   "source": [
    "The `SettingWithCopyWarning` is a warning message in Pandas that appears when we try to modify a slice of a DataFrame that is a view of the original data instead of a copy. This warning occurs when we create a new DataFrame by indexing or slicing an existing DataFrame, and then modify the data in the new DataFrame. \n",
    "\n",
    "The warning is a cautionary message to indicate that the changes we make to the new DataFrame may not be reflected in the original DataFrame, and vice versa. This can lead to unexpected behavior and errors in our data analysis. \n",
    "\n",
    "To avoid this warning, we can explicitly make a copy of the slice using the `copy()` method or by using the `.loc` or `.iloc` indexers to modify the data. This ensures that the changes we make are applied to the original DataFrame and not just a copy or a view of the data."
   ]
  },
  {
   "cell_type": "code",
   "execution_count": 70,
   "id": "a9a8890b-f45a-44b7-9e9d-bbf014654b9c",
   "metadata": {},
   "outputs": [
    {
     "data": {
      "text/html": [
       "<div>\n",
       "<style scoped>\n",
       "    .dataframe tbody tr th:only-of-type {\n",
       "        vertical-align: middle;\n",
       "    }\n",
       "\n",
       "    .dataframe tbody tr th {\n",
       "        vertical-align: top;\n",
       "    }\n",
       "\n",
       "    .dataframe thead th {\n",
       "        text-align: right;\n",
       "    }\n",
       "</style>\n",
       "<table border=\"1\" class=\"dataframe\">\n",
       "  <thead>\n",
       "    <tr style=\"text-align: right;\">\n",
       "      <th></th>\n",
       "      <th>col2</th>\n",
       "      <th>col3</th>\n",
       "    </tr>\n",
       "  </thead>\n",
       "  <tbody>\n",
       "    <tr>\n",
       "      <th>0</th>\n",
       "      <td>444</td>\n",
       "      <td>pratham</td>\n",
       "    </tr>\n",
       "    <tr>\n",
       "      <th>1</th>\n",
       "      <td>555</td>\n",
       "      <td>shubham</td>\n",
       "    </tr>\n",
       "    <tr>\n",
       "      <th>2</th>\n",
       "      <td>420</td>\n",
       "      <td>saurabh</td>\n",
       "    </tr>\n",
       "    <tr>\n",
       "      <th>3</th>\n",
       "      <td>444</td>\n",
       "      <td>saurabh</td>\n",
       "    </tr>\n",
       "  </tbody>\n",
       "</table>\n",
       "</div>"
      ],
      "text/plain": [
       "   col2     col3\n",
       "0   444  pratham\n",
       "1   555  shubham\n",
       "2   420  saurabh\n",
       "3   444  saurabh"
      ]
     },
     "execution_count": 70,
     "metadata": {},
     "output_type": "execute_result"
    }
   ],
   "source": [
    "prathamesh_dataframe"
   ]
  },
  {
   "cell_type": "markdown",
   "id": "204b9f06-ad11-4034-9be2-23e1516c2a8a",
   "metadata": {},
   "source": [
    "### sort_values()\n",
    "\n",
    "The `sort_values()` function is a powerful method in Pandas for sorting the data in a DataFrame by one or more columns. This function can be used to sort the data in ascending or descending order based on the values in one or more columns.\n",
    "\n",
    "To use the `sort_values()` function, we pass the column name or a list of column names to the `by` parameter. We can also specify the sorting order using the `ascending` parameter, which is set to True by default. \n",
    "\n",
    "To sort a DataFrame by multiple columns, we can pass a list of column names to the `by` parameter. The DataFrame will be sorted by the first column in the list, then by the second column, and so on.\n",
    "\n",
    "The `sort_values()` function is useful in exploratory data analysis as it allows analysts to quickly sort and view the data in different orders to gain insights and identify patterns. It is also useful in data preprocessing, where we may need to sort the data based on specific columns before performing data transformations or analysis."
   ]
  },
  {
   "cell_type": "code",
   "execution_count": 71,
   "id": "d176b3cd-8975-42f6-a235-27cde332f94a",
   "metadata": {},
   "outputs": [
    {
     "data": {
      "text/html": [
       "<div>\n",
       "<style scoped>\n",
       "    .dataframe tbody tr th:only-of-type {\n",
       "        vertical-align: middle;\n",
       "    }\n",
       "\n",
       "    .dataframe tbody tr th {\n",
       "        vertical-align: top;\n",
       "    }\n",
       "\n",
       "    .dataframe thead th {\n",
       "        text-align: right;\n",
       "    }\n",
       "</style>\n",
       "<table border=\"1\" class=\"dataframe\">\n",
       "  <thead>\n",
       "    <tr style=\"text-align: right;\">\n",
       "      <th></th>\n",
       "      <th>col2</th>\n",
       "      <th>col3</th>\n",
       "    </tr>\n",
       "  </thead>\n",
       "  <tbody>\n",
       "    <tr>\n",
       "      <th>2</th>\n",
       "      <td>420</td>\n",
       "      <td>saurabh</td>\n",
       "    </tr>\n",
       "    <tr>\n",
       "      <th>0</th>\n",
       "      <td>444</td>\n",
       "      <td>pratham</td>\n",
       "    </tr>\n",
       "    <tr>\n",
       "      <th>3</th>\n",
       "      <td>444</td>\n",
       "      <td>saurabh</td>\n",
       "    </tr>\n",
       "    <tr>\n",
       "      <th>1</th>\n",
       "      <td>555</td>\n",
       "      <td>shubham</td>\n",
       "    </tr>\n",
       "  </tbody>\n",
       "</table>\n",
       "</div>"
      ],
      "text/plain": [
       "   col2     col3\n",
       "2   420  saurabh\n",
       "0   444  pratham\n",
       "3   444  saurabh\n",
       "1   555  shubham"
      ]
     },
     "execution_count": 71,
     "metadata": {},
     "output_type": "execute_result"
    }
   ],
   "source": [
    "prathamesh_dataframe.sort_values(by=['col2','col3'])"
   ]
  },
  {
   "cell_type": "markdown",
   "id": "1016b068-9814-4b8a-a0d7-6a6d914132c2",
   "metadata": {},
   "source": [
    "### Skewness\n",
    "Skewness is a measure of the asymmetry of a probability distribution. It describes the degree to which a dataset's values are concentrated on one side of the mean compared to the other side. A perfectly symmetrical distribution has a skewness of zero.\n",
    "\n",
    "Positive skewness occurs when the tail of the distribution is longer on the positive or right side of the distribution, meaning there are more extreme values on the positive side of the mean. Negative skewness occurs when the tail of the distribution is longer on the negative or left side of the distribution, meaning there are more extreme values on the negative side of the mean.\n",
    "\n",
    "Negative skewness occurs when the tail of the distribution is longer on the negative or left side of the distribution. In other words, there are more extreme values on the negative side of the mean, and the distribution is pulled to the left. Negative skewness is also called left skewness.\n",
    "\n",
    "The `describe()` function in pandas is used to generate descriptive statistics for a DataFrame or a specific column of a DataFrame. The function returns a DataFrame that includes the following statistics:\n",
    "\n",
    "- `count`: the number of non-missing values in each column\n",
    "- `mean`: the mean or average value of each column\n",
    "- `std`: the standard deviation of each column\n",
    "- `min`: the minimum value in each column\n",
    "- `25%`: the 25th percentile of each column\n",
    "- `50%`: the 50th percentile or median of each column\n",
    "- `75%`: the 75th percentile of each column\n",
    "- `max`: the maximum value in each column\n",
    "\n",
    "The `describe()` function can be applied to a single column or the entire DataFrame. If the function is applied to the entire DataFrame, only the numeric columns will be included in the output. By default, the `describe()` function only calculates the statistics for numeric columns, but we can include non-numeric columns by using the `include` parameter.\n",
    "\n"
   ]
  },
  {
   "cell_type": "code",
   "execution_count": 72,
   "id": "73daee8d-bab4-4ad2-8694-c78f8053c1f4",
   "metadata": {},
   "outputs": [
    {
     "data": {
      "text/html": [
       "<div>\n",
       "<style scoped>\n",
       "    .dataframe tbody tr th:only-of-type {\n",
       "        vertical-align: middle;\n",
       "    }\n",
       "\n",
       "    .dataframe tbody tr th {\n",
       "        vertical-align: top;\n",
       "    }\n",
       "\n",
       "    .dataframe thead th {\n",
       "        text-align: right;\n",
       "    }\n",
       "</style>\n",
       "<table border=\"1\" class=\"dataframe\">\n",
       "  <thead>\n",
       "    <tr style=\"text-align: right;\">\n",
       "      <th></th>\n",
       "      <th>col2</th>\n",
       "    </tr>\n",
       "  </thead>\n",
       "  <tbody>\n",
       "    <tr>\n",
       "      <th>count</th>\n",
       "      <td>4.00000</td>\n",
       "    </tr>\n",
       "    <tr>\n",
       "      <th>mean</th>\n",
       "      <td>465.75000</td>\n",
       "    </tr>\n",
       "    <tr>\n",
       "      <th>std</th>\n",
       "      <td>60.56608</td>\n",
       "    </tr>\n",
       "    <tr>\n",
       "      <th>min</th>\n",
       "      <td>420.00000</td>\n",
       "    </tr>\n",
       "    <tr>\n",
       "      <th>25%</th>\n",
       "      <td>438.00000</td>\n",
       "    </tr>\n",
       "    <tr>\n",
       "      <th>50%</th>\n",
       "      <td>444.00000</td>\n",
       "    </tr>\n",
       "    <tr>\n",
       "      <th>75%</th>\n",
       "      <td>471.75000</td>\n",
       "    </tr>\n",
       "    <tr>\n",
       "      <th>max</th>\n",
       "      <td>555.00000</td>\n",
       "    </tr>\n",
       "  </tbody>\n",
       "</table>\n",
       "</div>"
      ],
      "text/plain": [
       "            col2\n",
       "count    4.00000\n",
       "mean   465.75000\n",
       "std     60.56608\n",
       "min    420.00000\n",
       "25%    438.00000\n",
       "50%    444.00000\n",
       "75%    471.75000\n",
       "max    555.00000"
      ]
     },
     "execution_count": 72,
     "metadata": {},
     "output_type": "execute_result"
    }
   ],
   "source": [
    "prathamesh_dataframe.describe()"
   ]
  },
  {
   "cell_type": "markdown",
   "id": "c26d9774-b08b-47b4-bee7-d5b5da365251",
   "metadata": {},
   "source": [
    "The `transpose()` function takes no parameters and returns a new DataFrame with the rows and columns switched. This function is useful in exploratory data analysis as it allows analysts to view the data from a different perspective, which can help them identify patterns and relationships in the data."
   ]
  },
  {
   "cell_type": "code",
   "execution_count": 73,
   "id": "a6990cc5-63e6-4b37-b52d-b143d73bf2f8",
   "metadata": {},
   "outputs": [
    {
     "data": {
      "text/html": [
       "<div>\n",
       "<style scoped>\n",
       "    .dataframe tbody tr th:only-of-type {\n",
       "        vertical-align: middle;\n",
       "    }\n",
       "\n",
       "    .dataframe tbody tr th {\n",
       "        vertical-align: top;\n",
       "    }\n",
       "\n",
       "    .dataframe thead th {\n",
       "        text-align: right;\n",
       "    }\n",
       "</style>\n",
       "<table border=\"1\" class=\"dataframe\">\n",
       "  <thead>\n",
       "    <tr style=\"text-align: right;\">\n",
       "      <th></th>\n",
       "      <th>count</th>\n",
       "      <th>mean</th>\n",
       "      <th>std</th>\n",
       "      <th>min</th>\n",
       "      <th>25%</th>\n",
       "      <th>50%</th>\n",
       "      <th>75%</th>\n",
       "      <th>max</th>\n",
       "    </tr>\n",
       "  </thead>\n",
       "  <tbody>\n",
       "    <tr>\n",
       "      <th>col2</th>\n",
       "      <td>4.0</td>\n",
       "      <td>465.75</td>\n",
       "      <td>60.56608</td>\n",
       "      <td>420.0</td>\n",
       "      <td>438.0</td>\n",
       "      <td>444.0</td>\n",
       "      <td>471.75</td>\n",
       "      <td>555.0</td>\n",
       "    </tr>\n",
       "  </tbody>\n",
       "</table>\n",
       "</div>"
      ],
      "text/plain": [
       "      count    mean       std    min    25%    50%     75%    max\n",
       "col2    4.0  465.75  60.56608  420.0  438.0  444.0  471.75  555.0"
      ]
     },
     "execution_count": 73,
     "metadata": {},
     "output_type": "execute_result"
    }
   ],
   "source": [
    "prathamesh_dataframe.describe().transpose()"
   ]
  },
  {
   "cell_type": "code",
   "execution_count": 74,
   "id": "c4da038e-79e4-45f7-8873-022dfce69c0a",
   "metadata": {},
   "outputs": [
    {
     "data": {
      "text/plain": [
       "col2        420\n",
       "col3    pratham\n",
       "dtype: object"
      ]
     },
     "execution_count": 74,
     "metadata": {},
     "output_type": "execute_result"
    }
   ],
   "source": [
    "prathamesh_dataframe.min()"
   ]
  },
  {
   "cell_type": "code",
   "execution_count": 75,
   "id": "8221cc33-d19e-47a6-8b80-650c6a61efb0",
   "metadata": {},
   "outputs": [
    {
     "data": {
      "text/plain": [
       "col2        555\n",
       "col3    shubham\n",
       "dtype: object"
      ]
     },
     "execution_count": 75,
     "metadata": {},
     "output_type": "execute_result"
    }
   ],
   "source": [
    "prathamesh_dataframe.max()"
   ]
  },
  {
   "cell_type": "code",
   "execution_count": 76,
   "id": "d2bcc263-c420-483f-946b-bc96dceacac3",
   "metadata": {},
   "outputs": [
    {
     "data": {
      "text/plain": [
       "col2                            1863\n",
       "col3    prathamshubhamsaurabhsaurabh\n",
       "dtype: object"
      ]
     },
     "execution_count": 76,
     "metadata": {},
     "output_type": "execute_result"
    }
   ],
   "source": [
    "prathamesh_dataframe.sum()"
   ]
  },
  {
   "cell_type": "markdown",
   "id": "3b44311e-a903-4dcb-b88b-c0f47ab9e5c3",
   "metadata": {
    "id": "s4hkBOBIiIek",
    "tags": []
   },
   "source": [
    "## Pandas Exercise -1\n",
    "\n",
    " We will be using the [SF Salaries Dataset](https://www.kaggle.com/kaggle/sf-salaries) from Kaggle! "
   ]
  },
  {
   "cell_type": "markdown",
   "id": "d23e1455-5ce6-4690-a78c-e4b8349742cc",
   "metadata": {
    "id": "6Cc2ZNy4iIel"
   },
   "source": [
    "** Import pandas as pd.**"
   ]
  },
  {
   "cell_type": "code",
   "execution_count": 111,
   "id": "4b96119d-66d7-4cd9-a591-c30ff4038476",
   "metadata": {},
   "outputs": [],
   "source": [
    "import pandas as prathamesh_pd\n",
    "import numpy as np"
   ]
  },
  {
   "cell_type": "markdown",
   "id": "ab8d8854-9c6a-40e7-a9c1-f791307be48e",
   "metadata": {
    "id": "etG44tZbiIel"
   },
   "source": [
    "** Read Salaries.csv as a dataframe called sal.**"
   ]
  },
  {
   "cell_type": "code",
   "execution_count": 112,
   "id": "c95cb52b-6b44-479f-ae4b-9310a756c79e",
   "metadata": {},
   "outputs": [
    {
     "name": "stderr",
     "output_type": "stream",
     "text": [
      "/tmp/ipykernel_4065/3120668457.py:1: DtypeWarning: Columns (3,4,5,6,12) have mixed types. Specify dtype option on import or set low_memory=False.\n",
      "  sal = prathamesh_pd.read_csv('Salaries.csv',delimiter=',')\n"
     ]
    }
   ],
   "source": [
    "sal = prathamesh_pd.read_csv('Salaries.csv',delimiter=',')"
   ]
  },
  {
   "cell_type": "markdown",
   "id": "edfd15aa-3747-439b-ab71-a71ebe66106e",
   "metadata": {
    "id": "tEEjdM9PiIem"
   },
   "source": [
    "** Check the head of the DataFrame. **"
   ]
  },
  {
   "cell_type": "code",
   "execution_count": 113,
   "id": "a6669cf3-4c4a-4dd0-9631-821dcc9db1df",
   "metadata": {},
   "outputs": [
    {
     "data": {
      "text/html": [
       "<div>\n",
       "<style scoped>\n",
       "    .dataframe tbody tr th:only-of-type {\n",
       "        vertical-align: middle;\n",
       "    }\n",
       "\n",
       "    .dataframe tbody tr th {\n",
       "        vertical-align: top;\n",
       "    }\n",
       "\n",
       "    .dataframe thead th {\n",
       "        text-align: right;\n",
       "    }\n",
       "</style>\n",
       "<table border=\"1\" class=\"dataframe\">\n",
       "  <thead>\n",
       "    <tr style=\"text-align: right;\">\n",
       "      <th></th>\n",
       "      <th>Id</th>\n",
       "      <th>EmployeeName</th>\n",
       "      <th>JobTitle</th>\n",
       "      <th>BasePay</th>\n",
       "      <th>OvertimePay</th>\n",
       "      <th>OtherPay</th>\n",
       "      <th>Benefits</th>\n",
       "      <th>TotalPay</th>\n",
       "      <th>TotalPayBenefits</th>\n",
       "      <th>Year</th>\n",
       "      <th>Notes</th>\n",
       "      <th>Agency</th>\n",
       "      <th>Status</th>\n",
       "    </tr>\n",
       "  </thead>\n",
       "  <tbody>\n",
       "    <tr>\n",
       "      <th>0</th>\n",
       "      <td>1</td>\n",
       "      <td>NATHANIEL FORD</td>\n",
       "      <td>GENERAL MANAGER-METROPOLITAN TRANSIT AUTHORITY</td>\n",
       "      <td>167411.18</td>\n",
       "      <td>0.0</td>\n",
       "      <td>400184.25</td>\n",
       "      <td>NaN</td>\n",
       "      <td>567595.43</td>\n",
       "      <td>567595.43</td>\n",
       "      <td>2011</td>\n",
       "      <td>NaN</td>\n",
       "      <td>San Francisco</td>\n",
       "      <td>NaN</td>\n",
       "    </tr>\n",
       "    <tr>\n",
       "      <th>1</th>\n",
       "      <td>2</td>\n",
       "      <td>GARY JIMENEZ</td>\n",
       "      <td>CAPTAIN III (POLICE DEPARTMENT)</td>\n",
       "      <td>155966.02</td>\n",
       "      <td>245131.88</td>\n",
       "      <td>137811.38</td>\n",
       "      <td>NaN</td>\n",
       "      <td>538909.28</td>\n",
       "      <td>538909.28</td>\n",
       "      <td>2011</td>\n",
       "      <td>NaN</td>\n",
       "      <td>San Francisco</td>\n",
       "      <td>NaN</td>\n",
       "    </tr>\n",
       "    <tr>\n",
       "      <th>2</th>\n",
       "      <td>3</td>\n",
       "      <td>ALBERT PARDINI</td>\n",
       "      <td>CAPTAIN III (POLICE DEPARTMENT)</td>\n",
       "      <td>212739.13</td>\n",
       "      <td>106088.18</td>\n",
       "      <td>16452.6</td>\n",
       "      <td>NaN</td>\n",
       "      <td>335279.91</td>\n",
       "      <td>335279.91</td>\n",
       "      <td>2011</td>\n",
       "      <td>NaN</td>\n",
       "      <td>San Francisco</td>\n",
       "      <td>NaN</td>\n",
       "    </tr>\n",
       "    <tr>\n",
       "      <th>3</th>\n",
       "      <td>4</td>\n",
       "      <td>CHRISTOPHER CHONG</td>\n",
       "      <td>WIRE ROPE CABLE MAINTENANCE MECHANIC</td>\n",
       "      <td>77916.0</td>\n",
       "      <td>56120.71</td>\n",
       "      <td>198306.9</td>\n",
       "      <td>NaN</td>\n",
       "      <td>332343.61</td>\n",
       "      <td>332343.61</td>\n",
       "      <td>2011</td>\n",
       "      <td>NaN</td>\n",
       "      <td>San Francisco</td>\n",
       "      <td>NaN</td>\n",
       "    </tr>\n",
       "    <tr>\n",
       "      <th>4</th>\n",
       "      <td>5</td>\n",
       "      <td>PATRICK GARDNER</td>\n",
       "      <td>DEPUTY CHIEF OF DEPARTMENT,(FIRE DEPARTMENT)</td>\n",
       "      <td>134401.6</td>\n",
       "      <td>9737.0</td>\n",
       "      <td>182234.59</td>\n",
       "      <td>NaN</td>\n",
       "      <td>326373.19</td>\n",
       "      <td>326373.19</td>\n",
       "      <td>2011</td>\n",
       "      <td>NaN</td>\n",
       "      <td>San Francisco</td>\n",
       "      <td>NaN</td>\n",
       "    </tr>\n",
       "  </tbody>\n",
       "</table>\n",
       "</div>"
      ],
      "text/plain": [
       "   Id       EmployeeName                                        JobTitle  \\\n",
       "0   1     NATHANIEL FORD  GENERAL MANAGER-METROPOLITAN TRANSIT AUTHORITY   \n",
       "1   2       GARY JIMENEZ                 CAPTAIN III (POLICE DEPARTMENT)   \n",
       "2   3     ALBERT PARDINI                 CAPTAIN III (POLICE DEPARTMENT)   \n",
       "3   4  CHRISTOPHER CHONG            WIRE ROPE CABLE MAINTENANCE MECHANIC   \n",
       "4   5    PATRICK GARDNER    DEPUTY CHIEF OF DEPARTMENT,(FIRE DEPARTMENT)   \n",
       "\n",
       "     BasePay OvertimePay   OtherPay Benefits   TotalPay  TotalPayBenefits  \\\n",
       "0  167411.18         0.0  400184.25      NaN  567595.43         567595.43   \n",
       "1  155966.02   245131.88  137811.38      NaN  538909.28         538909.28   \n",
       "2  212739.13   106088.18    16452.6      NaN  335279.91         335279.91   \n",
       "3    77916.0    56120.71   198306.9      NaN  332343.61         332343.61   \n",
       "4   134401.6      9737.0  182234.59      NaN  326373.19         326373.19   \n",
       "\n",
       "   Year  Notes         Agency Status  \n",
       "0  2011    NaN  San Francisco    NaN  \n",
       "1  2011    NaN  San Francisco    NaN  \n",
       "2  2011    NaN  San Francisco    NaN  \n",
       "3  2011    NaN  San Francisco    NaN  \n",
       "4  2011    NaN  San Francisco    NaN  "
      ]
     },
     "execution_count": 113,
     "metadata": {},
     "output_type": "execute_result"
    }
   ],
   "source": [
    "sal.head()"
   ]
  },
  {
   "cell_type": "markdown",
   "id": "1ff8a7ae-af3f-4ec9-aae3-347d1181d07c",
   "metadata": {
    "id": "h5PVF5K5iIen"
   },
   "source": [
    "** Use the .info() method to find out how many entries there are.**"
   ]
  },
  {
   "cell_type": "code",
   "execution_count": 114,
   "id": "87ec0c51-e0e6-42d9-843f-c62a685a8b3a",
   "metadata": {},
   "outputs": [
    {
     "name": "stdout",
     "output_type": "stream",
     "text": [
      "<class 'pandas.core.frame.DataFrame'>\n",
      "RangeIndex: 148654 entries, 0 to 148653\n",
      "Data columns (total 13 columns):\n",
      " #   Column            Non-Null Count   Dtype  \n",
      "---  ------            --------------   -----  \n",
      " 0   Id                148654 non-null  int64  \n",
      " 1   EmployeeName      148654 non-null  object \n",
      " 2   JobTitle          148654 non-null  object \n",
      " 3   BasePay           148049 non-null  object \n",
      " 4   OvertimePay       148654 non-null  object \n",
      " 5   OtherPay          148654 non-null  object \n",
      " 6   Benefits          112495 non-null  object \n",
      " 7   TotalPay          148654 non-null  float64\n",
      " 8   TotalPayBenefits  148654 non-null  float64\n",
      " 9   Year              148654 non-null  int64  \n",
      " 10  Notes             0 non-null       float64\n",
      " 11  Agency            148654 non-null  object \n",
      " 12  Status            38119 non-null   object \n",
      "dtypes: float64(3), int64(2), object(8)\n",
      "memory usage: 14.7+ MB\n"
     ]
    }
   ],
   "source": [
    "sal.info()"
   ]
  },
  {
   "cell_type": "markdown",
   "id": "8a61de30-71d0-4dd8-891a-2d8a2f78d93f",
   "metadata": {
    "id": "yj8fLpwYiIen"
   },
   "source": [
    "**What is the average BasePay ?**"
   ]
  },
  {
   "cell_type": "markdown",
   "id": "a554358f-b96b-4f58-ad10-2215bc7158b2",
   "metadata": {},
   "source": [
    "BasePay has string values such as Not Provided, so we need to import numpy and convert the string values to NaN values. Then we can find the average BasePay. We also see that there are some float values that appear as string in the BasePay column. We need to convert them to float values. Therefore I use the the astype() method to convert the BasePay column to float values."
   ]
  },
  {
   "cell_type": "code",
   "execution_count": 115,
   "id": "7aa42b01-499d-45fb-a357-63199ee58f81",
   "metadata": {},
   "outputs": [
    {
     "data": {
      "text/plain": [
       "66325.44884048769"
      ]
     },
     "execution_count": 115,
     "metadata": {},
     "output_type": "execute_result"
    }
   ],
   "source": [
    "newSal = sal\n",
    "newSal['BasePay'] = sal['BasePay'].replace(\"Not provided\",np.nan).replace(\"Not Provided\",np.nan).astype(float)\n",
    "newSal['BasePay'] = newSal['BasePay'].fillna(newSal['BasePay'].mean())\n",
    "newSal[\"BasePay\"].mean()"
   ]
  },
  {
   "cell_type": "markdown",
   "id": "f1840a7b-5b13-4bda-9eba-be7689742923",
   "metadata": {
    "id": "uijf6n-QiIeo"
   },
   "source": [
    "** What is the highest amount of OvertimePay in the dataset ? **"
   ]
  },
  {
   "cell_type": "code",
   "execution_count": 116,
   "id": "f473c476-4370-4383-b583-20fa0c15be72",
   "metadata": {},
   "outputs": [
    {
     "data": {
      "text/plain": [
       "245131.88"
      ]
     },
     "execution_count": 116,
     "metadata": {},
     "output_type": "execute_result"
    }
   ],
   "source": [
    "unique_overtimePay=sal.replace(\"Not provided\",0).replace(\"Not Provided\",0)['OvertimePay'].unique()\n",
    "newSal = sal\n",
    "newSal['OvertimePay'] = sal['OvertimePay'].replace(\"Not provided\",0).replace(\"Not Provided\",0).astype(float)\n",
    "newSal[\"OvertimePay\"].max()"
   ]
  },
  {
   "cell_type": "markdown",
   "id": "c7a730b1-b526-4e77-a031-57e06a4b5161",
   "metadata": {
    "id": "MTDGR6UhiIeo"
   },
   "source": [
    "** What is the job title of  GARY JIMENEZ ? Note: Use all caps, otherwise you may get an answer that doesn't match up (there is also a lowercase Joseph Driscoll). **"
   ]
  },
  {
   "cell_type": "code",
   "execution_count": 117,
   "id": "518c5b4e-008b-4eeb-8c9a-1b5209798c50",
   "metadata": {},
   "outputs": [
    {
     "data": {
      "text/plain": [
       "1    CAPTAIN III (POLICE DEPARTMENT)\n",
       "Name: JobTitle, dtype: object"
      ]
     },
     "execution_count": 117,
     "metadata": {},
     "output_type": "execute_result"
    }
   ],
   "source": [
    "sal[sal['EmployeeName']=='GARY JIMENEZ']['JobTitle']"
   ]
  },
  {
   "cell_type": "markdown",
   "id": "b7c744c2-2d60-41ce-9399-e39de9d69e24",
   "metadata": {
    "id": "rmCivwnaiIeo"
   },
   "source": [
    "** How much does GARY JIMENEZ make (including benefits)? **"
   ]
  },
  {
   "cell_type": "code",
   "execution_count": 118,
   "id": "6583f03f-5058-43e7-9e72-7ae4aec70c90",
   "metadata": {},
   "outputs": [
    {
     "data": {
      "text/plain": [
       "1    538909.28\n",
       "Name: TotalPayBenefits, dtype: float64"
      ]
     },
     "execution_count": 118,
     "metadata": {},
     "output_type": "execute_result"
    }
   ],
   "source": [
    "sal[sal['EmployeeName']=='GARY JIMENEZ']['TotalPayBenefits']"
   ]
  },
  {
   "cell_type": "markdown",
   "id": "919e00d1-3c34-4f3e-8f65-fed2fa9cc7aa",
   "metadata": {
    "id": "S5rg-zddiIeo"
   },
   "source": [
    "** What is the name of highest paid person (including benefits)?**"
   ]
  },
  {
   "cell_type": "code",
   "execution_count": 119,
   "id": "f2f96cee-8771-470c-89d5-0f39596c1fbc",
   "metadata": {},
   "outputs": [
    {
     "data": {
      "text/plain": [
       "567595.43"
      ]
     },
     "execution_count": 119,
     "metadata": {},
     "output_type": "execute_result"
    }
   ],
   "source": [
    "sal['TotalPayBenefits'].max()"
   ]
  },
  {
   "cell_type": "markdown",
   "id": "6061c295-e91a-44a3-ab6b-e4986e058074",
   "metadata": {
    "id": "v1GcpdaFiIep"
   },
   "source": [
    "** What is the name of lowest paid person (including benefits)? Do you notice something strange about how much he or she is paid?**"
   ]
  },
  {
   "cell_type": "code",
   "execution_count": 120,
   "id": "43b5e809-6b68-4540-a5e4-bbe7640d9a58",
   "metadata": {},
   "outputs": [
    {
     "data": {
      "text/html": [
       "<div>\n",
       "<style scoped>\n",
       "    .dataframe tbody tr th:only-of-type {\n",
       "        vertical-align: middle;\n",
       "    }\n",
       "\n",
       "    .dataframe tbody tr th {\n",
       "        vertical-align: top;\n",
       "    }\n",
       "\n",
       "    .dataframe thead th {\n",
       "        text-align: right;\n",
       "    }\n",
       "</style>\n",
       "<table border=\"1\" class=\"dataframe\">\n",
       "  <thead>\n",
       "    <tr style=\"text-align: right;\">\n",
       "      <th></th>\n",
       "      <th>EmployeeName</th>\n",
       "      <th>TotalPayBenefits</th>\n",
       "    </tr>\n",
       "  </thead>\n",
       "  <tbody>\n",
       "    <tr>\n",
       "      <th>148653</th>\n",
       "      <td>Joe Lopez</td>\n",
       "      <td>-618.13</td>\n",
       "    </tr>\n",
       "  </tbody>\n",
       "</table>\n",
       "</div>"
      ],
      "text/plain": [
       "       EmployeeName  TotalPayBenefits\n",
       "148653    Joe Lopez           -618.13"
      ]
     },
     "execution_count": 120,
     "metadata": {},
     "output_type": "execute_result"
    }
   ],
   "source": [
    "sal[sal['TotalPayBenefits']==sal['TotalPayBenefits'].min()][['EmployeeName','TotalPayBenefits']]"
   ]
  },
  {
   "cell_type": "markdown",
   "id": "77a68fdd-9692-4e65-867b-e3f8d5f850a3",
   "metadata": {},
   "source": [
    "We notice something strange sucha as a negative pay."
   ]
  },
  {
   "cell_type": "markdown",
   "id": "db2e7715-42ce-4ff4-914f-2db23053284c",
   "metadata": {
    "id": "bNICfs_viIep"
   },
   "source": [
    "** What was the average (mean) BasePay of all employees per year? (2011-2014) ? **"
   ]
  },
  {
   "cell_type": "code",
   "execution_count": 121,
   "id": "791c46a8-641b-4331-bba5-2fa988509f2b",
   "metadata": {},
   "outputs": [
    {
     "data": {
      "text/plain": [
       "Year\n",
       "2011    63595.956517\n",
       "2012    65436.406857\n",
       "2013    69576.866579\n",
       "2014    66564.396851\n",
       "Name: BasePay, dtype: float64"
      ]
     },
     "execution_count": 121,
     "metadata": {},
     "output_type": "execute_result"
    }
   ],
   "source": [
    "sal.groupby('Year')['BasePay'].mean()"
   ]
  },
  {
   "cell_type": "markdown",
   "id": "f55713ab-2cb2-4351-b23b-b0cd0f4b3262",
   "metadata": {
    "id": "OLDGXKTSiIeq"
   },
   "source": [
    "** How many unique job titles are there? **"
   ]
  },
  {
   "cell_type": "code",
   "execution_count": 122,
   "id": "37d43110-e63f-4be6-a8e9-ba640c7a8588",
   "metadata": {},
   "outputs": [
    {
     "data": {
      "text/plain": [
       "239"
      ]
     },
     "execution_count": 122,
     "metadata": {},
     "output_type": "execute_result"
    }
   ],
   "source": [
    "sal[\"JobTitle\"].value_counts()[sal[\"JobTitle\"].value_counts()==1].count()"
   ]
  },
  {
   "cell_type": "markdown",
   "id": "895db51c-fc79-4be2-bb2b-98304d47a9f6",
   "metadata": {
    "id": "GJHyVg-kiIeq"
   },
   "source": [
    "** What are the top 5 most common jobs? **"
   ]
  },
  {
   "cell_type": "code",
   "execution_count": 123,
   "id": "59cc0164-6330-44bd-9598-1f6177c6ec31",
   "metadata": {},
   "outputs": [
    {
     "data": {
      "text/plain": [
       "'Transit Operator, Special Nurse, Registered Nurse, Public Svc Aide-Public Works, Police Officer 3'"
      ]
     },
     "execution_count": 123,
     "metadata": {},
     "output_type": "execute_result"
    }
   ],
   "source": [
    "\", \".join(sal[\"JobTitle\"].value_counts().head(5).index.tolist())"
   ]
  },
  {
   "cell_type": "markdown",
   "id": "6027c164-2146-411c-bb30-e56cb0cb8a12",
   "metadata": {
    "id": "lnk8nwLkiIeq"
   },
   "source": [
    "** How many Job Titles were represented by only one person in 2013? (e.g. Job Titles with only one occurence in 2013?) **"
   ]
  },
  {
   "cell_type": "code",
   "execution_count": 124,
   "id": "662262fd-af9c-4c53-9a0c-4872c9450907",
   "metadata": {},
   "outputs": [
    {
     "data": {
      "text/plain": [
       "202"
      ]
     },
     "execution_count": 124,
     "metadata": {},
     "output_type": "execute_result"
    }
   ],
   "source": [
    "sal[sal[\"Year\"]==2013][\"JobTitle\"].value_counts()[sal[sal[\"Year\"]==2013][\"JobTitle\"].value_counts()==1].count()"
   ]
  },
  {
   "cell_type": "markdown",
   "id": "8f0ea48f-be72-47bf-9604-d02481b1d97e",
   "metadata": {
    "id": "zf1yvJeKiIeq"
   },
   "source": [
    "** How many people have the word Chief in their job title? (This is pretty tricky) **"
   ]
  },
  {
   "cell_type": "code",
   "execution_count": 125,
   "id": "1e4766ea-e497-41fa-9e64-d2cda284e85f",
   "metadata": {
    "tags": []
   },
   "outputs": [
    {
     "data": {
      "text/plain": [
       "627"
      ]
     },
     "execution_count": 125,
     "metadata": {},
     "output_type": "execute_result"
    }
   ],
   "source": [
    "sal[\"JobTitle\"].apply(lambda x: \"chief\" in x.lower()).value_counts()[True]"
   ]
  },
  {
   "cell_type": "markdown",
   "id": "49718fd8-d4a1-4464-b91d-c984842ff476",
   "metadata": {},
   "source": [
    "## Conclusion\n",
    "We have successfully understood how to use pandas library for data exploratory analysis."
   ]
  }
 ],
 "metadata": {
  "kernelspec": {
   "display_name": "Python 3 (ipykernel)",
   "language": "python",
   "name": "python3"
  },
  "language_info": {
   "codemirror_mode": {
    "name": "ipython",
    "version": 3
   },
   "file_extension": ".py",
   "mimetype": "text/x-python",
   "name": "python",
   "nbconvert_exporter": "python",
   "pygments_lexer": "ipython3",
   "version": "3.11.3"
  },
  "toc-autonumbering": true,
  "toc-showcode": false,
  "toc-showmarkdowntxt": false
 },
 "nbformat": 4,
 "nbformat_minor": 5
}
