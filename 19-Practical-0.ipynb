{
 "cells": [
  {
   "cell_type": "markdown",
   "metadata": {
    "id": "NXZEz6KKqvum"
   },
   "source": [
    "## Prathamesh Ingale\n",
    "FYMCA-B-19\n",
    "\n",
    "### AIM: To implement the basics of python"
   ]
  },
  {
   "cell_type": "markdown",
   "metadata": {},
   "source": [
    "## Theory:\n",
    "### Python\n",
    "Python is a popular and versatile programming language that can be used for various applications such as web development, data analysis, machine learning, and more. In this blog post, we will explain some of the basic concepts and features of Python, such as comparison operators, logical operators, for loops, while loops, range function, lambda expression, map and filter functions.\n",
    "\n",
    "## Data types\n",
    "\n",
    "Python has several built-in data types that are used to define variables. These data types include:\n",
    " - Numeric data types: int, float, complex\n",
    " - Sequence data types: list, tuple, range\n",
    " - Text data type: str\n",
    " - Mapping data type: dict\n",
    " - Set data type: set, frozenset\n",
    " - Boolean data type: bool\n",
    "Each of these data types has its own properties and methods. For example, you can use the type() function to check the data type of a variable.\n",
    "1. Numeric data types: These are used to represent numbers. The int data type is used to represent integers (whole numbers), the float data type is used to represent floating-point numbers (numbers with decimal points), and the complex data type is used to represent complex numbers (numbers with a real and imaginary part).\n",
    "\n",
    "2. Sequence data types: These are used to represent sequences of values. The list data type is used to represent lists of values, the tuple data type is used to represent immutable (unchangeable) lists of values, and the range data type is used to represent sequences of numbers.\n",
    "\n",
    "3. Text data type: This is used to represent strings of characters. The str data type is used to represent strings.\n",
    "\n",
    "4. Mapping data type: This is used to represent mappings between keys and values. The dict data type is used to represent dictionaries.\n",
    "\n",
    "5. Set data type: This is used to represent sets of unique values. The set data type is used to represent mutable (changeable) sets of values, and the frozenset data type is used to represent immutable (unchangeable) sets of values.\n",
    "\n",
    "6. Boolean data type: This is used to represent boolean values (True or False)\n",
    "\n",
    "#### Sequence Data types:\n",
    "\n",
    "-   Lists: Lists are used to store a collection of items. They are ordered and mutable (changeable). You can add or remove items from a list using various methods. For example, you can use the `append()` method to add an item to the end of a list, or the `remove()` method to remove an item from a list.\n",
    "    \n",
    "    Here’s an example of how to create a list in Python:\n",
    "    \n",
    "    ```python\n",
    "    my_list = [1, 2, 3, 4, 5]\n",
    "    ```\n",
    "    \n",
    "-   Sets: Sets are used to store a collection of unique items. They are unordered and mutable (changeable). You can add or remove items from a set using various methods. For example, you can use the `add()` method to add an item to a set, or the `remove()` method to remove an item from a set.\n",
    "    \n",
    "    Here’s an example of how to create a set in Python:\n",
    "    \n",
    "    ```python\n",
    "    my_set = {1, 2, 3, 4, 5}\n",
    "    ```\n",
    "    \n",
    "-   Dictionaries: Dictionaries are used to store key-value pairs. They are unordered and mutable (changeable). You can add or remove items from a dictionary using various methods. For example, you can use the `update()` method to add or update an item in a dictionary, or the `pop()` method to remove an item from a dictionary.\n",
    "    \n",
    "    Here’s an example of how to create a dictionary in Python:\n",
    "    \n",
    "    ```python\n",
    "    my_dict = {\"name\": \"John\", \"age\": 30}\n",
    "    ```\n",
    "\n",
    "## Operators\n",
    "Comparison operators are used to compare two values and return a boolean value (True or False) based on the result of the comparison. For example, we can use the == operator to check if two values are equal, the != operator to check if they are not equal, the < operator to check if one value is less than another, the > operator to check if one value is greater than another, and so on. Here are some examples of comparison operators in Python:\n",
    "\n",
    "#### Comparison operators\n",
    "```python\n",
    "x = 10\n",
    "y = 20\n",
    "print(x == y) # False\n",
    "print(x != y) # True\n",
    "print(x < y) # True\n",
    "print(x > y) # False\n",
    "print(x <= y) # True\n",
    "print(x >= y) # False\n",
    "```\n",
    "\n",
    "Logical operators are used to combine two or more boolean values and return a boolean value based on the logic of the operation. For example, we can use the and operator to check if both values are True, the or operator to check if at least one value is True, and the not operator to negate a value. Here are some examples of logical operators in Python:\n",
    "\n",
    "#### Logical operators\n",
    "```python\n",
    "a = True\n",
    "b = False\n",
    "print(a and b) # False\n",
    "print(a or b) # True\n",
    "print(not a) # False\n",
    "print(not b) # True\n",
    "```\n",
    "\n",
    "For loops are used to iterate over a sequence of items (such as a list, a tuple, a string, etc.) and execute a block of code for each item. For example, we can use a for loop to print each element of a list:\n",
    "## Loops\n",
    "#### For loop\n",
    "```python\n",
    "fruits = [\"apple\", \"banana\", \"orange\"]\n",
    "for fruit in fruits:\n",
    "  print(fruit)\n",
    "```\n",
    "\n",
    "#### Output:\n",
    "apple\n",
    "banana\n",
    "orange\n",
    "\n",
    "While loops are used to execute a block of code repeatedly as long as a condition is True. For example, we can use a while loop to print numbers from 1 to 10:\n",
    "\n",
    "#### While loop\n",
    "```python\n",
    "n = 1\n",
    "while n <= 10:\n",
    "  print(n)\n",
    "  n = n + 1\n",
    "```\n",
    "\n",
    "#### Output:\n",
    "1\n",
    "2\n",
    "3\n",
    "4\n",
    "5\n",
    "6\n",
    "7\n",
    "8\n",
    "9\n",
    "10\n",
    "\n",
    "The range function is used to generate a sequence of numbers within a specified range. For example, we can use the range function to create a list of numbers from 0 to 9:\n",
    "\n",
    "#### Range function\n",
    "```python\n",
    "numbers = list(range(10))\n",
    "print(numbers)\n",
    "```\n",
    "\n",
    "#### Output:\n",
    "```\n",
    "[0, 1, 2, 3, 4, 5, 6, 7, 8, 9]\n",
    "```\n",
    "\n",
    "The range function can also take two or three arguments to specify the start, stop, and step values of the sequence. For example, we can use the range function to create a list of even numbers from 2 to 20:\n",
    "\n",
    "#### Range function with arguments\n",
    "```python\n",
    "even_numbers = list(range(2, 21, 2))\n",
    "print(even_numbers)\n",
    "```\n",
    "\n",
    "#### Output:\n",
    "```\n",
    "[2, 4, 6, 8, 10, 12, 14, 16, 18, 20]\n",
    "```\n",
    "\n",
    "A lambda expression is a way of creating an anonymous function (a function without a name) in Python. It can take any number of arguments but can only have one expression. For example, we can use a lambda expression to create a function that adds two numbers:\n",
    "\n",
    "## Lambda expression\n",
    "```python\n",
    "add = lambda x,y: x + y\n",
    "print(add(3,5))`\n",
    "```\n",
    "\n",
    "#### Output:\n",
    "```\n",
    "8\n",
    "```\n",
    "\n",
    "A map function is used to apply a function to each element of an iterable (such as a list) and return an iterator object that contains the results. For example, we can use a map function to square each element of a list:\n",
    "## Map and Filter\n",
    "#### Map function\n",
    "```python\n",
    "numbers = [1,2,3]\n",
    "squared_numbers = map(lambda x: x**2,numbers)\n",
    "print(list(squared_numbers))\n",
    "```\n",
    "\n",
    "#### Output:\n",
    "```\n",
    "[1 ,4 ,9]\n",
    "```\n",
    "\n",
    "A filter function is used to filter out elements of an iterable that do not satisfy a condition and return an iterator object that contains the remaining elements. For example, we can use a filter function to remove odd numbers from a list:\n",
    "\n",
    "#### Filter function\n",
    "```python\n",
    "numbers = [1 ,2 ,3 ,4 ,5]\n",
    "```\n",
    "\n",
    "To define a function in Python, you use the def keyword followed by the function name and parentheses. Inside the parentheses, you can optionally specify one or more parameters that the function can take as input. After the parentheses, you add a colon and then indent the body of the function. The body contains the statements that define what the function does. For example:\n",
    "```python\n",
    "def greet(name):\n",
    "    print(\"Hello, \" + name + \"!\")\n",
    "\n",
    "```\n",
    "\n",
    "This defines a function called greet that takes one parameter called name and prints a greeting message. To call a function, you use the function name followed by parentheses and pass the arguments that match the parameters. For example:\n",
    "\n",
    "```python\n",
    "greet(\"Alice\")\n",
    "greet(\"Bob\")\n",
    "```\n",
    "This calls the greet function twice with different arguments and prints:\n",
    "\n",
    "```\n",
    "Hello, Alice!\n",
    "Hello, Bob!`\n",
    "```\n",
    "\n",
    "You can also return a value from a function using the return keyword. This allows you to assign the result of a function to a variable or use it in another expression. For example:\n",
    "\n",
    "```python\n",
    "def add(x, y):\n",
    "    return x + y\n",
    "```\n",
    "\n",
    "```python\n",
    "result = add(3, 4)\n",
    "print(result)\n",
    "```\n",
    "\n",
    "This defines a function called add that takes two parameters called x and y and returns their sum. It then calls the add function with 3 and 4 as arguments and assigns the result to a variable called result. It then prints:\n",
    "```\n",
    "7\n",
    "```\n",
    "\n",
    "Functions are very useful and powerful tools in Python that can help you write better code. I hope this blog post helped you understand what functions are and how to use them.\n",
    "\n",
    "Map and filter are built-in functions in Python that allow you to apply a function to each element of an iterable object, such as a list or a tuple, and return a new iterable object with the modified elements. \n",
    "\n",
    "The map function takes two arguments: a function and an iterable. The function can be any callable object that takes one argument and returns a value. The iterable can be any object that supports iteration, such as a list, a tuple, a string, a dictionary, or a generator. The map function returns a map object, which is also an iterable, that contains the results of applying the function to each element of the iterable.\n",
    "\n",
    "For example, suppose you have a list of numbers and you want to square each number. You can use the map function to do this:\n",
    "\n",
    "```python\n",
    "numbers = [1, 2, 3, 4, 5]\n",
    "squared_numbers = map(lambda x: x**2, numbers) # lambda is an anonymous function that takes one argument x and returns x**2\n",
    "print(list(squared_numbers)) # convert the map object to a list to print it\n",
    "```\n",
    "\n",
    "```\n",
    "Output: [1, 4, 9, 16, 25]\n",
    "```\n",
    "The filter function takes two arguments: a function and an iterable. The function can be any callable object that takes one argument and returns a boolean value (True or False). The iterable can be any object that supports iteration, such as a list, a tuple, a string, a dictionary, or a generator. The filter function returns a filter object, which is also an iterable, that contains the elements of the iterable for which the function returns True.\n",
    "\n",
    "For example, suppose you have a list of names and you want to filter out the names that start with 'A'. You can use the filter function to do this:\n",
    "```python\n",
    "names = ['Alice', 'Bob', 'Charlie', 'David', 'Eve']\n",
    "filtered_names = filter(lambda x: not x.startswith('A'), names) # lambda is an anonymous function that takes one argument x and returns True if x does not start with 'A'\n",
    "print(list(filtered_names)) # convert the filter object to a list to print it\n",
    "```\n",
    "\n",
    "```\n",
    "Output: ['Bob', 'Charlie', 'David', 'Eve']\n",
    "```\n",
    "In summary, map and filter are useful functions in Python that allow you to transform and filter iterables using custom functions. They return iterable objects that can be converted to other data types or used in loops or comprehensions."
   ]
  },
  {
   "cell_type": "markdown",
   "metadata": {
    "id": "BCYOBoD4q3cc"
   },
   "source": [
    "## Data Types\n"
   ]
  },
  {
   "cell_type": "markdown",
   "metadata": {
    "id": "Xyio6cxXq6OU"
   },
   "source": [
    "### Numbers\n"
   ]
  },
  {
   "cell_type": "code",
   "execution_count": 1,
   "metadata": {
    "colab": {
     "base_uri": "https://localhost:8080/"
    },
    "id": "012DuSy8nICv",
    "outputId": "72ad6d5d-a281-47b5-e531-5378e115d6b6"
   },
   "outputs": [
    {
     "data": {
      "text/plain": [
       "2"
      ]
     },
     "execution_count": 1,
     "metadata": {},
     "output_type": "execute_result"
    }
   ],
   "source": [
    "1 + 1"
   ]
  },
  {
   "cell_type": "code",
   "execution_count": 2,
   "metadata": {
    "colab": {
     "base_uri": "https://localhost:8080/"
    },
    "id": "oOL62m41nhAW",
    "outputId": "3f93b478-bf92-441c-86ce-5a482fcf038f"
   },
   "outputs": [
    {
     "data": {
      "text/plain": [
       "3"
      ]
     },
     "execution_count": 2,
     "metadata": {},
     "output_type": "execute_result"
    }
   ],
   "source": [
    "1*3"
   ]
  },
  {
   "cell_type": "code",
   "execution_count": 3,
   "metadata": {
    "colab": {
     "base_uri": "https://localhost:8080/"
    },
    "id": "DmmtJ3IBniT9",
    "outputId": "c5d43386-3da0-433f-b413-3eab3569fce1"
   },
   "outputs": [
    {
     "data": {
      "text/plain": [
       "0.5"
      ]
     },
     "execution_count": 3,
     "metadata": {},
     "output_type": "execute_result"
    }
   ],
   "source": [
    "1/2"
   ]
  },
  {
   "cell_type": "code",
   "execution_count": 4,
   "metadata": {
    "colab": {
     "base_uri": "https://localhost:8080/"
    },
    "id": "FFkDrY9xnjNk",
    "outputId": "74a3e9db-f215-4e7f-9edc-9215fe2df9f9"
   },
   "outputs": [
    {
     "data": {
      "text/plain": [
       "16"
      ]
     },
     "execution_count": 4,
     "metadata": {},
     "output_type": "execute_result"
    }
   ],
   "source": [
    "2**4"
   ]
  },
  {
   "cell_type": "code",
   "execution_count": 5,
   "metadata": {
    "colab": {
     "base_uri": "https://localhost:8080/"
    },
    "id": "aZ2s8Ic5nkU8",
    "outputId": "6f846e93-f0cd-4c8d-e882-2199461ba454"
   },
   "outputs": [
    {
     "data": {
      "text/plain": [
       "1"
      ]
     },
     "execution_count": 5,
     "metadata": {},
     "output_type": "execute_result"
    }
   ],
   "source": [
    "1%2"
   ]
  },
  {
   "cell_type": "code",
   "execution_count": 6,
   "metadata": {
    "colab": {
     "base_uri": "https://localhost:8080/"
    },
    "id": "DJmIm739nlgM",
    "outputId": "f86eca09-3702-4b70-988e-a561cd689326"
   },
   "outputs": [
    {
     "data": {
      "text/plain": [
       "1"
      ]
     },
     "execution_count": 6,
     "metadata": {},
     "output_type": "execute_result"
    }
   ],
   "source": [
    "5%2"
   ]
  },
  {
   "cell_type": "code",
   "execution_count": 7,
   "metadata": {
    "colab": {
     "base_uri": "https://localhost:8080/"
    },
    "id": "N9gA_mu5nn51",
    "outputId": "7a5fc83a-b95b-4aa4-a787-6beb39546763"
   },
   "outputs": [
    {
     "data": {
      "text/plain": [
       "50"
      ]
     },
     "execution_count": 7,
     "metadata": {},
     "output_type": "execute_result"
    }
   ],
   "source": [
    "(2+3)*(5+5)"
   ]
  },
  {
   "cell_type": "code",
   "execution_count": 8,
   "metadata": {
    "id": "ecthq2UfoEN9"
   },
   "outputs": [],
   "source": [
    "name_of_var = 2"
   ]
  },
  {
   "cell_type": "code",
   "execution_count": 9,
   "metadata": {
    "id": "so9j86g0oGoM"
   },
   "outputs": [],
   "source": [
    "x=2\n",
    "y=3"
   ]
  },
  {
   "cell_type": "code",
   "execution_count": 10,
   "metadata": {
    "id": "e_Vl4xhloJJU"
   },
   "outputs": [],
   "source": [
    "z=x+y"
   ]
  },
  {
   "cell_type": "code",
   "execution_count": 11,
   "metadata": {
    "colab": {
     "base_uri": "https://localhost:8080/"
    },
    "id": "9FJxGakRoQid",
    "outputId": "ed39d7db-a909-4fa0-f5d2-b07285750ca1"
   },
   "outputs": [
    {
     "data": {
      "text/plain": [
       "5"
      ]
     },
     "execution_count": 11,
     "metadata": {},
     "output_type": "execute_result"
    }
   ],
   "source": [
    "z"
   ]
  },
  {
   "cell_type": "markdown",
   "metadata": {
    "id": "03xqSLsaq-H0"
   },
   "source": [
    "#### Strings"
   ]
  },
  {
   "cell_type": "code",
   "execution_count": 12,
   "metadata": {
    "colab": {
     "base_uri": "https://localhost:8080/",
     "height": 36
    },
    "id": "MzjugHZSoRhk",
    "outputId": "af246cd0-f67e-4581-bbdb-14fc0a1588bd"
   },
   "outputs": [
    {
     "data": {
      "text/plain": [
       "'single quotes'"
      ]
     },
     "execution_count": 12,
     "metadata": {},
     "output_type": "execute_result"
    }
   ],
   "source": [
    "'single quotes'"
   ]
  },
  {
   "cell_type": "code",
   "execution_count": 13,
   "metadata": {
    "colab": {
     "base_uri": "https://localhost:8080/",
     "height": 36
    },
    "id": "TNIJAq_9oUFs",
    "outputId": "015ff2d4-e235-4cd8-ad58-0a1ed02c817e"
   },
   "outputs": [
    {
     "data": {
      "text/plain": [
       "'doube quotes'"
      ]
     },
     "execution_count": 13,
     "metadata": {},
     "output_type": "execute_result"
    }
   ],
   "source": [
    "\"doube quotes\""
   ]
  },
  {
   "cell_type": "code",
   "execution_count": 14,
   "metadata": {
    "colab": {
     "base_uri": "https://localhost:8080/",
     "height": 36
    },
    "id": "J0DKTe81oVw8",
    "outputId": "24aaa99f-1977-4528-e0af-012693844d34"
   },
   "outputs": [
    {
     "data": {
      "text/plain": [
       "\" wrap lot's of other quotes\""
      ]
     },
     "execution_count": 14,
     "metadata": {},
     "output_type": "execute_result"
    }
   ],
   "source": [
    "\" wrap lot's of other quotes\""
   ]
  },
  {
   "cell_type": "markdown",
   "metadata": {
    "id": "S0BRbjjjrCns"
   },
   "source": [
    "### Printing"
   ]
  },
  {
   "cell_type": "code",
   "execution_count": 15,
   "metadata": {
    "id": "VbU8pkiUoZ8F"
   },
   "outputs": [],
   "source": [
    "x=\"hello\""
   ]
  },
  {
   "cell_type": "code",
   "execution_count": 16,
   "metadata": {
    "colab": {
     "base_uri": "https://localhost:8080/",
     "height": 36
    },
    "id": "bX3ImKLrobZF",
    "outputId": "176d1daf-1bee-4432-b866-e1e4ada51683"
   },
   "outputs": [
    {
     "data": {
      "text/plain": [
       "'hello'"
      ]
     },
     "execution_count": 16,
     "metadata": {},
     "output_type": "execute_result"
    }
   ],
   "source": [
    "x"
   ]
  },
  {
   "cell_type": "code",
   "execution_count": 17,
   "metadata": {
    "colab": {
     "base_uri": "https://localhost:8080/"
    },
    "id": "KTKrPHGnob0E",
    "outputId": "e8a41aa6-59fe-4915-ffa7-15e11d75ea39"
   },
   "outputs": [
    {
     "name": "stdout",
     "output_type": "stream",
     "text": [
      "hello\n"
     ]
    }
   ],
   "source": [
    "print(x)"
   ]
  },
  {
   "cell_type": "code",
   "execution_count": 18,
   "metadata": {
    "id": "zU6x4PeJocjF"
   },
   "outputs": [],
   "source": [
    "num=19\n",
    "name='Prathamesh'"
   ]
  },
  {
   "cell_type": "code",
   "execution_count": 19,
   "metadata": {
    "colab": {
     "base_uri": "https://localhost:8080/"
    },
    "id": "2NRKSP-Eoh6c",
    "outputId": "68cde976-a765-4d98-88ef-9176aaf2c3e8"
   },
   "outputs": [
    {
     "name": "stdout",
     "output_type": "stream",
     "text": [
      "My number is 19, and my name is : Prathamesh\n"
     ]
    }
   ],
   "source": [
    "print('My number is {one}, and my name is : {two}'.format(one=num,two=name))"
   ]
  },
  {
   "cell_type": "code",
   "execution_count": 20,
   "metadata": {
    "colab": {
     "base_uri": "https://localhost:8080/"
    },
    "id": "lhmyrQj0ow3U",
    "outputId": "89278470-6b61-4f79-9bf2-d5fc4003027f"
   },
   "outputs": [
    {
     "name": "stdout",
     "output_type": "stream",
     "text": [
      "My number is : 19, and my name is : Prathamesh\n"
     ]
    }
   ],
   "source": [
    "print('My number is : {}, and my name is : {}'.format(num,name))"
   ]
  },
  {
   "cell_type": "markdown",
   "metadata": {
    "id": "pQz6gG-irE6k"
   },
   "source": [
    "### Lists"
   ]
  },
  {
   "cell_type": "code",
   "execution_count": 21,
   "metadata": {
    "colab": {
     "base_uri": "https://localhost:8080/"
    },
    "id": "ZCG9j7Two3YE",
    "outputId": "f706b876-3fcb-4320-d7de-7f0bce3a73c9"
   },
   "outputs": [
    {
     "data": {
      "text/plain": [
       "[1, 2, 3]"
      ]
     },
     "execution_count": 21,
     "metadata": {},
     "output_type": "execute_result"
    }
   ],
   "source": [
    "[1,2,3]"
   ]
  },
  {
   "cell_type": "code",
   "execution_count": 22,
   "metadata": {
    "colab": {
     "base_uri": "https://localhost:8080/"
    },
    "id": "K1LxY-sSo4zM",
    "outputId": "c9a3378d-4b92-442e-9ff7-f04f02921e8d"
   },
   "outputs": [
    {
     "data": {
      "text/plain": [
       "['hi', 1, [1, 2]]"
      ]
     },
     "execution_count": 22,
     "metadata": {},
     "output_type": "execute_result"
    }
   ],
   "source": [
    "['hi',1,[1,2]]"
   ]
  },
  {
   "cell_type": "code",
   "execution_count": 23,
   "metadata": {
    "id": "3xVflJSFo6-U"
   },
   "outputs": [],
   "source": [
    "my_list=['a','b','c']"
   ]
  },
  {
   "cell_type": "code",
   "execution_count": 24,
   "metadata": {
    "id": "7uWcbzKbo-4s"
   },
   "outputs": [],
   "source": [
    "my_list.append('d')"
   ]
  },
  {
   "cell_type": "code",
   "execution_count": 25,
   "metadata": {
    "colab": {
     "base_uri": "https://localhost:8080/"
    },
    "id": "orcjHl9xpFIk",
    "outputId": "96d404f8-2e02-4cc7-8101-c325540392c4"
   },
   "outputs": [
    {
     "data": {
      "text/plain": [
       "['a', 'b', 'c', 'd']"
      ]
     },
     "execution_count": 25,
     "metadata": {},
     "output_type": "execute_result"
    }
   ],
   "source": [
    "my_list"
   ]
  },
  {
   "cell_type": "code",
   "execution_count": 26,
   "metadata": {
    "colab": {
     "base_uri": "https://localhost:8080/",
     "height": 36
    },
    "id": "1_e_SVeVpGPD",
    "outputId": "dac8f455-6d71-44cc-e0a1-781aaacbfc05"
   },
   "outputs": [
    {
     "data": {
      "text/plain": [
       "'a'"
      ]
     },
     "execution_count": 26,
     "metadata": {},
     "output_type": "execute_result"
    }
   ],
   "source": [
    "my_list[0]"
   ]
  },
  {
   "cell_type": "code",
   "execution_count": 27,
   "metadata": {
    "colab": {
     "base_uri": "https://localhost:8080/",
     "height": 36
    },
    "id": "oTT-AyRapHmr",
    "outputId": "213b71ef-5264-4b88-946b-8e6341f90ac7"
   },
   "outputs": [
    {
     "data": {
      "text/plain": [
       "'b'"
      ]
     },
     "execution_count": 27,
     "metadata": {},
     "output_type": "execute_result"
    }
   ],
   "source": [
    "my_list[1]"
   ]
  },
  {
   "cell_type": "code",
   "execution_count": 28,
   "metadata": {
    "colab": {
     "base_uri": "https://localhost:8080/"
    },
    "id": "qIPWkiedpJYM",
    "outputId": "e0097119-f305-4f04-981f-15b5cb187a53"
   },
   "outputs": [
    {
     "data": {
      "text/plain": [
       "['b', 'c', 'd']"
      ]
     },
     "execution_count": 28,
     "metadata": {},
     "output_type": "execute_result"
    }
   ],
   "source": [
    "my_list[1:]"
   ]
  },
  {
   "cell_type": "code",
   "execution_count": 29,
   "metadata": {
    "colab": {
     "base_uri": "https://localhost:8080/"
    },
    "id": "jkW7BKtupK_M",
    "outputId": "e219e94c-5476-47a1-df7c-5f5c37412204"
   },
   "outputs": [
    {
     "data": {
      "text/plain": [
       "['a']"
      ]
     },
     "execution_count": 29,
     "metadata": {},
     "output_type": "execute_result"
    }
   ],
   "source": [
    "my_list[:1]"
   ]
  },
  {
   "cell_type": "code",
   "execution_count": 30,
   "metadata": {
    "id": "HHdOYN4NpMYU"
   },
   "outputs": [],
   "source": [
    "my_list[0]='NEW'"
   ]
  },
  {
   "cell_type": "code",
   "execution_count": 31,
   "metadata": {
    "id": "jZRYZvPHpRK0"
   },
   "outputs": [],
   "source": [
    "nest = [1,2,3,[4,5,['target']]]"
   ]
  },
  {
   "cell_type": "code",
   "execution_count": 32,
   "metadata": {
    "colab": {
     "base_uri": "https://localhost:8080/"
    },
    "id": "KtrOZYB2pSNk",
    "outputId": "c1e0d9ad-d5f0-4a02-862d-f54bfdf0f0a0"
   },
   "outputs": [
    {
     "data": {
      "text/plain": [
       "[4, 5, ['target']]"
      ]
     },
     "execution_count": 32,
     "metadata": {},
     "output_type": "execute_result"
    }
   ],
   "source": [
    "nest[3]"
   ]
  },
  {
   "cell_type": "code",
   "execution_count": 33,
   "metadata": {
    "colab": {
     "base_uri": "https://localhost:8080/"
    },
    "id": "iQrh6fZxpS87",
    "outputId": "6f0413af-b314-47fd-aba4-36ff3746da92"
   },
   "outputs": [
    {
     "data": {
      "text/plain": [
       "['target']"
      ]
     },
     "execution_count": 33,
     "metadata": {},
     "output_type": "execute_result"
    }
   ],
   "source": [
    "nest[3][2]"
   ]
  },
  {
   "cell_type": "code",
   "execution_count": 34,
   "metadata": {
    "colab": {
     "base_uri": "https://localhost:8080/",
     "height": 36
    },
    "id": "eDsyZMsopULc",
    "outputId": "9a6506a6-34f5-4963-8db3-c21f0f5c1512"
   },
   "outputs": [
    {
     "data": {
      "text/plain": [
       "'target'"
      ]
     },
     "execution_count": 34,
     "metadata": {},
     "output_type": "execute_result"
    }
   ],
   "source": [
    "nest[3][2][0]"
   ]
  },
  {
   "cell_type": "markdown",
   "metadata": {
    "id": "n-gLEtnFrImE"
   },
   "source": [
    "### Dictionaries"
   ]
  },
  {
   "cell_type": "code",
   "execution_count": 35,
   "metadata": {
    "id": "XSumxGzspV5s"
   },
   "outputs": [],
   "source": [
    "d = {'key1':'item1','key2':'item2'}"
   ]
  },
  {
   "cell_type": "code",
   "execution_count": 36,
   "metadata": {
    "colab": {
     "base_uri": "https://localhost:8080/"
    },
    "id": "UUlvh-ntpW48",
    "outputId": "649502ef-f731-4ce8-eaef-2270cc338cf3"
   },
   "outputs": [
    {
     "data": {
      "text/plain": [
       "{'key1': 'item1', 'key2': 'item2'}"
      ]
     },
     "execution_count": 36,
     "metadata": {},
     "output_type": "execute_result"
    }
   ],
   "source": [
    "d"
   ]
  },
  {
   "cell_type": "code",
   "execution_count": 37,
   "metadata": {
    "colab": {
     "base_uri": "https://localhost:8080/",
     "height": 36
    },
    "id": "fNMaKi9qpZaE",
    "outputId": "10079a2d-36d6-4e2a-fe20-1212e05a4d0a"
   },
   "outputs": [
    {
     "data": {
      "text/plain": [
       "'item1'"
      ]
     },
     "execution_count": 37,
     "metadata": {},
     "output_type": "execute_result"
    }
   ],
   "source": [
    "d['key1']"
   ]
  },
  {
   "cell_type": "markdown",
   "metadata": {
    "id": "RbESnwJHrMOM"
   },
   "source": [
    "### Booleans"
   ]
  },
  {
   "cell_type": "code",
   "execution_count": 38,
   "metadata": {
    "colab": {
     "base_uri": "https://localhost:8080/"
    },
    "id": "WCOItJMapaX0",
    "outputId": "8cce6a4b-604b-4f82-9c54-3e8f1541c0c7"
   },
   "outputs": [
    {
     "data": {
      "text/plain": [
       "True"
      ]
     },
     "execution_count": 38,
     "metadata": {},
     "output_type": "execute_result"
    }
   ],
   "source": [
    "True"
   ]
  },
  {
   "cell_type": "code",
   "execution_count": 39,
   "metadata": {
    "colab": {
     "base_uri": "https://localhost:8080/"
    },
    "id": "9AfJiAJDpbPV",
    "outputId": "27f73054-79dc-4b4a-d629-bac754f9c10a"
   },
   "outputs": [
    {
     "data": {
      "text/plain": [
       "False"
      ]
     },
     "execution_count": 39,
     "metadata": {},
     "output_type": "execute_result"
    }
   ],
   "source": [
    "False"
   ]
  },
  {
   "cell_type": "markdown",
   "metadata": {
    "id": "lNl-YJiDrOmD"
   },
   "source": [
    "### Tuples"
   ]
  },
  {
   "cell_type": "code",
   "execution_count": 40,
   "metadata": {
    "id": "zNr63GOUpb6E"
   },
   "outputs": [],
   "source": [
    "t=(1,2,3)"
   ]
  },
  {
   "cell_type": "code",
   "execution_count": 41,
   "metadata": {
    "colab": {
     "base_uri": "https://localhost:8080/"
    },
    "id": "2r-1b2NypdRc",
    "outputId": "6e8901f2-efdb-4dcb-84ce-9f24ab64c20a"
   },
   "outputs": [
    {
     "data": {
      "text/plain": [
       "1"
      ]
     },
     "execution_count": 41,
     "metadata": {},
     "output_type": "execute_result"
    }
   ],
   "source": [
    "t[0]"
   ]
  },
  {
   "cell_type": "code",
   "execution_count": 42,
   "metadata": {
    "colab": {
     "base_uri": "https://localhost:8080/",
     "height": 171
    },
    "id": "GaN_kRxwpeIk",
    "outputId": "ed3fc2af-cac3-4f61-8402-3a8cbac1344c"
   },
   "outputs": [
    {
     "ename": "TypeError",
     "evalue": "'tuple' object does not support item assignment",
     "output_type": "error",
     "traceback": [
      "\u001b[0;31m---------------------------------------------------------------------------\u001b[0m",
      "\u001b[0;31mTypeError\u001b[0m                                 Traceback (most recent call last)",
      "Cell \u001b[0;32mIn[42], line 1\u001b[0m\n\u001b[0;32m----> 1\u001b[0m \u001b[43mt\u001b[49m\u001b[43m[\u001b[49m\u001b[38;5;241;43m0\u001b[39;49m\u001b[43m]\u001b[49m \u001b[38;5;241m=\u001b[39m \u001b[38;5;124m'\u001b[39m\u001b[38;5;124mNEW\u001b[39m\u001b[38;5;124m'\u001b[39m\n",
      "\u001b[0;31mTypeError\u001b[0m: 'tuple' object does not support item assignment"
     ]
    }
   ],
   "source": [
    "t[0] = 'NEW'"
   ]
  },
  {
   "cell_type": "markdown",
   "metadata": {
    "id": "4hg3_g71rRbc"
   },
   "source": [
    "### Sets"
   ]
  },
  {
   "cell_type": "code",
   "execution_count": 43,
   "metadata": {
    "colab": {
     "base_uri": "https://localhost:8080/"
    },
    "id": "i2hkbISmpilU",
    "outputId": "6923c64c-3e5f-4036-bd90-59c426b3d784"
   },
   "outputs": [
    {
     "data": {
      "text/plain": [
       "{1, 2, 3}"
      ]
     },
     "execution_count": 43,
     "metadata": {},
     "output_type": "execute_result"
    }
   ],
   "source": [
    "{1,2,3}"
   ]
  },
  {
   "cell_type": "code",
   "execution_count": 44,
   "metadata": {
    "colab": {
     "base_uri": "https://localhost:8080/"
    },
    "id": "zuftKXaOpkuM",
    "outputId": "82379059-e8e1-4e2f-8c74-00fa6debc4e9"
   },
   "outputs": [
    {
     "data": {
      "text/plain": [
       "{1, 2}"
      ]
     },
     "execution_count": 44,
     "metadata": {},
     "output_type": "execute_result"
    }
   ],
   "source": [
    "{1,2,1,2,1,2,1,2,1,2,1,2,1,2,1,2}"
   ]
  },
  {
   "cell_type": "markdown",
   "metadata": {
    "id": "RZGPFYTDrTiT"
   },
   "source": [
    "### Comparison Operators"
   ]
  },
  {
   "cell_type": "code",
   "execution_count": 45,
   "metadata": {
    "colab": {
     "base_uri": "https://localhost:8080/"
    },
    "id": "0o0qwKgDppI9",
    "outputId": "93cf4b98-5672-4bb1-95a3-a246bac800eb"
   },
   "outputs": [
    {
     "data": {
      "text/plain": [
       "False"
      ]
     },
     "execution_count": 45,
     "metadata": {},
     "output_type": "execute_result"
    }
   ],
   "source": [
    "1>2"
   ]
  },
  {
   "cell_type": "code",
   "execution_count": 46,
   "metadata": {
    "colab": {
     "base_uri": "https://localhost:8080/"
    },
    "id": "ERy_P-O-pqwt",
    "outputId": "1f5510d7-7517-4073-fc3b-2f7acb2ec482"
   },
   "outputs": [
    {
     "data": {
      "text/plain": [
       "True"
      ]
     },
     "execution_count": 46,
     "metadata": {},
     "output_type": "execute_result"
    }
   ],
   "source": [
    "1<2"
   ]
  },
  {
   "cell_type": "code",
   "execution_count": 47,
   "metadata": {
    "colab": {
     "base_uri": "https://localhost:8080/"
    },
    "id": "cqxejVYKpsQE",
    "outputId": "0caafca2-9213-48ad-c2f9-a549d701bc95"
   },
   "outputs": [
    {
     "data": {
      "text/plain": [
       "False"
      ]
     },
     "execution_count": 47,
     "metadata": {},
     "output_type": "execute_result"
    }
   ],
   "source": [
    "1>=2"
   ]
  },
  {
   "cell_type": "code",
   "execution_count": 48,
   "metadata": {
    "colab": {
     "base_uri": "https://localhost:8080/"
    },
    "id": "i-1xjtSWpwTl",
    "outputId": "1cd2ebc7-b0a9-4e17-c489-95cc67884b09"
   },
   "outputs": [
    {
     "data": {
      "text/plain": [
       "True"
      ]
     },
     "execution_count": 48,
     "metadata": {},
     "output_type": "execute_result"
    }
   ],
   "source": [
    "1<=4"
   ]
  },
  {
   "cell_type": "code",
   "execution_count": 49,
   "metadata": {
    "colab": {
     "base_uri": "https://localhost:8080/"
    },
    "id": "XR-CDBEGpyUk",
    "outputId": "5316cc86-2a05-401b-bbe7-81eae33de15a"
   },
   "outputs": [
    {
     "data": {
      "text/plain": [
       "True"
      ]
     },
     "execution_count": 49,
     "metadata": {},
     "output_type": "execute_result"
    }
   ],
   "source": [
    "1==1"
   ]
  },
  {
   "cell_type": "markdown",
   "metadata": {
    "id": "YA28lG2nrX5E"
   },
   "source": [
    "### Logic Operators"
   ]
  },
  {
   "cell_type": "code",
   "execution_count": 50,
   "metadata": {
    "colab": {
     "base_uri": "https://localhost:8080/"
    },
    "id": "pcLBKwOxp2fk",
    "outputId": "8838bfc6-4f1e-4129-fb50-8647ada8fe35"
   },
   "outputs": [
    {
     "data": {
      "text/plain": [
       "False"
      ]
     },
     "execution_count": 50,
     "metadata": {},
     "output_type": "execute_result"
    }
   ],
   "source": [
    "'HI'=='BYE'"
   ]
  },
  {
   "cell_type": "code",
   "execution_count": 51,
   "metadata": {
    "colab": {
     "base_uri": "https://localhost:8080/"
    },
    "id": "vXLNeA7Wo--U",
    "outputId": "076008e5-d061-43c0-edd9-f9c45c058fd8"
   },
   "outputs": [
    {
     "data": {
      "text/plain": [
       "False"
      ]
     },
     "execution_count": 51,
     "metadata": {},
     "output_type": "execute_result"
    }
   ],
   "source": [
    "(1>2)and(2<3)"
   ]
  },
  {
   "cell_type": "code",
   "execution_count": 52,
   "metadata": {
    "colab": {
     "base_uri": "https://localhost:8080/"
    },
    "id": "a9sf6_MLp86c",
    "outputId": "834faca1-af3e-4459-c2f0-d3135f1bcae1"
   },
   "outputs": [
    {
     "data": {
      "text/plain": [
       "True"
      ]
     },
     "execution_count": 52,
     "metadata": {},
     "output_type": "execute_result"
    }
   ],
   "source": [
    "(1 > 2) or (2 < 3)"
   ]
  },
  {
   "cell_type": "code",
   "execution_count": 53,
   "metadata": {
    "colab": {
     "base_uri": "https://localhost:8080/"
    },
    "id": "PUzQsiqbqAgF",
    "outputId": "32639c17-8245-4aaa-f121-30bd0026021e"
   },
   "outputs": [
    {
     "data": {
      "text/plain": [
       "True"
      ]
     },
     "execution_count": 53,
     "metadata": {},
     "output_type": "execute_result"
    }
   ],
   "source": [
    "(1 == 2) or (2 == 3) or (4 == 4)"
   ]
  },
  {
   "cell_type": "markdown",
   "metadata": {
    "id": "9Za2TNbmrbiT"
   },
   "source": [
    "If else statements"
   ]
  },
  {
   "cell_type": "code",
   "execution_count": 54,
   "metadata": {
    "colab": {
     "base_uri": "https://localhost:8080/"
    },
    "id": "S0BYTDpWqBzM",
    "outputId": "e9e84e3a-3a0d-4d57-e99a-870abf4e0069"
   },
   "outputs": [
    {
     "name": "stdout",
     "output_type": "stream",
     "text": [
      "Yep!\n"
     ]
    }
   ],
   "source": [
    "if 1 < 2:\n",
    "    print('Yep!')"
   ]
  },
  {
   "cell_type": "code",
   "execution_count": 55,
   "metadata": {
    "colab": {
     "base_uri": "https://localhost:8080/"
    },
    "id": "X1cH5DT5qCv2",
    "outputId": "70783fa3-9a85-48c1-b6fa-0b1bf8ca79ed"
   },
   "outputs": [
    {
     "name": "stdout",
     "output_type": "stream",
     "text": [
      "yep!\n"
     ]
    }
   ],
   "source": [
    "if 1 < 2:\n",
    "    print('yep!')"
   ]
  },
  {
   "cell_type": "code",
   "execution_count": 56,
   "metadata": {
    "colab": {
     "base_uri": "https://localhost:8080/"
    },
    "id": "7CYm2IUYqEKN",
    "outputId": "29728bba-dddc-4c72-ac56-2bac97ed3d06"
   },
   "outputs": [
    {
     "name": "stdout",
     "output_type": "stream",
     "text": [
      "first\n"
     ]
    }
   ],
   "source": [
    "if 1 < 2:\n",
    "    print('first')\n",
    "else:\n",
    "    print('last')"
   ]
  },
  {
   "cell_type": "code",
   "execution_count": 57,
   "metadata": {
    "colab": {
     "base_uri": "https://localhost:8080/"
    },
    "id": "mHZYTmu2qFTH",
    "outputId": "305cb8ed-fcbf-497d-eaeb-7a5fa25506bb"
   },
   "outputs": [
    {
     "name": "stdout",
     "output_type": "stream",
     "text": [
      "last\n"
     ]
    }
   ],
   "source": [
    "if 1 > 2:\n",
    "    print('first')\n",
    "else:\n",
    "    print('last')"
   ]
  },
  {
   "cell_type": "code",
   "execution_count": 58,
   "metadata": {
    "colab": {
     "base_uri": "https://localhost:8080/"
    },
    "id": "ztP8VcdiqGRV",
    "outputId": "41c277a4-2913-4169-9ece-cd3d9322dc38"
   },
   "outputs": [
    {
     "name": "stdout",
     "output_type": "stream",
     "text": [
      "middle\n"
     ]
    }
   ],
   "source": [
    "if 1 == 2:\n",
    "    print('first')\n",
    "elif 3 == 3:\n",
    "    print('middle')\n",
    "else:\n",
    "    print('Last')"
   ]
  },
  {
   "cell_type": "markdown",
   "metadata": {
    "id": "v2haMi2TreqL"
   },
   "source": [
    "### for loops"
   ]
  },
  {
   "cell_type": "code",
   "execution_count": 59,
   "metadata": {
    "id": "a5elKIKCqHVl"
   },
   "outputs": [],
   "source": [
    "seq = [1,2,3,4,5]"
   ]
  },
  {
   "cell_type": "code",
   "execution_count": 60,
   "metadata": {
    "colab": {
     "base_uri": "https://localhost:8080/"
    },
    "id": "SMwvVtunqIIN",
    "outputId": "2d3c9ad4-fe07-477e-fdec-a0c2035e5571"
   },
   "outputs": [
    {
     "name": "stdout",
     "output_type": "stream",
     "text": [
      "1\n",
      "2\n",
      "3\n",
      "4\n",
      "5\n"
     ]
    }
   ],
   "source": [
    "for item in seq:\n",
    "    print(item)"
   ]
  },
  {
   "cell_type": "code",
   "execution_count": 61,
   "metadata": {
    "colab": {
     "base_uri": "https://localhost:8080/"
    },
    "id": "Nc0mMAtyqJGG",
    "outputId": "6f6d7ae4-1de4-462c-e1a9-d2ce2e6b5b4d"
   },
   "outputs": [
    {
     "name": "stdout",
     "output_type": "stream",
     "text": [
      "Yep\n",
      "Yep\n",
      "Yep\n",
      "Yep\n",
      "Yep\n"
     ]
    }
   ],
   "source": [
    "for item in seq:\n",
    "    print('Yep')"
   ]
  },
  {
   "cell_type": "code",
   "execution_count": 62,
   "metadata": {
    "colab": {
     "base_uri": "https://localhost:8080/"
    },
    "id": "oChu-8d0qKK4",
    "outputId": "8d12b6d2-f29e-4d09-dae0-e0d14315f4ec"
   },
   "outputs": [
    {
     "name": "stdout",
     "output_type": "stream",
     "text": [
      "2\n",
      "4\n",
      "6\n",
      "8\n",
      "10\n"
     ]
    }
   ],
   "source": [
    "for jelly in seq:\n",
    "    print(jelly+jelly)"
   ]
  },
  {
   "cell_type": "markdown",
   "metadata": {
    "id": "6DWuUa4Trnd0"
   },
   "source": [
    "### while loops"
   ]
  },
  {
   "cell_type": "code",
   "execution_count": 63,
   "metadata": {
    "colab": {
     "base_uri": "https://localhost:8080/"
    },
    "id": "x1TXiptsqLKN",
    "outputId": "16fb9bde-a5e1-4135-b2fd-236d040242be"
   },
   "outputs": [
    {
     "name": "stdout",
     "output_type": "stream",
     "text": [
      "i is: 1\n",
      "i is: 2\n",
      "i is: 3\n",
      "i is: 4\n"
     ]
    }
   ],
   "source": [
    "i = 1\n",
    "while i < 5:\n",
    "    print('i is: {}'.format(i))\n",
    "    i = i+1"
   ]
  },
  {
   "cell_type": "markdown",
   "metadata": {
    "id": "u7RRUFEqrqWc"
   },
   "source": [
    "### range()"
   ]
  },
  {
   "cell_type": "code",
   "execution_count": 64,
   "metadata": {
    "colab": {
     "base_uri": "https://localhost:8080/"
    },
    "id": "dK9gctG5qMA1",
    "outputId": "a2a90341-1cf6-4061-94e0-8195f5096aa5"
   },
   "outputs": [
    {
     "data": {
      "text/plain": [
       "range(0, 5)"
      ]
     },
     "execution_count": 64,
     "metadata": {},
     "output_type": "execute_result"
    }
   ],
   "source": [
    "range(5)"
   ]
  },
  {
   "cell_type": "code",
   "execution_count": 65,
   "metadata": {
    "colab": {
     "base_uri": "https://localhost:8080/"
    },
    "id": "XrWUWqgdqM9m",
    "outputId": "2640d413-4a02-4384-b295-0f7e356533e8"
   },
   "outputs": [
    {
     "data": {
      "text/plain": [
       "[0, 1, 2, 3, 4]"
      ]
     },
     "execution_count": 65,
     "metadata": {},
     "output_type": "execute_result"
    }
   ],
   "source": [
    "list(range(5))"
   ]
  },
  {
   "cell_type": "markdown",
   "metadata": {
    "id": "did17f29rtP8"
   },
   "source": [
    "### list comprehension"
   ]
  },
  {
   "cell_type": "code",
   "execution_count": 66,
   "metadata": {
    "id": "v2Vfwb1aqNz0"
   },
   "outputs": [],
   "source": [
    "x = [1,2,3,4]"
   ]
  },
  {
   "cell_type": "code",
   "execution_count": 67,
   "metadata": {
    "colab": {
     "base_uri": "https://localhost:8080/"
    },
    "id": "vUIDwfhZqOo8",
    "outputId": "3c1f4c41-9f54-4923-b578-fe253f8e231f"
   },
   "outputs": [
    {
     "name": "stdout",
     "output_type": "stream",
     "text": [
      "[1, 4, 9, 16]\n"
     ]
    }
   ],
   "source": [
    "out = []\n",
    "for item in x:\n",
    "    out.append(item**2)\n",
    "print(out)"
   ]
  },
  {
   "cell_type": "code",
   "execution_count": 68,
   "metadata": {
    "colab": {
     "base_uri": "https://localhost:8080/"
    },
    "id": "mzzlzJ1TqPbN",
    "outputId": "fbcfe4a1-99e6-4ed4-aa8b-711e0d0280d3"
   },
   "outputs": [
    {
     "data": {
      "text/plain": [
       "[1, 4, 9, 16]"
      ]
     },
     "execution_count": 68,
     "metadata": {},
     "output_type": "execute_result"
    }
   ],
   "source": [
    "[item**2 for item in x]"
   ]
  },
  {
   "cell_type": "markdown",
   "metadata": {
    "id": "nYxna64Brv90"
   },
   "source": [
    "### functions"
   ]
  },
  {
   "cell_type": "code",
   "execution_count": 69,
   "metadata": {
    "id": "NRu4TGBNqQQ8"
   },
   "outputs": [],
   "source": [
    "def my_func(param1='default'):\n",
    "    \"\"\"\n",
    "    Docstring goes here.\n",
    "    \"\"\"\n",
    "    print(param1)"
   ]
  },
  {
   "cell_type": "code",
   "execution_count": 70,
   "metadata": {
    "colab": {
     "base_uri": "https://localhost:8080/"
    },
    "id": "JudaIT9MqRRF",
    "outputId": "509fea70-437f-470f-ce63-cf9e8970072e"
   },
   "outputs": [
    {
     "data": {
      "text/plain": [
       "<function __main__.my_func(param1='default')>"
      ]
     },
     "execution_count": 70,
     "metadata": {},
     "output_type": "execute_result"
    }
   ],
   "source": [
    "my_func"
   ]
  },
  {
   "cell_type": "code",
   "execution_count": 71,
   "metadata": {
    "colab": {
     "base_uri": "https://localhost:8080/"
    },
    "id": "CqnMZY6HqSA1",
    "outputId": "8100367f-648c-42be-bc82-856788de44fb"
   },
   "outputs": [
    {
     "name": "stdout",
     "output_type": "stream",
     "text": [
      "default\n"
     ]
    }
   ],
   "source": [
    "my_func()"
   ]
  },
  {
   "cell_type": "code",
   "execution_count": 72,
   "metadata": {
    "colab": {
     "base_uri": "https://localhost:8080/"
    },
    "id": "3BPf19kFqS08",
    "outputId": "eb88ad92-8a73-4372-fbd4-b37922f0c4f6"
   },
   "outputs": [
    {
     "name": "stdout",
     "output_type": "stream",
     "text": [
      "new param\n"
     ]
    }
   ],
   "source": [
    "my_func('new param')"
   ]
  },
  {
   "cell_type": "code",
   "execution_count": 73,
   "metadata": {
    "colab": {
     "base_uri": "https://localhost:8080/"
    },
    "id": "km1Jh2gYqTlt",
    "outputId": "b2a136c2-c442-48a5-afd7-8fcdda8e9556"
   },
   "outputs": [
    {
     "name": "stdout",
     "output_type": "stream",
     "text": [
      "new param\n"
     ]
    }
   ],
   "source": [
    "my_func(param1='new param')"
   ]
  },
  {
   "cell_type": "code",
   "execution_count": 74,
   "metadata": {
    "id": "4ZaxVI5qqU70"
   },
   "outputs": [],
   "source": [
    "def square(x):\n",
    "    return x**2"
   ]
  },
  {
   "cell_type": "code",
   "execution_count": 75,
   "metadata": {
    "id": "lj8yCtH6qVq8"
   },
   "outputs": [],
   "source": [
    "out = square(2)"
   ]
  },
  {
   "cell_type": "code",
   "execution_count": 76,
   "metadata": {
    "colab": {
     "base_uri": "https://localhost:8080/"
    },
    "id": "vasgiDMXqWxs",
    "outputId": "eae59fea-e40f-41d9-a7f1-b69e2c2dbbae"
   },
   "outputs": [
    {
     "name": "stdout",
     "output_type": "stream",
     "text": [
      "4\n"
     ]
    }
   ],
   "source": [
    "print(out)"
   ]
  },
  {
   "cell_type": "code",
   "execution_count": 77,
   "metadata": {
    "id": "J1-DxcbmqXnk"
   },
   "outputs": [],
   "source": [
    "def times2(var):\n",
    "    return var*2"
   ]
  },
  {
   "cell_type": "code",
   "execution_count": 78,
   "metadata": {
    "colab": {
     "base_uri": "https://localhost:8080/"
    },
    "id": "rwpRgQm_qYTV",
    "outputId": "a86b752e-2c85-4962-e63d-0f0e257ee0ed"
   },
   "outputs": [
    {
     "data": {
      "text/plain": [
       "4"
      ]
     },
     "execution_count": 78,
     "metadata": {},
     "output_type": "execute_result"
    }
   ],
   "source": [
    "times2(2)"
   ]
  },
  {
   "cell_type": "markdown",
   "metadata": {
    "id": "uWO4oHH1r14s"
   },
   "source": [
    "### lambda expressions"
   ]
  },
  {
   "cell_type": "code",
   "execution_count": 79,
   "metadata": {
    "colab": {
     "base_uri": "https://localhost:8080/"
    },
    "id": "kk1RvtxtqY_0",
    "outputId": "1a1e5e07-af00-4789-dc4d-d66690794942"
   },
   "outputs": [
    {
     "data": {
      "text/plain": [
       "<function __main__.<lambda>(var)>"
      ]
     },
     "execution_count": 79,
     "metadata": {},
     "output_type": "execute_result"
    }
   ],
   "source": [
    "lambda var: var*2"
   ]
  },
  {
   "cell_type": "code",
   "execution_count": 80,
   "metadata": {
    "id": "Ni8a4hDKqatt"
   },
   "outputs": [],
   "source": [
    "seq = [1,2,3,4,5]"
   ]
  },
  {
   "cell_type": "markdown",
   "metadata": {
    "id": "Xs4Eq_Her5yb"
   },
   "source": [
    "### map and filter"
   ]
  },
  {
   "cell_type": "code",
   "execution_count": 81,
   "metadata": {
    "colab": {
     "base_uri": "https://localhost:8080/"
    },
    "id": "vSCFEFqJqbax",
    "outputId": "c1ce2fdf-d229-4417-b05d-97acd6830693"
   },
   "outputs": [
    {
     "data": {
      "text/plain": [
       "<map at 0x7f483c58d780>"
      ]
     },
     "execution_count": 81,
     "metadata": {},
     "output_type": "execute_result"
    }
   ],
   "source": [
    "map(times2,seq)"
   ]
  },
  {
   "cell_type": "code",
   "execution_count": 82,
   "metadata": {
    "colab": {
     "base_uri": "https://localhost:8080/"
    },
    "id": "UHVyk62nqcgV",
    "outputId": "45887a70-ca97-4c4e-c9ad-c94bab685288"
   },
   "outputs": [
    {
     "data": {
      "text/plain": [
       "[2, 4, 6, 8, 10]"
      ]
     },
     "execution_count": 82,
     "metadata": {},
     "output_type": "execute_result"
    }
   ],
   "source": [
    "list(map(times2,seq))"
   ]
  },
  {
   "cell_type": "code",
   "execution_count": 83,
   "metadata": {
    "colab": {
     "base_uri": "https://localhost:8080/"
    },
    "id": "Q5mg-vO-qdQo",
    "outputId": "aae4f6a0-3c0e-4c70-91e7-a2961cc46054"
   },
   "outputs": [
    {
     "data": {
      "text/plain": [
       "[2, 4, 6, 8, 10]"
      ]
     },
     "execution_count": 83,
     "metadata": {},
     "output_type": "execute_result"
    }
   ],
   "source": [
    "list(map(lambda var: var*2,seq))"
   ]
  },
  {
   "cell_type": "code",
   "execution_count": 84,
   "metadata": {
    "colab": {
     "base_uri": "https://localhost:8080/"
    },
    "id": "VF9x8D02qepF",
    "outputId": "373073aa-6f00-4ddf-ee22-94279092043b"
   },
   "outputs": [
    {
     "data": {
      "text/plain": [
       "<filter at 0x7f483c7d2950>"
      ]
     },
     "execution_count": 84,
     "metadata": {},
     "output_type": "execute_result"
    }
   ],
   "source": [
    "filter(lambda item: item%2 == 0,seq)"
   ]
  },
  {
   "cell_type": "code",
   "execution_count": 85,
   "metadata": {
    "colab": {
     "base_uri": "https://localhost:8080/"
    },
    "id": "uyUvS7HWqfnd",
    "outputId": "1c8251fb-c828-4984-bec8-f2a83562e84a"
   },
   "outputs": [
    {
     "data": {
      "text/plain": [
       "[2, 4]"
      ]
     },
     "execution_count": 85,
     "metadata": {},
     "output_type": "execute_result"
    }
   ],
   "source": [
    "list(filter(lambda item: item%2 == 0,seq))"
   ]
  },
  {
   "cell_type": "markdown",
   "metadata": {
    "id": "C-YebONfr8tM"
   },
   "source": [
    "### methods"
   ]
  },
  {
   "cell_type": "code",
   "execution_count": 86,
   "metadata": {
    "id": "N6vbc7PUqgm9",
    "tags": []
   },
   "outputs": [],
   "source": [
    "st = 'hello my name is Prathamesh'"
   ]
  },
  {
   "cell_type": "code",
   "execution_count": 87,
   "metadata": {
    "colab": {
     "base_uri": "https://localhost:8080/",
     "height": 36
    },
    "id": "QezWZWdMqhbt",
    "outputId": "fdb21523-a0a4-47b5-db0b-a684939071ed",
    "tags": []
   },
   "outputs": [
    {
     "data": {
      "text/plain": [
       "'hello my name is prathamesh'"
      ]
     },
     "execution_count": 87,
     "metadata": {},
     "output_type": "execute_result"
    }
   ],
   "source": [
    "st.lower()"
   ]
  },
  {
   "cell_type": "code",
   "execution_count": 88,
   "metadata": {
    "colab": {
     "base_uri": "https://localhost:8080/",
     "height": 36
    },
    "id": "nICkGO9nqiU1",
    "outputId": "e88870c5-2d5b-4ad1-fd7e-7f7ee02d7c66",
    "tags": []
   },
   "outputs": [
    {
     "data": {
      "text/plain": [
       "'HELLO MY NAME IS PRATHAMESH'"
      ]
     },
     "execution_count": 88,
     "metadata": {},
     "output_type": "execute_result"
    }
   ],
   "source": [
    "st.upper()"
   ]
  },
  {
   "cell_type": "code",
   "execution_count": 89,
   "metadata": {
    "colab": {
     "base_uri": "https://localhost:8080/"
    },
    "id": "QgotCEqEqjY3",
    "outputId": "d1048e79-0b89-47c1-9d21-2e054bce65fa",
    "tags": []
   },
   "outputs": [
    {
     "data": {
      "text/plain": [
       "['hello', 'my', 'name', 'is', 'Prathamesh']"
      ]
     },
     "execution_count": 89,
     "metadata": {},
     "output_type": "execute_result"
    }
   ],
   "source": [
    "st.split()"
   ]
  },
  {
   "cell_type": "code",
   "execution_count": 90,
   "metadata": {
    "id": "rEQep_Z0qkPv",
    "tags": []
   },
   "outputs": [],
   "source": [
    "tweet = 'Go Sports! #Sports'"
   ]
  },
  {
   "cell_type": "code",
   "execution_count": 91,
   "metadata": {
    "colab": {
     "base_uri": "https://localhost:8080/"
    },
    "id": "wxqaRPKKqlDu",
    "outputId": "079cc729-7cd3-40d9-b997-c5a513f988b5",
    "tags": []
   },
   "outputs": [
    {
     "data": {
      "text/plain": [
       "['Go Sports! ', 'Sports']"
      ]
     },
     "execution_count": 91,
     "metadata": {},
     "output_type": "execute_result"
    }
   ],
   "source": [
    "tweet.split('#')"
   ]
  },
  {
   "cell_type": "code",
   "execution_count": 92,
   "metadata": {
    "colab": {
     "base_uri": "https://localhost:8080/",
     "height": 36
    },
    "id": "KjFGepfbql31",
    "outputId": "2b005160-baed-4b2f-8992-1930ede668d4",
    "tags": []
   },
   "outputs": [
    {
     "data": {
      "text/plain": [
       "'Sports'"
      ]
     },
     "execution_count": 92,
     "metadata": {},
     "output_type": "execute_result"
    }
   ],
   "source": [
    "tweet.split('#')[1]"
   ]
  },
  {
   "cell_type": "code",
   "execution_count": 93,
   "metadata": {
    "colab": {
     "base_uri": "https://localhost:8080/"
    },
    "id": "cT1c-Lzzqm-t",
    "outputId": "1a3508aa-6214-44df-ddab-87dcdff412a8",
    "tags": []
   },
   "outputs": [
    {
     "data": {
      "text/plain": [
       "{'key1': 'item1', 'key2': 'item2'}"
      ]
     },
     "execution_count": 93,
     "metadata": {},
     "output_type": "execute_result"
    }
   ],
   "source": [
    "d"
   ]
  },
  {
   "cell_type": "code",
   "execution_count": 94,
   "metadata": {
    "colab": {
     "base_uri": "https://localhost:8080/"
    },
    "id": "HONy3gTUqnq1",
    "outputId": "ffca33df-865b-4624-ae9b-4d30c070b445"
   },
   "outputs": [
    {
     "data": {
      "text/plain": [
       "dict_keys(['key1', 'key2'])"
      ]
     },
     "execution_count": 94,
     "metadata": {},
     "output_type": "execute_result"
    }
   ],
   "source": [
    "d.keys()"
   ]
  },
  {
   "cell_type": "code",
   "execution_count": 95,
   "metadata": {
    "colab": {
     "base_uri": "https://localhost:8080/"
    },
    "id": "6blbyqrcqodO",
    "outputId": "fd0e8bec-68b9-4382-f964-fab13601ca50"
   },
   "outputs": [
    {
     "data": {
      "text/plain": [
       "dict_items([('key1', 'item1'), ('key2', 'item2')])"
      ]
     },
     "execution_count": 95,
     "metadata": {},
     "output_type": "execute_result"
    }
   ],
   "source": [
    "d.items()"
   ]
  },
  {
   "cell_type": "code",
   "execution_count": 96,
   "metadata": {
    "id": "UqB-SVNtqpUV"
   },
   "outputs": [],
   "source": [
    "lst = [1,2,3]"
   ]
  },
  {
   "cell_type": "code",
   "execution_count": 97,
   "metadata": {
    "colab": {
     "base_uri": "https://localhost:8080/"
    },
    "id": "TrQc8aBmqp9n",
    "outputId": "64aa68ad-a677-43e6-8abf-867ddbd0f352"
   },
   "outputs": [
    {
     "data": {
      "text/plain": [
       "3"
      ]
     },
     "execution_count": 97,
     "metadata": {},
     "output_type": "execute_result"
    }
   ],
   "source": [
    "lst.pop()"
   ]
  },
  {
   "cell_type": "code",
   "execution_count": 98,
   "metadata": {
    "colab": {
     "base_uri": "https://localhost:8080/"
    },
    "id": "jDJsA6E3qqwt",
    "outputId": "f1699675-f50e-4f58-9be9-1e6c6452f5b8"
   },
   "outputs": [
    {
     "data": {
      "text/plain": [
       "[1, 2]"
      ]
     },
     "execution_count": 98,
     "metadata": {},
     "output_type": "execute_result"
    }
   ],
   "source": [
    "lst"
   ]
  },
  {
   "cell_type": "code",
   "execution_count": 99,
   "metadata": {
    "colab": {
     "base_uri": "https://localhost:8080/"
    },
    "id": "W0xelYEhqrdF",
    "outputId": "176dcecf-6f13-4612-dfb9-776b0d560f99"
   },
   "outputs": [
    {
     "data": {
      "text/plain": [
       "False"
      ]
     },
     "execution_count": 99,
     "metadata": {},
     "output_type": "execute_result"
    }
   ],
   "source": [
    "'x' in [1,2,3]"
   ]
  },
  {
   "cell_type": "code",
   "execution_count": 100,
   "metadata": {
    "colab": {
     "base_uri": "https://localhost:8080/"
    },
    "id": "xjEDVMPjqsHd",
    "outputId": "005969b9-8847-4f3a-fcf5-38f1b18ee8b1"
   },
   "outputs": [
    {
     "data": {
      "text/plain": [
       "True"
      ]
     },
     "execution_count": 100,
     "metadata": {},
     "output_type": "execute_result"
    }
   ],
   "source": [
    "'x' in ['x','y','z']"
   ]
  },
  {
   "cell_type": "markdown",
   "metadata": {},
   "source": [
    "___\n",
    "\n",
    "*** Python Data Types Exercise\n",
    "\n"
   ]
  },
  {
   "cell_type": "markdown",
   "metadata": {},
   "source": [
    "## Exercises\n",
    "\n"
   ]
  },
  {
   "cell_type": "markdown",
   "metadata": {},
   "source": [
    "** What is 8 to the power of 5?**"
   ]
  },
  {
   "cell_type": "code",
   "execution_count": 101,
   "metadata": {},
   "outputs": [
    {
     "data": {
      "text/plain": [
       "32768"
      ]
     },
     "execution_count": 101,
     "metadata": {},
     "output_type": "execute_result"
    }
   ],
   "source": [
    "8**5"
   ]
  },
  {
   "cell_type": "markdown",
   "metadata": {},
   "source": [
    "** Split this string:**\n",
    "\n",
    "    s = \"Hi there Tushar!\"\n",
    "    \n",
    "**into a list. **"
   ]
  },
  {
   "cell_type": "code",
   "execution_count": 102,
   "metadata": {},
   "outputs": [
    {
     "data": {
      "text/plain": [
       "['Hi', 'this', 'is', 'Prathamesh!']"
      ]
     },
     "execution_count": 102,
     "metadata": {},
     "output_type": "execute_result"
    }
   ],
   "source": [
    "s = \"Hi this is Prathamesh!\"\n",
    "s.split()"
   ]
  },
  {
   "cell_type": "markdown",
   "metadata": {},
   "source": [
    "** Given the variables:**\n",
    "\n",
    "    planet = \"Mars\"\n",
    "    diameter = 15742\n",
    "\n",
    "** Use .format() to print the following string: **\n",
    "\n",
    "    The diameter of Mars is 15742 kilometers."
   ]
  },
  {
   "cell_type": "code",
   "execution_count": 103,
   "metadata": {},
   "outputs": [
    {
     "name": "stdout",
     "output_type": "stream",
     "text": [
      "The diameter of Mars is 15742 kilometers.\n"
     ]
    }
   ],
   "source": [
    "planet = \"Mars\"\n",
    "diameter = 15742\n",
    "print(f'The diameter of {planet} is {diameter} kilometers.')"
   ]
  },
  {
   "cell_type": "markdown",
   "metadata": {},
   "source": [
    "** Given this nested list, use indexing to grab the word \"hii\" **"
   ]
  },
  {
   "cell_type": "code",
   "execution_count": 104,
   "metadata": {},
   "outputs": [],
   "source": [
    "lst = [1,2,[3,4],[5,[100,200,['hii']],23,11],10,7]"
   ]
  },
  {
   "cell_type": "code",
   "execution_count": 105,
   "metadata": {},
   "outputs": [],
   "source": [
    "d = {'k1':[1,2,3,{'tricky':['OK','woman','deception',{'Rule':[1,2,3,'hii']}]}]}"
   ]
  },
  {
   "cell_type": "code",
   "execution_count": 106,
   "metadata": {},
   "outputs": [
    {
     "data": {
      "text/plain": [
       "'hii'"
      ]
     },
     "execution_count": 106,
     "metadata": {},
     "output_type": "execute_result"
    }
   ],
   "source": [
    "d['k1'][3]['tricky'][3]['Rule'][3]"
   ]
  },
  {
   "cell_type": "markdown",
   "metadata": {},
   "source": [
    "** What is the main difference between a tuple and a list? **"
   ]
  },
  {
   "cell_type": "markdown",
   "metadata": {},
   "source": [
    "The main difference between a tuple and a list is that a tuple is immutable while list is mutable."
   ]
  },
  {
   "cell_type": "markdown",
   "metadata": {},
   "source": [
    "** Create a function that grabs the email website domain from a string in the form: **\n",
    "\n",
    "   tushar@ves.ac.in\n",
    "    \n",
    "**So for example, passing \"tushar@ves.ac.in\" would return: ves.ac.in**"
   ]
  },
  {
   "cell_type": "code",
   "execution_count": 107,
   "metadata": {},
   "outputs": [
    {
     "data": {
      "text/plain": [
       "'ves.ac.in'"
      ]
     },
     "execution_count": 107,
     "metadata": {},
     "output_type": "execute_result"
    }
   ],
   "source": [
    "def getDomain(email:str):return email.split(\"@\")[1]\n",
    "getDomain(\"2022.prathamesh.ingale@ves.ac.in\")"
   ]
  },
  {
   "cell_type": "markdown",
   "metadata": {},
   "source": [
    "** Create a basic function that returns True if the word 'cat' is contained in the input string.  Do account for capitalization. **"
   ]
  },
  {
   "cell_type": "code",
   "execution_count": 108,
   "metadata": {},
   "outputs": [],
   "source": [
    "def findcat(string:str):\n",
    "  return string.find('cat')!=-1"
   ]
  },
  {
   "cell_type": "code",
   "execution_count": 109,
   "metadata": {},
   "outputs": [
    {
     "data": {
      "text/plain": [
       "True"
      ]
     },
     "execution_count": 109,
     "metadata": {},
     "output_type": "execute_result"
    }
   ],
   "source": [
    "findcat('Is there a cat here?')"
   ]
  },
  {
   "cell_type": "markdown",
   "metadata": {},
   "source": [
    "** Create a function that counts the number of times the word \"cat\" occurs in a string. Again ignore edge cases. **"
   ]
  },
  {
   "cell_type": "code",
   "execution_count": 110,
   "metadata": {},
   "outputs": [],
   "source": [
    "def countDog(string:str):\n",
    "  count=0\n",
    "  for x in string.split():\n",
    "    if len(x)>=3 and x[:3]=='cat':\n",
    "      count+=1\n",
    "  return count"
   ]
  },
  {
   "cell_type": "code",
   "execution_count": 111,
   "metadata": {},
   "outputs": [
    {
     "data": {
      "text/plain": [
       "2"
      ]
     },
     "execution_count": 111,
     "metadata": {},
     "output_type": "execute_result"
    }
   ],
   "source": [
    "countDog('This cat runs faster than the other cats dude!')"
   ]
  },
  {
   "cell_type": "markdown",
   "metadata": {},
   "source": [
    "** Use lambda expressions and the filter() function to filter out words from a list that don't start with the letter 's'. For example:**\n",
    "\n",
    "    seq = ['soup','dog','salad','cat','great']\n",
    "\n",
    "**should be filtered down to:**\n",
    "\n",
    "    ['soup','salad']"
   ]
  },
  {
   "cell_type": "code",
   "execution_count": 112,
   "metadata": {},
   "outputs": [],
   "source": [
    "seq = ['soup','dog','salad','cat','great']"
   ]
  },
  {
   "cell_type": "code",
   "execution_count": 113,
   "metadata": {},
   "outputs": [
    {
     "data": {
      "text/plain": [
       "['soup', 'salad']"
      ]
     },
     "execution_count": 113,
     "metadata": {},
     "output_type": "execute_result"
    }
   ],
   "source": [
    "list(filter(lambda item: item in ['soup','salad'],seq))"
   ]
  },
  {
   "cell_type": "markdown",
   "metadata": {},
   "source": [
    "### Final Problem\n",
    "**You are driving a little too fast, and a police officer stops you. Write a function\n",
    "  to return one of 3 possible results: \"No ticket\", \"Small ticket\", or \"Big Ticket\". \n",
    "  If your speed is 60 or less, the result is \"No Ticket\". If speed is between 61 \n",
    "  and 80 inclusive, the result is \"Small Ticket\". If speed is 81 or more, the result is \"Big    Ticket\". Unless it is your birthday (encoded as a boolean value in the parameters of the function) -- on your birthday, your speed can be 5 higher in all \n",
    "  cases. **"
   ]
  },
  {
   "cell_type": "code",
   "execution_count": 114,
   "metadata": {},
   "outputs": [],
   "source": [
    "def caught_speeding(speed, is_birthday):\n",
    "  if (is_birthday):\n",
    "    speed-=5\n",
    "  if (speed<=60):\n",
    "    return \"No Ticket\"\n",
    "  if (speed<=80):\n",
    "    return \"Small Ticket\"\n",
    "  return \"Big Ticket\""
   ]
  },
  {
   "cell_type": "code",
   "execution_count": 115,
   "metadata": {},
   "outputs": [
    {
     "data": {
      "text/plain": [
       "'Small Ticket'"
      ]
     },
     "execution_count": 115,
     "metadata": {},
     "output_type": "execute_result"
    }
   ],
   "source": [
    "caught_speeding(81,True)"
   ]
  },
  {
   "cell_type": "code",
   "execution_count": 116,
   "metadata": {},
   "outputs": [
    {
     "data": {
      "text/plain": [
       "'Big Ticket'"
      ]
     },
     "execution_count": 116,
     "metadata": {},
     "output_type": "execute_result"
    }
   ],
   "source": [
    "caught_speeding(81,False)"
   ]
  },
  {
   "cell_type": "markdown",
   "metadata": {},
   "source": [
    "#### Questions"
   ]
  },
  {
   "cell_type": "markdown",
   "metadata": {},
   "source": [
    "1. Write a program to find a number is odd or even"
   ]
  },
  {
   "cell_type": "code",
   "execution_count": 117,
   "metadata": {},
   "outputs": [
    {
     "name": "stdout",
     "output_type": "stream",
     "text": [
      "Even\n",
      "Odd\n"
     ]
    }
   ],
   "source": [
    "def oddOrEven(n:int):\n",
    "  return \"Even\" if n%2==0 else \"Odd\"\n",
    "print(oddOrEven(6))\n",
    "print(oddOrEven(7))"
   ]
  },
  {
   "cell_type": "markdown",
   "metadata": {},
   "source": [
    "2. to find if a number is prime or not"
   ]
  },
  {
   "cell_type": "code",
   "execution_count": 118,
   "metadata": {},
   "outputs": [],
   "source": [
    "def isPrime(n:int):\n",
    "  comp = \"Composite\"\n",
    "  if n%2==0: return comp\n",
    "  for i in range(3,n//2,2):\n",
    "    if n%i==0: return comp\n",
    "  return \"Prime\""
   ]
  },
  {
   "cell_type": "code",
   "execution_count": 119,
   "metadata": {},
   "outputs": [
    {
     "name": "stdout",
     "output_type": "stream",
     "text": [
      "Prime\n",
      "Composite\n"
     ]
    }
   ],
   "source": [
    "print(isPrime(97))\n",
    "print(isPrime(27))"
   ]
  },
  {
   "cell_type": "markdown",
   "metadata": {},
   "source": [
    "3. triangle/pyramid pattern"
   ]
  },
  {
   "cell_type": "code",
   "execution_count": 120,
   "metadata": {},
   "outputs": [
    {
     "name": "stdout",
     "output_type": "stream",
     "text": [
      "*\n",
      "**\n",
      "***\n",
      "****\n",
      "*****\n",
      "******\n",
      "*******\n",
      "********\n",
      "*********\n"
     ]
    }
   ],
   "source": [
    "def triangle(n:int=5):\n",
    "  for i in range(1,n+1):\n",
    "    print(\"*\"*i)\n",
    "triangle(9)"
   ]
  },
  {
   "cell_type": "code",
   "execution_count": 121,
   "metadata": {},
   "outputs": [
    {
     "name": "stdout",
     "output_type": "stream",
     "text": [
      "    * \n",
      "   * * \n",
      "  * * * \n",
      " * * * * \n",
      "* * * * * \n"
     ]
    }
   ],
   "source": [
    "def pyramid(n:int=5):\n",
    "  for i in range(1,n+1):\n",
    "    print(\" \"*(n-i)+\"* \"*i)\n",
    "pyramid(5)"
   ]
  },
  {
   "cell_type": "code",
   "execution_count": 122,
   "metadata": {},
   "outputs": [
    {
     "name": "stdout",
     "output_type": "stream",
     "text": [
      "    *\n",
      "   **\n",
      "  ***\n",
      " ****\n",
      "*****\n"
     ]
    }
   ],
   "source": [
    "def opposite_triangle(n:int=5):\n",
    "  for i in range(1,n+1):\n",
    "    print(\" \"*(n-i)+\"*\"*i)\n",
    "opposite_triangle(5)"
   ]
  },
  {
   "cell_type": "markdown",
   "metadata": {},
   "source": [
    "4. factorial"
   ]
  },
  {
   "cell_type": "code",
   "execution_count": 123,
   "metadata": {},
   "outputs": [
    {
     "data": {
      "text/plain": [
       "120"
      ]
     },
     "execution_count": 123,
     "metadata": {},
     "output_type": "execute_result"
    }
   ],
   "source": [
    "def fact(num:int):return 1 if num<=1 else num*fact(num-1)\n",
    "fact(5)"
   ]
  },
  {
   "cell_type": "markdown",
   "metadata": {},
   "source": [
    "5. largest of n"
   ]
  },
  {
   "cell_type": "code",
   "execution_count": 124,
   "metadata": {},
   "outputs": [
    {
     "data": {
      "text/plain": [
       "78"
      ]
     },
     "execution_count": 124,
     "metadata": {},
     "output_type": "execute_result"
    }
   ],
   "source": [
    "def largest(seq):return max(seq)\n",
    "largest([9,78,45,23])"
   ]
  },
  {
   "cell_type": "markdown",
   "metadata": {},
   "source": [
    "6. sum of digits"
   ]
  },
  {
   "cell_type": "code",
   "execution_count": 125,
   "metadata": {},
   "outputs": [
    {
     "data": {
      "text/plain": [
       "15"
      ]
     },
     "execution_count": 125,
     "metadata": {},
     "output_type": "execute_result"
    }
   ],
   "source": [
    "def add_all(*num):\n",
    "  sum=0\n",
    "  for number in num:sum+=number\n",
    "  return sum\n",
    "add_all(1,2,3,4,5)"
   ]
  },
  {
   "cell_type": "markdown",
   "metadata": {},
   "source": [
    "7. Calculator"
   ]
  },
  {
   "cell_type": "code",
   "execution_count": 126,
   "metadata": {},
   "outputs": [
    {
     "name": "stdout",
     "output_type": "stream",
     "text": [
      "Sum is  11\n",
      "Difference is  -1\n",
      "Product is  30\n",
      "Quotient is  0.8333333333333334\n",
      "Remainder is  5\n"
     ]
    }
   ],
   "source": [
    "class Calculator:\n",
    "  def add(self,*nums):\n",
    "    sum=0\n",
    "    for number in nums:\n",
    "      sum+=number\n",
    "    return sum\n",
    "  def subtract(self,num_a,num_b):return num_a-num_b\n",
    "  def multiply(self,num_a,num_b):return num_a*num_b\n",
    "  def divide(self,num_a,num_b):return num_a/num_b\n",
    "  def mod(self,num_a,num_b):return num_a%num_b\n",
    "calc = Calculator()\n",
    "a,b=5,6\n",
    "print(\"Sum is \",calc.add(a,b))\n",
    "print(\"Difference is \",calc.subtract(a,b))\n",
    "print(\"Product is \",calc.multiply(a,b))\n",
    "print(\"Quotient is \",calc.divide(a,b))\n",
    "print(\"Remainder is \",calc.mod(a,b))"
   ]
  },
  {
   "cell_type": "markdown",
   "metadata": {},
   "source": [
    "8. gross salary"
   ]
  },
  {
   "cell_type": "code",
   "execution_count": 127,
   "metadata": {},
   "outputs": [
    {
     "name": "stdin",
     "output_type": "stream",
     "text": [
      "Basic:  2500\n",
      "Dearness Allowance:  500\n",
      "House Rent Allowance:  600\n"
     ]
    },
    {
     "name": "stdout",
     "output_type": "stream",
     "text": [
      "Salary:  3600\n"
     ]
    }
   ],
   "source": [
    "def gross_salary(basic=0,da=0,hra=0):return basic+da+hra\n",
    "\n",
    "print(\"Salary: \",gross_salary(int(input(\"Basic: \")),int(input(\"Dearness Allowance: \")),int(input(\"House Rent Allowance: \"))))"
   ]
  },
  {
   "cell_type": "markdown",
   "metadata": {},
   "source": [
    "9. fibonacci"
   ]
  },
  {
   "cell_type": "code",
   "execution_count": 128,
   "metadata": {},
   "outputs": [
    {
     "name": "stdin",
     "output_type": "stream",
     "text": [
      "Enter the number of fibonaci numbers you want:  10\n"
     ]
    },
    {
     "name": "stdout",
     "output_type": "stream",
     "text": [
      "0, 1, 1, 2, 3, 5, 8, 13, 21, 34\n"
     ]
    }
   ],
   "source": [
    "def fibonacci(n):return n if n<=1 else (fibonacci(n-1)+fibonacci(n-2))\n",
    "print(*list(map(fibonacci,range(int(input(\"Enter the number of fibonaci numbers you want: \"))))),sep=\", \")"
   ]
  },
  {
   "cell_type": "markdown",
   "metadata": {},
   "source": [
    "10.  first n prime numbers"
   ]
  },
  {
   "cell_type": "code",
   "execution_count": 129,
   "metadata": {
    "tags": []
   },
   "outputs": [
    {
     "name": "stdin",
     "output_type": "stream",
     "text": [
      "How many primes do you want:  10\n"
     ]
    },
    {
     "name": "stdout",
     "output_type": "stream",
     "text": [
      "2 3 5 7 11 13 17 19 23 29\n"
     ]
    }
   ],
   "source": [
    "def findPrime(N):\n",
    "    primes = [2]\n",
    "    num = 3\n",
    "    while len(primes) < N:\n",
    "        is_prime = True\n",
    "        for prime in primes:\n",
    "            if num % prime == 0:\n",
    "                is_prime = False\n",
    "                break\n",
    "        if is_prime:\n",
    "            primes.append(num)\n",
    "        num += 2\n",
    "    return primes\n",
    "print(*findPrime(int(input(\"How many primes do you want: \"))))\n"
   ]
  },
  {
   "cell_type": "markdown",
   "metadata": {},
   "source": [
    "Conclusion:\n",
    "I have successfully implemented the python basics"
   ]
  }
 ],
 "metadata": {
  "colab": {
   "provenance": [],
   "toc_visible": true
  },
  "kernelspec": {
   "display_name": "Python 3 (ipykernel)",
   "language": "python",
   "name": "python3"
  },
  "language_info": {
   "codemirror_mode": {
    "name": "ipython",
    "version": 3
   },
   "file_extension": ".py",
   "mimetype": "text/x-python",
   "name": "python",
   "nbconvert_exporter": "python",
   "pygments_lexer": "ipython3",
   "version": "3.10.4"
  }
 },
 "nbformat": 4,
 "nbformat_minor": 4
}
