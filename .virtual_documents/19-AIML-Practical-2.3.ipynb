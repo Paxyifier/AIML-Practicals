import matplotlib.pyplot as plt


get_ipython().run_line_magic("matplotlib", " inline")


import numpy as np


x = np.linspace(0,5,11)
y = x**2


x


y


plt.plot(x,y,'r')
plt.xlabel('X axis')
plt.ylabel('Y axis')
plt.title('Plotting data with matplotlib')
# plt.grid(axis='x')
plt.grid()
plt.show()


plt.subplot(1,3,1)
plt.plot(x,y,'r--') 
plt.subplot(1,3,2)
plt.grid(color='blue',linestyle='--', linewidth=0.5)
plt.plot(y,x,'g*--')
plt.subplot(1,3,3)
plt.plot(y,y,'m.-.');


plt.scatter(x,y);


plt.bar(x,y);


x = np.random.normal(120,20,350)



