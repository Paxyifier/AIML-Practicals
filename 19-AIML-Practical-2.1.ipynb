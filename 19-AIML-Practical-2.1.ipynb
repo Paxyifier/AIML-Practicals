{
 "cells": [
  {
   "attachments": {},
   "cell_type": "markdown",
   "id": "e843d44d-e3fe-4270-a7ef-0881aa64cf66",
   "metadata": {
    "tags": []
   },
   "source": [
    "Prathamesh Ingale"
   ]
  },
  {
   "attachments": {},
   "cell_type": "markdown",
   "id": "1f022aeb-03cd-4d40-958c-3c7ef8e455e9",
   "metadata": {
    "tags": []
   },
   "source": [
    "# Practical 2"
   ]
  },
  {
   "attachments": {},
   "cell_type": "markdown",
   "id": "851fdf0d-83b5-41ae-aaae-4c94326600d2",
   "metadata": {
    "tags": []
   },
   "source": [
    "## Aim: \n",
    "Introduction to Python Programming: Learn the different libraries - NumPy, Pandas, SciPy, Matplotlib, Scikit Learn"
   ]
  },
  {
   "attachments": {},
   "cell_type": "markdown",
   "id": "6650e949-6ad0-4d6e-8c59-6d903f972bf1",
   "metadata": {
    "tags": []
   },
   "source": [
    "## Theory:"
   ]
  },
  {
   "attachments": {},
   "cell_type": "markdown",
   "id": "decea104-c9f4-4df5-a3c3-1af62f0da4d4",
   "metadata": {
    "tags": []
   },
   "source": [
    "### Numpy:\n",
    "Numpy is a powerful numerical computing library for Python. It provides a high-performance multidimensional array object, as well as tools for working with these arrays. Numpy is widely used in the fields of data science, machine learning, and scientific computing, among others.\n",
    "\n",
    "One of the primary features of Numpy is its ndarray (n-dimensional array) object. An ndarray is a homogeneous container for storing and manipulating large arrays of data, where each element has the same data type. These arrays can be of any dimensionality, from one-dimensional vectors to multi-dimensional matrices and tensors.\n",
    "\n",
    "Numpy provides a rich set of functions for creating, manipulating, and performing mathematical operations on ndarrays. For example, ndarrays can be created using methods like np.array(), np.zeros(), and np.ones(). Arithmetic operations can be performed element-wise on ndarrays, and mathematical functions like np.sin(), np.cos(), and np.exp() can be applied to the elements of an array.\n",
    "\n",
    "Numpy also includes tools for advanced indexing and slicing of ndarrays. Elements of an ndarray can be accessed and modified using indexing and slicing syntax, similar to that used for Python lists. However, Numpy allows for more advanced indexing techniques, such as integer and boolean indexing, and slicing with arbitrary step sizes.\n",
    "\n",
    "Another key feature of Numpy is its ability to interface with other numerical computing libraries and languages, such as MATLAB and C. This makes it a popular choice for scientific computing and research, as it can be easily integrated into existing workflows and systems.\n",
    "\n",
    "Overall, Numpy is a powerful and versatile library for numerical computing in Python, providing a comprehensive set of tools for manipulating and analyzing large arrays of data."
   ]
  },
  {
   "attachments": {},
   "cell_type": "markdown",
   "id": "5e10e156-34a1-43c7-a169-f3823b81cf98",
   "metadata": {
    "tags": []
   },
   "source": [
    "#### Few Methods in Numpy: \n",
    "\n",
    "1. array: The array method in numpy is used to create a multi-dimensional array. The method takes a Python list or tuple as input and converts it into a numpy array object. It can also take other array-like objects, such as pandas dataframes and lists of lists. The numpy array is a homogeneous data structure, meaning it can only contain elements of the same data type. This method is a fundamental tool for many numpy operations.\n",
    "\n",
    "1. arange: The arange method is used to create a one-dimensional numpy array with a sequence of numbers. It works similarly to the built-in range function in Python. The method takes three arguments: start, stop, and step. The start argument is the first number in the sequence, stop is the last number in the sequence (not inclusive), and step is the spacing between the numbers in the sequence. If only one argument is provided, then it is interpreted as stop, and the default values for start and step are 0 and 1, respectively.\n",
    "\n",
    "1. Ones and zeros: The ones and zeros methods in numpy are used to create arrays filled with either 0s or 1s, respectively. The methods take a shape tuple as input, which specifies the dimensions of the resulting array. For example, np.zeros((2,3)) creates a 2x3 array filled with 0s, while np.ones((3,3,3)) creates a 3x3x3 array filled with 1s.\n",
    "\n",
    "1. linspace: The linspace method is used to create a one-dimensional numpy array with a specified number of evenly spaced numbers within a given interval. The method takes three arguments: start, stop, and num. The start argument is the first number in the sequence, stop is the last number in the sequence (inclusive), and num is the number of evenly spaced numbers in the sequence.\n",
    "\n",
    "1. random: The random module in numpy provides a variety of methods for generating random numbers and arrays. Some of the most commonly used methods include random.rand, which generates a random array of a specified shape filled with numbers between 0 and 1, and random.randn, which generates a random array of a specified shape filled with numbers sampled from a standard normal distribution.\n",
    "\n",
    "1. randint: The randint method in numpy is used to generate a random integer within a specified range. The method takes two arguments: low and high, which represent the lower and upper bounds of the range, respectively. If only one argument is provided, then it is interpreted as high, and the default value for low is 0.\n",
    "\n",
    "1. randn: The randn method in numpy is used to generate a random array of a specified shape filled with numbers sampled from a standard normal distribution (i.e., a Gaussian distribution with mean 0 and variance 1).\n",
    "\n",
    "1. reshape: The reshape method is used to change the shape of an existing numpy array. The method takes a shape tuple as input, which specifies the new dimensions of the array. The total number of elements in the new shape must be equal to the total number of elements in the original shape.\n",
    "\n",
    "1. min, max, argmin, and argmax: The min, max, argmin, and argmax methods in numpy are used to find the minimum and maximum values in an array, as well as the indices ofthe minimum and maximum values. The min and max methods return the minimum and maximum values in the array, respectively. The argmin and argmax methods return the indices of the minimum and maximum values in the array, respectively.\n",
    "\n",
    "1. Difference between min/max and argmin/argmax: The main difference between min/max and argmin/argmax is that the former return the actual minimum/maximum value(s) in the array, while the latter return the index/indices of the minimum/maximum value(s). In other words, min and max return a scalar value, while argmin and argmax return an integer or array of integers.\n",
    "\n",
    "1. dtype: The dtype attribute in numpy is used to specify the data type of the elements in an array. The most common data types in numpy include int, float, bool, and string. The data type of an array can be specified when the array is created using the dtype argument, or it can be changed using the astype method. The dtype attribute can be used to access the data type of an existing array."
   ]
  },
  {
   "attachments": {},
   "cell_type": "markdown",
   "id": "a663442a-f1e4-484b-92d7-40253d4ac454",
   "metadata": {
    "tags": []
   },
   "source": [
    "#### Brackets indexing and selection of elements\n",
    "Bracket indexing and selection is a way to access and manipulate individual elements and subsets of elements in a NumPy array. Using bracket indexing, you can access individual elements of a one-dimensional or multidimensional array by specifying the index of the element within square brackets. If you want to select a subset of elements, you can use slicing notation with a colon to specify the range of indices to include.\n",
    "\n",
    "When working with multidimensional arrays, you can use multiple indices separated by commas within the square brackets to access specific elements or subsets of elements. For example, to access the element in the second row and third column of a 2D array, you would use the indices \\[1, 2\\]. To select a subset of elements from the first two rows and the first two columns of the same array, you could use the slicing notation \\[:2, :2\\].\n",
    "\n",
    "Bracket indexing and selection can be used to modify the values of elements within a NumPy array. By assigning a new value to a specific element or subset of elements, you can update the values stored in the array. This makes it possible to perform in-place modifications to the array, without having to create a new array and copy over values.\n",
    "\n",
    "Overall, bracket indexing and selection is a powerful feature in NumPy that allows you to manipulate individual elements and subsets of elements in a NumPy array with ease."
   ]
  },
  {
   "attachments": {},
   "cell_type": "markdown",
   "id": "198bc9cd-3988-47ef-bfde-659c6e0e1af4",
   "metadata": {
    "tags": []
   },
   "source": [
    "#### Broadcasting\n",
    "Broadcasting in NumPy is a powerful mechanism that allows for element-wise operations on arrays of different shapes and sizes. When two arrays are broadcast-compatible, NumPy will automatically perform the necessary transformations to make the operation possible.\n",
    "\n",
    "The broadcasting rules in NumPy are as follows:\n",
    "\n",
    "If the arrays do not have the same number of dimensions, NumPy will add dimensions to the smaller array until they match. For example, if you have a 1D array and a 2D array, NumPy will add a new axis to the 1D array to make it a 2D array that can be broadcast with the other array.\n",
    "\n",
    "If the arrays have different sizes in a particular dimension, NumPy will stretch the smaller array along that dimension to match the larger array. For example, if you have a 2D array with shape (3, 4) and a 1D array with shape (4,), NumPy will stretch the 1D array along the first dimension to make it a 2D array with shape (3, 4) that can be broadcast with the other array.\n",
    "\n",
    "If the arrays have different sizes in a particular dimension and neither size is equal to 1, NumPy will raise a \"ValueError: frames are not aligned\" error.\n",
    " \n",
    "Broadcasting in NumPy can be a powerful tool for working with arrays of different shapes and sizes. By understanding the broadcasting rules and how they work, you can take advantage of this feature to write more concise and efficient code when working with NumPy arrays."
   ]
  },
  {
   "attachments": {},
   "cell_type": "markdown",
   "id": "28aaefa0-c11a-4f22-9ba3-76ca0230c1d1",
   "metadata": {},
   "source": [
    "## Practical"
   ]
  },
  {
   "cell_type": "code",
   "execution_count": 1,
   "id": "11973113-48d2-46e0-9f30-b4057680e6f0",
   "metadata": {
    "tags": []
   },
   "outputs": [
    {
     "name": "stdout",
     "output_type": "stream",
     "text": [
      "Defaulting to user installation because normal site-packages is not writeable\n",
      "Requirement already satisfied: numpy in /home/paxy/.local/lib/python3.11/site-packages (1.24.2)\n"
     ]
    }
   ],
   "source": [
    "!pip install numpy"
   ]
  },
  {
   "cell_type": "code",
   "execution_count": 2,
   "id": "e5202fe3-0202-4efc-b761-dd7450da3b05",
   "metadata": {
    "tags": []
   },
   "outputs": [],
   "source": [
    "import numpy as np"
   ]
  },
  {
   "cell_type": "code",
   "execution_count": 3,
   "id": "92bfe276-dc56-4c93-a64f-3787a5dc22c7",
   "metadata": {},
   "outputs": [
    {
     "data": {
      "text/plain": [
       "[1, 2, 3]"
      ]
     },
     "execution_count": 3,
     "metadata": {},
     "output_type": "execute_result"
    }
   ],
   "source": [
    "my_list = [1,2,3]\n",
    "my_list"
   ]
  },
  {
   "cell_type": "code",
   "execution_count": 4,
   "id": "39e019cc-f95d-41a6-84d5-a56a67e0d798",
   "metadata": {},
   "outputs": [
    {
     "data": {
      "text/plain": [
       "array([1, 2, 3])"
      ]
     },
     "execution_count": 4,
     "metadata": {},
     "output_type": "execute_result"
    }
   ],
   "source": [
    "np.array(my_list)"
   ]
  },
  {
   "cell_type": "code",
   "execution_count": 5,
   "id": "9d55acde-afd0-4a00-870f-c479c7dcbeac",
   "metadata": {},
   "outputs": [
    {
     "data": {
      "text/plain": [
       "[[1, 2, 3], [4, 5, 6], [7, 8, 9]]"
      ]
     },
     "execution_count": 5,
     "metadata": {},
     "output_type": "execute_result"
    }
   ],
   "source": [
    "my_matrix=[[1,2,3],[4,5,6],[7,8,9]]\n",
    "my_matrix"
   ]
  },
  {
   "cell_type": "code",
   "execution_count": 6,
   "id": "dd7a5c81-6b77-477f-bdac-3987570ce8e0",
   "metadata": {},
   "outputs": [
    {
     "data": {
      "text/plain": [
       "array([[1, 2, 3],\n",
       "       [4, 5, 6],\n",
       "       [7, 8, 9]])"
      ]
     },
     "execution_count": 6,
     "metadata": {},
     "output_type": "execute_result"
    }
   ],
   "source": [
    "np.array(my_matrix)"
   ]
  },
  {
   "attachments": {},
   "cell_type": "markdown",
   "id": "7cfc7c63-6809-4768-8f88-720f97446ca4",
   "metadata": {},
   "source": [
    "### Built in Methods"
   ]
  },
  {
   "attachments": {},
   "cell_type": "markdown",
   "id": "376b0a74-9c04-4282-888e-6bec8d9a9ed0",
   "metadata": {},
   "source": [
    "arange"
   ]
  },
  {
   "cell_type": "code",
   "execution_count": 7,
   "id": "128b0f06-d52a-4a5e-bc9f-7382599a5931",
   "metadata": {},
   "outputs": [
    {
     "data": {
      "text/plain": [
       "array([0, 1, 2, 3, 4, 5, 6, 7, 8, 9])"
      ]
     },
     "execution_count": 7,
     "metadata": {},
     "output_type": "execute_result"
    }
   ],
   "source": [
    "np.arange(0,10)"
   ]
  },
  {
   "cell_type": "code",
   "execution_count": 8,
   "id": "846eb092-074f-40d4-8f59-40a255b0afe6",
   "metadata": {},
   "outputs": [
    {
     "data": {
      "text/plain": [
       "array([ 0,  2,  4,  6,  8, 10])"
      ]
     },
     "execution_count": 8,
     "metadata": {},
     "output_type": "execute_result"
    }
   ],
   "source": [
    "np.arange(0,11,2)"
   ]
  },
  {
   "attachments": {},
   "cell_type": "markdown",
   "id": "003589ff-3e63-4481-83f5-c8b111f2419c",
   "metadata": {},
   "source": [
    "Zeros and Ones"
   ]
  },
  {
   "cell_type": "code",
   "execution_count": 9,
   "id": "8f326041-f0be-4ba9-8dde-18142c1abbb1",
   "metadata": {},
   "outputs": [
    {
     "data": {
      "text/plain": [
       "array([0., 0., 0.])"
      ]
     },
     "execution_count": 9,
     "metadata": {},
     "output_type": "execute_result"
    }
   ],
   "source": [
    "np.zeros(3)"
   ]
  },
  {
   "cell_type": "code",
   "execution_count": 10,
   "id": "c7b7b1be-8d30-4876-8ba7-0917624ba723",
   "metadata": {},
   "outputs": [
    {
     "data": {
      "text/plain": [
       "array([[0., 0., 0., 0., 0.],\n",
       "       [0., 0., 0., 0., 0.],\n",
       "       [0., 0., 0., 0., 0.],\n",
       "       [0., 0., 0., 0., 0.],\n",
       "       [0., 0., 0., 0., 0.]])"
      ]
     },
     "execution_count": 10,
     "metadata": {},
     "output_type": "execute_result"
    }
   ],
   "source": [
    "np.zeros((5,5))"
   ]
  },
  {
   "cell_type": "code",
   "execution_count": 11,
   "id": "1a7327d3-dd99-47cf-95b3-57c4e895c5f6",
   "metadata": {},
   "outputs": [
    {
     "data": {
      "text/plain": [
       "array([1., 1., 1.])"
      ]
     },
     "execution_count": 11,
     "metadata": {},
     "output_type": "execute_result"
    }
   ],
   "source": [
    "np.ones(3)"
   ]
  },
  {
   "cell_type": "code",
   "execution_count": 12,
   "id": "61e377de-60e2-496a-bff8-7ce84dcbe1fa",
   "metadata": {},
   "outputs": [
    {
     "data": {
      "text/plain": [
       "array([[1., 1., 1.],\n",
       "       [1., 1., 1.],\n",
       "       [1., 1., 1.]])"
      ]
     },
     "execution_count": 12,
     "metadata": {},
     "output_type": "execute_result"
    }
   ],
   "source": [
    "np.ones((3,3))"
   ]
  },
  {
   "attachments": {},
   "cell_type": "markdown",
   "id": "f9eb4b3a-9245-437d-a856-2f4622da4eb0",
   "metadata": {},
   "source": [
    "LinSpace"
   ]
  },
  {
   "cell_type": "code",
   "execution_count": 13,
   "id": "3340ac32-11af-4c28-ab14-c74f4f724a80",
   "metadata": {},
   "outputs": [
    {
     "data": {
      "text/plain": [
       "array([ 0.,  5., 10.])"
      ]
     },
     "execution_count": 13,
     "metadata": {},
     "output_type": "execute_result"
    }
   ],
   "source": [
    "np.linspace(0,10,3)"
   ]
  },
  {
   "cell_type": "code",
   "execution_count": 14,
   "id": "fd2c46a5-076e-4a14-b695-60b5b7de2c46",
   "metadata": {},
   "outputs": [
    {
     "data": {
      "text/plain": [
       "array([ 0.        ,  0.20408163,  0.40816327,  0.6122449 ,  0.81632653,\n",
       "        1.02040816,  1.2244898 ,  1.42857143,  1.63265306,  1.83673469,\n",
       "        2.04081633,  2.24489796,  2.44897959,  2.65306122,  2.85714286,\n",
       "        3.06122449,  3.26530612,  3.46938776,  3.67346939,  3.87755102,\n",
       "        4.08163265,  4.28571429,  4.48979592,  4.69387755,  4.89795918,\n",
       "        5.10204082,  5.30612245,  5.51020408,  5.71428571,  5.91836735,\n",
       "        6.12244898,  6.32653061,  6.53061224,  6.73469388,  6.93877551,\n",
       "        7.14285714,  7.34693878,  7.55102041,  7.75510204,  7.95918367,\n",
       "        8.16326531,  8.36734694,  8.57142857,  8.7755102 ,  8.97959184,\n",
       "        9.18367347,  9.3877551 ,  9.59183673,  9.79591837, 10.        ])"
      ]
     },
     "execution_count": 14,
     "metadata": {},
     "output_type": "execute_result"
    }
   ],
   "source": [
    "np.linspace(0,10,50)"
   ]
  },
  {
   "attachments": {},
   "cell_type": "markdown",
   "id": "f629ad3d-0c61-4f8f-8d76-a2071ae9a9cb",
   "metadata": {},
   "source": [
    "eye"
   ]
  },
  {
   "cell_type": "code",
   "execution_count": 15,
   "id": "ebbb3fb2-d2c1-4182-a99a-6b72afc33d40",
   "metadata": {},
   "outputs": [
    {
     "data": {
      "text/plain": [
       "array([[1., 0., 0., 0.],\n",
       "       [0., 1., 0., 0.],\n",
       "       [0., 0., 1., 0.],\n",
       "       [0., 0., 0., 1.]])"
      ]
     },
     "execution_count": 15,
     "metadata": {},
     "output_type": "execute_result"
    }
   ],
   "source": [
    "np.eye(4)"
   ]
  },
  {
   "attachments": {},
   "cell_type": "markdown",
   "id": "8f543e2a-317a-4393-ab66-20f5d585aecd",
   "metadata": {},
   "source": [
    "Random"
   ]
  },
  {
   "cell_type": "code",
   "execution_count": 16,
   "id": "9c4c11f2-a9a4-43fb-bb68-ed8a2b9a7d1c",
   "metadata": {},
   "outputs": [
    {
     "data": {
      "text/plain": [
       "array([0.31333719, 0.52721273])"
      ]
     },
     "execution_count": 16,
     "metadata": {},
     "output_type": "execute_result"
    }
   ],
   "source": [
    "np.random.rand(2)"
   ]
  },
  {
   "cell_type": "code",
   "execution_count": 17,
   "id": "ac1b053e-0ca7-4c34-a467-648918b157b9",
   "metadata": {},
   "outputs": [
    {
     "data": {
      "text/plain": [
       "array([[0.28184754, 0.28748955, 0.53185454, 0.7331353 , 0.75502424],\n",
       "       [0.05393733, 0.22708958, 0.44690222, 0.21493791, 0.47139933],\n",
       "       [0.90650604, 0.44177111, 0.25278716, 0.13186185, 0.53819083],\n",
       "       [0.89611958, 0.50786272, 0.9587019 , 0.53400872, 0.11643094],\n",
       "       [0.57532273, 0.28134532, 0.09905838, 0.69053731, 0.0460948 ]])"
      ]
     },
     "execution_count": 17,
     "metadata": {},
     "output_type": "execute_result"
    }
   ],
   "source": [
    "np.random.rand(5,5)"
   ]
  },
  {
   "attachments": {},
   "cell_type": "markdown",
   "id": "2414d177-2065-4616-8400-9b2007262082",
   "metadata": {},
   "source": [
    "randn"
   ]
  },
  {
   "attachments": {},
   "cell_type": "markdown",
   "id": "eb998d86-5834-427e-9949-28b2f927a1cb",
   "metadata": {},
   "source": [
    "returns a sample from the standard normal distribution"
   ]
  },
  {
   "cell_type": "code",
   "execution_count": 18,
   "id": "887e896a-df8e-40e6-8b58-f44660d1a4dd",
   "metadata": {},
   "outputs": [
    {
     "data": {
      "text/plain": [
       "array([-0.42049377, -0.07942399,  0.43318574])"
      ]
     },
     "execution_count": 18,
     "metadata": {},
     "output_type": "execute_result"
    }
   ],
   "source": [
    "np.random.randn(3)"
   ]
  },
  {
   "cell_type": "code",
   "execution_count": 19,
   "id": "1e1400b3-d08e-4f71-a172-53d623391bb5",
   "metadata": {},
   "outputs": [
    {
     "data": {
      "text/plain": [
       "array([[ 2.47581121,  0.29029292, -1.09833828,  0.22941512, -0.37942044],\n",
       "       [-1.58707468, -0.65689823,  0.71540684,  2.75250783, -1.65696881],\n",
       "       [ 1.78164173, -0.43261332,  0.4372648 ,  0.77801166,  0.75453248],\n",
       "       [ 0.41840454,  0.76977511, -1.64287339, -0.64676774,  0.86840188],\n",
       "       [ 1.04741667, -1.22732562, -1.35510491, -1.50828265, -0.40980574]])"
      ]
     },
     "execution_count": 19,
     "metadata": {},
     "output_type": "execute_result"
    }
   ],
   "source": [
    "np.random.randn(5,5)"
   ]
  },
  {
   "attachments": {},
   "cell_type": "markdown",
   "id": "bdc15bea-c406-4761-82ce-7a0fd0efd510",
   "metadata": {},
   "source": [
    "randint"
   ]
  },
  {
   "cell_type": "code",
   "execution_count": 20,
   "id": "29998aae-8835-4bcf-85a0-ddc48fbd68f8",
   "metadata": {},
   "outputs": [
    {
     "data": {
      "text/plain": [
       "56"
      ]
     },
     "execution_count": 20,
     "metadata": {},
     "output_type": "execute_result"
    }
   ],
   "source": [
    "np.random.randint(1,100)"
   ]
  },
  {
   "cell_type": "code",
   "execution_count": 21,
   "id": "929fee28-9f1d-4ddf-99a4-b613306d8fae",
   "metadata": {},
   "outputs": [
    {
     "data": {
      "text/plain": [
       "array([35, 95, 98, 44,  5, 18, 26,  8, 13, 69])"
      ]
     },
     "execution_count": 21,
     "metadata": {},
     "output_type": "execute_result"
    }
   ],
   "source": [
    "np.random.randint(1,100,10)"
   ]
  },
  {
   "attachments": {},
   "cell_type": "markdown",
   "id": "9c8fee1c-a61c-46b6-b356-3fb55265f46b",
   "metadata": {},
   "source": [
    "Array Attributes and methods"
   ]
  },
  {
   "cell_type": "code",
   "execution_count": 22,
   "id": "e7ba06b7-7868-41ac-a428-674bb28efa53",
   "metadata": {},
   "outputs": [],
   "source": [
    "arr = np.arange(25)\n",
    "ranarr = np.random.randint(0,50,100)"
   ]
  },
  {
   "cell_type": "code",
   "execution_count": 23,
   "id": "3f4721d1-ebc2-45a4-b9c8-d3914357407c",
   "metadata": {},
   "outputs": [
    {
     "data": {
      "text/plain": [
       "array([ 0,  1,  2,  3,  4,  5,  6,  7,  8,  9, 10, 11, 12, 13, 14, 15, 16,\n",
       "       17, 18, 19, 20, 21, 22, 23, 24])"
      ]
     },
     "execution_count": 23,
     "metadata": {},
     "output_type": "execute_result"
    }
   ],
   "source": [
    "arr"
   ]
  },
  {
   "cell_type": "code",
   "execution_count": 24,
   "id": "24585e8a-0d38-4bb9-844e-8407564884f2",
   "metadata": {},
   "outputs": [
    {
     "data": {
      "text/plain": [
       "array([25, 41, 45, 11, 27, 30,  2, 12, 34, 48, 47, 26,  3, 35, 19, 31, 13,\n",
       "       36, 18, 33, 31, 31, 26, 10,  2, 19, 36, 27, 39,  5, 48, 35, 21, 40,\n",
       "       32, 25,  2, 35, 21, 39, 44,  8, 11, 46, 18,  4,  4, 27, 46, 35,  7,\n",
       "       17, 40, 29, 19, 37, 36, 39,  4,  3, 30, 14, 15,  2,  2, 47, 44, 13,\n",
       "        2, 28, 48, 10, 25,  9, 12, 47, 15, 12, 24, 22,  3, 22, 32, 32, 47,\n",
       "       43, 27, 41, 40, 30, 39,  5, 41,  1, 12, 16, 35, 28, 17, 21])"
      ]
     },
     "execution_count": 24,
     "metadata": {},
     "output_type": "execute_result"
    }
   ],
   "source": [
    "ranarr"
   ]
  },
  {
   "attachments": {},
   "cell_type": "markdown",
   "id": "e66bd560-2448-4bd2-91ba-04582ff0e3c1",
   "metadata": {},
   "source": [
    "Reshape"
   ]
  },
  {
   "cell_type": "code",
   "execution_count": 25,
   "id": "a127f8c1-6627-45bc-a6c9-fdcdc49c66ea",
   "metadata": {},
   "outputs": [
    {
     "data": {
      "text/plain": [
       "array([[ 0,  1,  2,  3,  4],\n",
       "       [ 5,  6,  7,  8,  9],\n",
       "       [10, 11, 12, 13, 14],\n",
       "       [15, 16, 17, 18, 19],\n",
       "       [20, 21, 22, 23, 24]])"
      ]
     },
     "execution_count": 25,
     "metadata": {},
     "output_type": "execute_result"
    }
   ],
   "source": [
    "arr.reshape(5,5)"
   ]
  },
  {
   "attachments": {},
   "cell_type": "markdown",
   "id": "b082391d-5c05-4999-b952-ad61fc841848",
   "metadata": {},
   "source": [
    "max,min,argmax,argmin"
   ]
  },
  {
   "cell_type": "code",
   "execution_count": 26,
   "id": "561aed5b-b7bc-4708-b05c-719af7011a32",
   "metadata": {},
   "outputs": [
    {
     "data": {
      "text/plain": [
       "array([25, 41, 45, 11, 27, 30,  2, 12, 34, 48, 47, 26,  3, 35, 19, 31, 13,\n",
       "       36, 18, 33, 31, 31, 26, 10,  2, 19, 36, 27, 39,  5, 48, 35, 21, 40,\n",
       "       32, 25,  2, 35, 21, 39, 44,  8, 11, 46, 18,  4,  4, 27, 46, 35,  7,\n",
       "       17, 40, 29, 19, 37, 36, 39,  4,  3, 30, 14, 15,  2,  2, 47, 44, 13,\n",
       "        2, 28, 48, 10, 25,  9, 12, 47, 15, 12, 24, 22,  3, 22, 32, 32, 47,\n",
       "       43, 27, 41, 40, 30, 39,  5, 41,  1, 12, 16, 35, 28, 17, 21])"
      ]
     },
     "execution_count": 26,
     "metadata": {},
     "output_type": "execute_result"
    }
   ],
   "source": [
    "ranarr"
   ]
  },
  {
   "cell_type": "code",
   "execution_count": 27,
   "id": "89e02c7a-23fa-49ee-b44e-626077b3f69e",
   "metadata": {},
   "outputs": [
    {
     "data": {
      "text/plain": [
       "48"
      ]
     },
     "execution_count": 27,
     "metadata": {},
     "output_type": "execute_result"
    }
   ],
   "source": [
    "ranarr.max()"
   ]
  },
  {
   "cell_type": "code",
   "execution_count": 28,
   "id": "25f412d0-c908-4a1e-b505-6a0c63449735",
   "metadata": {},
   "outputs": [
    {
     "data": {
      "text/plain": [
       "1"
      ]
     },
     "execution_count": 28,
     "metadata": {},
     "output_type": "execute_result"
    }
   ],
   "source": [
    "ranarr.min()"
   ]
  },
  {
   "cell_type": "code",
   "execution_count": 29,
   "id": "25e7f27f-88e3-44e0-a919-ed4b99e4e543",
   "metadata": {},
   "outputs": [
    {
     "data": {
      "text/plain": [
       "9"
      ]
     },
     "execution_count": 29,
     "metadata": {},
     "output_type": "execute_result"
    }
   ],
   "source": [
    "ranarr.argmax()"
   ]
  },
  {
   "cell_type": "code",
   "execution_count": 30,
   "id": "949419c4-3eb6-48f9-ab55-5eeda00cfc66",
   "metadata": {},
   "outputs": [
    {
     "data": {
      "text/plain": [
       "93"
      ]
     },
     "execution_count": 30,
     "metadata": {},
     "output_type": "execute_result"
    }
   ],
   "source": [
    "ranarr.argmin()"
   ]
  },
  {
   "attachments": {},
   "cell_type": "markdown",
   "id": "64a12e92-3e64-45f6-95bd-5db04accd323",
   "metadata": {},
   "source": [
    "Shape"
   ]
  },
  {
   "cell_type": "code",
   "execution_count": 32,
   "id": "92ad7509-0726-419c-9a5e-a7084330decb",
   "metadata": {
    "tags": []
   },
   "outputs": [
    {
     "data": {
      "text/plain": [
       "(25,)"
      ]
     },
     "execution_count": 32,
     "metadata": {},
     "output_type": "execute_result"
    }
   ],
   "source": [
    "arr.shape"
   ]
  },
  {
   "cell_type": "code",
   "execution_count": 33,
   "id": "233a954b-3792-42f9-9f23-dc85b5bda651",
   "metadata": {
    "tags": []
   },
   "outputs": [
    {
     "data": {
      "text/plain": [
       "array([[ 0,  1,  2,  3,  4,  5,  6,  7,  8,  9, 10, 11, 12, 13, 14, 15,\n",
       "        16, 17, 18, 19, 20, 21, 22, 23, 24]])"
      ]
     },
     "execution_count": 33,
     "metadata": {},
     "output_type": "execute_result"
    }
   ],
   "source": [
    "arr.reshape(1,25)"
   ]
  },
  {
   "cell_type": "code",
   "execution_count": 34,
   "id": "413c07b6-d3f0-4bb6-bc28-c9309242333a",
   "metadata": {
    "tags": []
   },
   "outputs": [
    {
     "data": {
      "text/plain": [
       "(1, 25)"
      ]
     },
     "execution_count": 34,
     "metadata": {},
     "output_type": "execute_result"
    }
   ],
   "source": [
    "arr.reshape(1,25).shape"
   ]
  },
  {
   "cell_type": "code",
   "execution_count": 35,
   "id": "2b122c1c-5233-4201-b0b4-6126625e1ec6",
   "metadata": {
    "tags": []
   },
   "outputs": [
    {
     "data": {
      "text/plain": [
       "array([[ 0],\n",
       "       [ 1],\n",
       "       [ 2],\n",
       "       [ 3],\n",
       "       [ 4],\n",
       "       [ 5],\n",
       "       [ 6],\n",
       "       [ 7],\n",
       "       [ 8],\n",
       "       [ 9],\n",
       "       [10],\n",
       "       [11],\n",
       "       [12],\n",
       "       [13],\n",
       "       [14],\n",
       "       [15],\n",
       "       [16],\n",
       "       [17],\n",
       "       [18],\n",
       "       [19],\n",
       "       [20],\n",
       "       [21],\n",
       "       [22],\n",
       "       [23],\n",
       "       [24]])"
      ]
     },
     "execution_count": 35,
     "metadata": {},
     "output_type": "execute_result"
    }
   ],
   "source": [
    "arr.reshape(25,1)"
   ]
  },
  {
   "cell_type": "code",
   "execution_count": 39,
   "id": "58e0178a-eb28-4207-9d1a-a1dc0ea4bb3c",
   "metadata": {
    "tags": []
   },
   "outputs": [
    {
     "data": {
      "text/plain": [
       "(25, 1)"
      ]
     },
     "execution_count": 39,
     "metadata": {},
     "output_type": "execute_result"
    }
   ],
   "source": [
    "arr.reshape(25,1).shape"
   ]
  },
  {
   "attachments": {},
   "cell_type": "markdown",
   "id": "9c2966eb-706b-410f-a21f-2cbb0a5f6da7",
   "metadata": {},
   "source": [
    "dtype"
   ]
  },
  {
   "cell_type": "code",
   "execution_count": 37,
   "id": "a1381a91-c796-4891-8148-77288cd64ea9",
   "metadata": {
    "tags": []
   },
   "outputs": [
    {
     "data": {
      "text/plain": [
       "dtype('int64')"
      ]
     },
     "execution_count": 37,
     "metadata": {},
     "output_type": "execute_result"
    }
   ],
   "source": [
    "arr.dtype"
   ]
  },
  {
   "attachments": {},
   "cell_type": "markdown",
   "id": "5057330c-b7a0-4c84-bdc2-e7c902d667c6",
   "metadata": {},
   "source": [
    "### Numpy indexing and Selection"
   ]
  },
  {
   "cell_type": "code",
   "execution_count": 3,
   "id": "e24bb48d-0d98-417a-8f9e-aed6d7143f3a",
   "metadata": {
    "tags": []
   },
   "outputs": [
    {
     "data": {
      "text/plain": [
       "array([0, 1, 2, 3, 4])"
      ]
     },
     "execution_count": 3,
     "metadata": {},
     "output_type": "execute_result"
    }
   ],
   "source": [
    "arr = np.arange(0,5)\n",
    "arr"
   ]
  },
  {
   "attachments": {},
   "cell_type": "markdown",
   "id": "57a0a424-a4dd-4e6a-825a-3f7643247bf0",
   "metadata": {},
   "source": [
    "#### Brackets and indexing selection"
   ]
  },
  {
   "cell_type": "code",
   "execution_count": 4,
   "id": "b7f5f90f-8271-4cdb-acf5-212025d8d516",
   "metadata": {
    "tags": []
   },
   "outputs": [
    {
     "data": {
      "text/plain": [
       "0"
      ]
     },
     "execution_count": 4,
     "metadata": {},
     "output_type": "execute_result"
    }
   ],
   "source": [
    "arr[0]"
   ]
  },
  {
   "cell_type": "code",
   "execution_count": 5,
   "id": "92f7a3ae-4630-4952-b24e-162857174fca",
   "metadata": {
    "tags": []
   },
   "outputs": [
    {
     "data": {
      "text/plain": [
       "array([1, 2])"
      ]
     },
     "execution_count": 5,
     "metadata": {},
     "output_type": "execute_result"
    }
   ],
   "source": [
    "arr[1:3]"
   ]
  },
  {
   "cell_type": "code",
   "execution_count": 6,
   "id": "904edb7a-6835-40c5-ad97-15c393165f27",
   "metadata": {
    "tags": []
   },
   "outputs": [
    {
     "data": {
      "text/plain": [
       "array([0, 1, 2, 3])"
      ]
     },
     "execution_count": 6,
     "metadata": {},
     "output_type": "execute_result"
    }
   ],
   "source": [
    "arr[0:4]"
   ]
  },
  {
   "cell_type": "code",
   "execution_count": 7,
   "id": "dc52a679-36af-440a-b9f0-7b80126bd63f",
   "metadata": {
    "tags": []
   },
   "outputs": [
    {
     "data": {
      "text/plain": [
       "array([0, 1, 2, 3])"
      ]
     },
     "execution_count": 7,
     "metadata": {},
     "output_type": "execute_result"
    }
   ],
   "source": [
    "arr[:4]"
   ]
  },
  {
   "attachments": {},
   "cell_type": "markdown",
   "id": "f884ef76-84d7-4615-9ac3-4ba297815a55",
   "metadata": {},
   "source": [
    "#### Broadcasting"
   ]
  },
  {
   "cell_type": "code",
   "execution_count": 8,
   "id": "46e86c2e-1fc6-4b01-9399-7d59435cc7d1",
   "metadata": {
    "tags": []
   },
   "outputs": [
    {
     "data": {
      "text/plain": [
       "array([500, 500,   2,   3,   4])"
      ]
     },
     "execution_count": 8,
     "metadata": {},
     "output_type": "execute_result"
    }
   ],
   "source": [
    "arr[0:2]=500\n",
    "arr"
   ]
  },
  {
   "cell_type": "code",
   "execution_count": 9,
   "id": "2af0a720-a3a6-4f05-86c0-6ebec045d5de",
   "metadata": {
    "tags": []
   },
   "outputs": [
    {
     "data": {
      "text/plain": [
       "array([ 0,  1,  2,  3,  4,  5,  6,  7,  8,  9, 10, 11, 12, 13, 14, 15, 16,\n",
       "       17, 18])"
      ]
     },
     "execution_count": 9,
     "metadata": {},
     "output_type": "execute_result"
    }
   ],
   "source": [
    "arr=np.arange(0,19)\n",
    "arr"
   ]
  },
  {
   "cell_type": "code",
   "execution_count": 10,
   "id": "2a5eff79-094a-4202-8756-d3dc99528296",
   "metadata": {
    "tags": []
   },
   "outputs": [
    {
     "data": {
      "text/plain": [
       "array([0, 1, 2, 3, 4])"
      ]
     },
     "execution_count": 10,
     "metadata": {},
     "output_type": "execute_result"
    }
   ],
   "source": [
    "slice_of_arr=arr[0:5]\n",
    "\n",
    "slice_of_arr"
   ]
  },
  {
   "cell_type": "code",
   "execution_count": 11,
   "id": "5b9d8502-0ff5-497f-b103-06f917aad290",
   "metadata": {
    "tags": []
   },
   "outputs": [
    {
     "data": {
      "text/plain": [
       "array([55, 55, 55, 55, 55])"
      ]
     },
     "execution_count": 11,
     "metadata": {},
     "output_type": "execute_result"
    }
   ],
   "source": [
    "#changing slice\n",
    "\n",
    "slice_of_arr [:]=55\n",
    "slice_of_arr"
   ]
  },
  {
   "cell_type": "code",
   "execution_count": 12,
   "id": "f76c4501-e8bc-48b4-90fa-72c430a18e77",
   "metadata": {
    "tags": []
   },
   "outputs": [
    {
     "data": {
      "text/plain": [
       "array([55, 55, 55, 55, 55,  5,  6,  7,  8,  9, 10, 11, 12, 13, 14, 15, 16,\n",
       "       17, 18])"
      ]
     },
     "execution_count": 12,
     "metadata": {},
     "output_type": "execute_result"
    }
   ],
   "source": [
    "arr\n",
    "# Elements will be modified as the elements in slice_of_arr are\n",
    "# a reference to the original values of the array and not \n",
    "# a copy of the array."
   ]
  },
  {
   "cell_type": "code",
   "execution_count": 13,
   "id": "e7bc4f6e-c8aa-4e0a-ae94-d4867dfad863",
   "metadata": {
    "tags": []
   },
   "outputs": [
    {
     "data": {
      "text/plain": [
       "array([55, 55, 55, 55, 55,  5,  6,  7,  8,  9, 10, 11, 12, 13, 14, 15, 16,\n",
       "       17, 18])"
      ]
     },
     "execution_count": 13,
     "metadata": {},
     "output_type": "execute_result"
    }
   ],
   "source": [
    "# for copy we use arr.copy(), this allocates new memory for the data\n",
    "arr_copy = arr.copy()\n",
    "arr_copy"
   ]
  },
  {
   "attachments": {},
   "cell_type": "markdown",
   "id": "982712a4-a956-4d81-920b-437e8970b82f",
   "metadata": {},
   "source": [
    "#### Indexing a 2D array (matrices)"
   ]
  },
  {
   "cell_type": "code",
   "execution_count": 14,
   "id": "81a6f99d-33d4-4397-b7e2-c1ec4268b654",
   "metadata": {
    "tags": []
   },
   "outputs": [
    {
     "data": {
      "text/plain": [
       "array([[ 2,  4,  6],\n",
       "       [ 8, 10, 12],\n",
       "       [14, 16, 18]])"
      ]
     },
     "execution_count": 14,
     "metadata": {},
     "output_type": "execute_result"
    }
   ],
   "source": [
    "arr_2d = np.array(([2,4,6],[8,10,12],[14,16,18]))\n",
    "arr_2d"
   ]
  },
  {
   "attachments": {},
   "cell_type": "markdown",
   "id": "b69bd26f-22e6-44bc-bb64-6f3abcf20063",
   "metadata": {
    "tags": []
   },
   "source": [
    "##### Getting a row of elements"
   ]
  },
  {
   "cell_type": "code",
   "execution_count": 15,
   "id": "f6a551b1-b252-4d22-b662-e2b0e16933fc",
   "metadata": {
    "tags": []
   },
   "outputs": [
    {
     "data": {
      "text/plain": [
       "array([ 8, 10, 12])"
      ]
     },
     "execution_count": 15,
     "metadata": {},
     "output_type": "execute_result"
    }
   ],
   "source": [
    "arr_2d[1]"
   ]
  },
  {
   "attachments": {},
   "cell_type": "markdown",
   "id": "80291a59-824b-4a64-801a-460ac845c335",
   "metadata": {
    "tags": []
   },
   "source": [
    "##### getting a specific element"
   ]
  },
  {
   "cell_type": "code",
   "execution_count": 16,
   "id": "a728ef59-fbda-4c1b-ac53-5f9fc86fea6f",
   "metadata": {
    "tags": []
   },
   "outputs": [
    {
     "data": {
      "text/plain": [
       "10"
      ]
     },
     "execution_count": 16,
     "metadata": {},
     "output_type": "execute_result"
    }
   ],
   "source": [
    "arr_2d[1][1]"
   ]
  },
  {
   "cell_type": "code",
   "execution_count": 17,
   "id": "7247fb9f-4f95-408d-9a1a-b360109bf4d9",
   "metadata": {
    "tags": []
   },
   "outputs": [],
   "source": [
    "##### Getting a specific element using comma notation"
   ]
  },
  {
   "cell_type": "code",
   "execution_count": 18,
   "id": "9e3fefb6-fc0c-48c7-a3e6-9d901139418c",
   "metadata": {
    "tags": []
   },
   "outputs": [
    {
     "data": {
      "text/plain": [
       "10"
      ]
     },
     "execution_count": 18,
     "metadata": {},
     "output_type": "execute_result"
    }
   ],
   "source": [
    "arr_2d[1,1]"
   ]
  },
  {
   "attachments": {},
   "cell_type": "markdown",
   "id": "e07554f3-769f-49ff-99c5-ac78d3527cd0",
   "metadata": {
    "tags": []
   },
   "source": [
    "##### 2D Array Slicing"
   ]
  },
  {
   "cell_type": "code",
   "execution_count": 19,
   "id": "60ea95b8-1f39-4bc9-bbb9-5c8307a81f3f",
   "metadata": {
    "tags": []
   },
   "outputs": [
    {
     "data": {
      "text/plain": [
       "array([[ 4,  6],\n",
       "       [10, 12]])"
      ]
     },
     "execution_count": 19,
     "metadata": {},
     "output_type": "execute_result"
    }
   ],
   "source": [
    "arr_2d[:2,1:]\n",
    "# upto 2 excluding 2 , all columns after 1 including 1 "
   ]
  },
  {
   "cell_type": "code",
   "execution_count": 20,
   "id": "60ea6c7a-d748-47d5-949b-bd94b3b25b2d",
   "metadata": {},
   "outputs": [
    {
     "data": {
      "text/plain": [
       "array([[ 2,  4,  6],\n",
       "       [ 8, 10, 12]])"
      ]
     },
     "execution_count": 20,
     "metadata": {},
     "output_type": "execute_result"
    }
   ],
   "source": [
    "arr_2d[:2,0:]"
   ]
  },
  {
   "cell_type": "code",
   "execution_count": 21,
   "id": "eb5bdf50-6793-47ed-bb0c-f8b87d258496",
   "metadata": {
    "tags": []
   },
   "outputs": [
    {
     "data": {
      "text/plain": [
       "array([[ 2,  4,  6],\n",
       "       [ 8, 10, 12]])"
      ]
     },
     "execution_count": 21,
     "metadata": {},
     "output_type": "execute_result"
    }
   ],
   "source": [
    "arr_2d[:2][0:]"
   ]
  },
  {
   "cell_type": "code",
   "execution_count": 22,
   "id": "c351b367-fe13-4153-9867-db854336f177",
   "metadata": {
    "tags": []
   },
   "outputs": [
    {
     "data": {
      "text/plain": [
       "array([14, 16, 18])"
      ]
     },
     "execution_count": 22,
     "metadata": {},
     "output_type": "execute_result"
    }
   ],
   "source": [
    "arr_2d[2]"
   ]
  },
  {
   "cell_type": "code",
   "execution_count": 23,
   "id": "2200301e-28d4-49d7-ba7a-af9c114f9e52",
   "metadata": {
    "tags": []
   },
   "outputs": [
    {
     "data": {
      "text/plain": [
       "array([ 8, 10, 12])"
      ]
     },
     "execution_count": 23,
     "metadata": {},
     "output_type": "execute_result"
    }
   ],
   "source": [
    "arr_2d[1,:]"
   ]
  },
  {
   "attachments": {},
   "cell_type": "markdown",
   "id": "ce9472d5-61da-49b0-bb9d-0c9b83390c33",
   "metadata": {},
   "source": [
    "#### Fancy Indexing"
   ]
  },
  {
   "attachments": {},
   "cell_type": "markdown",
   "id": "15b9d20b-2798-456c-94dd-796f718292ec",
   "metadata": {},
   "source": [
    "##### Set up a matrix"
   ]
  },
  {
   "cell_type": "code",
   "execution_count": 24,
   "id": "fa22a8bb-ced1-4674-b9e8-5362132ab2ea",
   "metadata": {
    "tags": []
   },
   "outputs": [
    {
     "data": {
      "text/plain": [
       "array([[0., 0., 0., 0., 0., 0., 0., 0., 0., 0.],\n",
       "       [0., 0., 0., 0., 0., 0., 0., 0., 0., 0.],\n",
       "       [0., 0., 0., 0., 0., 0., 0., 0., 0., 0.],\n",
       "       [0., 0., 0., 0., 0., 0., 0., 0., 0., 0.],\n",
       "       [0., 0., 0., 0., 0., 0., 0., 0., 0., 0.],\n",
       "       [0., 0., 0., 0., 0., 0., 0., 0., 0., 0.],\n",
       "       [0., 0., 0., 0., 0., 0., 0., 0., 0., 0.],\n",
       "       [0., 0., 0., 0., 0., 0., 0., 0., 0., 0.],\n",
       "       [0., 0., 0., 0., 0., 0., 0., 0., 0., 0.],\n",
       "       [0., 0., 0., 0., 0., 0., 0., 0., 0., 0.]])"
      ]
     },
     "execution_count": 24,
     "metadata": {},
     "output_type": "execute_result"
    }
   ],
   "source": [
    "arr2d = np.zeros((10,10))\n",
    "arr2d"
   ]
  },
  {
   "cell_type": "code",
   "execution_count": 29,
   "id": "101864ed-b6d7-4606-8df6-08179f97289b",
   "metadata": {},
   "outputs": [
    {
     "data": {
      "text/plain": [
       "(10, 10)"
      ]
     },
     "execution_count": 29,
     "metadata": {},
     "output_type": "execute_result"
    }
   ],
   "source": [
    "arr_length = arr2d.shape\n",
    "arr_length"
   ]
  },
  {
   "cell_type": "code",
   "execution_count": 30,
   "id": "6c389742-8347-45a8-8c8d-9c182e6ae4b5",
   "metadata": {
    "tags": []
   },
   "outputs": [
    {
     "data": {
      "text/plain": [
       "10"
      ]
     },
     "execution_count": 30,
     "metadata": {},
     "output_type": "execute_result"
    }
   ],
   "source": [
    "arr_length = arr2d.shape[1]\n",
    "arr_length"
   ]
  },
  {
   "cell_type": "code",
   "execution_count": 32,
   "id": "9cda18cf-8276-4165-a9f3-6b2230f413e1",
   "metadata": {
    "tags": []
   },
   "outputs": [
    {
     "data": {
      "text/plain": [
       "array([[0., 0., 0., 0., 0., 0., 0., 0., 0., 0.],\n",
       "       [1., 1., 1., 1., 1., 1., 1., 1., 1., 1.],\n",
       "       [2., 2., 2., 2., 2., 2., 2., 2., 2., 2.],\n",
       "       [3., 3., 3., 3., 3., 3., 3., 3., 3., 3.],\n",
       "       [4., 4., 4., 4., 4., 4., 4., 4., 4., 4.],\n",
       "       [5., 5., 5., 5., 5., 5., 5., 5., 5., 5.],\n",
       "       [6., 6., 6., 6., 6., 6., 6., 6., 6., 6.],\n",
       "       [7., 7., 7., 7., 7., 7., 7., 7., 7., 7.],\n",
       "       [8., 8., 8., 8., 8., 8., 8., 8., 8., 8.],\n",
       "       [9., 9., 9., 9., 9., 9., 9., 9., 9., 9.]])"
      ]
     },
     "execution_count": 32,
     "metadata": {},
     "output_type": "execute_result"
    }
   ],
   "source": [
    "# in the zeroes array, we modify it using for loop\n",
    "for i in range(arr_length): arr2d[i] = i\n",
    "arr2d"
   ]
  },
  {
   "attachments": {},
   "cell_type": "markdown",
   "id": "bdfb479d-a7bb-4b6f-ae04-b509a4098d52",
   "metadata": {},
   "source": [
    "Fancy indexing allows us the following"
   ]
  },
  {
   "cell_type": "code",
   "execution_count": 34,
   "id": "ae1bb0c8-e192-4c98-a18a-ff02aa89e813",
   "metadata": {
    "tags": []
   },
   "outputs": [
    {
     "data": {
      "text/plain": [
       "array([[2., 2., 2., 2., 2., 2., 2., 2., 2., 2.],\n",
       "       [4., 4., 4., 4., 4., 4., 4., 4., 4., 4.],\n",
       "       [6., 6., 6., 6., 6., 6., 6., 6., 6., 6.],\n",
       "       [8., 8., 8., 8., 8., 8., 8., 8., 8., 8.]])"
      ]
     },
     "execution_count": 34,
     "metadata": {},
     "output_type": "execute_result"
    }
   ],
   "source": [
    "arr2d[[2,4,6,8]]"
   ]
  },
  {
   "cell_type": "code",
   "execution_count": 35,
   "id": "1ae866ed-9e16-4e86-bf02-4758072e290c",
   "metadata": {},
   "outputs": [
    {
     "data": {
      "text/plain": [
       "array([[6., 6., 6., 6., 6., 6., 6., 6., 6., 6.],\n",
       "       [4., 4., 4., 4., 4., 4., 4., 4., 4., 4.],\n",
       "       [2., 2., 2., 2., 2., 2., 2., 2., 2., 2.],\n",
       "       [7., 7., 7., 7., 7., 7., 7., 7., 7., 7.]])"
      ]
     },
     "execution_count": 35,
     "metadata": {},
     "output_type": "execute_result"
    }
   ],
   "source": [
    "arr2d[[6,4,2,7]]"
   ]
  },
  {
   "attachments": {},
   "cell_type": "markdown",
   "id": "e58f7749-b06c-4fb6-8ef5-5c82c1e9b99e",
   "metadata": {},
   "source": [
    "#### Selection"
   ]
  },
  {
   "cell_type": "code",
   "execution_count": 36,
   "id": "53901e57-45c4-458d-b839-8fca51ccbca6",
   "metadata": {
    "tags": []
   },
   "outputs": [
    {
     "data": {
      "text/plain": [
       "array([ 1,  2,  3,  4,  5,  6,  7,  8,  9, 10])"
      ]
     },
     "execution_count": 36,
     "metadata": {},
     "output_type": "execute_result"
    }
   ],
   "source": [
    "arr = np.arange(1,11)\n",
    "arr"
   ]
  },
  {
   "cell_type": "code",
   "execution_count": 37,
   "id": "0a6ce6a9-efd5-4ce2-ba4a-9bfbb11941c7",
   "metadata": {
    "tags": []
   },
   "outputs": [
    {
     "data": {
      "text/plain": [
       "array([False, False, False, False, False, False,  True,  True,  True,\n",
       "        True])"
      ]
     },
     "execution_count": 37,
     "metadata": {},
     "output_type": "execute_result"
    }
   ],
   "source": [
    "arr>6"
   ]
  },
  {
   "cell_type": "code",
   "execution_count": 43,
   "id": "50a79695-1d58-46f3-9198-adb0dddb8720",
   "metadata": {
    "tags": []
   },
   "outputs": [],
   "source": [
    "bool_arr = arr>4"
   ]
  },
  {
   "cell_type": "code",
   "execution_count": 44,
   "id": "598d8599-2443-488d-90ca-becb5b2e1f9e",
   "metadata": {
    "tags": []
   },
   "outputs": [
    {
     "data": {
      "text/plain": [
       "array([False, False, False, False,  True,  True,  True,  True,  True,\n",
       "        True])"
      ]
     },
     "execution_count": 44,
     "metadata": {},
     "output_type": "execute_result"
    }
   ],
   "source": [
    "bool_arr"
   ]
  },
  {
   "cell_type": "code",
   "execution_count": 45,
   "id": "0f900d0e-03bc-4dcf-a9c6-bc9dd0e2f926",
   "metadata": {
    "tags": []
   },
   "outputs": [
    {
     "data": {
      "text/plain": [
       "array([ 5,  6,  7,  8,  9, 10])"
      ]
     },
     "execution_count": 45,
     "metadata": {},
     "output_type": "execute_result"
    }
   ],
   "source": [
    "arr[bool_arr]"
   ]
  },
  {
   "cell_type": "code",
   "execution_count": 46,
   "id": "6d08f234-5325-4454-8ff6-ec7f39e5abe4",
   "metadata": {
    "tags": []
   },
   "outputs": [
    {
     "data": {
      "text/plain": [
       "array([ 3,  4,  5,  6,  7,  8,  9, 10])"
      ]
     },
     "execution_count": 46,
     "metadata": {},
     "output_type": "execute_result"
    }
   ],
   "source": [
    "arr[arr>2]"
   ]
  },
  {
   "cell_type": "code",
   "execution_count": 47,
   "id": "2b494340-37a9-4f83-a6b2-f777b039ea65",
   "metadata": {
    "tags": []
   },
   "outputs": [
    {
     "data": {
      "text/plain": [
       "array([ 3,  4,  5,  6,  7,  8,  9, 10])"
      ]
     },
     "execution_count": 47,
     "metadata": {},
     "output_type": "execute_result"
    }
   ],
   "source": [
    "x=2\n",
    "arr[arr>x]"
   ]
  },
  {
   "attachments": {},
   "cell_type": "markdown",
   "id": "90f1639b-d0eb-4870-baae-ce3a40ffd45f",
   "metadata": {},
   "source": [
    "### Numpy Operations"
   ]
  },
  {
   "cell_type": "code",
   "execution_count": 48,
   "id": "1f80e63d-b7c8-4722-8d1e-865bfda4776c",
   "metadata": {
    "tags": []
   },
   "outputs": [
    {
     "data": {
      "text/plain": [
       "array([0, 1, 2, 3, 4, 5, 6, 7, 8, 9])"
      ]
     },
     "execution_count": 48,
     "metadata": {},
     "output_type": "execute_result"
    }
   ],
   "source": [
    "arr = np.arange(0,10)\n",
    "arr"
   ]
  },
  {
   "attachments": {},
   "cell_type": "markdown",
   "id": "bc358afe-bd1b-4a71-9a16-c56dad91ffdc",
   "metadata": {},
   "source": [
    "Basic Operators"
   ]
  },
  {
   "cell_type": "code",
   "execution_count": 50,
   "id": "ecc837ae-8ed3-4a0d-898b-4d64345457e0",
   "metadata": {
    "tags": []
   },
   "outputs": [
    {
     "data": {
      "text/plain": [
       "array([ 0,  2,  4,  6,  8, 10, 12, 14, 16, 18])"
      ]
     },
     "execution_count": 50,
     "metadata": {},
     "output_type": "execute_result"
    }
   ],
   "source": [
    "arr+arr"
   ]
  },
  {
   "cell_type": "code",
   "execution_count": 51,
   "id": "cb90423c-a413-496b-9b9f-149db9c4a911",
   "metadata": {
    "tags": []
   },
   "outputs": [
    {
     "data": {
      "text/plain": [
       "array([0, 0, 0, 0, 0, 0, 0, 0, 0, 0])"
      ]
     },
     "execution_count": 51,
     "metadata": {},
     "output_type": "execute_result"
    }
   ],
   "source": [
    "arr-arr"
   ]
  },
  {
   "cell_type": "code",
   "execution_count": 52,
   "id": "2c3df729-842f-4757-af61-25bac106d116",
   "metadata": {
    "tags": []
   },
   "outputs": [
    {
     "data": {
      "text/plain": [
       "array([ 0,  1,  4,  9, 16, 25, 36, 49, 64, 81])"
      ]
     },
     "execution_count": 52,
     "metadata": {},
     "output_type": "execute_result"
    }
   ],
   "source": [
    "arr*arr"
   ]
  },
  {
   "cell_type": "code",
   "execution_count": 54,
   "id": "5fc0382a-54df-479b-bae8-916d12326ffa",
   "metadata": {
    "tags": []
   },
   "outputs": [
    {
     "name": "stderr",
     "output_type": "stream",
     "text": [
      "/tmp/ipykernel_640/188635853.py:1: RuntimeWarning: invalid value encountered in divide\n",
      "  arr/arr # Zero division Error\n"
     ]
    },
    {
     "data": {
      "text/plain": [
       "array([nan,  1.,  1.,  1.,  1.,  1.,  1.,  1.,  1.,  1.])"
      ]
     },
     "execution_count": 54,
     "metadata": {},
     "output_type": "execute_result"
    }
   ],
   "source": [
    "arr/arr # Zero division Error"
   ]
  },
  {
   "cell_type": "code",
   "execution_count": 55,
   "id": "665a9253-8323-41a0-8edd-146e6b6c360c",
   "metadata": {
    "tags": []
   },
   "outputs": [
    {
     "name": "stderr",
     "output_type": "stream",
     "text": [
      "/tmp/ipykernel_640/4171464411.py:1: RuntimeWarning: divide by zero encountered in divide\n",
      "  1/arr # Zero division Error\n"
     ]
    },
    {
     "data": {
      "text/plain": [
       "array([       inf, 1.        , 0.5       , 0.33333333, 0.25      ,\n",
       "       0.2       , 0.16666667, 0.14285714, 0.125     , 0.11111111])"
      ]
     },
     "execution_count": 55,
     "metadata": {},
     "output_type": "execute_result"
    }
   ],
   "source": [
    "1/arr # Zero division Error"
   ]
  },
  {
   "cell_type": "code",
   "execution_count": 56,
   "id": "a78a2506-3709-49b7-bf45-bdb6b770a8af",
   "metadata": {
    "tags": []
   },
   "outputs": [
    {
     "data": {
      "text/plain": [
       "array([ 0,  1,  4,  9, 16, 25, 36, 49, 64, 81])"
      ]
     },
     "execution_count": 56,
     "metadata": {},
     "output_type": "execute_result"
    }
   ],
   "source": [
    "arr**2"
   ]
  },
  {
   "cell_type": "code",
   "execution_count": 57,
   "id": "a08a325e-7e38-4cf1-aa3e-db6f1d59228a",
   "metadata": {
    "tags": []
   },
   "outputs": [
    {
     "data": {
      "text/plain": [
       "array([  0,   1,   8,  27,  64, 125, 216, 343, 512, 729])"
      ]
     },
     "execution_count": 57,
     "metadata": {},
     "output_type": "execute_result"
    }
   ],
   "source": [
    "arr**3"
   ]
  },
  {
   "cell_type": "code",
   "execution_count": 58,
   "id": "fdbd6d96-0ecb-4433-89d7-a8c285fe16e5",
   "metadata": {
    "tags": []
   },
   "outputs": [
    {
     "data": {
      "text/plain": [
       "array([   0,    1,   16,   81,  256,  625, 1296, 2401, 4096, 6561])"
      ]
     },
     "execution_count": 58,
     "metadata": {},
     "output_type": "execute_result"
    }
   ],
   "source": [
    "arr**4"
   ]
  },
  {
   "attachments": {},
   "cell_type": "markdown",
   "id": "b7c8219d-7fdd-474a-a44a-ac88b24d494e",
   "metadata": {},
   "source": [
    "#### Universal Array Functions"
   ]
  },
  {
   "cell_type": "code",
   "execution_count": 59,
   "id": "5c0f5861-dfd7-469e-b1fe-5947de85f1bd",
   "metadata": {
    "tags": []
   },
   "outputs": [
    {
     "data": {
      "text/plain": [
       "array([0.        , 1.        , 1.41421356, 1.73205081, 2.        ,\n",
       "       2.23606798, 2.44948974, 2.64575131, 2.82842712, 3.        ])"
      ]
     },
     "execution_count": 59,
     "metadata": {},
     "output_type": "execute_result"
    }
   ],
   "source": [
    "np.sqrt(arr)"
   ]
  },
  {
   "cell_type": "code",
   "execution_count": 60,
   "id": "b795d8ed-d081-44a0-9b24-20ae477f5f8d",
   "metadata": {
    "tags": []
   },
   "outputs": [
    {
     "data": {
      "text/plain": [
       "array([1.00000000e+00, 2.71828183e+00, 7.38905610e+00, 2.00855369e+01,\n",
       "       5.45981500e+01, 1.48413159e+02, 4.03428793e+02, 1.09663316e+03,\n",
       "       2.98095799e+03, 8.10308393e+03])"
      ]
     },
     "execution_count": 60,
     "metadata": {},
     "output_type": "execute_result"
    }
   ],
   "source": [
    "np.exp(arr)"
   ]
  },
  {
   "cell_type": "code",
   "execution_count": 61,
   "id": "55f1b3d8-f26c-416a-a5fe-a7ca28362196",
   "metadata": {
    "tags": []
   },
   "outputs": [
    {
     "data": {
      "text/plain": [
       "9"
      ]
     },
     "execution_count": 61,
     "metadata": {},
     "output_type": "execute_result"
    }
   ],
   "source": [
    "np.max(arr)"
   ]
  },
  {
   "cell_type": "code",
   "execution_count": 62,
   "id": "cf273c0f-3eb8-4364-9f1a-44bea2cbec55",
   "metadata": {
    "tags": []
   },
   "outputs": [
    {
     "data": {
      "text/plain": [
       "array([ 0.        ,  0.84147098,  0.90929743,  0.14112001, -0.7568025 ,\n",
       "       -0.95892427, -0.2794155 ,  0.6569866 ,  0.98935825,  0.41211849])"
      ]
     },
     "execution_count": 62,
     "metadata": {},
     "output_type": "execute_result"
    }
   ],
   "source": [
    "np.sin(arr)"
   ]
  },
  {
   "cell_type": "code",
   "execution_count": 63,
   "id": "b44913fc-d3fa-44f8-b646-29100fc69b29",
   "metadata": {
    "tags": []
   },
   "outputs": [
    {
     "data": {
      "text/plain": [
       "array([ 1.        ,  0.54030231, -0.41614684, -0.9899925 , -0.65364362,\n",
       "        0.28366219,  0.96017029,  0.75390225, -0.14550003, -0.91113026])"
      ]
     },
     "execution_count": 63,
     "metadata": {},
     "output_type": "execute_result"
    }
   ],
   "source": [
    "np.cos(arr)"
   ]
  },
  {
   "cell_type": "code",
   "execution_count": 64,
   "id": "c7e955de-383b-436f-becd-656bd1851c3a",
   "metadata": {
    "tags": []
   },
   "outputs": [
    {
     "data": {
      "text/plain": [
       "array([ 0.        ,  1.55740772, -2.18503986, -0.14254654,  1.15782128,\n",
       "       -3.38051501, -0.29100619,  0.87144798, -6.79971146, -0.45231566])"
      ]
     },
     "execution_count": 64,
     "metadata": {},
     "output_type": "execute_result"
    }
   ],
   "source": [
    "np.tan(arr)"
   ]
  },
  {
   "cell_type": "code",
   "execution_count": 68,
   "id": "0d871f3d-bffb-475a-b2f7-392f61705e14",
   "metadata": {
    "tags": []
   },
   "outputs": [
    {
     "data": {
      "text/plain": [
       "array([0.        , 0.76159416, 0.96402758, 0.99505475, 0.9993293 ,\n",
       "       0.9999092 , 0.99998771, 0.99999834, 0.99999977, 0.99999997])"
      ]
     },
     "execution_count": 68,
     "metadata": {},
     "output_type": "execute_result"
    }
   ],
   "source": [
    "np.tanh(arr)"
   ]
  },
  {
   "cell_type": "code",
   "execution_count": null,
   "id": "becc0242-777e-40a7-b674-900d4fed7d14",
   "metadata": {},
   "outputs": [],
   "source": []
  },
  {
   "attachments": {},
   "cell_type": "markdown",
   "id": "8dd9a40f-1b7c-4cfb-8544-8b634832e808",
   "metadata": {
    "id": "zpXkZklFYZpw"
   },
   "source": [
    "___\n",
    "\n",
    "___"
   ]
  },
  {
   "attachments": {},
   "cell_type": "markdown",
   "id": "058e57ac-f6b9-48db-803c-3d3ec567828f",
   "metadata": {
    "id": "Yg469iSaYZpx",
    "tags": []
   },
   "source": [
    "## NumPy Exercises \n",
    "\n",
    "Now that we've learned about NumPy let's test your knowledge. We'll start off with a few simple tasks, and then you'll be asked some more complicated questions."
   ]
  },
  {
   "cell_type": "code",
   "execution_count": null,
   "id": "75a9c69b-bf04-4fa6-835b-8d4620500692",
   "metadata": {},
   "outputs": [],
   "source": []
  },
  {
   "attachments": {},
   "cell_type": "markdown",
   "id": "7369d5b9-be78-49cb-9d8f-ab382cc96648",
   "metadata": {
    "id": "3aiewyScYZpx"
   },
   "source": [
    "### Import NumPy as np"
   ]
  },
  {
   "cell_type": "code",
   "execution_count": 2,
   "id": "1ccc9b99-5f4f-40fe-9821-935c33f8447f",
   "metadata": {
    "collapsed": true,
    "id": "BHgEKvLRYZpx",
    "jupyter": {
     "outputs_hidden": true
    },
    "tags": []
   },
   "outputs": [],
   "source": [
    "import numpy as np"
   ]
  },
  {
   "attachments": {},
   "cell_type": "markdown",
   "id": "2c392c7d-f81e-4fdc-b65f-af1c35c4c25b",
   "metadata": {
    "id": "2U6-gU5UYZpy"
   },
   "source": [
    "### Create an array of 10 zeros "
   ]
  },
  {
   "cell_type": "code",
   "execution_count": 3,
   "id": "fc2ed2f6-eeed-4f66-897a-6a37b5ebc7b3",
   "metadata": {
    "tags": []
   },
   "outputs": [
    {
     "data": {
      "text/plain": [
       "array([0., 0., 0., 0., 0., 0., 0., 0., 0., 0.])"
      ]
     },
     "execution_count": 3,
     "metadata": {},
     "output_type": "execute_result"
    }
   ],
   "source": [
    "np.zeros(10)"
   ]
  },
  {
   "cell_type": "code",
   "execution_count": null,
   "id": "de3f4823-6990-4065-ace2-ad2b0fa25719",
   "metadata": {
    "id": "2CmNheL7YZpy",
    "outputId": "76402de4-bcf7-49f6-c45c-4acc957b2cf2"
   },
   "outputs": [
    {
     "data": {
      "text/plain": [
       "array([ 0.,  0.,  0.,  0.,  0.,  0.,  0.,  0.,  0.,  0.])"
      ]
     },
     "execution_count": 2,
     "metadata": {},
     "output_type": "execute_result"
    }
   ],
   "source": []
  },
  {
   "attachments": {},
   "cell_type": "markdown",
   "id": "bff0666c-5eac-4d08-bc97-aa9548bf3288",
   "metadata": {
    "id": "HTW2H6afYZpz"
   },
   "source": [
    "### Create an array of 10 ones"
   ]
  },
  {
   "cell_type": "code",
   "execution_count": 4,
   "id": "987c3184-0f0f-40d9-8d58-8fb82c5072e6",
   "metadata": {
    "tags": []
   },
   "outputs": [
    {
     "data": {
      "text/plain": [
       "array([1., 1., 1., 1., 1., 1., 1., 1., 1., 1.])"
      ]
     },
     "execution_count": 4,
     "metadata": {},
     "output_type": "execute_result"
    }
   ],
   "source": [
    "np.ones(10)"
   ]
  },
  {
   "cell_type": "code",
   "execution_count": null,
   "id": "1913f19a-0e69-4ea0-9e5c-2b5c41c44c68",
   "metadata": {
    "id": "f57lm8PRYZpz",
    "outputId": "0011dbd5-8fc6-4bd0-ff09-6feb2f0654b0"
   },
   "outputs": [
    {
     "data": {
      "text/plain": [
       "array([ 1.,  1.,  1.,  1.,  1.,  1.,  1.,  1.,  1.,  1.])"
      ]
     },
     "execution_count": 3,
     "metadata": {},
     "output_type": "execute_result"
    }
   ],
   "source": []
  },
  {
   "attachments": {},
   "cell_type": "markdown",
   "id": "dfb7b489-c461-493e-a173-3c9b621807fa",
   "metadata": {
    "id": "JWEhkSSIYZpz"
   },
   "source": [
    "### Create an array of 10 fives"
   ]
  },
  {
   "cell_type": "code",
   "execution_count": 5,
   "id": "ee383398-e6ef-4247-89f2-0c3b00e301c6",
   "metadata": {
    "tags": []
   },
   "outputs": [
    {
     "data": {
      "text/plain": [
       "array([5., 5., 5., 5., 5., 5., 5., 5., 5., 5.])"
      ]
     },
     "execution_count": 5,
     "metadata": {},
     "output_type": "execute_result"
    }
   ],
   "source": [
    "np.ones(10)*5"
   ]
  },
  {
   "cell_type": "code",
   "execution_count": null,
   "id": "bc3c5ae8-bad9-4637-a9cc-4d4d98aac3fb",
   "metadata": {
    "id": "3u-Q3i9zYZpz",
    "outputId": "9d610a1e-1b28-4604-e8ed-99003db63303"
   },
   "outputs": [
    {
     "data": {
      "text/plain": [
       "array([ 5.,  5.,  5.,  5.,  5.,  5.,  5.,  5.,  5.,  5.])"
      ]
     },
     "execution_count": 4,
     "metadata": {},
     "output_type": "execute_result"
    }
   ],
   "source": []
  },
  {
   "attachments": {},
   "cell_type": "markdown",
   "id": "2cc6ede1-6afc-4343-a81a-f98c68a3b14b",
   "metadata": {
    "id": "zGNXSybHYZpz"
   },
   "source": [
    "### Create an array of the integers from 10 to 50"
   ]
  },
  {
   "cell_type": "code",
   "execution_count": 6,
   "id": "d94b37be-ba39-4d8e-9c2a-4f31122d9eb8",
   "metadata": {
    "tags": []
   },
   "outputs": [
    {
     "data": {
      "text/plain": [
       "array([10, 11, 12, 13, 14, 15, 16, 17, 18, 19, 20, 21, 22, 23, 24, 25, 26,\n",
       "       27, 28, 29, 30, 31, 32, 33, 34, 35, 36, 37, 38, 39, 40, 41, 42, 43,\n",
       "       44, 45, 46, 47, 48, 49, 50])"
      ]
     },
     "execution_count": 6,
     "metadata": {},
     "output_type": "execute_result"
    }
   ],
   "source": [
    "np.arange(10,51,1)"
   ]
  },
  {
   "cell_type": "code",
   "execution_count": null,
   "id": "ccda3808-2e51-4f94-9cab-2e0e8d302179",
   "metadata": {
    "id": "rh6rIbHlYZpz",
    "outputId": "95cfee46-3876-47f8-d754-b34f3e720737"
   },
   "outputs": [
    {
     "data": {
      "text/plain": [
       "array([10, 11, 12, 13, 14, 15, 16, 17, 18, 19, 20, 21, 22, 23, 24, 25, 26,\n",
       "       27, 28, 29, 30, 31, 32, 33, 34, 35, 36, 37, 38, 39, 40, 41, 42, 43,\n",
       "       44, 45, 46, 47, 48, 49, 50])"
      ]
     },
     "execution_count": 5,
     "metadata": {},
     "output_type": "execute_result"
    }
   ],
   "source": []
  },
  {
   "attachments": {},
   "cell_type": "markdown",
   "id": "017bad90-ba4e-45e3-9e78-508506b759a9",
   "metadata": {
    "id": "-ihL89bAYZp0"
   },
   "source": [
    "### Create an array of all the even integers from 10 to 50"
   ]
  },
  {
   "cell_type": "code",
   "execution_count": 7,
   "id": "5b840398-87b7-467c-a550-d382e984cd5a",
   "metadata": {
    "tags": []
   },
   "outputs": [
    {
     "data": {
      "text/plain": [
       "array([10, 12, 14, 16, 18, 20, 22, 24, 26, 28, 30, 32, 34, 36, 38, 40, 42,\n",
       "       44, 46, 48, 50])"
      ]
     },
     "execution_count": 7,
     "metadata": {},
     "output_type": "execute_result"
    }
   ],
   "source": [
    "np.arange(10,51,2)"
   ]
  },
  {
   "cell_type": "code",
   "execution_count": null,
   "id": "b1dcbc12-e197-490d-beb0-b03532ac7d82",
   "metadata": {
    "id": "85qtf8j6YZp0",
    "outputId": "2210c13a-76c4-45e0-f4f0-5baa9f04dbe2"
   },
   "outputs": [
    {
     "data": {
      "text/plain": [
       "array([10, 12, 14, 16, 18, 20, 22, 24, 26, 28, 30, 32, 34, 36, 38, 40, 42,\n",
       "       44, 46, 48, 50])"
      ]
     },
     "execution_count": 6,
     "metadata": {},
     "output_type": "execute_result"
    }
   ],
   "source": []
  },
  {
   "attachments": {},
   "cell_type": "markdown",
   "id": "7d557f65-7965-4da9-9538-1785e9f5d31e",
   "metadata": {
    "id": "PRtc50hpYZp0"
   },
   "source": [
    "### Create a 3x3 matrix with values ranging from 0 to 8"
   ]
  },
  {
   "cell_type": "code",
   "execution_count": 8,
   "id": "9b8581f1-2b3c-47b5-badd-0094a576d1a1",
   "metadata": {
    "tags": []
   },
   "outputs": [
    {
     "data": {
      "text/plain": [
       "array([[0, 1, 2],\n",
       "       [3, 4, 5],\n",
       "       [6, 7, 8]])"
      ]
     },
     "execution_count": 8,
     "metadata": {},
     "output_type": "execute_result"
    }
   ],
   "source": [
    "np.arange(0,9).reshape((3,3))"
   ]
  },
  {
   "cell_type": "code",
   "execution_count": null,
   "id": "143ca7de-53b7-4baa-a68a-02b31662e60e",
   "metadata": {
    "id": "CWxcmMsSYZp0",
    "outputId": "78af6165-59ac-45e4-9640-365ed4c97a4a"
   },
   "outputs": [
    {
     "data": {
      "text/plain": [
       "array([[0, 1, 2],\n",
       "       [3, 4, 5],\n",
       "       [6, 7, 8]])"
      ]
     },
     "execution_count": 7,
     "metadata": {},
     "output_type": "execute_result"
    }
   ],
   "source": []
  },
  {
   "attachments": {},
   "cell_type": "markdown",
   "id": "bbfba090-a8b8-4b07-b14a-14fd96a77d2a",
   "metadata": {
    "id": "9zU_ksXwYZp0"
   },
   "source": [
    "### Create a 3x3 identity matrix"
   ]
  },
  {
   "cell_type": "code",
   "execution_count": 9,
   "id": "9435cc8b-70b6-4c40-bb32-d843b479eb5d",
   "metadata": {
    "tags": []
   },
   "outputs": [
    {
     "data": {
      "text/plain": [
       "array([[1., 0., 0.],\n",
       "       [0., 1., 0.],\n",
       "       [0., 0., 1.]])"
      ]
     },
     "execution_count": 9,
     "metadata": {},
     "output_type": "execute_result"
    }
   ],
   "source": [
    "np.eye(3)"
   ]
  },
  {
   "cell_type": "code",
   "execution_count": null,
   "id": "0925455b-4fd3-4dbe-83bc-88086cb7b579",
   "metadata": {
    "id": "r0yQ6uStYZp0",
    "outputId": "ca121d6d-e927-4e25-de8f-f5c6ced76888"
   },
   "outputs": [
    {
     "data": {
      "text/plain": [
       "array([[ 1.,  0.,  0.],\n",
       "       [ 0.,  1.,  0.],\n",
       "       [ 0.,  0.,  1.]])"
      ]
     },
     "execution_count": 8,
     "metadata": {},
     "output_type": "execute_result"
    }
   ],
   "source": []
  },
  {
   "attachments": {},
   "cell_type": "markdown",
   "id": "6f9bacb1-72fb-4b0b-95ce-7dbbef5d7451",
   "metadata": {
    "id": "aN0n00nKYZp0"
   },
   "source": [
    "### Use NumPy to generate a random number between 0 and 1"
   ]
  },
  {
   "cell_type": "code",
   "execution_count": 11,
   "id": "5774cffd-6460-456c-8454-45f315f9dd83",
   "metadata": {
    "tags": []
   },
   "outputs": [
    {
     "data": {
      "text/plain": [
       "array([0.66149517])"
      ]
     },
     "execution_count": 11,
     "metadata": {},
     "output_type": "execute_result"
    }
   ],
   "source": [
    "np.random.rand(1)"
   ]
  },
  {
   "cell_type": "code",
   "execution_count": null,
   "id": "d0ac5849-c057-4004-8bc4-69b56227c111",
   "metadata": {
    "id": "Lq30PVlNYZp1",
    "outputId": "6d0a2723-0166-441f-8647-c48c515ffc43"
   },
   "outputs": [
    {
     "data": {
      "text/plain": [
       "array([ 0.42829726])"
      ]
     },
     "execution_count": 15,
     "metadata": {},
     "output_type": "execute_result"
    }
   ],
   "source": []
  },
  {
   "attachments": {},
   "cell_type": "markdown",
   "id": "582af6a5-2b0d-456a-9c65-38098f92ea42",
   "metadata": {
    "id": "osTSdQtwYZp1"
   },
   "source": [
    "### Use NumPy to generate an array of 25 random numbers sampled from a standard normal distribution"
   ]
  },
  {
   "cell_type": "code",
   "execution_count": 12,
   "id": "7ac219f3-14b9-4a0a-ad07-ac4a07534297",
   "metadata": {
    "tags": []
   },
   "outputs": [
    {
     "data": {
      "text/plain": [
       "array([ 0.50362292,  0.31234474,  1.45159233, -0.98572178,  2.08051079,\n",
       "        0.95726019,  1.23406712, -2.16608289,  2.1196476 , -1.09796644,\n",
       "        0.74950651, -1.21392959,  0.37913729, -0.41614333,  1.01231785,\n",
       "        0.90271675, -0.44955753,  0.36491597,  0.61949714,  0.20563655,\n",
       "       -0.34058509, -0.13243647,  0.72689362,  1.65962725,  0.7897242 ])"
      ]
     },
     "execution_count": 12,
     "metadata": {},
     "output_type": "execute_result"
    }
   ],
   "source": [
    "np.random.randn(25)"
   ]
  },
  {
   "cell_type": "code",
   "execution_count": null,
   "id": "9497361e-564a-484f-bbcf-15f3b897113c",
   "metadata": {
    "id": "WCDiYSbOYZp1",
    "outputId": "ef9244a8-2f60-4740-ed67-58d2e4998552"
   },
   "outputs": [
    {
     "data": {
      "text/plain": [
       "array([ 1.32031013,  1.6798602 , -0.42985892, -1.53116655,  0.85753232,\n",
       "        0.87339938,  0.35668636, -1.47491157,  0.15349697,  0.99530727,\n",
       "       -0.94865451, -1.69174783,  1.57525349, -0.70615234,  0.10991879,\n",
       "       -0.49478947,  1.08279872,  0.76488333, -2.3039931 ,  0.35401124,\n",
       "       -0.45454399, -0.64754649, -0.29391671,  0.02339861,  0.38272124])"
      ]
     },
     "execution_count": 33,
     "metadata": {},
     "output_type": "execute_result"
    }
   ],
   "source": []
  },
  {
   "attachments": {},
   "cell_type": "markdown",
   "id": "0ca4e270-0af2-4efa-9f0a-5a3173a43a7f",
   "metadata": {
    "id": "1lCKFfa-YZp1"
   },
   "source": [
    "### Create the following matrix:"
   ]
  },
  {
   "cell_type": "code",
   "execution_count": 14,
   "id": "b0dcc265-2dd6-4e0d-a296-e161e1bf84aa",
   "metadata": {
    "tags": []
   },
   "outputs": [
    {
     "data": {
      "text/plain": [
       "array([0.01, 0.02, 0.03, 0.04, 0.05, 0.06, 0.07, 0.08, 0.09, 0.1 , 0.11,\n",
       "       0.12, 0.13, 0.14, 0.15, 0.16, 0.17, 0.18, 0.19, 0.2 , 0.21, 0.22,\n",
       "       0.23, 0.24, 0.25, 0.26, 0.27, 0.28, 0.29, 0.3 , 0.31, 0.32, 0.33,\n",
       "       0.34, 0.35, 0.36, 0.37, 0.38, 0.39, 0.4 , 0.41, 0.42, 0.43, 0.44,\n",
       "       0.45, 0.46, 0.47, 0.48, 0.49, 0.5 , 0.51, 0.52, 0.53, 0.54, 0.55,\n",
       "       0.56, 0.57, 0.58, 0.59, 0.6 , 0.61, 0.62, 0.63, 0.64, 0.65, 0.66,\n",
       "       0.67, 0.68, 0.69, 0.7 , 0.71, 0.72, 0.73, 0.74, 0.75, 0.76, 0.77,\n",
       "       0.78, 0.79, 0.8 , 0.81, 0.82, 0.83, 0.84, 0.85, 0.86, 0.87, 0.88,\n",
       "       0.89, 0.9 , 0.91, 0.92, 0.93, 0.94, 0.95, 0.96, 0.97, 0.98, 0.99,\n",
       "       1.  ])"
      ]
     },
     "execution_count": 14,
     "metadata": {},
     "output_type": "execute_result"
    }
   ],
   "source": [
    "np.arange(0.01,1.01,0.01)"
   ]
  },
  {
   "cell_type": "code",
   "execution_count": null,
   "id": "bea86ce7-11f7-400e-8842-f169fc348ad9",
   "metadata": {
    "id": "4eq0xxovYZp1",
    "outputId": "1e72f218-2a64-4a93-ec85-93529381ba52"
   },
   "outputs": [
    {
     "data": {
      "text/plain": [
       "array([[ 0.01,  0.02,  0.03,  0.04,  0.05,  0.06,  0.07,  0.08,  0.09,  0.1 ],\n",
       "       [ 0.11,  0.12,  0.13,  0.14,  0.15,  0.16,  0.17,  0.18,  0.19,  0.2 ],\n",
       "       [ 0.21,  0.22,  0.23,  0.24,  0.25,  0.26,  0.27,  0.28,  0.29,  0.3 ],\n",
       "       [ 0.31,  0.32,  0.33,  0.34,  0.35,  0.36,  0.37,  0.38,  0.39,  0.4 ],\n",
       "       [ 0.41,  0.42,  0.43,  0.44,  0.45,  0.46,  0.47,  0.48,  0.49,  0.5 ],\n",
       "       [ 0.51,  0.52,  0.53,  0.54,  0.55,  0.56,  0.57,  0.58,  0.59,  0.6 ],\n",
       "       [ 0.61,  0.62,  0.63,  0.64,  0.65,  0.66,  0.67,  0.68,  0.69,  0.7 ],\n",
       "       [ 0.71,  0.72,  0.73,  0.74,  0.75,  0.76,  0.77,  0.78,  0.79,  0.8 ],\n",
       "       [ 0.81,  0.82,  0.83,  0.84,  0.85,  0.86,  0.87,  0.88,  0.89,  0.9 ],\n",
       "       [ 0.91,  0.92,  0.93,  0.94,  0.95,  0.96,  0.97,  0.98,  0.99,  1.  ]])"
      ]
     },
     "execution_count": 35,
     "metadata": {},
     "output_type": "execute_result"
    }
   ],
   "source": []
  },
  {
   "attachments": {},
   "cell_type": "markdown",
   "id": "57e551d4-9508-479f-b95a-338321fa3222",
   "metadata": {
    "id": "5wqwuMj8YZp1"
   },
   "source": [
    "### Create an array of 20 linearly spaced points between 0 and 1:"
   ]
  },
  {
   "cell_type": "code",
   "execution_count": 16,
   "id": "983f18de-be8d-4f2e-961d-ccec968b93e7",
   "metadata": {
    "tags": []
   },
   "outputs": [
    {
     "data": {
      "text/plain": [
       "array([0.        , 0.05263158, 0.10526316, 0.15789474, 0.21052632,\n",
       "       0.26315789, 0.31578947, 0.36842105, 0.42105263, 0.47368421,\n",
       "       0.52631579, 0.57894737, 0.63157895, 0.68421053, 0.73684211,\n",
       "       0.78947368, 0.84210526, 0.89473684, 0.94736842, 1.        ])"
      ]
     },
     "execution_count": 16,
     "metadata": {},
     "output_type": "execute_result"
    }
   ],
   "source": [
    "np.linspace(0,1,20)"
   ]
  },
  {
   "cell_type": "code",
   "execution_count": null,
   "id": "628ce383-2f50-43c0-a168-fa5ea7c63ef9",
   "metadata": {
    "id": "4hBhdWalYZp1",
    "outputId": "9b0c2378-48b3-4919-af2e-f187a8897b74"
   },
   "outputs": [
    {
     "data": {
      "text/plain": [
       "array([ 0.        ,  0.05263158,  0.10526316,  0.15789474,  0.21052632,\n",
       "        0.26315789,  0.31578947,  0.36842105,  0.42105263,  0.47368421,\n",
       "        0.52631579,  0.57894737,  0.63157895,  0.68421053,  0.73684211,\n",
       "        0.78947368,  0.84210526,  0.89473684,  0.94736842,  1.        ])"
      ]
     },
     "execution_count": 36,
     "metadata": {},
     "output_type": "execute_result"
    }
   ],
   "source": []
  },
  {
   "attachments": {},
   "cell_type": "markdown",
   "id": "ab55a388-b567-4afb-af7a-07306ba7d887",
   "metadata": {
    "id": "69dXxIAkYZp2"
   },
   "source": [
    "### Numpy Indexing and Selection\n",
    "\n",
    "Now you will be given a few matrices, and be asked to replicate the resulting matrix outputs:"
   ]
  },
  {
   "cell_type": "code",
   "execution_count": 19,
   "id": "5121660c-bb3e-4440-8a69-629288863739",
   "metadata": {
    "id": "d9-atMhNYZp2",
    "outputId": "4aa9cf19-5d5a-42b3-f2a7-764695cfe1ff",
    "tags": []
   },
   "outputs": [
    {
     "data": {
      "text/plain": [
       "array([[ 1,  2,  3,  4,  5],\n",
       "       [ 6,  7,  8,  9, 10],\n",
       "       [11, 12, 13, 14, 15],\n",
       "       [16, 17, 18, 19, 20],\n",
       "       [21, 22, 23, 24, 25]])"
      ]
     },
     "execution_count": 19,
     "metadata": {},
     "output_type": "execute_result"
    }
   ],
   "source": [
    "mat = np.arange(1,26).reshape(5,5)\n",
    "mat"
   ]
  },
  {
   "cell_type": "code",
   "execution_count": 20,
   "id": "3f5e9695-db5b-401a-afdf-f9cf0b5f7285",
   "metadata": {
    "id": "4NqqifvBYZp2",
    "tags": []
   },
   "outputs": [
    {
     "data": {
      "text/plain": [
       "array([[12, 13, 14, 15],\n",
       "       [17, 18, 19, 20],\n",
       "       [22, 23, 24, 25]])"
      ]
     },
     "execution_count": 20,
     "metadata": {},
     "output_type": "execute_result"
    }
   ],
   "source": [
    "# WRITE CODE HERE THAT REPRODUCES THE OUTPUT OF THE CELL BELOW\n",
    "mat[2:,1:]"
   ]
  },
  {
   "cell_type": "code",
   "execution_count": null,
   "id": "7a8c658f-c691-46a2-a130-101a6c845212",
   "metadata": {
    "id": "bIt6Mlx2YZp2",
    "outputId": "7d1c6923-c205-4a1c-d68e-6cda15b91748"
   },
   "outputs": [
    {
     "data": {
      "text/plain": [
       "array([[12, 13, 14, 15],\n",
       "       [17, 18, 19, 20],\n",
       "       [22, 23, 24, 25]])"
      ]
     },
     "execution_count": 40,
     "metadata": {},
     "output_type": "execute_result"
    }
   ],
   "source": []
  },
  {
   "cell_type": "code",
   "execution_count": 22,
   "id": "eda765d3-18d4-4537-944e-8236bd041b1a",
   "metadata": {
    "id": "e65OHHiPYZp2",
    "tags": []
   },
   "outputs": [
    {
     "data": {
      "text/plain": [
       "20"
      ]
     },
     "execution_count": 25,
     "metadata": {},
     "output_type": "execute_result"
    }
   ],
   "source": [
    "# WRITE CODE HERE THAT REPRODUCES THE OUTPUT OF THE CELL BELOW\n",
    "mat[3][4]"
   ]
  },
  {
   "cell_type": "code",
   "execution_count": null,
   "id": "1f8fd9b3-e441-455c-a439-8d112394af8b",
   "metadata": {
    "id": "mGZkyQExYZp2",
    "outputId": "b783d426-179d-4b6b-b5a9-63d367d362e0"
   },
   "outputs": [
    {
     "data": {
      "text/plain": [
       "20"
      ]
     },
     "execution_count": 41,
     "metadata": {},
     "output_type": "execute_result"
    }
   ],
   "source": []
  },
  {
   "cell_type": "code",
   "execution_count": 32,
   "id": "5c9089e1-2252-4a35-9f68-0327df868075",
   "metadata": {
    "id": "Hsv2HsdvYZp3",
    "tags": []
   },
   "outputs": [
    {
     "data": {
      "text/plain": [
       "array([[ 2],\n",
       "       [ 7],\n",
       "       [12]])"
      ]
     },
     "execution_count": 32,
     "metadata": {},
     "output_type": "execute_result"
    }
   ],
   "source": [
    "# WRITE CODE HERE THAT REPRODUCES THE OUTPUT OF THE CELL BELOW\n",
    "mat[:3][:,1:2]"
   ]
  },
  {
   "cell_type": "code",
   "execution_count": null,
   "id": "ea9ab68b-e338-4403-b7ca-9f39df3c2928",
   "metadata": {
    "id": "UcKRmhHNYZp3",
    "outputId": "739b90df-6638-49b1-84e6-f3c384a09ec3"
   },
   "outputs": [
    {
     "data": {
      "text/plain": [
       "array([[ 2],\n",
       "       [ 7],\n",
       "       [12]])"
      ]
     },
     "execution_count": 42,
     "metadata": {},
     "output_type": "execute_result"
    }
   ],
   "source": []
  },
  {
   "cell_type": "code",
   "execution_count": 34,
   "id": "4f6eb0c5-ba1d-44d5-b523-9e01127fd6a7",
   "metadata": {
    "id": "e6JorZeDYZp3",
    "tags": []
   },
   "outputs": [
    {
     "data": {
      "text/plain": [
       "array([21, 22, 23, 24, 25])"
      ]
     },
     "execution_count": 34,
     "metadata": {},
     "output_type": "execute_result"
    }
   ],
   "source": [
    "# WRITE CODE HERE THAT REPRODUCES THE OUTPUT OF THE CELL BELOW\n",
    "mat[-1]"
   ]
  },
  {
   "cell_type": "code",
   "execution_count": null,
   "id": "b7336d60-b2a1-4373-941d-a658e85c91b3",
   "metadata": {
    "id": "iibghtecYZp3",
    "outputId": "4a743bf6-cdc3-489f-b5c1-c6756411da93"
   },
   "outputs": [
    {
     "data": {
      "text/plain": [
       "array([21, 22, 23, 24, 25])"
      ]
     },
     "execution_count": 46,
     "metadata": {},
     "output_type": "execute_result"
    }
   ],
   "source": []
  },
  {
   "cell_type": "code",
   "execution_count": 36,
   "id": "d127255c-1249-4c30-907d-6e32d6636c8a",
   "metadata": {
    "id": "wu6msOoMYZp3",
    "tags": []
   },
   "outputs": [
    {
     "data": {
      "text/plain": [
       "array([[16, 17, 18, 19, 20],\n",
       "       [21, 22, 23, 24, 25]])"
      ]
     },
     "execution_count": 36,
     "metadata": {},
     "output_type": "execute_result"
    }
   ],
   "source": [
    "# WRITE CODE HERE THAT REPRODUCES THE OUTPUT OF THE CELL BELOW\n",
    "mat[-2:]"
   ]
  },
  {
   "cell_type": "code",
   "execution_count": null,
   "id": "ea8f1113-3ab3-4256-bab0-15b68897191b",
   "metadata": {
    "id": "7i9B8iMGYZp3",
    "outputId": "776b81df-0899-4ddb-8a8d-eb7282c3e391"
   },
   "outputs": [
    {
     "data": {
      "text/plain": [
       "array([[16, 17, 18, 19, 20],\n",
       "       [21, 22, 23, 24, 25]])"
      ]
     },
     "execution_count": 49,
     "metadata": {},
     "output_type": "execute_result"
    }
   ],
   "source": []
  },
  {
   "attachments": {},
   "cell_type": "markdown",
   "id": "4f6f613e-a181-4ea4-aa15-5dc04616bc38",
   "metadata": {
    "id": "AuIVkWpnYZp4"
   },
   "source": [
    "### Now do the following"
   ]
  },
  {
   "attachments": {},
   "cell_type": "markdown",
   "id": "caf8ff17-530d-4731-a8a7-1f965f776d69",
   "metadata": {
    "id": "eY1YBbbJYZp4"
   },
   "source": [
    "#### Get the sum of all the values in mat"
   ]
  },
  {
   "cell_type": "code",
   "execution_count": 37,
   "id": "11272f3e-fba1-48d6-ba44-4f74363fa94f",
   "metadata": {
    "tags": []
   },
   "outputs": [
    {
     "data": {
      "text/plain": [
       "325"
      ]
     },
     "execution_count": 37,
     "metadata": {},
     "output_type": "execute_result"
    }
   ],
   "source": [
    "mat.sum()"
   ]
  },
  {
   "cell_type": "code",
   "execution_count": null,
   "id": "9075c255-6e19-4f39-a005-cde4b7a67e08",
   "metadata": {
    "id": "76tDU3zlYZp4",
    "outputId": "c83c2f37-f6ad-442c-ed8f-e944082e1b4f"
   },
   "outputs": [
    {
     "data": {
      "text/plain": [
       "325"
      ]
     },
     "execution_count": 50,
     "metadata": {},
     "output_type": "execute_result"
    }
   ],
   "source": []
  },
  {
   "attachments": {},
   "cell_type": "markdown",
   "id": "a6179415-6015-45de-b857-0fda7ccc452b",
   "metadata": {
    "id": "24Lzd3FhYZp4"
   },
   "source": [
    "#### Get the standard deviation of the values in mat"
   ]
  },
  {
   "cell_type": "code",
   "execution_count": 38,
   "id": "d58c01cb-0efa-4c34-843a-1243f2f216f8",
   "metadata": {
    "tags": []
   },
   "outputs": [
    {
     "data": {
      "text/plain": [
       "7.211102550927978"
      ]
     },
     "execution_count": 38,
     "metadata": {},
     "output_type": "execute_result"
    }
   ],
   "source": [
    "mat.std()"
   ]
  },
  {
   "cell_type": "code",
   "execution_count": null,
   "id": "879619eb-958d-4280-9437-e8d7ca1bdf52",
   "metadata": {
    "id": "jC-PGcVAYZp4",
    "outputId": "0b8ab93f-03f2-4d49-8bc4-519f60a288d3"
   },
   "outputs": [
    {
     "data": {
      "text/plain": [
       "7.2111025509279782"
      ]
     },
     "execution_count": 51,
     "metadata": {},
     "output_type": "execute_result"
    }
   ],
   "source": []
  },
  {
   "attachments": {},
   "cell_type": "markdown",
   "id": "0e64aac6-e547-472d-a08e-894815ed9085",
   "metadata": {
    "id": "HRBFWbYVYZp4"
   },
   "source": [
    "#### Get the sum of all the columns in mat"
   ]
  },
  {
   "cell_type": "code",
   "execution_count": 39,
   "id": "56012669-7758-4335-82fd-bd6e86050816",
   "metadata": {
    "tags": []
   },
   "outputs": [
    {
     "data": {
      "text/plain": [
       "array([55, 60, 65, 70, 75])"
      ]
     },
     "execution_count": 39,
     "metadata": {},
     "output_type": "execute_result"
    }
   ],
   "source": [
    "mat.sum(0) #  The zero value passed is given to the axis kwarg. "
   ]
  },
  {
   "cell_type": "code",
   "execution_count": null,
   "id": "c36666fe-ba24-4746-ad3c-cf48563bf463",
   "metadata": {
    "id": "AUepChhpYZp4",
    "outputId": "29660ade-1ece-4fdf-eb34-15463fbf79b0"
   },
   "outputs": [
    {
     "data": {
      "text/plain": [
       "array([55, 60, 65, 70, 75])"
      ]
     },
     "execution_count": 53,
     "metadata": {},
     "output_type": "execute_result"
    }
   ],
   "source": []
  },
  {
   "attachments": {},
   "cell_type": "markdown",
   "id": "03ac1fb2-693e-413c-9352-b19480ffeea6",
   "metadata": {},
   "source": [
    "## Conclusion: \n",
    "I have successfully implemented different python libraries"
   ]
  }
 ],
 "metadata": {
  "kernelspec": {
   "display_name": "Python 3 (ipykernel)",
   "language": "python",
   "name": "python3"
  },
  "language_info": {
   "codemirror_mode": {
    "name": "ipython",
    "version": 3
   },
   "file_extension": ".py",
   "mimetype": "text/x-python",
   "name": "python",
   "nbconvert_exporter": "python",
   "pygments_lexer": "ipython3",
   "version": "3.11.3"
  },
  "toc-showcode": true,
  "toc-showmarkdowntxt": true
 },
 "nbformat": 4,
 "nbformat_minor": 5
}
