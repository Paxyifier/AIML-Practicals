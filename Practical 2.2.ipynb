{
 "cells": [
  {
   "cell_type": "markdown",
   "id": "a31d67c4-b4d1-413b-aec8-58b6b9c11e9b",
   "metadata": {},
   "source": [
    "### Numpy indexing and Selection"
   ]
  },
  {
   "cell_type": "markdown",
   "id": "f4f02020-969d-498b-823a-567fd38a826f",
   "metadata": {},
   "source": [
    "#### Brackets indexing and selection of elements\n",
    "Bracket indexing and selection is a way to access and manipulate individual elements and subsets of elements in a NumPy array. Using bracket indexing, you can access individual elements of a one-dimensional or multidimensional array by specifying the index of the element within square brackets. If you want to select a subset of elements, you can use slicing notation with a colon to specify the range of indices to include.\n",
    "\n",
    "When working with multidimensional arrays, you can use multiple indices separated by commas within the square brackets to access specific elements or subsets of elements. For example, to access the element in the second row and third column of a 2D array, you would use the indices \\[1, 2\\]. To select a subset of elements from the first two rows and the first two columns of the same array, you could use the slicing notation \\[:2, :2\\].\n",
    "\n",
    "Bracket indexing and selection can be used to modify the values of elements within a NumPy array. By assigning a new value to a specific element or subset of elements, you can update the values stored in the array. This makes it possible to perform in-place modifications to the array, without having to create a new array and copy over values.\n",
    "\n",
    "Overall, bracket indexing and selection is a powerful feature in NumPy that allows you to manipulate individual elements and subsets of elements in a NumPy array with ease.\n",
    "\n",
    "#### Broadcasting\n",
    "Broadcasting in NumPy is a powerful mechanism that allows for element-wise operations on arrays of different shapes and sizes. When two arrays are broadcast-compatible, NumPy will automatically perform the necessary transformations to make the operation possible.\n",
    "\n",
    "The broadcasting rules in NumPy are as follows:\n",
    "\n",
    "If the arrays do not have the same number of dimensions, NumPy will add dimensions to the smaller array until they match. For example, if you have a 1D array and a 2D array, NumPy will add a new axis to the 1D array to make it a 2D array that can be broadcast with the other array.\n",
    "\n",
    "If the arrays have different sizes in a particular dimension, NumPy will stretch the smaller array along that dimension to match the larger array. For example, if you have a 2D array with shape (3, 4) and a 1D array with shape (4,), NumPy will stretch the 1D array along the first dimension to make it a 2D array with shape (3, 4) that can be broadcast with the other array.\n",
    "\n",
    "If the arrays have different sizes in a particular dimension and neither size is equal to 1, NumPy will raise a \"ValueError: frames are not aligned\" error.\n",
    " \n",
    "Broadcasting in NumPy can be a powerful tool for working with arrays of different shapes and sizes. By understanding the broadcasting rules and how they work, you can take advantage of this feature to write more concise and efficient code when working with NumPy arrays."
   ]
  },
  {
   "cell_type": "code",
   "execution_count": 1,
   "id": "4f33b04a-c5cd-43d1-87c1-eba3334723b8",
   "metadata": {
    "tags": []
   },
   "outputs": [],
   "source": [
    "import numpy as np"
   ]
  },
  {
   "cell_type": "code",
   "execution_count": 2,
   "id": "e24bb48d-0d98-417a-8f9e-aed6d7143f3a",
   "metadata": {
    "tags": []
   },
   "outputs": [
    {
     "data": {
      "text/plain": [
       "array([0, 1, 2, 3, 4])"
      ]
     },
     "execution_count": 2,
     "metadata": {},
     "output_type": "execute_result"
    }
   ],
   "source": [
    "arr = np.arange(0,5)\n",
    "arr"
   ]
  },
  {
   "cell_type": "markdown",
   "id": "57a0a424-a4dd-4e6a-825a-3f7643247bf0",
   "metadata": {},
   "source": [
    "#### Brackets and indexing selection"
   ]
  },
  {
   "cell_type": "code",
   "execution_count": 3,
   "id": "b7f5f90f-8271-4cdb-acf5-212025d8d516",
   "metadata": {
    "tags": []
   },
   "outputs": [
    {
     "data": {
      "text/plain": [
       "0"
      ]
     },
     "execution_count": 3,
     "metadata": {},
     "output_type": "execute_result"
    }
   ],
   "source": [
    "arr[0]"
   ]
  },
  {
   "cell_type": "code",
   "execution_count": 4,
   "id": "92f7a3ae-4630-4952-b24e-162857174fca",
   "metadata": {
    "tags": []
   },
   "outputs": [
    {
     "data": {
      "text/plain": [
       "array([1, 2])"
      ]
     },
     "execution_count": 4,
     "metadata": {},
     "output_type": "execute_result"
    }
   ],
   "source": [
    "arr[1:3]"
   ]
  },
  {
   "cell_type": "code",
   "execution_count": 5,
   "id": "904edb7a-6835-40c5-ad97-15c393165f27",
   "metadata": {
    "tags": []
   },
   "outputs": [
    {
     "data": {
      "text/plain": [
       "array([0, 1, 2, 3])"
      ]
     },
     "execution_count": 5,
     "metadata": {},
     "output_type": "execute_result"
    }
   ],
   "source": [
    "arr[0:4]"
   ]
  },
  {
   "cell_type": "code",
   "execution_count": 6,
   "id": "dc52a679-36af-440a-b9f0-7b80126bd63f",
   "metadata": {
    "tags": []
   },
   "outputs": [
    {
     "data": {
      "text/plain": [
       "array([0, 1, 2, 3])"
      ]
     },
     "execution_count": 6,
     "metadata": {},
     "output_type": "execute_result"
    }
   ],
   "source": [
    "arr[:4]"
   ]
  },
  {
   "cell_type": "markdown",
   "id": "f884ef76-84d7-4615-9ac3-4ba297815a55",
   "metadata": {},
   "source": [
    "#### Broadcasting"
   ]
  },
  {
   "cell_type": "code",
   "execution_count": 7,
   "id": "46e86c2e-1fc6-4b01-9399-7d59435cc7d1",
   "metadata": {
    "tags": []
   },
   "outputs": [
    {
     "data": {
      "text/plain": [
       "array([500, 500,   2,   3,   4])"
      ]
     },
     "execution_count": 7,
     "metadata": {},
     "output_type": "execute_result"
    }
   ],
   "source": [
    "arr[0:2]=500\n",
    "arr"
   ]
  },
  {
   "cell_type": "code",
   "execution_count": 8,
   "id": "2af0a720-a3a6-4f05-86c0-6ebec045d5de",
   "metadata": {
    "tags": []
   },
   "outputs": [
    {
     "data": {
      "text/plain": [
       "array([ 0,  1,  2,  3,  4,  5,  6,  7,  8,  9, 10, 11, 12, 13, 14, 15, 16,\n",
       "       17, 18])"
      ]
     },
     "execution_count": 8,
     "metadata": {},
     "output_type": "execute_result"
    }
   ],
   "source": [
    "arr=np.arange(0,19)\n",
    "arr"
   ]
  },
  {
   "cell_type": "code",
   "execution_count": 9,
   "id": "2a5eff79-094a-4202-8756-d3dc99528296",
   "metadata": {
    "tags": []
   },
   "outputs": [
    {
     "data": {
      "text/plain": [
       "array([0, 1, 2, 3, 4])"
      ]
     },
     "execution_count": 9,
     "metadata": {},
     "output_type": "execute_result"
    }
   ],
   "source": [
    "slice_of_arr=arr[0:5]\n",
    "\n",
    "slice_of_arr"
   ]
  },
  {
   "cell_type": "code",
   "execution_count": 10,
   "id": "5b9d8502-0ff5-497f-b103-06f917aad290",
   "metadata": {
    "tags": []
   },
   "outputs": [
    {
     "data": {
      "text/plain": [
       "array([55, 55, 55, 55, 55])"
      ]
     },
     "execution_count": 10,
     "metadata": {},
     "output_type": "execute_result"
    }
   ],
   "source": [
    "#changing slice\n",
    "\n",
    "slice_of_arr [:]=55\n",
    "slice_of_arr"
   ]
  },
  {
   "cell_type": "code",
   "execution_count": 11,
   "id": "f76c4501-e8bc-48b4-90fa-72c430a18e77",
   "metadata": {
    "tags": []
   },
   "outputs": [
    {
     "data": {
      "text/plain": [
       "array([55, 55, 55, 55, 55,  5,  6,  7,  8,  9, 10, 11, 12, 13, 14, 15, 16,\n",
       "       17, 18])"
      ]
     },
     "execution_count": 11,
     "metadata": {},
     "output_type": "execute_result"
    }
   ],
   "source": [
    "arr\n",
    "# Elements will be modified as the elements in slice_of_arr are\n",
    "# a reference to the original values of the array and not \n",
    "# a copy of the array."
   ]
  },
  {
   "cell_type": "code",
   "execution_count": 12,
   "id": "e7bc4f6e-c8aa-4e0a-ae94-d4867dfad863",
   "metadata": {
    "tags": []
   },
   "outputs": [
    {
     "data": {
      "text/plain": [
       "array([55, 55, 55, 55, 55,  5,  6,  7,  8,  9, 10, 11, 12, 13, 14, 15, 16,\n",
       "       17, 18])"
      ]
     },
     "execution_count": 12,
     "metadata": {},
     "output_type": "execute_result"
    }
   ],
   "source": [
    "# for copy we use arr.copy(), this allocates new memory for the data\n",
    "arr_copy = arr.copy()\n",
    "arr_copy"
   ]
  },
  {
   "cell_type": "markdown",
   "id": "982712a4-a956-4d81-920b-437e8970b82f",
   "metadata": {},
   "source": [
    "#### Indexing a 2D array (matrices)"
   ]
  },
  {
   "cell_type": "code",
   "execution_count": 14,
   "id": "81a6f99d-33d4-4397-b7e2-c1ec4268b654",
   "metadata": {
    "tags": []
   },
   "outputs": [
    {
     "data": {
      "text/plain": [
       "array([[ 2,  4,  6],\n",
       "       [ 8, 10, 12],\n",
       "       [14, 16, 18]])"
      ]
     },
     "execution_count": 14,
     "metadata": {},
     "output_type": "execute_result"
    }
   ],
   "source": [
    "arr_2d = np.array(([2,4,6],[8,10,12],[14,16,18]))\n",
    "arr_2d"
   ]
  },
  {
   "cell_type": "markdown",
   "id": "b69bd26f-22e6-44bc-bb64-6f3abcf20063",
   "metadata": {
    "tags": []
   },
   "source": [
    "##### Getting a row of elements"
   ]
  },
  {
   "cell_type": "code",
   "execution_count": null,
   "id": "18253c43-0c3b-45e1-950c-c30b27bf9d56",
   "metadata": {},
   "outputs": [],
   "source": []
  },
  {
   "cell_type": "code",
   "execution_count": 15,
   "id": "f6a551b1-b252-4d22-b662-e2b0e16933fc",
   "metadata": {
    "tags": []
   },
   "outputs": [
    {
     "data": {
      "text/plain": [
       "array([ 8, 10, 12])"
      ]
     },
     "execution_count": 15,
     "metadata": {},
     "output_type": "execute_result"
    }
   ],
   "source": [
    "arr_2d[1]"
   ]
  },
  {
   "cell_type": "markdown",
   "id": "80291a59-824b-4a64-801a-460ac845c335",
   "metadata": {
    "tags": []
   },
   "source": [
    "##### getting a specific element"
   ]
  },
  {
   "cell_type": "code",
   "execution_count": null,
   "id": "fddf008f-b5ae-4a40-b82e-be0ffdb518eb",
   "metadata": {},
   "outputs": [],
   "source": []
  },
  {
   "cell_type": "code",
   "execution_count": 16,
   "id": "a728ef59-fbda-4c1b-ac53-5f9fc86fea6f",
   "metadata": {
    "tags": []
   },
   "outputs": [
    {
     "data": {
      "text/plain": [
       "10"
      ]
     },
     "execution_count": 16,
     "metadata": {},
     "output_type": "execute_result"
    }
   ],
   "source": [
    "arr_2d[1][1]"
   ]
  },
  {
   "cell_type": "code",
   "execution_count": 19,
   "id": "7247fb9f-4f95-408d-9a1a-b360109bf4d9",
   "metadata": {
    "tags": []
   },
   "outputs": [],
   "source": [
    "##### Getting a specific element using comma notation"
   ]
  },
  {
   "cell_type": "code",
   "execution_count": 20,
   "id": "9e3fefb6-fc0c-48c7-a3e6-9d901139418c",
   "metadata": {
    "tags": []
   },
   "outputs": [
    {
     "data": {
      "text/plain": [
       "10"
      ]
     },
     "execution_count": 20,
     "metadata": {},
     "output_type": "execute_result"
    }
   ],
   "source": [
    "arr_2d[1,1]"
   ]
  },
  {
   "cell_type": "code",
   "execution_count": 21,
   "id": "7a8f6196-d737-4263-837e-6d33a85a2159",
   "metadata": {
    "tags": []
   },
   "outputs": [
    {
     "data": {
      "text/plain": [
       "array([[ 4,  6],\n",
       "       [10, 12]])"
      ]
     },
     "execution_count": 21,
     "metadata": {},
     "output_type": "execute_result"
    }
   ],
   "source": [
    "arr_2d[:2,1:]"
   ]
  },
  {
   "cell_type": "code",
   "execution_count": null,
   "id": "60ea6c7a-d748-47d5-949b-bd94b3b25b2d",
   "metadata": {},
   "outputs": [],
   "source": []
  }
 ],
 "metadata": {
  "kernelspec": {
   "display_name": "Python 3 (ipykernel)",
   "language": "python",
   "name": "python3"
  },
  "language_info": {
   "codemirror_mode": {
    "name": "ipython",
    "version": 3
   },
   "file_extension": ".py",
   "mimetype": "text/x-python",
   "name": "python",
   "nbconvert_exporter": "python",
   "pygments_lexer": "ipython3",
   "version": "3.10.4"
  }
 },
 "nbformat": 4,
 "nbformat_minor": 5
}
